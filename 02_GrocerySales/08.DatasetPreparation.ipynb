{
 "cells": [
  {
   "cell_type": "code",
   "execution_count": 1,
   "metadata": {
    "collapsed": false
   },
   "outputs": [],
   "source": [
    "from datetime import date, timedelta\n",
    "from itertools import product\n",
    "import pandas as pd\n",
    "import numpy as np\n",
    "from sklearn.metrics import mean_squared_error\n",
    "import os,sys\n",
    "os.chdir('/data/arpit.goel/33_GrocerySales')\n",
    "\n",
    "log_sales=lambda u: np.log1p(float(u)) if float(u) > 0 else 0\n",
    "dtypes={'onpromotion': bool}\n",
    "\n",
    "train = pd.read_csv('01.RawData/train.csv', usecols=range(1,6),dtype=dtypes, \n",
    "    converters={'unit_sales': log_sales},parse_dates=['date'],skiprows=range(1,101688780),\n",
    "    index_col=['store_nbr', 'item_nbr', 'date'])\n",
    "\n",
    "test = pd.read_csv('01.RawData/test.csv', usecols=range(5),dtype=dtypes,\n",
    "    parse_dates=['date'],index_col=['store_nbr', 'item_nbr', 'date'])\n",
    "\n",
    "items = pd.read_csv('01.RawData/items.csv',index_col=['item_nbr'])\n",
    "promo_2017=pd.concat([train['onpromotion'],test['onpromotion']]).unstack().fillna(False)\n",
    "sales_2017=train['unit_sales'].unstack().fillna(0)\n",
    "promosales_2017=(train['unit_sales']*train['onpromotion']).unstack().fillna(0)\n",
    "promosales_2017=promosales_2017.replace(-999, np.nan)\n",
    "promo_2017=promo_2017.reindex(sales_2017.index).fillna(False)\n",
    "min_dates=train.reset_index().groupby(['store_nbr', 'item_nbr'])['date'].min()\n",
    "min_dates.name='first_date'\n",
    "index=promo_2017.reset_index()[['store_nbr','item_nbr']]\n",
    "num_promo=promo_2017.stack().unstack(1).sum(axis=1).unstack()\n",
    "num_promo=(num_promo.T/index['store_nbr'].value_counts().sort_index()).T\n",
    "num_promo=pd.merge(index[['store_nbr']],num_promo,left_on='store_nbr',right_index=True)\n",
    "num_promo=num_promo[num_promo.columns[1:]]\n",
    "num_promo.columns=promo_2017.columns\n"
   ]
  },
  {
   "cell_type": "code",
   "execution_count": 2,
   "metadata": {
    "collapsed": true
   },
   "outputs": [],
   "source": [
    "max_sales=sales_2017.max(axis=1)\n",
    "max_sales_count=(sales_2017.T==max_sales).sum().T\n",
    "sales_2017['max_sales']=max_sales\n",
    "sales_2017['max_sales_count']=max_sales_count\n",
    "max_sales=sales_2017[sales_2017['max_sales_count']>1]\n",
    "max_sales=np.expm1(max_sales)\n",
    "max_sales['max_sales_count']= np.log1p(max_sales['max_sales_count'])\n",
    "max_sales['sales_count']=max_sales[sales_2017.columns].apply(lambda x: np.unique(x).shape[0],axis=1)\n",
    "max_sales=max_sales[max_sales['sales_count']>4]"
   ]
  },
  {
   "cell_type": "code",
   "execution_count": 17,
   "metadata": {
    "collapsed": false
   },
   "outputs": [],
   "source": [
    "max_sales.sort_values(by=['max_sales_count'],ascending=False).to_csv('03.Profile/03.MaxSales.csv')"
   ]
  },
  {
   "cell_type": "code",
   "execution_count": 40,
   "metadata": {
    "collapsed": false
   },
   "outputs": [],
   "source": [
    "train = pd.read_csv('01.RawData/train.csv', usecols=range(1,6),dtype=dtypes\n",
    "    ,parse_dates=['date'],skiprows=range(1,101688780),\n",
    "    index_col=['store_nbr', 'item_nbr'])\n",
    "train=train[train.date.dt.month==8]\n",
    "train=train[train.date.dt.day>=9]"
   ]
  },
  {
   "cell_type": "code",
   "execution_count": 67,
   "metadata": {
    "collapsed": false
   },
   "outputs": [],
   "source": [
    "train_1=train.copy()\n",
    "train_1['date']=train_1['date'].map(lambda x: x+timedelta(days=7))\n",
    "train_2=train.copy()\n",
    "train_2['date']=train_2['date'].map(lambda x: x+timedelta(days=14))\n",
    "train_3=train.copy()\n",
    "train_3['date']=train_3['date'].map(lambda x: x+timedelta(days=21))\n",
    "prediction=pd.concat([train_1,train_2,train_3]).reset_index()"
   ]
  },
  {
   "cell_type": "code",
   "execution_count": 68,
   "metadata": {
    "collapsed": false
   },
   "outputs": [
    {
     "data": {
      "text/plain": [
       "2017-08-16    100992\n",
       "2017-08-17     98552\n",
       "2017-08-18    104599\n",
       "2017-08-19    105192\n",
       "2017-08-20    106104\n",
       "2017-08-21    102750\n",
       "2017-08-22    102812\n",
       "2017-08-23    100992\n",
       "2017-08-24     98552\n",
       "2017-08-25    104599\n",
       "2017-08-26    105192\n",
       "2017-08-27    106104\n",
       "2017-08-28    102750\n",
       "2017-08-29    102812\n",
       "2017-08-30    100992\n",
       "2017-08-31     98552\n",
       "2017-09-01    104599\n",
       "2017-09-02    105192\n",
       "2017-09-03    106104\n",
       "2017-09-04    102750\n",
       "2017-09-05    102812\n",
       "Name: date, dtype: int64"
      ]
     },
     "execution_count": 68,
     "metadata": {},
     "output_type": "execute_result"
    }
   ],
   "source": [
    "prediction.date.value_counts().sort_index()"
   ]
  },
  {
   "cell_type": "code",
   "execution_count": 69,
   "metadata": {
    "collapsed": false
   },
   "outputs": [],
   "source": [
    "test=pd.read_csv('01.RawData/test.csv',dtype=dtypes\n",
    "    ,parse_dates=['date'])\n",
    "test=pd.merge(test,prediction,on=['store_nbr','item_nbr','date'],how='left')"
   ]
  },
  {
   "cell_type": "code",
   "execution_count": 70,
   "metadata": {
    "collapsed": false
   },
   "outputs": [],
   "source": [
    "test['unit_sales']=np.clip(test['unit_sales'].fillna(0),0,10000)\n",
    "test[['id','unit_sales']].to_csv('04.Submissions/09.PreviousWeekSales.csv.gz',compression='gzip',index=False)"
   ]
  },
  {
   "cell_type": "code",
   "execution_count": 71,
   "metadata": {
    "collapsed": false
   },
   "outputs": [
    {
     "data": {
      "text/plain": [
       "(3370464, 2)"
      ]
     },
     "execution_count": 71,
     "metadata": {},
     "output_type": "execute_result"
    }
   ],
   "source": [
    "test[['id','unit_sales']].shape"
   ]
  },
  {
   "cell_type": "code",
   "execution_count": 72,
   "metadata": {
    "collapsed": false
   },
   "outputs": [
    {
     "data": {
      "text/plain": [
       "(3370464, 2)"
      ]
     },
     "execution_count": 72,
     "metadata": {},
     "output_type": "execute_result"
    }
   ],
   "source": [
    "test[['id','unit_sales']].drop_duplicates().shape"
   ]
  },
  {
   "cell_type": "code",
   "execution_count": 57,
   "metadata": {
    "collapsed": false
   },
   "outputs": [
    {
     "name": "stdout",
     "output_type": "stream",
     "text": [
      "id,unit_sales\r\n",
      "125497040,0.0\r\n",
      "125497041,2.0\r\n",
      "125497042,0.0\r\n",
      "125497043,0.0\r\n",
      "125497044,7.0\r\n",
      "125497045,6.0\r\n",
      "125497046,11.0\r\n",
      "125497047,0.0\r\n",
      "125497048,1.0\r\n",
      "\r\n",
      "gzip: stdout: Broken pipe\r\n"
     ]
    }
   ],
   "source": [
    "! zcat 04.Submissions/09.PreviousWeekSales.csv.gz | head"
   ]
  },
  {
   "cell_type": "code",
   "execution_count": 32,
   "metadata": {
    "collapsed": false
   },
   "outputs": [],
   "source": [
    "is_numerical=(sales_2017==sales_2017.astype(np.int64)).product(axis=1)\n",
    "is_numerical=is_numerical.reset_index()"
   ]
  },
  {
   "cell_type": "code",
   "execution_count": 39,
   "metadata": {
    "collapsed": false
   },
   "outputs": [
    {
     "data": {
      "text/html": [
       "<div>\n",
       "<table border=\"1\" class=\"dataframe\">\n",
       "  <thead>\n",
       "    <tr style=\"text-align: right;\">\n",
       "      <th>amin</th>\n",
       "      <th>0</th>\n",
       "      <th>1</th>\n",
       "    </tr>\n",
       "    <tr>\n",
       "      <th>amax</th>\n",
       "      <th></th>\n",
       "      <th></th>\n",
       "    </tr>\n",
       "  </thead>\n",
       "  <tbody>\n",
       "    <tr>\n",
       "      <th>0</th>\n",
       "      <td>277</td>\n",
       "      <td>0</td>\n",
       "    </tr>\n",
       "    <tr>\n",
       "      <th>1</th>\n",
       "      <td>16</td>\n",
       "      <td>3725</td>\n",
       "    </tr>\n",
       "  </tbody>\n",
       "</table>\n",
       "</div>"
      ],
      "text/plain": [
       "amin    0     1\n",
       "amax           \n",
       "0     277     0\n",
       "1      16  3725"
      ]
     },
     "execution_count": 39,
     "metadata": {},
     "output_type": "execute_result"
    }
   ],
   "source": [
    "a=is_numerical.groupby(['item_nbr'])[0].agg([np.max,np.min])\n",
    "pd.crosstab(a.iloc[:,0],a.iloc[:,1])"
   ]
  }
 ],
 "metadata": {
  "kernelspec": {
   "display_name": "Python 3",
   "language": "python",
   "name": "python3"
  },
  "language_info": {
   "codemirror_mode": {
    "name": "ipython",
    "version": 3
   },
   "file_extension": ".py",
   "mimetype": "text/x-python",
   "name": "python",
   "nbconvert_exporter": "python",
   "pygments_lexer": "ipython3",
   "version": "3.6.0"
  }
 },
 "nbformat": 4,
 "nbformat_minor": 2
}
