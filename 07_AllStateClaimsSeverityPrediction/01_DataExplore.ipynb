{
 "cells": [
  {
   "cell_type": "code",
   "execution_count": 14,
   "metadata": {
    "collapsed": false
   },
   "outputs": [],
   "source": [
    "import pandas as pd\n",
    "import os,sys\n",
    "\n",
    "import matplotlib\n",
    "import numpy as np\n",
    "import matplotlib.pyplot as plt\n",
    "%matplotlib inline  \n",
    "\n",
    "os.chdir('/data/arpit.goel/19_AllStateClaimsSeverityPrediction')\n",
    "\n",
    "train = pd.read_csv('01.RawData/train.csv')\n",
    "test = pd.read_csv('01.RawData/test.csv')\n",
    "\n",
    "cat_columns = ['cat%d'%(x+1) for x in range(116)]\n",
    "num_columns = ['cont%d'%(x+1) for x in range(14)]\n",
    "target = 'loss'\n",
    "uid = 'id'"
   ]
  },
  {
   "cell_type": "code",
   "execution_count": 23,
   "metadata": {
    "collapsed": false,
    "scrolled": true
   },
   "outputs": [
    {
     "name": "stdout",
     "output_type": "stream",
     "text": [
      "count    188318.000000\n",
      "mean       3037.337686\n",
      "std        2904.086186\n",
      "min           0.670000\n",
      "1%          389.736800\n",
      "5%          617.037000\n",
      "10%         774.587000\n",
      "25%        1204.460000\n",
      "50%        2115.570000\n",
      "75%        3864.045000\n",
      "90%        6401.743000\n",
      "95%        8508.536500\n",
      "99%       13981.203000\n",
      "max      121012.250000\n",
      "Name: loss, dtype: float64\n"
     ]
    },
    {
     "data": {
      "text/plain": [
       "<matplotlib.text.Text at 0x7f19a322a050>"
      ]
     },
     "execution_count": 23,
     "metadata": {},
     "output_type": "execute_result"
    },
    {
     "data": {
      "image/png": "[encoded data removed]",
      "text/plain": [
       "<matplotlib.figure.Figure at 0x7f1996579850>"
      ]
     },
     "metadata": {},
     "output_type": "display_data"
    }
   ],
   "source": [
    "# Get distribution of target variable\n",
    "print train[target].describe(percentiles=[0.01,0.05,0.1,0.25,0.5,0.75,0.9,0.95,0.99])\n",
    "train['target_clean'] = np.clip(train[target],np.percentile(train[target],1),np.percentile(train[target],95))\n",
    "train['target_clean'].hist(bins=20)\n",
    "plt.title('Distribution of %s'%target)\n",
    "plt.xlabel(target)\n",
    "plt.ylabel('Count')"
   ]
  },
  {
   "cell_type": "code",
   "execution_count": 29,
   "metadata": {
    "collapsed": false
   },
   "outputs": [
    {
     "data": {
      "text/plain": [
       "count    188318.000000\n",
       "mean       2860.667014\n",
       "std        2194.801393\n",
       "min         389.736800\n",
       "1%          389.742444\n",
       "5%          617.037000\n",
       "10%         774.587000\n",
       "25%        1204.460000\n",
       "50%        2115.570000\n",
       "75%        3864.045000\n",
       "90%        6401.743000\n",
       "95%        8508.496975\n",
       "99%        8508.536500\n",
       "max        8508.536500\n",
       "Name: target_clean, dtype: float64"
      ]
     },
     "execution_count": 29,
     "metadata": {},
     "output_type": "execute_result"
    }
   ],
   "source": [
    "train['target_clean'].describe(percentiles=[0.01,0.05,0.1,0.25,0.5,0.75,0.9,0.95,0.99])"
   ]
  },
  {
   "cell_type": "code",
   "execution_count": 28,
   "metadata": {
    "collapsed": false,
    "scrolled": true
   },
   "outputs": [
    {
     "data": {
      "text/plain": [
       "array([  6.70000000e-01,   3.89736800e+02,   4.83337000e+02,\n",
       "         5.40770800e+02,   5.80733600e+02,   6.17037000e+02,\n",
       "         6.53000200e+02,   6.85291900e+02,   7.16333600e+02,\n",
       "         7.45295300e+02,   7.74587000e+02,   8.02663500e+02,\n",
       "         8.30800000e+02,   8.58562100e+02,   8.87257600e+02,\n",
       "         9.14405500e+02,   9.42207200e+02,   9.70278900e+02,\n",
       "         9.98521200e+02,   1.02599230e+03,   1.05513800e+03,\n",
       "         1.08508570e+03,   1.11387660e+03,   1.14351460e+03,\n",
       "         1.17427160e+03,   1.20446000e+03,   1.23572000e+03,\n",
       "         1.26630360e+03,   1.29758520e+03,   1.32919860e+03,\n",
       "         1.36014200e+03,   1.39325540e+03,   1.42587000e+03,\n",
       "         1.45802050e+03,   1.49073000e+03,   1.52471800e+03,\n",
       "         1.55882000e+03,   1.59386580e+03,   1.62997000e+03,\n",
       "         1.66705630e+03,   1.70366000e+03,   1.74136910e+03,\n",
       "         1.77971700e+03,   1.81844620e+03,   1.85805920e+03,\n",
       "         1.89987650e+03,   1.94145820e+03,   1.98325960e+03,\n",
       "         2.02738480e+03,   2.07106330e+03,   2.11557000e+03,\n",
       "         2.16198700e+03,   2.21108840e+03,   2.25928010e+03,\n",
       "         2.30898180e+03,   2.36295000e+03,   2.41584200e+03,\n",
       "         2.47191000e+03,   2.52763720e+03,   2.58654060e+03,\n",
       "         2.64726200e+03,   2.70791740e+03,   2.77226620e+03,\n",
       "         2.83938710e+03,   2.90869880e+03,   2.97924150e+03,\n",
       "         3.05318860e+03,   3.12870730e+03,   3.20792240e+03,\n",
       "         3.29073300e+03,   3.37438800e+03,   3.46407000e+03,\n",
       "         3.55678440e+03,   3.65767410e+03,   3.75936000e+03,\n",
       "         3.86404500e+03,   3.97048680e+03,   4.08062000e+03,\n",
       "         4.19988300e+03,   4.32526430e+03,   4.46462400e+03,\n",
       "         4.60197540e+03,   4.74287260e+03,   4.90058430e+03,\n",
       "         5.06699960e+03,   5.24805950e+03,   5.43846480e+03,\n",
       "         5.64902160e+03,   5.88442240e+03,   6.13931650e+03,\n",
       "         6.40174300e+03,   6.70542170e+03,   7.04717200e+03,\n",
       "         7.43919000e+03,   7.92442860e+03,   8.50853650e+03,\n",
       "         9.22533120e+03,   1.01277993e+04,   1.15151838e+04,\n",
       "         1.39812030e+04,   1.21012250e+05])"
      ]
     },
     "execution_count": 28,
     "metadata": {},
     "output_type": "execute_result"
    }
   ],
   "source": [
    "#Get Percentiles of target variable\n",
    "np.percentile(train[target],range(101)).astype(np.float64)"
   ]
  },
  {
   "cell_type": "code",
   "execution_count": 42,
   "metadata": {
    "collapsed": false
   },
   "outputs": [],
   "source": [
    "# Get unique values of categorical columns\n",
    "from collections import Counter\n",
    "train[cat_columns].apply(lambda x:set(x),axis=0).to_csv('02.Profile/CategoricalColumnsValues.csv')"
   ]
  },
  {
   "cell_type": "code",
   "execution_count": 50,
   "metadata": {
    "collapsed": false
   },
   "outputs": [
    {
     "data": {
      "text/plain": [
       "[0.75165411697235529,\n",
       " 0.56670631591244602,\n",
       " 0.94517252732080836,\n",
       " 0.68179887212056201,\n",
       " 0.65706411495449191,\n",
       " 0.69931180237683066,\n",
       " 0.97571129684894697,\n",
       " 0.94135451735893538,\n",
       " 0.60069669389012204,\n",
       " 0.85075776080884458,\n",
       " 0.89309572106755597,\n",
       " 0.84869741607281302,\n",
       " 0.89662698201977509,\n",
       " 0.98790875009292789,\n",
       " 0.99981945432725494,\n",
       " 0.96561666967576121,\n",
       " 0.99304899159931603,\n",
       " 0.99475886532354851,\n",
       " 0.99039921834344036,\n",
       " 0.99891672596352976,\n",
       " 0.99780690109283232,\n",
       " 0.999771662825646,\n",
       " 0.83605921898066038,\n",
       " 0.96632823203305052,\n",
       " 0.90256374855297949,\n",
       " 0.94053144149789192,\n",
       " 0.89343557174566424,\n",
       " 0.96081096868063598,\n",
       " 0.98021962850072752,\n",
       " 0.98110642636391632,\n",
       " 0.97165432937902907,\n",
       " 0.99356938795016936,\n",
       " 0.99491817032891172,\n",
       " 0.99689886256226168,\n",
       " 0.99886893446192082,\n",
       " 0.83004811011161972,\n",
       " 0.88004864112830428,\n",
       " 0.89913338077082383,\n",
       " 0.97384742828619675,\n",
       " 0.95646194203421875,\n",
       " 0.96208009855669663,\n",
       " 0.99099926719697529,\n",
       " 0.97765481791437892,\n",
       " 0.91715077687740953,\n",
       " 0.97702290805977121,\n",
       " 0.99531643284231985,\n",
       " 0.99627757304134501,\n",
       " 0.99857156511857603,\n",
       " 0.95119425652353995,\n",
       " 0.73073736976815806,\n",
       " 0.99337822194373349,\n",
       " 0.95320149959111711,\n",
       " 0.91838804575239752,\n",
       " 0.97580687985216497,\n",
       " 0.99923002580741083,\n",
       " 0.99903354963412949,\n",
       " 0.98395267579307344,\n",
       " 0.99873087012393924,\n",
       " 0.99840694994636736,\n",
       " 0.99763166558693273,\n",
       " 0.99616605953759063,\n",
       " 0.99976104249195508,\n",
       " 0.99958049681921002,\n",
       " 0.99975042215826426,\n",
       " 0.9879884025956096,\n",
       " 0.95573444917639316,\n",
       " 0.99632536454295395,\n",
       " 0.99924595630794721,\n",
       " 0.99836977877844924,\n",
       " 0.99987786616255481,\n",
       " 0.94864006627088227,\n",
       " 0.62830956148642192,\n",
       " 0.81933911159263273,\n",
       " 0.98108788477471165,\n",
       " 0.81940026657179121]"
      ]
     },
     "execution_count": 50,
     "metadata": {},
     "output_type": "execute_result"
    }
   ],
   "source": [
    "# Transform 72 Categories to binary variables\n",
    "binary_vars_raw = ['cat%d'%(x+1) for x in range(75)]\n",
    "binary_vars_clean = ['clean_cat%d'%(x+1) for x in range(75)]\n",
    "\n",
    "for x,y in zip(binary_vars_raw,binary_vars_clean):\n",
    "    train[y] = train[x].map({'A':1,'B':0})\n",
    "  \n",
    "train[binary_vars_clean].mean().tolist()"
   ]
  }
 ],
 "metadata": {
  "kernelspec": {
   "display_name": "Python 2",
   "language": "python",
   "name": "python2"
  },
  "language_info": {
   "codemirror_mode": {
    "name": "ipython",
    "version": 2
   },
   "file_extension": ".py",
   "mimetype": "text/x-python",
   "name": "python",
   "nbconvert_exporter": "python",
   "pygments_lexer": "ipython2",
   "version": "2.7.11"
  }
 },
 "nbformat": 4,
 "nbformat_minor": 0
}
