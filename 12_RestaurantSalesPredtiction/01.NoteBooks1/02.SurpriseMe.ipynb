{
 "cells": [
  {
   "cell_type": "code",
   "execution_count": 5,
   "metadata": {},
   "outputs": [],
   "source": [
    "import pandas as pd\n",
    "import os,sys\n",
    "import numpy as np\n",
    "import matplotlib.pyplot as plt\n",
    "from datetime import datetime,date,timedelta\n",
    "from itertools import product\n",
    "from sklearn.metrics import mean_squared_error\n",
    "\n",
    "os.chdir('C:/Users/arpit.goel/Documents/Projects/Kaggle/15.RecruitRestarauntPrediction')\n",
    "store={}\n",
    "store['air_reserve']=pd.read_csv('01.RawData/air_reserve.csv',parse_dates=['visit_datetime','reserve_datetime'])\n",
    "store['air_store_info']=pd.read_csv('01.RawData/air_store_info.csv',index_col=['air_store_id'])\n",
    "store['air_visit_data']=pd.read_csv('01.RawData/air_visit_data.csv',parse_dates=['visit_date'],index_col=['air_store_id','visit_date'])\n",
    "store['date_info']=pd.read_csv('01.RawData/date_info.csv',parse_dates=['calendar_date'],index_col=['calendar_date'])\n",
    "store['hpg_reserve']=pd.read_csv('01.RawData/hpg_reserve.csv',parse_dates=['visit_datetime','reserve_datetime'])\n",
    "store['hpg_store_info']=pd.read_csv('01.RawData/hpg_store_info.csv',index_col=['hpg_store_id'])\n",
    "store['store_id_relation']=pd.read_csv('01.RawData/store_id_relation.csv')\n",
    "store['hpg_reserve'] = pd.merge(store['hpg_reserve'], store['store_id_relation'], how='inner', on=['hpg_store_id'])\n",
    "\n",
    "df=pd.read_csv('01.RawData/sample_submission.csv')\n",
    "df['air_store_id']=df['id'].map(lambda x: '_'.join(x.split('_')[:2]))\n",
    "df['visit_date']=pd.to_datetime(df['id'].map(lambda x: x.split('_')[2]))\n",
    "df.set_index(['air_store_id','visit_date'],inplace=True)\n",
    "store['sample_submission']=df\n"
   ]
  },
  {
   "cell_type": "code",
   "execution_count": 6,
   "metadata": {
    "collapsed": true
   },
   "outputs": [],
   "source": [
    "for df in ['air_reserve','hpg_reserve']:\n",
    "    store[df]['visit_datetime'] = store[df]['visit_datetime'].dt.date\n",
    "    store[df]['reserve_datetime'] = store[df]['reserve_datetime'].dt.date\n",
    "    store[df]['reserve_datetime_diff'] = store[df].apply(lambda r: (r['visit_datetime'] - r['reserve_datetime']).days, axis=1)\n",
    "    tmp1 = store[df].groupby(['air_store_id','visit_datetime'], as_index=False)[['reserve_datetime_diff', 'reserve_visitors']].sum().rename(columns={'visit_datetime':'visit_date', 'reserve_datetime_diff': 'rs1', 'reserve_visitors':'rv1'})\n",
    "    tmp2 = store[df].groupby(['air_store_id','visit_datetime'], as_index=False)[['reserve_datetime_diff', 'reserve_visitors']].mean().rename(columns={'visit_datetime':'visit_date', 'reserve_datetime_diff': 'rs2', 'reserve_visitors':'rv2'})\n",
    "    store[df] = pd.merge(tmp1, tmp2, how='inner', on=['air_store_id','visit_date'])\n"
   ]
  },
  {
   "cell_type": "code",
   "execution_count": null,
   "metadata": {
    "collapsed": true
   },
   "outputs": [],
   "source": [
    "store['air_visit_data']['dow'] = store['air_visit_data']['visit_date'].dt.dayofweek\n",
    "store['air_visit_data']['year'] = store['air_visit_data']['visit_date'].dt.year\n",
    "store['air_visit_data']['month'] = store['air_visit_data']['visit_date'].dt.month\n",
    "store['air_visit_data']['visit_date'] = store['air_visit_data']['visit_date'].dt.date\n",
    "\n",
    "store['sample_submission']['dow'] = store['sample_submission']['visit_date'].dt.dayofweek\n",
    "store['sample_submission']['year'] = store['sample_submission']['visit_date'].dt.year\n",
    "store['sample_submission']['month'] = store['sample_submission']['visit_date'].dt.month\n",
    "store['sample_submission']['visit_date'] = store['sample_submission']['visit_date'].dt.date\n"
   ]
  }
 ],
 "metadata": {
  "kernelspec": {
   "display_name": "Python 2",
   "language": "python",
   "name": "python2"
  },
  "language_info": {
   "codemirror_mode": {
    "name": "ipython",
    "version": 2
   },
   "file_extension": ".py",
   "mimetype": "text/x-python",
   "name": "python",
   "nbconvert_exporter": "python",
   "pygments_lexer": "ipython2",
   "version": "2.7.13"
  }
 },
 "nbformat": 4,
 "nbformat_minor": 2
}
