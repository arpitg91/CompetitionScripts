{
 "cells": [
  {
   "cell_type": "code",
   "execution_count": 33,
   "metadata": {
    "collapsed": true
   },
   "outputs": [],
   "source": [
    "import os,sys\n",
    "import pandas as pd\n",
    "import numpy as np\n",
    "import matplotlib.pyplot as plt\n",
    "from datetime import datetime,timedelta\n",
    "from itertools import product\n",
    "os.chdir('/data/arpit.goel/32_RecruitRestarauntPrediction/')\n",
    "%matplotlib inline\n",
    "\n",
    "data={}\n",
    "data['air_reserve']=pd.read_csv('01.RawData/air_reserve.csv',parse_dates=['visit_datetime','reserve_datetime'])\n",
    "data['air_store_info']=pd.read_csv('01.RawData/air_store_info.csv')\n",
    "data['air_visit_data']=pd.read_csv('01.RawData/air_visit_data.csv',parse_dates=['visit_date'])\n",
    "data['date_info']=pd.read_csv('01.RawData/date_info.csv',parse_dates=['calendar_date'])\n",
    "data['hpg_reserve']=pd.read_csv('01.RawData/hpg_reserve.csv',parse_dates=['visit_datetime','reserve_datetime'])\n",
    "data['hpg_store_info']=pd.read_csv('01.RawData/hpg_store_info.csv')\n",
    "data['store_id_relation']=pd.read_csv('01.RawData/store_id_relation.csv')\n",
    "data['sample_submission']=pd.read_csv('01.RawData/sample_submission.csv')\n",
    "data['store_master']=pd.read_csv('02.CleanData/01.StoreRegion.csv')\n",
    "\n",
    "data['air_visit_data'].loc[:,'log_visitors']=np.log(1+data['air_visit_data'].loc[:,'visitors'])\n",
    "data['sample_submission'].loc[:,'air_store_id']=data['sample_submission'].loc[:,'id'].map(lambda x: x[:-11])\n",
    "data['sample_submission'].loc[:,'visit_date']=pd.to_datetime(data['sample_submission'].loc[:,'id'].map(lambda x: x[-10:]))\n",
    "data['visits_master']=pd.concat([data['air_visit_data'],data['sample_submission']]).groupby(['air_store_id','visit_date'])['log_visitors'].max().unstack()\n",
    "\n",
    "TEST_PERIOD=42 \n",
    "TRAINING_WINDOW_SCALE=21 \n",
    "TRAINING_WINDOW_ROLLING=84 \n",
    "TRAINING_WINDOW_OVERALL_MEDIAN=63 \n",
    "TRAINING_WINDOW_OVERALL_MEAN=42 \n",
    "START_DT=datetime(2017,3,12)\n",
    "END_DT=min(START_DT+timedelta(days=TEST_PERIOD-1),data['visits_master'].columns.max())\n"
   ]
  },
  {
   "cell_type": "code",
   "execution_count": 60,
   "metadata": {
    "collapsed": false
   },
   "outputs": [],
   "source": [
    "def extrapolate_ts(x):\n",
    "    if np.isnan(x).sum()>len(x)/2.0 or np.isnan(x).sum()==0:\n",
    "        return x\n",
    "    nans=np.isnan(x)\n",
    "    f=x.nonzero()[0]\n",
    "    x[nans]=np.interp(nans.nonzero()[0], (~nans).nonzero()[0], x[~nans])\n",
    "    return x\n",
    "\n",
    "error_list=[]\n",
    "for i in range(42):\n",
    "    clean_series=data['visits_master'].loc[:,START_DT:END_DT].apply(extrapolate_ts,axis=1)\n",
    "    clean_series=clean_series.apply(lambda x: np.real(np.fft.ifft(np.fft.fft(x.values,n=i+1),n=42)),axis=1)\n",
    "    errors=np.sqrt(np.square(data['visits_master'].loc[:,START_DT:END_DT].apply(extrapolate_ts,axis=1)-clean_series).sum().sum())/len(clean_series)\n",
    "    error_list.append(errors)"
   ]
  },
  {
   "cell_type": "code",
   "execution_count": 61,
   "metadata": {
    "collapsed": false
   },
   "outputs": [
    {
     "data": {
      "text/plain": [
       "<matplotlib.axes._subplots.AxesSubplot at 0x7f91ebb389e8>"
      ]
     },
     "execution_count": 61,
     "metadata": {},
     "output_type": "execute_result"
    },
    {
     "data": {
      "image/png": "[encoded data removed]",
      "text/plain": [
       "<matplotlib.figure.Figure at 0x7f91ebb38208>"
      ]
     },
     "metadata": {},
     "output_type": "display_data"
    }
   ],
   "source": [
    "%matplotlib inline\n",
    "pd.Series(error_list).plot()"
   ]
  },
  {
   "cell_type": "code",
   "execution_count": 62,
   "metadata": {
    "collapsed": false
   },
   "outputs": [
    {
     "data": {
      "text/plain": [
       "[0.63537774766429478,\n",
       " 0.62075951977311805,\n",
       " 0.60655768047029479,\n",
       " 0.59201528100670964,\n",
       " 0.57745572222793051,\n",
       " 0.56183206862115687,\n",
       " 0.54581437740670713,\n",
       " 0.53020869243824797,\n",
       " 0.51536346857803916,\n",
       " 0.50164998828337526,\n",
       " 0.48709697092072263,\n",
       " 0.47241509807102422,\n",
       " 0.4568742865009619,\n",
       " 0.44113417266335675,\n",
       " 0.42651205526449448,\n",
       " 0.41256299315788253,\n",
       " 0.39864437618788223,\n",
       " 0.38435068318119275,\n",
       " 0.36982643732285431,\n",
       " 0.35480110467319337,\n",
       " 0.33986303923274269,\n",
       " 0.32677825785748116,\n",
       " 0.31444283452499322,\n",
       " 0.3011479128909893,\n",
       " 0.28798015476650185,\n",
       " 0.27545004731589728,\n",
       " 0.26264082642428804,\n",
       " 0.24949297150048799,\n",
       " 0.23801038612536224,\n",
       " 0.22722355318502793,\n",
       " 0.21692906783582627,\n",
       " 0.20574383585560932,\n",
       " 0.19478885794983877,\n",
       " 0.18476264595742617,\n",
       " 0.1716021576582151,\n",
       " 0.16598184818281406,\n",
       " 0.16202677595395543,\n",
       " 0.15298629111276274,\n",
       " 0.14552442356210632,\n",
       " 0.13599927057808292,\n",
       " 0.12069957262801283,\n",
       " 9.1138600420152617e-16]"
      ]
     },
     "execution_count": 62,
     "metadata": {},
     "output_type": "execute_result"
    }
   ],
   "source": [
    "error_list"
   ]
  },
  {
   "cell_type": "code",
   "execution_count": 56,
   "metadata": {
    "collapsed": false
   },
   "outputs": [
    {
     "data": {
      "text/plain": [
       "[526.72815281370038,\n",
       " 514.60964189191486,\n",
       " 502.83631710987436,\n",
       " 490.78066795456226,\n",
       " 478.71079372695442,\n",
       " 465.75878488693905,\n",
       " 452.48011887016025,\n",
       " 439.54300603130758,\n",
       " 427.23631545119446,\n",
       " 415.86784028691812,\n",
       " 403.80338889327908,\n",
       " 391.63211630087909,\n",
       " 378.74878350929743,\n",
       " 365.70022913792275,\n",
       " 353.57849381426593,\n",
       " 342.01472132788462,\n",
       " 330.47618785975436,\n",
       " 318.62671635720881,\n",
       " 306.58611654064623,\n",
       " 294.1301157740773,\n",
       " 281.74645952394371,\n",
       " 270.89917576385187,\n",
       " 260.67310982121938,\n",
       " 249.65161978663011,\n",
       " 238.73554830143004,\n",
       " 228.34808922487886,\n",
       " 217.72924510573478,\n",
       " 206.82967337390454,\n",
       " 197.31061009792529,\n",
       " 188.36832559038817,\n",
       " 179.83419723589998,\n",
       " 170.56163992430012,\n",
       " 161.47996324041634,\n",
       " 153.16823349870629,\n",
       " 142.25818869866032,\n",
       " 137.59895214355285,\n",
       " 134.32019726582905,\n",
       " 126.82563533248032,\n",
       " 120.63974713298613,\n",
       " 112.74339530923075,\n",
       " 100.05994570862264,\n",
       " 7.5553899748306525e-13]"
      ]
     },
     "execution_count": 56,
     "metadata": {},
     "output_type": "execute_result"
    }
   ],
   "source": [
    "error_list"
   ]
  },
  {
   "cell_type": "code",
   "execution_count": 23,
   "metadata": {
    "collapsed": false
   },
   "outputs": [
    {
     "name": "stdout",
     "output_type": "stream",
     "text": [
      "[ 3.68887945  3.68887945  3.36729583  3.76120012  3.68887945  3.63758616\n",
      "  1.60943791  2.19539055  2.78134319  3.36729583  3.17805383  3.33220451\n",
      "  3.55534806  2.07944154  2.93181559  3.78418963  3.4339872   3.97029191\n",
      "  3.52636052  3.66356165  2.07944154  2.80290103  3.52636052  2.89037176\n",
      "  3.58351894  3.40119738  2.89037176  2.30258509  2.59647843  2.89037176\n",
      "  3.78418963  3.36729583  3.55534806  3.68887945  3.45783039  3.22678133\n",
      "  2.99573227  3.58351894  2.89037176  3.66356165  4.02535169  2.94443898\n",
      "  2.94443898]\n",
      "[ 138.33277959+0.j            2.03076580+1.88861293j\n",
      "    1.60370406+4.17124562j    2.69397167-3.33154523j\n",
      "    2.16706765-2.2199586j     0.85752059+0.38287544j\n",
      "   -7.31884017-6.25727512j   -1.59530763+3.56653514j\n",
      "   -0.49126383+0.74073603j    1.62180958-0.89556077j\n",
      "    2.76200112-0.56742259j    1.25270049-0.92367242j\n",
      "    3.00614488-5.89378772j   -1.91153777-0.82097725j\n",
      "    3.06892515+1.55791521j    0.25919588+1.23801054j\n",
      "    1.14634898-0.14290122j   -0.82989238+3.55297949j\n",
      "    2.52073859-0.27717242j   -2.20965628-3.10176773j\n",
      "    0.82298712-1.21991706j   -1.31286502-0.52327974j\n",
      "   -1.31286502+0.52327974j    0.82298712+1.21991706j\n",
      "   -2.20965628+3.10176773j    2.52073859+0.27717242j\n",
      "   -0.82989238-3.55297949j    1.14634898+0.14290122j\n",
      "    0.25919588-1.23801054j    3.06892515-1.55791521j\n",
      "   -1.91153777+0.82097725j    3.00614488+5.89378772j\n",
      "    1.25270049+0.92367242j    2.76200112+0.56742259j\n",
      "    1.62180958+0.89556077j   -0.49126383-0.74073603j\n",
      "   -1.59530763-3.56653514j   -7.31884017+6.25727512j\n",
      "    0.85752059-0.38287544j    2.16706765+2.2199586j\n",
      "    2.69397167+3.33154523j    1.60370406-4.17124562j\n",
      "    2.03076580-1.88861293j]\n",
      "[ 3.68887945  3.68887945  3.36729583  3.76120012  3.68887945  3.63758616\n",
      "  1.60943791  2.19539055  2.78134319  3.36729583  3.17805383  3.33220451\n",
      "  3.55534806  2.07944154  2.93181559  3.78418963  3.4339872   3.97029191\n",
      "  3.52636052  3.66356165  2.07944154  2.80290103  3.52636052  2.89037176\n",
      "  3.58351894  3.40119738  2.89037176  2.30258509  2.59647843  2.89037176\n",
      "  3.78418963  3.36729583  3.55534806  3.68887945  3.45783039  3.22678133\n",
      "  2.99573227  3.58351894  2.89037176  3.66356165  4.02535169  2.94443898\n",
      "  2.94443898]\n"
     ]
    }
   ],
   "source": [
    "a=clean_series.iloc[0,:].values\n",
    "print (a)\n",
    "print (np.fft.fft(a))\n",
    "print (np.real(np.fft.ifft(np.fft.fft(a))))"
   ]
  }
 ],
 "metadata": {
  "kernelspec": {
   "display_name": "Python 3",
   "language": "python",
   "name": "python3"
  },
  "language_info": {
   "codemirror_mode": {
    "name": "ipython",
    "version": 3
   },
   "file_extension": ".py",
   "mimetype": "text/x-python",
   "name": "python",
   "nbconvert_exporter": "python",
   "pygments_lexer": "ipython3",
   "version": "3.6.0"
  }
 },
 "nbformat": 4,
 "nbformat_minor": 2
}
