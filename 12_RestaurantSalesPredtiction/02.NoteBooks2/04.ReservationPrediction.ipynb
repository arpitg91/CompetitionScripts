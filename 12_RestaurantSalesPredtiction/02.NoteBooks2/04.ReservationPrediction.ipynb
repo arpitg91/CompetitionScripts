{
 "cells": [
  {
   "cell_type": "code",
   "execution_count": 1,
   "metadata": {
    "collapsed": true
   },
   "outputs": [],
   "source": [
    "import os,sys\n",
    "import pandas as pd\n",
    "import numpy as np\n",
    "import matplotlib.pyplot as plt\n",
    "%matplotlib inline\n",
    "os.chdir('/data/arpit.goel/32_RecruitRestarauntPrediction/')\n",
    "\n",
    "df_air_reserve=pd.read_csv('01.RawData/air_reserve.csv',parse_dates=['visit_datetime','reserve_datetime'])\n",
    "df_air_store_info=pd.read_csv('01.RawData/air_store_info.csv')\n",
    "df_air_visit_data=pd.read_csv('01.RawData/air_visit_data.csv',parse_dates=['visit_date'])\n",
    "df_date_info=pd.read_csv('01.RawData/date_info.csv',parse_dates=['calendar_date'])\n",
    "df_hpg_reserve=pd.read_csv('01.RawData/hpg_reserve.csv',parse_dates=['visit_datetime','reserve_datetime'])\n",
    "df_hpg_store_info=pd.read_csv('01.RawData/hpg_store_info.csv')\n",
    "df_store_id_relation=pd.read_csv('01.RawData/store_id_relation.csv')\n",
    "df_sample_submission=pd.read_csv('01.RawData/sample_submission.csv')"
   ]
  },
  {
   "cell_type": "code",
   "execution_count": null,
   "metadata": {
    "collapsed": true
   },
   "outputs": [],
   "source": []
  }
 ],
 "metadata": {
  "kernelspec": {
   "display_name": "Python 3",
   "language": "python",
   "name": "python3"
  },
  "language_info": {
   "codemirror_mode": {
    "name": "ipython",
    "version": 3
   },
   "file_extension": ".py",
   "mimetype": "text/x-python",
   "name": "python",
   "nbconvert_exporter": "python",
   "pygments_lexer": "ipython3",
   "version": "3.6.0"
  }
 },
 "nbformat": 4,
 "nbformat_minor": 2
}
