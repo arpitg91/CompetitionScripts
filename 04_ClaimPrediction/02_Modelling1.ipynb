{
 "cells": [
  {
   "cell_type": "code",
   "execution_count": 111,
   "metadata": {
    "collapsed": true
   },
   "outputs": [],
   "source": [
    "import os,sys\n",
    "import pandas as pd\n",
    "import numpy as np\n",
    "import matplotlib.pyplot as plt\n",
    "\n",
    "os.chdir('/data/arpit.goel/30_ClaimPrediction')\n",
    "\n",
    "ins=pd.read_pickle('03.CleanData/ins.pkl')\n",
    "oos=pd.read_pickle('03.CleanData/oos.pkl')\n",
    "oot=pd.read_pickle('03.CleanData/oot.pkl')\n",
    "\n",
    "idv_vars=list(set(ins.columns).intersection(set(oot.columns)))\n"
   ]
  },
  {
   "cell_type": "code",
   "execution_count": 250,
   "metadata": {
    "collapsed": false
   },
   "outputs": [],
   "source": [
    "from sklearn.metrics import roc_curve, auc\n",
    "\n",
    "def get_roc(df,score,target,title,plot=1):\n",
    "    df1 = df[[score,target]].dropna()\n",
    "    fpr, tpr, thresholds = roc_curve(df1[target], df1[score])\n",
    "    ks=np.abs(tpr-fpr)\n",
    "    if plot==1:\n",
    "    # Plot ROC curve\n",
    "        plt.figure(figsize=(6,4))\n",
    "        plt.plot(fpr, tpr, label='AUC=%0.2f KS=%0.2f' %(auc(fpr, tpr),ks.max()))\n",
    "        plt.plot([0, 1], [0, 1], 'k--')\n",
    "        plt.xlim([0.0, 1.0])\n",
    "        plt.ylim([0.0, 1.05])\n",
    "        plt.grid(b=True, which='both', color='0.65',linestyle='-')\n",
    "        plt.xlabel('False Positive Rate')\n",
    "        plt.ylabel('True Positive Rate')\n",
    "        plt.title(title+'Receiver Operating Characteristic')\n",
    "        plt.legend(loc=\"lower right\")\n",
    "    return auc(fpr, tpr),np.max(np.abs(tpr-fpr)),thresholds[ks.argmax()]\n"
   ]
  },
  {
   "cell_type": "code",
   "execution_count": 251,
   "metadata": {
    "collapsed": false
   },
   "outputs": [],
   "source": [
    "from sklearn.linear_model import LogisticRegression\n",
    "\n",
    "reg_params={}\n",
    "for alpha in 10**(np.arange(-10,10,0.5)):\n",
    "    clf=LogisticRegression(penalty='l1',C=1/alpha)\n",
    "    clf.fit(ins[idv_vars],ins['target'])\n",
    "    ins['prediction']=clf.predict_proba(ins[idv_vars])[:,1]\n",
    "    oos['prediction']=clf.predict_proba(oos[idv_vars])[:,1]\n",
    "    oot['target']=clf.predict_proba(oot[idv_vars])[:,1]\n",
    "    reg_params[alpha]=[get_roc(ins,'prediction','target','ROC',0)[0],get_roc(oos,'prediction','target','ROC',0)[0]]\n",
    "    #var_importance=pd.Series(clf.coef_[0],index=idv_vars).sort_values()\n",
    "    #oot[['id','target']].to_csv('04.Results/1.LR_1.csv',index=False)"
   ]
  },
  {
   "cell_type": "code",
   "execution_count": 252,
   "metadata": {
    "collapsed": false
   },
   "outputs": [
    {
     "data": {
      "image/png": "[encoded data removed]",
      "text/plain": [
       "<matplotlib.figure.Figure at 0x7f4641944350>"
      ]
     },
     "metadata": {},
     "output_type": "display_data"
    }
   ],
   "source": [
    "pd.DataFrame(reg_params,index=['Train','Test']).T.plot(logx=True)\n",
    "plt.show()"
   ]
  },
  {
   "cell_type": "code",
   "execution_count": 237,
   "metadata": {
    "collapsed": false,
    "scrolled": false
   },
   "outputs": [
    {
     "data": {
      "text/plain": [
       "GridSearchCV(cv=None, error_score='raise',\n",
       "       estimator=RandomForestClassifier(bootstrap=True, class_weight=None, criterion='gini',\n",
       "            max_depth=None, max_features='auto', max_leaf_nodes=None,\n",
       "            min_impurity_split=1e-07, min_samples_leaf=2000,\n",
       "            min_samples_split=2, min_weight_fraction_leaf=0.0,\n",
       "            n_estimators=10, n_jobs=1, oob_score=False, random_state=None,\n",
       "            verbose=0, warm_start=False),\n",
       "       fit_params={}, iid=True, n_jobs=-1,\n",
       "       param_grid={'n_estimators': [30], 'max_depth': array([ 2,  3,  4,  5,  6,  7,  8,  9, 10, 11, 12, 13, 14])},\n",
       "       pre_dispatch='2*n_jobs', refit=True, return_train_score=True,\n",
       "       scoring=make_scorer(custom_auc, needs_proba=True), verbose=0)"
      ]
     },
     "execution_count": 237,
     "metadata": {},
     "output_type": "execute_result"
    }
   ],
   "source": [
    "from sklearn.ensemble import RandomForestClassifier\n",
    "from sklearn.model_selection import GridSearchCV\n",
    "from sklearn.metrics import make_scorer\n",
    "from sklearn.metrics import roc_curve, auc\n",
    "\n",
    "rfc=RandomForestClassifier(n_estimators=1000,max_depth=10,min_samples_leaf=2000,n_jobs=-1)\n",
    "rfc.fit(ins[idv_vars],ins['target'])\n",
    "imp_vars=pd.Series(rfc.feature_importances_,index=idv_vars).sort_values(ascending=False).cumsum()\n",
    "imp_vars=list(imp_vars[imp_vars<0.95].index)\n",
    "\n",
    "def custom_auc(ground_truth, predictions):\n",
    "    fpr, tpr, _ = roc_curve(ground_truth, predictions[:, 1], pos_label=1)    \n",
    "    return auc(fpr, tpr)\n",
    "\n",
    "my_auc = make_scorer(custom_auc, greater_is_better=True, needs_proba=True)\n",
    "parameters = {'n_estimators':[30],'max_depth':[10]}\n",
    "rfc=RandomForestClassifier(min_samples_leaf=2000,n_jobs=1)\n",
    "clf = GridSearchCV(rfc, parameters,scoring = my_auc, n_jobs=-1)\n",
    "clf.fit(ins[imp_vars],ins['target'])"
   ]
  },
  {
   "cell_type": "code",
   "execution_count": 244,
   "metadata": {
    "collapsed": false
   },
   "outputs": [
    {
     "name": "stdout",
     "output_type": "stream",
     "text": [
      "0.628699525119 0.617736373261\n"
     ]
    }
   ],
   "source": [
    "rfc=RandomForestClassifier(n_estimators=30,max_depth=10,min_samples_leaf=2000,n_jobs=-1)\n",
    "rfc.fit(ins[idv_vars],ins['target'])\n",
    "\n",
    "imp_vars=pd.Series(rfc.feature_importances_,index=idv_vars).sort_values(ascending=False).cumsum()\n",
    "imp_vars=list(imp_vars[imp_vars<0.80].index)\n",
    "\n",
    "rfc=RandomForestClassifier(n_estimators=30,max_depth=10,min_samples_leaf=2000,n_jobs=-1)\n",
    "rfc.fit(ins[idv_vars],ins['target'])\n",
    "\n",
    "ins['prediction']=rfc.predict_proba(ins[idv_vars])[:,1]\n",
    "oos['prediction']=rfc.predict_proba(oos[idv_vars])[:,1]\n",
    "oot['target']=rfc.predict_proba(oot[idv_vars])[:,1]\n",
    "\n",
    "print get_roc(ins,'prediction','target','ROC',0)[0], get_roc(oos,'prediction','target','ROC',0)[0]\n",
    "oot[['id','target']].to_csv('04.Results/2.RF.csv',index=False)"
   ]
  },
  {
   "cell_type": "code",
   "execution_count": 248,
   "metadata": {
    "collapsed": false
   },
   "outputs": [
    {
     "name": "stdout",
     "output_type": "stream",
     "text": [
      "total 92016\n",
      "-rw-r--r--. 1 arpit.goel2 domain users 20036523 Nov 22 09:42 1.LR_1.csv\n",
      "-rw-r--r--. 1 arpit.goel2 domain users 14400080 Nov 22 08:44 1.LR.csv\n",
      "-rw-r--r--. 1 arpit.goel2 domain users 19952452 Nov 22 10:13 2.RF_1.csv\n",
      "-rw-r--r--. 1 arpit.goel2 domain users 19910674 Nov 22 20:10 2.RF_chk.csv\n",
      "-rw-r--r--. 1 arpit.goel2 domain users 19910674 Nov 22 20:04 2.RF.csv\n",
      "/data/arpit.goel/30_ClaimPrediction\n"
     ]
    }
   ],
   "source": [
    "oot[['id','target']].to_csv('04.Results/2.RF_chk.csv',index=False)\n",
    "!ls -l 04.Results\n",
    "!pwd"
   ]
  },
  {
   "cell_type": "code",
   "execution_count": 249,
   "metadata": {
    "collapsed": false
   },
   "outputs": [
    {
     "data": {
      "text/html": [
       "<div>\n",
       "<table border=\"1\" class=\"dataframe\">\n",
       "  <thead>\n",
       "    <tr style=\"text-align: right;\">\n",
       "      <th></th>\n",
       "      <th>0</th>\n",
       "      <th>1</th>\n",
       "    </tr>\n",
       "  </thead>\n",
       "  <tbody>\n",
       "    <tr>\n",
       "      <th>10</th>\n",
       "      <td>0.630698</td>\n",
       "      <td>0.618782</td>\n",
       "    </tr>\n",
       "  </tbody>\n",
       "</table>\n",
       "</div>"
      ],
      "text/plain": [
       "           0         1\n",
       "10  0.630698  0.618782"
      ]
     },
     "execution_count": 249,
     "metadata": {},
     "output_type": "execute_result"
    }
   ],
   "source": [
    "rf_params={}\n",
    "if 1==1:\n",
    "    clf=RandomForestClassifier(n_estimators=30,max_depth=5,min_samples_leaf=100,n_jobs=-1)\n",
    "    clf.fit(ins[imp_features],ins['target'])\n",
    "    ins['prediction']=clf.predict_proba(ins[imp_features])[:,1]\n",
    "    oos['prediction']=clf.predict_proba(oos[imp_features])[:,1]\n",
    "    oot['target']=clf.predict_proba(oot[imp_features])[:,1]\n",
    "    rf_params[trees]=[get_roc(ins,'prediction','target','ROC',0)[0],get_roc(oos,'prediction','target','ROC',0)[0]]\n",
    "    #var_importance=pd.Series(clf.coef_[0],index=idv_vars).sort_values()\n",
    "    oot[['id','target']].to_csv('04.Results/2.RF_1.csv',index=False)\n",
    "pd.DataFrame(rf_params).T"
   ]
  }
 ],
 "metadata": {
  "kernelspec": {
   "display_name": "Python 2",
   "language": "python",
   "name": "python2"
  },
  "language_info": {
   "codemirror_mode": {
    "name": "ipython",
    "version": 2
   },
   "file_extension": ".py",
   "mimetype": "text/x-python",
   "name": "python",
   "nbconvert_exporter": "python",
   "pygments_lexer": "ipython2",
   "version": "2.7.13"
  }
 },
 "nbformat": 4,
 "nbformat_minor": 2
}
