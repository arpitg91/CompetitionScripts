{
 "cells": [
  {
   "cell_type": "code",
   "execution_count": 30,
   "metadata": {
    "collapsed": true
   },
   "outputs": [],
   "source": [
    "from sklearn.metrics import roc_curve, auc\n",
    "\n",
    "def get_roc(df,score,target,title,plot=1):\n",
    "    df1 = df[[score,target]].dropna()\n",
    "    fpr, tpr, thresholds = roc_curve(df1[target], df1[score])\n",
    "    ks=np.abs(tpr-fpr)\n",
    "    if plot==1:\n",
    "    # Plot ROC curve\n",
    "        plt.figure(figsize=(6,4))\n",
    "        plt.plot(fpr, tpr, label='AUC=%0.2f KS=%0.2f' %(auc(fpr, tpr),ks.max()))\n",
    "        plt.plot([0, 1], [0, 1], 'k--')\n",
    "        plt.xlim([0.0, 1.0])\n",
    "        plt.ylim([0.0, 1.05])\n",
    "        plt.grid(b=True, which='both', color='0.65',linestyle='-')\n",
    "        plt.xlabel('False Positive Rate')\n",
    "        plt.ylabel('True Positive Rate')\n",
    "        plt.title(title+'Receiver Operating Characteristic')\n",
    "        plt.legend(loc=\"lower right\")\n",
    "    return auc(fpr, tpr),np.max(np.abs(tpr-fpr)),thresholds[ks.argmax()]\n"
   ]
  },
  {
   "cell_type": "code",
   "execution_count": 1,
   "metadata": {
    "_cell_guid": "3b8e9e2e-70dd-4c76-b935-0c70ec39c65d",
    "_uuid": "10551519d7cd6026652bc411117adba09dbf7278",
    "collapsed": false
   },
   "outputs": [
    {
     "name": "stdout",
     "output_type": "stream",
     "text": [
      "0.18.1\n"
     ]
    }
   ],
   "source": [
    "import pandas as pd\n",
    "import numpy as np\n",
    "import matplotlib.pyplot as plt\n",
    "import sklearn\n",
    "print(sklearn.__version__)\n",
    "from sklearn.ensemble import RandomForestClassifier\n",
    "from sklearn.model_selection import train_test_split, KFold, cross_val_score\n",
    "from sklearn import metrics\n",
    "from sklearn.metrics import roc_auc_score\n",
    "import os,sys\n",
    "os.chdir('/data/arpit.goel/30_ClaimPrediction')"
   ]
  },
  {
   "cell_type": "code",
   "execution_count": 57,
   "metadata": {
    "_cell_guid": "bd703946-079c-420a-ac73-3245e18684bc",
    "_uuid": "c613a87e9b0055318679f45d619a14b5f29cf624",
    "collapsed": false
   },
   "outputs": [],
   "source": [
    "train_data = pd.read_csv('01.RawData/train.csv', na_values='-1')\n",
    "test_data = pd.read_csv('01.RawData/test.csv', na_values='-1')\n",
    "missing_vals=train_data.median() \n",
    "cat_cols = sorted([x for x in train_data.columns if 'cat' in x])\n",
    "\n",
    "def clean_data(df1):\n",
    "    df=df1.copy()\n",
    "    df['any_miss_value']=df.isnull().sum(axis=1).map(lambda x: 1 if x>0 else 0)\n",
    "    df=df.fillna(missing_vals)\n",
    "    df[cat_cols]=df[cat_cols].apply(lambda x: x.astype('category'))\n",
    "    for column in cat_cols:\n",
    "        dummies = pd.get_dummies(df[column],prefix=column)\n",
    "        df = pd.concat([df,dummies],axis =1)\n",
    "        df.drop([column],axis=1,inplace= True)\n",
    "    return df\n",
    "\n",
    "train_clean=clean_data(train_data)\n",
    "test_clean=clean_data(test_data)\n",
    "\n",
    "ins=train_clean.sample(frac=0.8,random_state=200)\n",
    "oos=train_clean.drop(ins.index)\n",
    "oot=clean_data(test_data)\n",
    "\n",
    "idv_vars=list(set(train_clean.columns).intersection(set(test_clean.columns)))"
   ]
  },
  {
   "cell_type": "code",
   "execution_count": 58,
   "metadata": {
    "_cell_guid": "45e0acc2-25f6-461f-8062-580ac814a93c",
    "_uuid": "733c9c2840814efa3b45ad960a393e34197b5132",
    "collapsed": false
   },
   "outputs": [
    {
     "name": "stdout",
     "output_type": "stream",
     "text": [
      "0.818320582441 0.629129794589\n"
     ]
    }
   ],
   "source": [
    "clf= RandomForestClassifier(n_estimators=200,oob_score=True,random_state=13,n_jobs = -1, min_samples_leaf = 100)\n",
    "clf.fit(ins[idv_vars], ins['target'])\n",
    "ins['prediction']=clf.predict_proba(ins[idv_vars])[:,1]\n",
    "oos['prediction']=clf.predict_proba(oos[idv_vars])[:,1]\n",
    "#oot['target']=clf.predict_proba(oot[idv_vars])[:,1]\n",
    "print get_roc(ins,'prediction','target','ROC',0)[0], get_roc(oos,'prediction','target','ROC',0)[0]\n"
   ]
  },
  {
   "cell_type": "code",
   "execution_count": 59,
   "metadata": {
    "collapsed": false
   },
   "outputs": [
    {
     "name": "stdout",
     "output_type": "stream",
     "text": [
      "66 ['ps_car_13', 'ps_reg_03', 'id', 'ps_ind_03', 'ps_car_14', 'ps_reg_02', 'ps_ind_15', 'ps_car_12', 'ps_car_15', 'ps_reg_01', 'ps_calc_03', 'ps_calc_01', 'ps_calc_02', 'ps_calc_10', 'ps_calc_14', 'ps_ind_17_bin', 'ps_ind_01', 'ps_calc_11', 'ps_ind_05_cat_0.0', 'ps_calc_13', 'ps_calc_08', 'ps_calc_07', 'ps_ind_07_bin', 'ps_calc_09', 'ps_calc_06', 'ps_ind_16_bin', 'ps_calc_04', 'ps_calc_12', 'ps_calc_05', 'ps_ind_06_bin', 'ps_car_04_cat_0', 'ps_car_11', 'ps_car_01_cat_7.0', 'any_miss_value', 'ps_calc_17_bin', 'ps_car_02_cat_0.0', 'ps_car_01_cat_11.0', 'ps_car_02_cat_1.0', 'ps_car_09_cat_1.0', 'ps_calc_16_bin', 'ps_ind_05_cat_6.0', 'ps_ind_04_cat_0.0', 'ps_ind_04_cat_1.0', 'ps_calc_19_bin', 'ps_car_09_cat_2.0', 'ps_car_09_cat_0.0', 'ps_ind_02_cat_1.0', 'ps_ind_08_bin', 'ps_calc_18_bin', 'ps_car_05_cat_0.0', 'ps_car_05_cat_1.0', 'ps_ind_09_bin', 'ps_car_08_cat_0', 'ps_car_07_cat_0.0', 'ps_car_08_cat_1', 'ps_ind_02_cat_2.0', 'ps_car_07_cat_1.0', 'ps_car_06_cat_11', 'ps_ind_18_bin', 'ps_car_06_cat_1', 'ps_ind_05_cat_4.0', 'ps_car_11_cat_104', 'ps_car_01_cat_9.0', 'ps_car_06_cat_0', 'ps_car_04_cat_9', 'ps_calc_20_bin']\n"
     ]
    }
   ],
   "source": [
    "clf= RandomForestClassifier(n_estimators=1000,oob_score=True,random_state=13,n_jobs = -1, min_samples_leaf = 100)\n",
    "clf.fit(ins[idv_vars], ins['target'])\n",
    "ins['prediction']=clf.predict_proba(ins[idv_vars])[:,1]\n",
    "var_imp_global=pd.Series(clf.feature_importances_,index=idv_vars).sort_values(ascending=False).cumsum()\n",
    "imp_vars=list(var_imp_global[var_imp_global<0.95].index)\n",
    "print len(imp_vars), imp_vars"
   ]
  },
  {
   "cell_type": "code",
   "execution_count": 47,
   "metadata": {
    "collapsed": false,
    "scrolled": true
   },
   "outputs": [
    {
     "data": {
      "text/plain": [
       "GridSearchCV(cv=None, error_score='raise',\n",
       "       estimator=RandomForestClassifier(bootstrap=True, class_weight=None, criterion='gini',\n",
       "            max_depth=None, max_features='auto', max_leaf_nodes=None,\n",
       "            min_impurity_split=1e-07, min_samples_leaf=20,\n",
       "            min_samples_split=2, min_weight_fraction_leaf=0.0,\n",
       "            n_estimators=10, n_jobs=1, oob_score=True, random_state=None,\n",
       "            verbose=0, warm_start=False),\n",
       "       fit_params={}, iid=True, n_jobs=-1,\n",
       "       param_grid={'n_estimators': array([128, 256, 512]), 'max_depth': array([10, 13, 16])},\n",
       "       pre_dispatch='2*n_jobs', refit=True, return_train_score=True,\n",
       "       scoring=make_scorer(custom_auc, needs_proba=True), verbose=0)"
      ]
     },
     "execution_count": 47,
     "metadata": {},
     "output_type": "execute_result"
    }
   ],
   "source": [
    "from sklearn.model_selection import GridSearchCV\n",
    "from sklearn.metrics import make_scorer\n",
    "from sklearn.metrics import roc_curve, auc\n",
    "\n",
    "def custom_auc(ground_truth, predictions):\n",
    "    fpr, tpr, _ = roc_curve(ground_truth, predictions[:, 1], pos_label=1)    \n",
    "    return auc(fpr, tpr)\n",
    "\n",
    "my_auc = make_scorer(custom_auc, greater_is_better=True, needs_proba=True)\n",
    "parameters = {'n_estimators':2**np.arange(7,10),'max_depth':np.arange(10,18,3)}\n",
    "rfc=RandomForestClassifier(min_samples_leaf=20,n_jobs=1,oob_score=True)\n",
    "clf = GridSearchCV(rfc, parameters,scoring = my_auc, n_jobs=-1)\n",
    "ins_sample=ins.sample(frac=0.2,random_state=200)\n",
    "clf.fit(ins_sample[imp_vars],ins_sample['target'])\n",
    "clf.grid_scores_"
   ]
  },
  {
   "cell_type": "code",
   "execution_count": 60,
   "metadata": {
    "collapsed": false,
    "scrolled": false
   },
   "outputs": [
    {
     "name": "stdout",
     "output_type": "stream",
     "text": [
      "0.682000663857 0.62387964648\n"
     ]
    }
   ],
   "source": [
    "rfc=RandomForestClassifier(n_estimators=250,max_depth=10,min_samples_leaf=100,n_jobs=-1)\n",
    "rfc.fit(ins[imp_vars],ins['target'])\n",
    "\n",
    "imp_vars1=pd.Series(rfc.feature_importances_,index=imp_vars).sort_values(ascending=False).cumsum()\n",
    "imp_vars2=list(imp_vars1[imp_vars1<0.80].index)\n",
    "\n",
    "rfc=RandomForestClassifier(n_estimators=30,max_depth=10,min_samples_leaf=100,n_jobs=-1)\n",
    "rfc.fit(ins[imp_vars2],ins['target'])\n",
    "\n",
    "ins['prediction']=rfc.predict_proba(ins[imp_vars2])[:,1]\n",
    "oos['prediction']=rfc.predict_proba(oos[imp_vars2])[:,1]\n",
    "oot['target']=rfc.predict_proba(oot[imp_vars2])[:,1]\n",
    "\n",
    "print get_roc(ins,'prediction','target','ROC',0)[0], get_roc(oos,'prediction','target','ROC',0)[0]\n",
    "oot[['id','target']].to_csv('04.Results/2.RF.csv',index=False)"
   ]
  },
  {
   "cell_type": "code",
   "execution_count": 51,
   "metadata": {
    "collapsed": false
   },
   "outputs": [
    {
     "name": "stderr",
     "output_type": "stream",
     "text": [
      "/data/arpit.goel/anaconda/anaconda2/lib/python2.7/site-packages/sklearn/model_selection/_search.py:667: DeprecationWarning: The grid_scores_ attribute was deprecated in version 0.18 in favor of the more elaborate cv_results_ attribute. The grid_scores_ attribute will not be available from 0.20\n",
      "  DeprecationWarning)\n"
     ]
    },
    {
     "data": {
      "text/html": [
       "<div>\n",
       "<table border=\"1\" class=\"dataframe\">\n",
       "  <thead>\n",
       "    <tr style=\"text-align: right;\">\n",
       "      <th></th>\n",
       "      <th>parameters</th>\n",
       "      <th>mean_validation_score</th>\n",
       "      <th>cv_validation_scores</th>\n",
       "    </tr>\n",
       "  </thead>\n",
       "  <tbody>\n",
       "    <tr>\n",
       "      <th>0</th>\n",
       "      <td>{u'n_estimators': 8, u'max_depth': 10}</td>\n",
       "      <td>0.612923</td>\n",
       "      <td>[0.616728274116, 0.611533550369, 0.610508642033]</td>\n",
       "    </tr>\n",
       "    <tr>\n",
       "      <th>1</th>\n",
       "      <td>{u'n_estimators': 16, u'max_depth': 10}</td>\n",
       "      <td>0.620743</td>\n",
       "      <td>[0.625848356835, 0.619262839752, 0.617119129256]</td>\n",
       "    </tr>\n",
       "    <tr>\n",
       "      <th>2</th>\n",
       "      <td>{u'n_estimators': 32, u'max_depth': 10}</td>\n",
       "      <td>0.625537</td>\n",
       "      <td>[0.630999617971, 0.624136930882, 0.621474178682]</td>\n",
       "    </tr>\n",
       "    <tr>\n",
       "      <th>3</th>\n",
       "      <td>{u'n_estimators': 64, u'max_depth': 10}</td>\n",
       "      <td>0.627040</td>\n",
       "      <td>[0.63214964351, 0.624964711746, 0.624006440652]</td>\n",
       "    </tr>\n",
       "  </tbody>\n",
       "</table>\n",
       "</div>"
      ],
      "text/plain": [
       "                                parameters  mean_validation_score  \\\n",
       "0   {u'n_estimators': 8, u'max_depth': 10}               0.612923   \n",
       "1  {u'n_estimators': 16, u'max_depth': 10}               0.620743   \n",
       "2  {u'n_estimators': 32, u'max_depth': 10}               0.625537   \n",
       "3  {u'n_estimators': 64, u'max_depth': 10}               0.627040   \n",
       "\n",
       "                               cv_validation_scores  \n",
       "0  [0.616728274116, 0.611533550369, 0.610508642033]  \n",
       "1  [0.625848356835, 0.619262839752, 0.617119129256]  \n",
       "2  [0.630999617971, 0.624136930882, 0.621474178682]  \n",
       "3   [0.63214964351, 0.624964711746, 0.624006440652]  "
      ]
     },
     "execution_count": 51,
     "metadata": {},
     "output_type": "execute_result"
    }
   ],
   "source": [
    "parameters = {'n_estimators':2**np.arange(3,7),'max_depth':[10]}\n",
    "rfc=RandomForestClassifier(min_samples_leaf=100,n_jobs=1,oob_score=True)\n",
    "clf = GridSearchCV(rfc, parameters,scoring = my_auc, n_jobs=-1)\n",
    "clf.fit(ins[imp_vars2],ins['target'])\n",
    "pd.DataFrame(clf.grid_scores_)"
   ]
  },
  {
   "cell_type": "code",
   "execution_count": 56,
   "metadata": {
    "collapsed": false
   },
   "outputs": [
    {
     "data": {
      "text/html": [
       "<div>\n",
       "<table border=\"1\" class=\"dataframe\">\n",
       "  <thead>\n",
       "    <tr style=\"text-align: right;\">\n",
       "      <th>target</th>\n",
       "      <th>0</th>\n",
       "      <th>1</th>\n",
       "    </tr>\n",
       "    <tr>\n",
       "      <th>row_0</th>\n",
       "      <th></th>\n",
       "      <th></th>\n",
       "    </tr>\n",
       "  </thead>\n",
       "  <tbody>\n",
       "    <tr>\n",
       "      <th>0</th>\n",
       "      <td>119261</td>\n",
       "      <td>5670</td>\n",
       "    </tr>\n",
       "    <tr>\n",
       "      <th>1</th>\n",
       "      <td>454257</td>\n",
       "      <td>16024</td>\n",
       "    </tr>\n",
       "  </tbody>\n",
       "</table>\n",
       "</div>"
      ],
      "text/plain": [
       "target       0      1\n",
       "row_0                \n",
       "0       119261   5670\n",
       "1       454257  16024"
      ]
     },
     "execution_count": 56,
     "metadata": {},
     "output_type": "execute_result"
    }
   ],
   "source": [
    "pd.crosstab(train_data.isnull().sum(axis=1).map(lambda x: 1 if x>0 else 0),train_data.target)\n"
   ]
  }
 ],
 "metadata": {
  "kernelspec": {
   "display_name": "Python 2",
   "language": "python",
   "name": "python2"
  },
  "language_info": {
   "codemirror_mode": {
    "name": "ipython",
    "version": 2
   },
   "file_extension": ".py",
   "mimetype": "text/x-python",
   "name": "python",
   "nbconvert_exporter": "python",
   "pygments_lexer": "ipython2",
   "version": "2.7.13"
  }
 },
 "nbformat": 4,
 "nbformat_minor": 1
}
