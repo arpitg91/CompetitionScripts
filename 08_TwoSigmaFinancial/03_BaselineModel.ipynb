{
 "cells": [
  {
   "cell_type": "code",
   "execution_count": 83,
   "metadata": {
    "collapsed": false
   },
   "outputs": [],
   "source": [
    "import pandas as pd\n",
    "import os\n",
    "from sklearn.ensemble import GradientBoostingRegressor\n",
    "import numpy as np\n",
    "\n",
    "os.chdir('/data/arpit.goel/20_TwoSigmaFinancial')\n",
    "\n",
    "train = pd.read_pickle('01.RawData/train_split.pkl').sample(n=100000)\n",
    "test = pd.read_pickle('01.RawData/test_split.pkl')\n",
    "\n",
    "msk = np.random.rand(len(train)) < 0.6\n",
    "ins = train[msk]\n",
    "oos = train[~msk]\n"
   ]
  },
  {
   "cell_type": "code",
   "execution_count": 70,
   "metadata": {
    "collapsed": false
   },
   "outputs": [],
   "source": [
    "cols = [x for x in train.columns.tolist() if x not in ['y','timestamp','id']]\n",
    "\n",
    "#for col in cols:\n",
    "#    p1=np.percentile(ins[col].dropna(),1)\n",
    "#    p99=np.percentile(ins[col].dropna(),99)\n",
    "#    ins[col]=np.clip(ins[col],p1,p99)\n",
    "    \n",
    "\n",
    "ins[cols].describe(percentiles=[0.01,0.05,0.1,0.25,0.50,0.75,0.90,0.95,0.99]).T.to_csv('02.Profiling/05_VariableMeans.csv')"
   ]
  },
  {
   "cell_type": "code",
   "execution_count": 77,
   "metadata": {
    "collapsed": false
   },
   "outputs": [
    {
     "data": {
      "text/html": [
       "<div>\n",
       "<table border=\"1\" class=\"dataframe\">\n",
       "  <thead>\n",
       "    <tr style=\"text-align: right;\">\n",
       "      <th></th>\n",
       "      <th>id</th>\n",
       "      <th>timestamp</th>\n",
       "      <th>derived_0</th>\n",
       "      <th>derived_1</th>\n",
       "      <th>derived_2</th>\n",
       "      <th>derived_3</th>\n",
       "      <th>derived_4</th>\n",
       "      <th>fundamental_0</th>\n",
       "      <th>fundamental_1</th>\n",
       "      <th>fundamental_2</th>\n",
       "      <th>...</th>\n",
       "      <th>technical_36</th>\n",
       "      <th>technical_37</th>\n",
       "      <th>technical_38</th>\n",
       "      <th>technical_39</th>\n",
       "      <th>technical_40</th>\n",
       "      <th>technical_41</th>\n",
       "      <th>technical_42</th>\n",
       "      <th>technical_43</th>\n",
       "      <th>technical_44</th>\n",
       "      <th>y</th>\n",
       "    </tr>\n",
       "  </thead>\n",
       "  <tbody>\n",
       "    <tr>\n",
       "      <th>0</th>\n",
       "      <td>25</td>\n",
       "      <td>0</td>\n",
       "      <td>-0.025507</td>\n",
       "      <td>0.066421</td>\n",
       "      <td>0.039618</td>\n",
       "      <td>0.03216</td>\n",
       "      <td>0.016962</td>\n",
       "      <td>0.178495</td>\n",
       "      <td>-0.002078</td>\n",
       "      <td>-0.007262</td>\n",
       "      <td>...</td>\n",
       "      <td>1.035936</td>\n",
       "      <td>-0.052456</td>\n",
       "      <td>-0.034923</td>\n",
       "      <td>-0.021918</td>\n",
       "      <td>-0.211506</td>\n",
       "      <td>0.003029</td>\n",
       "      <td>-0.000132</td>\n",
       "      <td>-2</td>\n",
       "      <td>0.00048</td>\n",
       "      <td>-0.015959</td>\n",
       "    </tr>\n",
       "    <tr>\n",
       "      <th>1</th>\n",
       "      <td>25</td>\n",
       "      <td>1</td>\n",
       "      <td>-0.025507</td>\n",
       "      <td>0.066421</td>\n",
       "      <td>-0.041894</td>\n",
       "      <td>0.03216</td>\n",
       "      <td>0.016962</td>\n",
       "      <td>0.176493</td>\n",
       "      <td>-0.002078</td>\n",
       "      <td>-0.006856</td>\n",
       "      <td>...</td>\n",
       "      <td>1.169318</td>\n",
       "      <td>-0.052456</td>\n",
       "      <td>-0.034923</td>\n",
       "      <td>-0.021918</td>\n",
       "      <td>-0.209593</td>\n",
       "      <td>0.003029</td>\n",
       "      <td>-0.000132</td>\n",
       "      <td>-2</td>\n",
       "      <td>0.00048</td>\n",
       "      <td>-0.004484</td>\n",
       "    </tr>\n",
       "    <tr>\n",
       "      <th>2</th>\n",
       "      <td>25</td>\n",
       "      <td>2</td>\n",
       "      <td>-0.025507</td>\n",
       "      <td>0.066421</td>\n",
       "      <td>-0.041894</td>\n",
       "      <td>0.03216</td>\n",
       "      <td>0.016962</td>\n",
       "      <td>0.175695</td>\n",
       "      <td>-0.002078</td>\n",
       "      <td>-0.006693</td>\n",
       "      <td>...</td>\n",
       "      <td>1.222459</td>\n",
       "      <td>-0.052456</td>\n",
       "      <td>-0.034923</td>\n",
       "      <td>-0.021918</td>\n",
       "      <td>-0.208830</td>\n",
       "      <td>0.003029</td>\n",
       "      <td>-0.000132</td>\n",
       "      <td>-2</td>\n",
       "      <td>0.00048</td>\n",
       "      <td>-0.002126</td>\n",
       "    </tr>\n",
       "    <tr>\n",
       "      <th>3</th>\n",
       "      <td>25</td>\n",
       "      <td>3</td>\n",
       "      <td>-0.025507</td>\n",
       "      <td>0.066421</td>\n",
       "      <td>-0.041894</td>\n",
       "      <td>0.03216</td>\n",
       "      <td>0.016962</td>\n",
       "      <td>0.175007</td>\n",
       "      <td>-0.002078</td>\n",
       "      <td>-0.006554</td>\n",
       "      <td>...</td>\n",
       "      <td>1.268308</td>\n",
       "      <td>-0.052456</td>\n",
       "      <td>-0.034923</td>\n",
       "      <td>-0.021918</td>\n",
       "      <td>-0.208173</td>\n",
       "      <td>0.003029</td>\n",
       "      <td>-0.000132</td>\n",
       "      <td>-2</td>\n",
       "      <td>0.00048</td>\n",
       "      <td>-0.005709</td>\n",
       "    </tr>\n",
       "    <tr>\n",
       "      <th>4</th>\n",
       "      <td>25</td>\n",
       "      <td>4</td>\n",
       "      <td>-0.025507</td>\n",
       "      <td>0.066421</td>\n",
       "      <td>-0.041894</td>\n",
       "      <td>0.03216</td>\n",
       "      <td>0.016962</td>\n",
       "      <td>0.173899</td>\n",
       "      <td>-0.002078</td>\n",
       "      <td>-0.006328</td>\n",
       "      <td>...</td>\n",
       "      <td>1.342157</td>\n",
       "      <td>-0.052456</td>\n",
       "      <td>-0.034923</td>\n",
       "      <td>-0.021918</td>\n",
       "      <td>-0.207113</td>\n",
       "      <td>0.003029</td>\n",
       "      <td>-0.000132</td>\n",
       "      <td>-2</td>\n",
       "      <td>0.00048</td>\n",
       "      <td>-0.046776</td>\n",
       "    </tr>\n",
       "  </tbody>\n",
       "</table>\n",
       "<p>5 rows × 111 columns</p>\n",
       "</div>"
      ],
      "text/plain": [
       "   id  timestamp  derived_0  derived_1  derived_2  derived_3  derived_4  \\\n",
       "0  25          0  -0.025507   0.066421   0.039618    0.03216   0.016962   \n",
       "1  25          1  -0.025507   0.066421  -0.041894    0.03216   0.016962   \n",
       "2  25          2  -0.025507   0.066421  -0.041894    0.03216   0.016962   \n",
       "3  25          3  -0.025507   0.066421  -0.041894    0.03216   0.016962   \n",
       "4  25          4  -0.025507   0.066421  -0.041894    0.03216   0.016962   \n",
       "\n",
       "   fundamental_0  fundamental_1  fundamental_2    ...     technical_36  \\\n",
       "0       0.178495      -0.002078      -0.007262    ...         1.035936   \n",
       "1       0.176493      -0.002078      -0.006856    ...         1.169318   \n",
       "2       0.175695      -0.002078      -0.006693    ...         1.222459   \n",
       "3       0.175007      -0.002078      -0.006554    ...         1.268308   \n",
       "4       0.173899      -0.002078      -0.006328    ...         1.342157   \n",
       "\n",
       "   technical_37  technical_38  technical_39  technical_40  technical_41  \\\n",
       "0     -0.052456     -0.034923     -0.021918     -0.211506      0.003029   \n",
       "1     -0.052456     -0.034923     -0.021918     -0.209593      0.003029   \n",
       "2     -0.052456     -0.034923     -0.021918     -0.208830      0.003029   \n",
       "3     -0.052456     -0.034923     -0.021918     -0.208173      0.003029   \n",
       "4     -0.052456     -0.034923     -0.021918     -0.207113      0.003029   \n",
       "\n",
       "   technical_42  technical_43  technical_44         y  \n",
       "0     -0.000132            -2       0.00048 -0.015959  \n",
       "1     -0.000132            -2       0.00048 -0.004484  \n",
       "2     -0.000132            -2       0.00048 -0.002126  \n",
       "3     -0.000132            -2       0.00048 -0.005709  \n",
       "4     -0.000132            -2       0.00048 -0.046776  \n",
       "\n",
       "[5 rows x 111 columns]"
      ]
     },
     "execution_count": 77,
     "metadata": {},
     "output_type": "execute_result"
    }
   ],
   "source": [
    "test.head()"
   ]
  },
  {
   "cell_type": "code",
   "execution_count": 96,
   "metadata": {
    "collapsed": false
   },
   "outputs": [
    {
     "name": "stdout",
     "output_type": "stream",
     "text": [
      "10 0.00578071463539 0.000296097693996 -0.000365624609171\n"
     ]
    }
   ],
   "source": [
    "cols = [x for x in train.columns.tolist() if x not in ['y','timestamp','id']]\n",
    "cols=['technical_20','technical_21','technical_40','fundamental_55','fundamental_32','technical_35','fundamental_21','technical_27','technical_30','fundamental_40','fundamental_54','fundamental_29','fundamental_48','fundamental_50']\n",
    "for n_estimators in [10]:\n",
    "    gb = GradientBoostingRegressor(n_estimators=n_estimators, max_depth=3)\n",
    "    gb.fit(ins[cols],ins['y'])\n",
    "    print n_estimators, gb.score(ins[cols],ins['y']), gb.score(oos[cols],oos['y']), gb.score(test[cols],test['y'])\n"
   ]
  },
  {
   "cell_type": "code",
   "execution_count": 97,
   "metadata": {
    "collapsed": false
   },
   "outputs": [
    {
     "name": "stdout",
     "output_type": "stream",
     "text": [
      "          variable  importance\n",
      "5     technical_35    0.180064\n",
      "1     technical_21    0.149787\n",
      "0     technical_20    0.120274\n",
      "2     technical_40    0.099511\n",
      "7     technical_27    0.094153\n",
      "10  fundamental_54    0.075647\n",
      "3   fundamental_55    0.047740\n",
      "13  fundamental_50    0.047691\n",
      "12  fundamental_48    0.043710\n",
      "4   fundamental_32    0.043555\n",
      "6   fundamental_21    0.035319\n",
      "8     technical_30    0.025913\n",
      "11  fundamental_29    0.022643\n",
      "9   fundamental_40    0.013992\n"
     ]
    }
   ],
   "source": [
    "print pd.DataFrame(zip(cols,list(gb.feature_importances_)),columns=['variable','importance']).sort_values(by=['importance'],ascending=False)"
   ]
  },
  {
   "cell_type": "code",
   "execution_count": 99,
   "metadata": {
    "collapsed": false
   },
   "outputs": [
    {
     "ename": "AttributeError",
     "evalue": "'GradientBoostingRegressor' object has no attribute 'predict_proba'",
     "output_type": "error",
     "traceback": [
      "\u001b[1;31m---------------------------------------------------------------------------\u001b[0m",
      "\u001b[1;31mAttributeError\u001b[0m                            Traceback (most recent call last)",
      "\u001b[1;32m<ipython-input-99-6cd273e91bc6>\u001b[0m in \u001b[0;36m<module>\u001b[1;34m()\u001b[0m\n\u001b[1;32m----> 1\u001b[1;33m \u001b[0mgb\u001b[0m\u001b[1;33m.\u001b[0m\u001b[0mpredict_proba\u001b[0m\u001b[1;33m(\u001b[0m\u001b[0mins\u001b[0m\u001b[1;33m[\u001b[0m\u001b[0mcols\u001b[0m\u001b[1;33m]\u001b[0m\u001b[1;33m.\u001b[0m\u001b[0mhead\u001b[0m\u001b[1;33m(\u001b[0m\u001b[1;33m)\u001b[0m\u001b[1;33m)\u001b[0m\u001b[1;33m\u001b[0m\u001b[0m\n\u001b[0m",
      "\u001b[1;31mAttributeError\u001b[0m: 'GradientBoostingRegressor' object has no attribute 'predict_proba'"
     ]
    }
   ],
   "source": []
  }
 ],
 "metadata": {
  "kernelspec": {
   "display_name": "Python 2",
   "language": "python",
   "name": "python2"
  },
  "language_info": {
   "codemirror_mode": {
    "name": "ipython",
    "version": 2
   },
   "file_extension": ".py",
   "mimetype": "text/x-python",
   "name": "python",
   "nbconvert_exporter": "python",
   "pygments_lexer": "ipython2",
   "version": "2.7.13"
  }
 },
 "nbformat": 4,
 "nbformat_minor": 0
}
