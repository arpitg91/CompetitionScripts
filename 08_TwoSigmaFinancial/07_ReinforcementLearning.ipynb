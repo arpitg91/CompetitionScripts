{
 "cells": [
  {
   "cell_type": "code",
   "execution_count": 7,
   "metadata": {
    "collapsed": false
   },
   "outputs": [],
   "source": [
    "import pandas as pd\n",
    "import os,h5py\n",
    "import pandas as pd\n",
    "import matplotlib\n",
    "import numpy as np\n",
    "import matplotlib.pyplot as plt\n",
    "from collections import OrderedDict\n",
    "from sklearn.metrics import r2_score\n",
    "%matplotlib inline  \n",
    "\n",
    "os.chdir('/data/arpit.goel/20_TwoSigmaFinancial')"
   ]
  },
  {
   "cell_type": "code",
   "execution_count": 2,
   "metadata": {
    "collapsed": true
   },
   "outputs": [],
   "source": [
    "df = pd.read_hdf('01.RawData/train.h5')"
   ]
  },
  {
   "cell_type": "code",
   "execution_count": 24,
   "metadata": {
    "collapsed": false
   },
   "outputs": [],
   "source": [
    "cols = ['technical_20']\n",
    "\n",
    "train=df[df['timestamp']<1000][cols+['y','timestamp']]\n",
    "test=df[df['timestamp']>=1000][cols+['y','timestamp']]\n",
    "\n",
    "low_y_cut = -0.086093\n",
    "high_y_cut = 0.093497\n",
    "\n",
    "y_values_within = ((train['y'] > low_y_cut) & (train['y'] <high_y_cut))\n",
    "train_cut = train.loc[y_values_within,:]\n",
    "\n",
    "mean_vals = train_cut.median()\n",
    "train_cut.fillna(mean_vals,inplace=True)\n",
    "train.fillna(mean_vals,inplace=True)\n",
    "test.fillna(mean_vals,inplace=True)\n",
    "\n",
    "from sklearn.linear_model import LinearRegression\n",
    "model1 = LinearRegression()\n",
    "model1.fit(train_cut[cols],train_cut['y'])\n",
    "\n",
    "train['prediction']=model1.predict(train[cols]).clip(low_y_cut,high_y_cut)\n",
    "test['prediction']=model1.predict(test[cols]).clip(low_y_cut,high_y_cut)"
   ]
  },
  {
   "cell_type": "code",
   "execution_count": 27,
   "metadata": {
    "collapsed": false
   },
   "outputs": [],
   "source": [
    "predictions=pd.concat([train,test])\n",
    "predictions['prediction1']=predictions['prediction']-0.001\n",
    "predictions['prediction2']=predictions['prediction']\n",
    "predictions['prediction3']=predictions['prediction']+0.001\n",
    "\n",
    "def get_daily_summary(group):\n",
    "    output=pd.Series({})\n",
    "    output['y']=group['y'].mean()\n",
    "    output['avg_prediction1']=group['prediction1'].mean()\n",
    "    output['avg_prediction2']=group['prediction2'].mean()\n",
    "    output['avg_prediction3']=group['prediction3'].mean()\n",
    "    output['r21']=r2_score(group['y'], group['prediction1'])\n",
    "    output['r22']=r2_score(group['y'], group['prediction2'])\n",
    "    output['r23']=r2_score(group['y'], group['prediction3'])\n",
    "    return pd.Series(output)\n",
    "\n",
    "predictions.groupby('timestamp').apply(get_daily_summary).to_csv('02.Profiling/07.MarketMean.csv')\n"
   ]
  },
  {
   "cell_type": "code",
   "execution_count": 16,
   "metadata": {
    "collapsed": false
   },
   "outputs": [
    {
     "name": "stderr",
     "output_type": "stream",
     "text": [
      "/data/arpit.goel/anacondainstall/lib/python2.7/site-packages/ipykernel/__main__.py:2: SettingWithCopyWarning: \n",
      "A value is trying to be set on a copy of a slice from a DataFrame.\n",
      "Try using .loc[row_indexer,col_indexer] = value instead\n",
      "\n",
      "See the caveats in the documentation: http://pandas.pydata.org/pandas-docs/stable/indexing.html#indexing-view-versus-copy\n",
      "  from ipykernel import kernelapp as app\n"
     ]
    },
    {
     "name": "stdout",
     "output_type": "stream",
     "text": [
      "timestamp,y,avg_prediction1,avg_prediction2,avg_prediction3,r21,r22,r23\r\n",
      "0,-0.00186999782454,0.000199575786246,0.000221750873607,0.000243925960967,-0.00604053380999,-0.00617067369963,-0.00630220058281\r\n",
      "1,0.000500668713357,0.000199575786246,0.000221750873607,0.000243925960967,-0.000112371993624,-9.64285328175e-05,-8.17041791372e-05\r\n",
      "2,-0.00578675512224,0.000199575786246,0.000221750873607,0.000243925960967,-0.0418532242068,-0.0421638712406,-0.042475666873\r\n",
      "3,0.00163280090783,0.000199575786246,0.000221750873607,0.000243925960967,-0.00320501894038,-0.00310660904488,-0.00300973363463\r\n",
      "4,-0.00430873036385,0.000199575786246,0.000221750873607,0.000243925960967,-0.0157657614917,-0.0159212374502,-0.0160774762748\r\n",
      "5,0.00374813936651,0.000199575786246,0.000221750873607,0.000243925960967,-0.0185965987828,-0.0183649036191,-0.0181346608639\r\n",
      "6,-0.00665966747329,0.000199575786246,0.000221750873607,0.000243925960967,-0.0508461630898,-0.0511754530601,-0.051505805866\r\n",
      "7,-0.00356772681698,0.000199575786246,0.000221750873607,0.000243925960967,-0.0201309152415,-0.0203686015117,-0.0206076827439\r\n",
      "8,0.00530799059197,0.000199575786246,0.000221750873607,0.000243925960967,-0.0245671207153,-0.0243542972237,-0.0241423995855\r\n"
     ]
    }
   ],
   "source": [
    "df1=df[['y','timestamp']]\n",
    "df1['avg_prediction']=df['y'].mean()\n",
    "\n",
    "def get_daily_summary(group):\n",
    "    output=pd.Series({})\n",
    "    output['y']=group['y'].mean()\n",
    "    output['avg_prediction1']=group['avg_prediction'].mean()*0.9\n",
    "    output['avg_prediction2']=group['avg_prediction'].mean()\n",
    "    output['avg_prediction3']=group['avg_prediction'].mean()*1.1\n",
    "    output['r21']=r2_score(group['y'], group['avg_prediction']*0.9)\n",
    "    output['r22']=r2_score(group['y'], group['avg_prediction'])\n",
    "    output['r23']=r2_score(group['y'], group['avg_prediction']*1.1)\n",
    "    return pd.Series(output)\n",
    "\n",
    "df1.groupby('timestamp').apply(get_daily_summary).to_csv('02.Profiling/07.MarketMean.csv')\n",
    "!head 02.Profiling/07.MarketMean.csv"
   ]
  },
  {
   "cell_type": "code",
   "execution_count": 36,
   "metadata": {
    "collapsed": false
   },
   "outputs": [
    {
     "name": "stdout",
     "output_type": "stream",
     "text": [
      "1087\n"
     ]
    }
   ],
   "source": [
    "all_timestamps= df['timestamp'].drop_duplicates().sort_values().tolist()\n",
    "train_timestamp_cutoff=all_timestamps[int(0.6*len(all_timestamps))]\n",
    "print  train_timestamp_cutoff"
   ]
  }
 ],
 "metadata": {
  "kernelspec": {
   "display_name": "Python 2",
   "language": "python",
   "name": "python2"
  },
  "language_info": {
   "codemirror_mode": {
    "name": "ipython",
    "version": 2
   },
   "file_extension": ".py",
   "mimetype": "text/x-python",
   "name": "python",
   "nbconvert_exporter": "python",
   "pygments_lexer": "ipython2",
   "version": "2.7.11"
  }
 },
 "nbformat": 4,
 "nbformat_minor": 0
}
