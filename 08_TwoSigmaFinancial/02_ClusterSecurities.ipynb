{
 "cells": [
  {
   "cell_type": "code",
   "execution_count": 1,
   "metadata": {
    "collapsed": false
   },
   "outputs": [
    {
     "name": "stderr",
     "output_type": "stream",
     "text": [
      "/data/arpit.goel/anacondainstall/lib/python2.7/site-packages/matplotlib/font_manager.py:273: UserWarning: Matplotlib is building the font cache using fc-list. This may take a moment.\n",
      "  warnings.warn('Matplotlib is building the font cache using fc-list. This may take a moment.')\n"
     ]
    }
   ],
   "source": [
    "import pandas as pd\n",
    "import os,h5py\n",
    "import pandas as pd\n",
    "import matplotlib\n",
    "import numpy as np\n",
    "import matplotlib.pyplot as plt\n",
    "from collections import OrderedDict\n",
    "%matplotlib inline  \n",
    "\n",
    "os.chdir('/data/arpit.goel/20_TwoSigmaFinancial')\n",
    "df = pd.read_hdf('01.RawData/train.h5')\n"
   ]
  },
  {
   "cell_type": "code",
   "execution_count": null,
   "metadata": {
    "collapsed": false
   },
   "outputs": [
    {
     "name": "stderr",
     "output_type": "stream",
     "text": [
      "/data/arpit.goel/anacondainstall/lib/python2.7/site-packages/ipykernel/__main__.py:3: SettingWithCopyWarning: \n",
      "A value is trying to be set on a copy of a slice from a DataFrame\n",
      "\n",
      "See the caveats in the documentation: http://pandas.pydata.org/pandas-docs/stable/indexing.html#indexing-view-versus-copy\n",
      "  app.launch_new_instance()\n"
     ]
    },
    {
     "name": "stdout",
     "output_type": "stream",
     "text": [
      "1\n"
     ]
    }
   ],
   "source": [
    "%%time\n",
    "\n",
    "df1 = df[['id','timestamp','y']]\n",
    "df1.sort_values(by=['id','timestamp'],inplace=True)\n",
    "#df1=df1.head(100000)\n",
    "\n",
    "def get_correlation_matrix(name,inputdf1,inputdf2):\n",
    "    inputdf = pd.merge(inputdf1.dropna(how='any'),inputdf2.dropna(how='any'),on='timestamp')\n",
    "    inputdf = pd.DataFrame(inputdf.groupby(['id_x','id_y']).apply(lambda x: x[['y_smooth_x','y_smooth_y']].corr().values[1,0]),columns=['correlation'])\n",
    "    return inputdf\n",
    "    \n",
    "for smooth_window in [1,3,5,10,20,30]:\n",
    "    print smooth_window\n",
    "    df1.loc[:,'y_smooth']=df1.groupby('id')['y'].apply(pd.rolling_mean, smooth_window)\n",
    "    corr_matrix = pd.concat([get_correlation_matrix(name,group,df1) for name, group in df1.groupby('id')])\n",
    "    corr_matrix.to_csv('02.Profiling/03.Corr_%d.csv'%smooth_window)\n"
   ]
  },
  {
   "cell_type": "code",
   "execution_count": null,
   "metadata": {
    "collapsed": true
   },
   "outputs": [],
   "source": []
  }
 ],
 "metadata": {
  "kernelspec": {
   "display_name": "Python 2",
   "language": "python",
   "name": "python2"
  },
  "language_info": {
   "codemirror_mode": {
    "name": "ipython",
    "version": 2
   },
   "file_extension": ".py",
   "mimetype": "text/x-python",
   "name": "python",
   "nbconvert_exporter": "python",
   "pygments_lexer": "ipython2",
   "version": "2.7.11"
  }
 },
 "nbformat": 4,
 "nbformat_minor": 0
}
