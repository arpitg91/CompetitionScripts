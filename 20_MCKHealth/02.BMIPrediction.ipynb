{
 "cells": [
  {
   "cell_type": "code",
   "execution_count": 1,
   "metadata": {},
   "outputs": [],
   "source": [
    "import pandas as pd\n",
    "import numpy as np\n",
    "import os,sys\n",
    "os.chdir('C:/Users/arpit.goel/Documents/Projects/Kaggle/27_MCK_Health')\n",
    "import matplotlib.pyplot as plt\n",
    "%matplotlib inline\n",
    "\n",
    "df_train=pd.read_csv('01.RawData/train_ajEneEa.csv')\n",
    "df_test=pd.read_csv('01.RawData/test_v2akXPA.csv')\n",
    "df_subm=pd.read_csv('01.RawData/sample_submission_1.csv')\n",
    "\n",
    "def get_signals(df1):\n",
    "    df=df1.copy()\n",
    "    gender_sigs=pd.get_dummies(df['gender']).add_prefix('sig_gender_')\n",
    "    work_sigs=pd.get_dummies(df['work_type']).add_prefix('sig_work_')\n",
    "    smoking_sigs=pd.get_dummies(df['smoking_status'].fillna('missing')).add_prefix('sig_smoke_')\n",
    "    df=pd.concat([df,gender_sigs,work_sigs,smoking_sigs],axis=1)\n",
    "    for sig in ['age','hypertension','heart_disease','avg_glucose_level','bmi']:\n",
    "        df['sig_%s'%sig]=df[sig].fillna(-9999)\n",
    "    df['sig_married']=(df['ever_married']=='Yes').astype(np.int8)\n",
    "    df['sig_residence']=(df['Residence_type']=='Urban').astype(np.int8)\n",
    "    df['sig_bmi_missing']=df['bmi'].isnull().astype(np.int8)\n",
    "    output_sigs=[x for x in df.columns if x[:3] in ['sig','str']]\n",
    "    return df[output_sigs]\n",
    "\n",
    "sigs_train=get_signals(df_train)\n",
    "sigs_test=get_signals(df_test)\n"
   ]
  },
  {
   "cell_type": "code",
   "execution_count": 2,
   "metadata": {},
   "outputs": [
    {
     "name": "stdout",
     "output_type": "stream",
     "text": [
      "(47917, 22) (12031, 22)\n"
     ]
    },
    {
     "name": "stderr",
     "output_type": "stream",
     "text": [
      "C:\\Users\\arpit.goel\\AppData\\Local\\Continuum2\\Anaconda2\\lib\\site-packages\\ipykernel_launcher.py:5: SettingWithCopyWarning: \n",
      "A value is trying to be set on a copy of a slice from a DataFrame.\n",
      "Try using .loc[row_indexer,col_indexer] = value instead\n",
      "\n",
      "See the caveats in the documentation: http://pandas.pydata.org/pandas-docs/stable/indexing.html#indexing-view-versus-copy\n",
      "  \"\"\"\n"
     ]
    }
   ],
   "source": [
    "bmi_master=pd.concat([sigs_train,sigs_test])\n",
    "bmi_train=bmi_master[bmi_master['sig_bmi_missing']==0]\n",
    "bmi_test=bmi_master[bmi_master['sig_bmi_missing']==1]\n",
    "\n",
    "bmi_train['sample']=(np.random.random(len(bmi_train))<0.8).astype(np.int8)\n",
    "bmi_test=bmi_train[bmi_train['sample']==0]\n",
    "bmi_train=bmi_train[bmi_train['sample']==1]\n",
    "\n",
    "print bmi_train.shape,bmi_test.shape"
   ]
  },
  {
   "cell_type": "code",
   "execution_count": 3,
   "metadata": {},
   "outputs": [],
   "source": [
    "bmi_idv=[x for x in bmi_train.columns if x[:3] in ['sig'] and 'bmi' not in x]\n"
   ]
  },
  {
   "cell_type": "code",
   "execution_count": 16,
   "metadata": {},
   "outputs": [
    {
     "name": "stdout",
     "output_type": "stream",
     "text": [
      "50 (41.497844417577653, 43.712884613852871, 0.30790046702516816, 0.2915343825613238)\n",
      "100 (41.497844417577653, 43.712884613852871, 0.30790046702516816, 0.2915343825613238)\n",
      "250 (41.497844417577653, 43.712884613852871, 0.30790046702516816, 0.2915343825613238)\n"
     ]
    }
   ],
   "source": [
    "import xgboost as xgb\n",
    "from xgboost.sklearn import XGBRegressor\n",
    "from sklearn.metrics import mean_squared_error,r2_score\n",
    "\n",
    "def train_xgb(clf):\n",
    "    clf.fit(bmi_train[bmi_idv], bmi_train['sig_bmi'].values,eval_metric='rmse')\n",
    "    feat_imp = pd.Series(clf.booster().get_fscore()).sort_values(ascending=False)\n",
    "    a=mean_squared_error(bmi_train['sig_bmi'],clf.predict(bmi_train[bmi_idv]))\n",
    "    b=mean_squared_error(bmi_test['sig_bmi'],clf.predict(bmi_test[bmi_idv]))\n",
    "    c=r2_score(bmi_train['sig_bmi'],clf.predict(bmi_train[bmi_idv]))\n",
    "    d=r2_score(bmi_test['sig_bmi'],clf.predict(bmi_test[bmi_idv]))\n",
    "    return a,b,c,d\n",
    "\n",
    "\n",
    "for param in [50,100,250]:\n",
    "    xgb = XGBRegressor(n_estimators=50, learning_rate=0.2, gamma=0, subsample=1,\n",
    "                               colsample_bytree=1, max_depth=3,min_child_weight=1)\n",
    "    print param,train_xgb(xgb)"
   ]
  },
  {
   "cell_type": "code",
   "execution_count": 4,
   "metadata": {},
   "outputs": [],
   "source": []
  }
 ],
 "metadata": {
  "kernelspec": {
   "display_name": "Python 2",
   "language": "python",
   "name": "python2"
  },
  "language_info": {
   "codemirror_mode": {
    "name": "ipython",
    "version": 2
   },
   "file_extension": ".py",
   "mimetype": "text/x-python",
   "name": "python",
   "nbconvert_exporter": "python",
   "pygments_lexer": "ipython2",
   "version": "2.7.13"
  }
 },
 "nbformat": 4,
 "nbformat_minor": 2
}
