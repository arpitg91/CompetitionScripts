{
 "cells": [
  {
   "cell_type": "code",
   "execution_count": 95,
   "metadata": {},
   "outputs": [],
   "source": [
    "import pandas as pd\n",
    "import numpy as np\n",
    "import os,sys\n",
    "os.chdir('C:/Users/arpit.goel/Documents/Projects/Kaggle/27_MCK_Health')\n",
    "import matplotlib.pyplot as plt\n",
    "from sklearn import cross_validation, metrics   #Additional scklearn functions\n",
    "\n",
    "%matplotlib inline\n",
    "\n",
    "df_train=pd.read_csv('01.RawData/train_ajEneEa.csv')\n",
    "df_test=pd.read_csv('01.RawData/test_v2akXPA.csv')\n",
    "df_subm=pd.read_csv('01.RawData/sample_submission_1.csv')\n",
    "\n",
    "def get_signals(df1):\n",
    "    df=df1.copy()\n",
    "    gender_sigs=pd.get_dummies(df['gender']).add_prefix('sig_gender_')\n",
    "    work_sigs=pd.get_dummies(df['work_type']).add_prefix('sig_work_')\n",
    "    smoking_sigs=pd.get_dummies(df['smoking_status'].fillna('missing')).add_prefix('sig_smoke_')\n",
    "    df=pd.concat([df,gender_sigs,work_sigs,smoking_sigs],axis=1)\n",
    "    df['sig_id1']=df['id']\n",
    "    df['sig_id2']=1.0*df.index/len(df)    \n",
    "    for sig in ['age','hypertension','heart_disease','avg_glucose_level','bmi']:\n",
    "        df['sig_%s'%sig]=df[sig].fillna(-9999)\n",
    "    df['sig_married']=(df['ever_married']=='Yes').astype(np.int8)\n",
    "    df['sig_residence']=(df['Residence_type']=='Urban').astype(np.int8)\n",
    "    df['sig_bmi_missing']=df['bmi'].isnull().astype(np.int8)\n",
    "    output_sigs=[x for x in df.columns if x[:3] in ['sig','str']]\n",
    "    return df[output_sigs]\n",
    "\n",
    "sigs_train=get_signals(df_train)\n",
    "sigs_test=get_signals(df_test)\n",
    "\n",
    "sigs_train['sample']=np.random.random(len(sigs_train))<0.8\n",
    "idv=[x for x in sigs_train.columns if x[:3] in ['sig']]\n",
    "X_ins=sigs_train[sigs_train['sample']==1][idv]\n",
    "X_oos=sigs_train[sigs_train['sample']==0][idv]\n",
    "Y_ins=sigs_train[sigs_train['sample']==1]['stroke']\n",
    "Y_oos=sigs_train[sigs_train['sample']==0]['stroke']"
   ]
  },
  {
   "cell_type": "code",
   "execution_count": 103,
   "metadata": {},
   "outputs": [
    {
     "data": {
      "text/plain": [
       "XGBClassifier(base_score=0.5, colsample_bylevel=1, colsample_bytree=0.45,\n",
       "       gamma=0.0, learning_rate=0.01, max_delta_step=0, max_depth=3,\n",
       "       min_child_weight=1, missing=None, n_estimators=500, nthread=4,\n",
       "       objective='binary:logistic', reg_alpha=0.1, reg_lambda=1,\n",
       "       scale_pos_weight=1, seed=27, silent=True, subsample=0.7)"
      ]
     },
     "execution_count": 103,
     "metadata": {},
     "output_type": "execute_result"
    }
   ],
   "source": [
    "#Train XGBoost for stroke probability\n",
    "import xgboost as xgb\n",
    "from xgboost.sklearn import XGBClassifier\n",
    "\n",
    "clf1 = XGBClassifier( learning_rate =0.01, n_estimators=500, max_depth=3, min_child_weight=1, gamma=0.0, subsample=0.7,\n",
    " colsample_bytree=0.45, reg_alpha=0.1, objective= 'binary:logistic', nthread=4, scale_pos_weight=1, seed=27)\n",
    "clf1.fit(X_ins, Y_ins,eval_metric='auc')\n"
   ]
  },
  {
   "cell_type": "code",
   "execution_count": 96,
   "metadata": {},
   "outputs": [
    {
     "name": "stdout",
     "output_type": "stream",
     "text": [
      "0.882346903909\n",
      "0.86630086271\n"
     ]
    }
   ],
   "source": [
    "#Train Random Forest\n",
    "from sklearn.ensemble import RandomForestClassifier\n",
    "from sklearn import cross_validation, metrics   #Additional scklearn functions\n",
    "\n",
    "clf2=RandomForestClassifier(n_estimators=50,max_depth=5,random_state=1234)\n",
    "clf2.fit(X_ins, Y_ins)\n",
    "\n",
    "print metrics.roc_auc_score(Y_ins, clf2.predict_proba(X_ins)[:,1])\n",
    "print metrics.roc_auc_score(Y_oos, clf2.predict_proba(X_oos)[:,1])"
   ]
  },
  {
   "cell_type": "code",
   "execution_count": 97,
   "metadata": {},
   "outputs": [
    {
     "name": "stdout",
     "output_type": "stream",
     "text": [
      "0.834980925684\n",
      "0.832767923227\n"
     ]
    }
   ],
   "source": [
    "#Train Logistic Regression\n",
    "from sklearn.linear_model import LogisticRegression\n",
    "\n",
    "clf3=LogisticRegression(C=0.1)\n",
    "clf3.fit(X_ins, Y_ins)\n",
    "\n",
    "print metrics.roc_auc_score(Y_ins, clf3.predict_proba(X_ins)[:,1])\n",
    "print metrics.roc_auc_score(Y_oos, clf3.predict_proba(X_oos)[:,1])"
   ]
  },
  {
   "cell_type": "code",
   "execution_count": 101,
   "metadata": {},
   "outputs": [
    {
     "name": "stdout",
     "output_type": "stream",
     "text": [
      "0.6190588966\n",
      "0.555016165566\n"
     ]
    }
   ],
   "source": [
    "from sklearn.neighbors import KNeighborsClassifier\n",
    "\n",
    "clf4=KNeighborsClassifier(n_neighbors=1000)\n",
    "clf4.fit(X_ins, Y_ins)\n",
    "print metrics.roc_auc_score(Y_ins, clf4.predict_proba(X_ins)[:,1])\n",
    "print metrics.roc_auc_score(Y_oos, clf4.predict_proba(X_oos)[:,1])"
   ]
  },
  {
   "cell_type": "code",
   "execution_count": 102,
   "metadata": {},
   "outputs": [
    {
     "name": "stdout",
     "output_type": "stream",
     "text": [
      "0.859716993104\n",
      "0.853975269885\n"
     ]
    }
   ],
   "source": [
    "from  sklearn.ensemble import ExtraTreesClassifier\n",
    "clf5=ExtraTreesClassifier(n_estimators=30, max_depth=4,random_state=1234)\n",
    "clf5.fit(X_ins, Y_ins)\n",
    "print metrics.roc_auc_score(Y_ins, clf5.predict_proba(X_ins)[:,1])\n",
    "print metrics.roc_auc_score(Y_oos, clf5.predict_proba(X_oos)[:,1])"
   ]
  },
  {
   "cell_type": "code",
   "execution_count": 107,
   "metadata": {},
   "outputs": [
    {
     "name": "stdout",
     "output_type": "stream",
     "text": [
      "0.87766130865\n",
      "0.87394730219\n"
     ]
    }
   ],
   "source": [
    "print metrics.roc_auc_score(Y_ins, clf1.predict_proba(X_ins)[:,1])\n",
    "print metrics.roc_auc_score(Y_oos, clf1.predict_proba(X_oos)[:,1])"
   ]
  },
  {
   "cell_type": "code",
   "execution_count": 105,
   "metadata": {
    "collapsed": true
   },
   "outputs": [],
   "source": [
    "pred=[]\n",
    "for clf in [clf1,clf2,clf5]:\n",
    "    pred.append(clf.predict_proba(X_oos)[:,1])\n",
    "    "
   ]
  },
  {
   "cell_type": "code",
   "execution_count": 106,
   "metadata": {},
   "outputs": [
    {
     "name": "stdout",
     "output_type": "stream",
     "text": [
      "[ 1.14109162  0.          0.        ]\n"
     ]
    },
    {
     "name": "stderr",
     "output_type": "stream",
     "text": [
      "C:\\Users\\arpit.goel\\AppData\\Local\\Continuum2\\Anaconda2\\lib\\site-packages\\ipykernel_launcher.py:4: UserWarning: With alpha=0, this algorithm does not converge well. You are advised to use the LinearRegression estimator\n",
      "  after removing the cwd from sys.path.\n"
     ]
    }
   ],
   "source": [
    "from sklearn.linear_model import Lasso\n",
    "\n",
    "reg=Lasso(positive=True,alpha=0,fit_intercept=False)\n",
    "reg.fit(np.array(pred).T,Y_oos)\n",
    "print reg.coef_"
   ]
  },
  {
   "cell_type": "code",
   "execution_count": 90,
   "metadata": {},
   "outputs": [
    {
     "data": {
      "text/plain": [
       "sig_gender_Female              0.588915\n",
       "sig_gender_Male                0.410912\n",
       "sig_gender_Other               0.000172\n",
       "sig_work_Govt_job              0.125539\n",
       "sig_work_Never_worked          0.004025\n",
       "sig_work_Private               0.571063\n",
       "sig_work_Self-employed         0.156184\n",
       "sig_work_children              0.143190\n",
       "sig_smoke_formerly smoked      0.172684\n",
       "sig_smoke_missing              0.306273\n",
       "sig_smoke_never smoked         0.370063\n",
       "sig_smoke_smokes               0.150980\n",
       "sig_age                       42.202634\n",
       "sig_hypertension               0.093428\n",
       "sig_heart_disease              0.046628\n",
       "sig_avg_glucose_level        104.582566\n",
       "sig_bmi                       28.605517\n",
       "sig_married                    0.644426\n",
       "sig_residence                  0.501754\n",
       "sig_bmi_missing                0.033778\n",
       "dtype: float64"
      ]
     },
     "execution_count": 90,
     "metadata": {},
     "output_type": "execute_result"
    }
   ],
   "source": [
    "import pandas as pd\n",
    "import numpy as np\n",
    "import os,sys\n",
    "os.chdir('C:/Users/arpit.goel/Documents/Projects/Kaggle/27_MCK_Health')\n",
    "import matplotlib.pyplot as plt\n",
    "from sklearn import cross_validation, metrics   #Additional scklearn functions\n",
    "\n",
    "%matplotlib inline\n",
    "\n",
    "df_train=pd.read_csv('01.RawData/train_ajEneEa.csv')\n",
    "df_test=pd.read_csv('01.RawData/test_v2akXPA.csv')\n",
    "df_subm=pd.read_csv('01.RawData/sample_submission_1.csv')\n",
    "\n",
    "def get_signals(df1):\n",
    "    df=df1.copy()\n",
    "    gender_sigs=pd.get_dummies(df['gender']).add_prefix('sig_gender_')\n",
    "    work_sigs=pd.get_dummies(df['work_type']).add_prefix('sig_work_')\n",
    "    smoking_sigs=pd.get_dummies(df['smoking_status'].fillna('missing')).add_prefix('sig_smoke_')\n",
    "    df=pd.concat([df,gender_sigs,work_sigs,smoking_sigs],axis=1)\n",
    "    for sig in ['age','hypertension','heart_disease','avg_glucose_level','bmi']:\n",
    "        df['sig_%s'%sig]=df[sig].fillna(28.6)\n",
    "    df['sig_married']=(df['ever_married']=='Yes').astype(np.int8)\n",
    "    df['sig_residence']=(df['Residence_type']=='Urban').astype(np.int8)\n",
    "    df['sig_bmi_missing']=df['bmi'].isnull().astype(np.int8)\n",
    "    output_sigs=[x for x in df.columns if x[:3] in ['sig','str']]\n",
    "    return df[output_sigs]\n",
    "\n",
    "sigs_train=get_signals(df_train)\n",
    "sigs_test=get_signals(df_test)\n",
    "\n",
    "sigs_train['sample']=np.random.random(len(sigs_train))<0.8\n",
    "idv=[x for x in sigs_train.columns if x[:3] in ['sig']]\n",
    "X_ins=sigs_train[sigs_train['sample']==1][idv]\n",
    "X_oos=sigs_train[sigs_train['sample']==0][idv]\n",
    "Y_ins=sigs_train[sigs_train['sample']==1]['stroke']\n",
    "Y_oos=sigs_train[sigs_train['sample']==0]['stroke']\n",
    "\n",
    "X_ins.mean()"
   ]
  },
  {
   "cell_type": "code",
   "execution_count": 93,
   "metadata": {},
   "outputs": [
    {
     "ename": "MemoryError",
     "evalue": "",
     "output_type": "error",
     "traceback": [
      "\u001b[1;31m---------------------------------------------------------------------------\u001b[0m",
      "\u001b[1;31mMemoryError\u001b[0m                               Traceback (most recent call last)",
      "\u001b[1;32m<ipython-input-93-02473aa7fdcb>\u001b[0m in \u001b[0;36m<module>\u001b[1;34m()\u001b[0m\n\u001b[0;32m      1\u001b[0m \u001b[0mX\u001b[0m\u001b[1;33m=\u001b[0m\u001b[1;33m(\u001b[0m\u001b[0mX_ins\u001b[0m\u001b[1;33m-\u001b[0m\u001b[0mX_ins\u001b[0m\u001b[1;33m.\u001b[0m\u001b[0mmean\u001b[0m\u001b[1;33m(\u001b[0m\u001b[1;33m)\u001b[0m\u001b[1;33m)\u001b[0m\u001b[1;33m/\u001b[0m\u001b[0mX_ins\u001b[0m\u001b[1;33m.\u001b[0m\u001b[0mstd\u001b[0m\u001b[1;33m(\u001b[0m\u001b[1;33m)\u001b[0m\u001b[1;33m\u001b[0m\u001b[0m\n\u001b[0;32m      2\u001b[0m \u001b[1;32mfrom\u001b[0m \u001b[0msklearn\u001b[0m\u001b[1;33m.\u001b[0m\u001b[0mmanifold\u001b[0m \u001b[1;32mimport\u001b[0m \u001b[0mTSNE\u001b[0m\u001b[1;33m\u001b[0m\u001b[0m\n\u001b[1;32m----> 3\u001b[1;33m \u001b[0mX\u001b[0m \u001b[1;33m=\u001b[0m \u001b[0mTSNE\u001b[0m\u001b[1;33m(\u001b[0m\u001b[0mn_components\u001b[0m\u001b[1;33m=\u001b[0m\u001b[1;36m2\u001b[0m\u001b[1;33m)\u001b[0m\u001b[1;33m.\u001b[0m\u001b[0mfit_transform\u001b[0m\u001b[1;33m(\u001b[0m\u001b[0mX\u001b[0m\u001b[1;33m)\u001b[0m\u001b[1;33m\u001b[0m\u001b[0m\n\u001b[0m",
      "\u001b[1;32mC:\\Users\\arpit.goel\\AppData\\Local\\Continuum2\\Anaconda2\\lib\\site-packages\\sklearn\\manifold\\t_sne.pyc\u001b[0m in \u001b[0;36mfit_transform\u001b[1;34m(self, X, y)\u001b[0m\n\u001b[0;32m    882\u001b[0m             \u001b[0mEmbedding\u001b[0m \u001b[0mof\u001b[0m \u001b[0mthe\u001b[0m \u001b[0mtraining\u001b[0m \u001b[0mdata\u001b[0m \u001b[1;32min\u001b[0m \u001b[0mlow\u001b[0m\u001b[1;33m-\u001b[0m\u001b[0mdimensional\u001b[0m \u001b[0mspace\u001b[0m\u001b[1;33m.\u001b[0m\u001b[1;33m\u001b[0m\u001b[0m\n\u001b[0;32m    883\u001b[0m         \"\"\"\n\u001b[1;32m--> 884\u001b[1;33m         \u001b[0membedding\u001b[0m \u001b[1;33m=\u001b[0m \u001b[0mself\u001b[0m\u001b[1;33m.\u001b[0m\u001b[0m_fit\u001b[0m\u001b[1;33m(\u001b[0m\u001b[0mX\u001b[0m\u001b[1;33m)\u001b[0m\u001b[1;33m\u001b[0m\u001b[0m\n\u001b[0m\u001b[0;32m    885\u001b[0m         \u001b[0mself\u001b[0m\u001b[1;33m.\u001b[0m\u001b[0membedding_\u001b[0m \u001b[1;33m=\u001b[0m \u001b[0membedding\u001b[0m\u001b[1;33m\u001b[0m\u001b[0m\n\u001b[0;32m    886\u001b[0m         \u001b[1;32mreturn\u001b[0m \u001b[0mself\u001b[0m\u001b[1;33m.\u001b[0m\u001b[0membedding_\u001b[0m\u001b[1;33m\u001b[0m\u001b[0m\n",
      "\u001b[1;32mC:\\Users\\arpit.goel\\AppData\\Local\\Continuum2\\Anaconda2\\lib\\site-packages\\sklearn\\manifold\\t_sne.pyc\u001b[0m in \u001b[0;36m_fit\u001b[1;34m(self, X, skip_num_points)\u001b[0m\n\u001b[0;32m    764\u001b[0m                 \u001b[0mneighbors_nn\u001b[0m \u001b[1;33m=\u001b[0m \u001b[0mneighbors_nn\u001b[0m\u001b[1;33m[\u001b[0m\u001b[1;33m:\u001b[0m\u001b[1;33m,\u001b[0m \u001b[1;36m1\u001b[0m\u001b[1;33m:\u001b[0m\u001b[1;33m]\u001b[0m\u001b[1;33m\u001b[0m\u001b[0m\n\u001b[0;32m    765\u001b[0m             P = _joint_probabilities_nn(distances, neighbors_nn,\n\u001b[1;32m--> 766\u001b[1;33m                                         self.perplexity, self.verbose)\n\u001b[0m\u001b[0;32m    767\u001b[0m         \u001b[1;32melse\u001b[0m\u001b[1;33m:\u001b[0m\u001b[1;33m\u001b[0m\u001b[0m\n\u001b[0;32m    768\u001b[0m             \u001b[0mP\u001b[0m \u001b[1;33m=\u001b[0m \u001b[0m_joint_probabilities\u001b[0m\u001b[1;33m(\u001b[0m\u001b[0mdistances\u001b[0m\u001b[1;33m,\u001b[0m \u001b[0mself\u001b[0m\u001b[1;33m.\u001b[0m\u001b[0mperplexity\u001b[0m\u001b[1;33m,\u001b[0m \u001b[0mself\u001b[0m\u001b[1;33m.\u001b[0m\u001b[0mverbose\u001b[0m\u001b[1;33m)\u001b[0m\u001b[1;33m\u001b[0m\u001b[0m\n",
      "\u001b[1;32mC:\\Users\\arpit.goel\\AppData\\Local\\Continuum2\\Anaconda2\\lib\\site-packages\\sklearn\\manifold\\t_sne.pyc\u001b[0m in \u001b[0;36m_joint_probabilities_nn\u001b[1;34m(distances, neighbors, desired_perplexity, verbose)\u001b[0m\n\u001b[0;32m     96\u001b[0m     \u001b[0mm\u001b[0m \u001b[1;33m=\u001b[0m \u001b[1;34m\"All probabilities should be finite\"\u001b[0m\u001b[1;33m\u001b[0m\u001b[0m\n\u001b[0;32m     97\u001b[0m     \u001b[1;32massert\u001b[0m \u001b[0mnp\u001b[0m\u001b[1;33m.\u001b[0m\u001b[0mall\u001b[0m\u001b[1;33m(\u001b[0m\u001b[0mnp\u001b[0m\u001b[1;33m.\u001b[0m\u001b[0misfinite\u001b[0m\u001b[1;33m(\u001b[0m\u001b[0mconditional_P\u001b[0m\u001b[1;33m)\u001b[0m\u001b[1;33m)\u001b[0m\u001b[1;33m,\u001b[0m \u001b[0mm\u001b[0m\u001b[1;33m\u001b[0m\u001b[0m\n\u001b[1;32m---> 98\u001b[1;33m     \u001b[0mP\u001b[0m \u001b[1;33m=\u001b[0m \u001b[0mconditional_P\u001b[0m \u001b[1;33m+\u001b[0m \u001b[0mconditional_P\u001b[0m\u001b[1;33m.\u001b[0m\u001b[0mT\u001b[0m\u001b[1;33m\u001b[0m\u001b[0m\n\u001b[0m\u001b[0;32m     99\u001b[0m     \u001b[0msum_P\u001b[0m \u001b[1;33m=\u001b[0m \u001b[0mnp\u001b[0m\u001b[1;33m.\u001b[0m\u001b[0mmaximum\u001b[0m\u001b[1;33m(\u001b[0m\u001b[0mnp\u001b[0m\u001b[1;33m.\u001b[0m\u001b[0msum\u001b[0m\u001b[1;33m(\u001b[0m\u001b[0mP\u001b[0m\u001b[1;33m)\u001b[0m\u001b[1;33m,\u001b[0m \u001b[0mMACHINE_EPSILON\u001b[0m\u001b[1;33m)\u001b[0m\u001b[1;33m\u001b[0m\u001b[0m\n\u001b[0;32m    100\u001b[0m     \u001b[0mP\u001b[0m \u001b[1;33m=\u001b[0m \u001b[0mnp\u001b[0m\u001b[1;33m.\u001b[0m\u001b[0mmaximum\u001b[0m\u001b[1;33m(\u001b[0m\u001b[0msquareform\u001b[0m\u001b[1;33m(\u001b[0m\u001b[0mP\u001b[0m\u001b[1;33m)\u001b[0m \u001b[1;33m/\u001b[0m \u001b[0msum_P\u001b[0m\u001b[1;33m,\u001b[0m \u001b[0mMACHINE_EPSILON\u001b[0m\u001b[1;33m)\u001b[0m\u001b[1;33m\u001b[0m\u001b[0m\n",
      "\u001b[1;31mMemoryError\u001b[0m: "
     ]
    }
   ],
   "source": [
    "X=(X_ins-X_ins.mean())/X_ins.std()\n",
    "from sklearn.manifold import TSNE\n",
    "X = TSNE(n_components=2).fit_transform(X)\n"
   ]
  },
  {
   "cell_type": "code",
   "execution_count": null,
   "metadata": {
    "collapsed": true
   },
   "outputs": [],
   "source": []
  }
 ],
 "metadata": {
  "kernelspec": {
   "display_name": "Python 2",
   "language": "python",
   "name": "python2"
  },
  "language_info": {
   "codemirror_mode": {
    "name": "ipython",
    "version": 2
   },
   "file_extension": ".py",
   "mimetype": "text/x-python",
   "name": "python",
   "nbconvert_exporter": "python",
   "pygments_lexer": "ipython2",
   "version": "2.7.13"
  }
 },
 "nbformat": 4,
 "nbformat_minor": 2
}
