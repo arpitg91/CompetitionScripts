{
 "cells": [
  {
   "cell_type": "code",
   "execution_count": 1,
   "metadata": {
    "collapsed": true
   },
   "outputs": [],
   "source": [
    "import pandas as pd\n",
    "import numpy as np\n",
    "import os,sys\n",
    "os.chdir('C:/Users/arpit.goel/Documents/Projects/Kaggle/25_KingsOfML')\n",
    "import matplotlib.pyplot as plt\n",
    "%matplotlib inline"
   ]
  },
  {
   "cell_type": "code",
   "execution_count": 2,
   "metadata": {
    "collapsed": true
   },
   "outputs": [],
   "source": [
    "# df_train=pd.read_csv('01.RawData/train.csv')\n",
    "# df_test=pd.read_csv('01.RawData/test_BDIfz5B.csv')\n",
    "# df_cmpgn=pd.read_csv('01.RawData/campaign_data.csv')\n",
    "# df_sample=pd.read_csv('01.RawData/sample_submission_4fcZwvQ.csv')\n",
    "# df_train['send_date']=pd.to_datetime(df_train['send_date'],format='%d-%m-%Y %H:%M')\n",
    "# df_test['send_date']=pd.to_datetime(df_test['send_date'],format='%d-%m-%Y %H:%M')\n",
    "# df_train.sort_values(by=['user_id','send_date'],inplace=True)\n",
    "# df_test.sort_values(by=['user_id','send_date'],inplace=True)\n",
    "# store=pd.HDFStore('01.RawData/DataStore.h5')\n",
    "# store['train']=df_train\n",
    "# store['test']=df_test\n",
    "# store['cmpgn']=df_cmpgn\n",
    "# store['sample']=df_sample\n",
    "# store.close()\n",
    "\n",
    "df_train=pd.read_hdf('01.RawData/DataStore.h5', 'train')\n",
    "df_test=pd.read_hdf('01.RawData/DataStore.h5', 'test')\n",
    "df_cmpgn=pd.read_hdf('01.RawData/DataStore.h5', 'cmpgn')\n",
    "df_sample=pd.read_hdf('01.RawData/DataStore.h5', 'sample')"
   ]
  },
  {
   "cell_type": "code",
   "execution_count": 142,
   "metadata": {},
   "outputs": [
    {
     "data": {
      "text/plain": [
       "'sa'"
      ]
     },
     "execution_count": 142,
     "metadata": {},
     "output_type": "execute_result"
    }
   ],
   "source": [
    "a='07-08-2015 sadd'\n",
    "a[11:13]"
   ]
  },
  {
   "cell_type": "code",
   "execution_count": 133,
   "metadata": {},
   "outputs": [
    {
     "data": {
      "text/html": [
       "<div>\n",
       "<style>\n",
       "    .dataframe thead tr:only-child th {\n",
       "        text-align: right;\n",
       "    }\n",
       "\n",
       "    .dataframe thead th {\n",
       "        text-align: left;\n",
       "    }\n",
       "\n",
       "    .dataframe tbody tr th {\n",
       "        vertical-align: top;\n",
       "    }\n",
       "</style>\n",
       "<table border=\"1\" class=\"dataframe\">\n",
       "  <thead>\n",
       "    <tr style=\"text-align: right;\">\n",
       "      <th></th>\n",
       "      <th>id</th>\n",
       "      <th>user_id</th>\n",
       "      <th>campaign_id</th>\n",
       "      <th>send_date</th>\n",
       "      <th>is_open</th>\n",
       "      <th>is_click</th>\n",
       "    </tr>\n",
       "  </thead>\n",
       "  <tbody>\n",
       "    <tr>\n",
       "      <th>621721</th>\n",
       "      <td>32_5</td>\n",
       "      <td>5</td>\n",
       "      <td>32</td>\n",
       "      <td>2017-07-19 12:02:00</td>\n",
       "      <td>0</td>\n",
       "      <td>0</td>\n",
       "    </tr>\n",
       "    <tr>\n",
       "      <th>38232</th>\n",
       "      <td>53_5</td>\n",
       "      <td>5</td>\n",
       "      <td>53</td>\n",
       "      <td>2017-11-06 22:33:00</td>\n",
       "      <td>0</td>\n",
       "      <td>0</td>\n",
       "    </tr>\n",
       "    <tr>\n",
       "      <th>629867</th>\n",
       "      <td>30_6</td>\n",
       "      <td>6</td>\n",
       "      <td>30</td>\n",
       "      <td>2017-07-05 14:07:00</td>\n",
       "      <td>1</td>\n",
       "      <td>0</td>\n",
       "    </tr>\n",
       "    <tr>\n",
       "      <th>196175</th>\n",
       "      <td>32_6</td>\n",
       "      <td>6</td>\n",
       "      <td>32</td>\n",
       "      <td>2017-07-19 12:13:00</td>\n",
       "      <td>1</td>\n",
       "      <td>0</td>\n",
       "    </tr>\n",
       "    <tr>\n",
       "      <th>439258</th>\n",
       "      <td>34_6</td>\n",
       "      <td>6</td>\n",
       "      <td>34</td>\n",
       "      <td>2017-08-01 22:18:00</td>\n",
       "      <td>0</td>\n",
       "      <td>0</td>\n",
       "    </tr>\n",
       "  </tbody>\n",
       "</table>\n",
       "</div>"
      ],
      "text/plain": [
       "          id  user_id  campaign_id           send_date  is_open  is_click\n",
       "621721  32_5        5           32 2017-07-19 12:02:00        0         0\n",
       "38232   53_5        5           53 2017-11-06 22:33:00        0         0\n",
       "629867  30_6        6           30 2017-07-05 14:07:00        1         0\n",
       "196175  32_6        6           32 2017-07-19 12:13:00        1         0\n",
       "439258  34_6        6           34 2017-08-01 22:18:00        0         0"
      ]
     },
     "execution_count": 133,
     "metadata": {},
     "output_type": "execute_result"
    }
   ],
   "source": [
    "df_train.head()"
   ]
  },
  {
   "cell_type": "code",
   "execution_count": 134,
   "metadata": {},
   "outputs": [
    {
     "data": {
      "text/html": [
       "<div>\n",
       "<style>\n",
       "    .dataframe thead tr:only-child th {\n",
       "        text-align: right;\n",
       "    }\n",
       "\n",
       "    .dataframe thead th {\n",
       "        text-align: left;\n",
       "    }\n",
       "\n",
       "    .dataframe tbody tr th {\n",
       "        vertical-align: top;\n",
       "    }\n",
       "</style>\n",
       "<table border=\"1\" class=\"dataframe\">\n",
       "  <thead>\n",
       "    <tr style=\"text-align: right;\">\n",
       "      <th></th>\n",
       "      <th>id</th>\n",
       "      <th>campaign_id</th>\n",
       "      <th>user_id</th>\n",
       "      <th>send_date</th>\n",
       "    </tr>\n",
       "  </thead>\n",
       "  <tbody>\n",
       "    <tr>\n",
       "      <th>762628</th>\n",
       "      <td>55_5</td>\n",
       "      <td>55</td>\n",
       "      <td>5</td>\n",
       "      <td>2018-01-09 15:35:00</td>\n",
       "    </tr>\n",
       "    <tr>\n",
       "      <th>40347</th>\n",
       "      <td>60_5</td>\n",
       "      <td>60</td>\n",
       "      <td>5</td>\n",
       "      <td>2018-01-11 16:04:00</td>\n",
       "    </tr>\n",
       "    <tr>\n",
       "      <th>624874</th>\n",
       "      <td>66_5</td>\n",
       "      <td>66</td>\n",
       "      <td>5</td>\n",
       "      <td>2018-02-15 15:51:00</td>\n",
       "    </tr>\n",
       "    <tr>\n",
       "      <th>326091</th>\n",
       "      <td>70_5</td>\n",
       "      <td>70</td>\n",
       "      <td>5</td>\n",
       "      <td>2018-02-16 15:32:00</td>\n",
       "    </tr>\n",
       "    <tr>\n",
       "      <th>285170</th>\n",
       "      <td>73_5</td>\n",
       "      <td>73</td>\n",
       "      <td>5</td>\n",
       "      <td>2018-02-22 16:47:00</td>\n",
       "    </tr>\n",
       "  </tbody>\n",
       "</table>\n",
       "</div>"
      ],
      "text/plain": [
       "          id  campaign_id  user_id           send_date\n",
       "762628  55_5           55        5 2018-01-09 15:35:00\n",
       "40347   60_5           60        5 2018-01-11 16:04:00\n",
       "624874  66_5           66        5 2018-02-15 15:51:00\n",
       "326091  70_5           70        5 2018-02-16 15:32:00\n",
       "285170  73_5           73        5 2018-02-22 16:47:00"
      ]
     },
     "execution_count": 134,
     "metadata": {},
     "output_type": "execute_result"
    }
   ],
   "source": [
    "df_test.head()"
   ]
  },
  {
   "cell_type": "code",
   "execution_count": 26,
   "metadata": {},
   "outputs": [],
   "source": [
    "#Get campaign type and campaign rank\n",
    "comm_type=df_cmpgn.set_index('campaign_id')['communication_type']\n",
    "comm_type=comm_type.map(lambda x: 'Upcoming Events' if x in ['Others','Webinar'] else x)\n",
    "comm_type=comm_type.astype('category').cat.codes\n",
    "\n",
    "campaign_dates=pd.concat([df_train[['campaign_id','send_date']],df_test[['campaign_id','send_date']]])\n",
    "campaign_dates=campaign_dates.groupby(['campaign_id'])['send_date'].min().to_frame('first_send_date').reset_index()\n",
    "campaign_dates['campaign_type']=campaign_dates['campaign_id'].map(comm_type)\n",
    "campaign_dates['campaign_rank1']=campaign_dates['first_send_date'].rank()\n",
    "campaign_dates['campaign_rank2']=campaign_dates.groupby(['campaign_type'])['campaign_rank1'].rank()\n",
    "campaign_dates=campaign_dates[['campaign_id','campaign_type','campaign_rank1','campaign_rank2']]\n",
    "campaign_dates.index=campaign_dates.campaign_id"
   ]
  },
  {
   "cell_type": "code",
   "execution_count": 25,
   "metadata": {},
   "outputs": [],
   "source": [
    "#Training Data Signals\n",
    "signal_raw=df_train.copy()\n",
    "signal_raw['rcv']=1\n",
    "signal_raw=pd.merge(signal_raw,campaign_dates,on='campaign_id')\n",
    "\n",
    "#User Signals\n",
    "signals_1=signal_raw.set_index(['user_id','campaign_rank1'])[['rcv','is_open','is_click']]\n",
    "signals_1=signals_1.stack().unstack(1).fillna(0).cumsum(axis=1)\n",
    "cols1=signals_1.columns\n",
    "signals_1=signals_1[cols1[:-1]]\n",
    "signals_1.columns=cols1[1:]\n",
    "signals_1=signals_1.stack().unstack(1).fillna(0)\n",
    "signals_1.columns=['sig_rcv','sig_open','sig_click']\n",
    "\n",
    "#User-Campaign Signals\n",
    "signals_2=signal_raw.set_index(['user_id','campaign_type','campaign_rank2'])[['rcv','is_open','is_click']]\n",
    "signals_2=signals_2.stack().unstack(2).fillna(0).cumsum(axis=1)\n",
    "cols1=signals_2.columns\n",
    "signals_2=signals_2[cols1[:-1]]\n",
    "signals_2.columns=cols1[1:]\n",
    "signals_2=signals_2.stack().unstack(2).fillna(0)\n",
    "signals_2.columns=['sig_rcv_type','sig_open_type','sig_click_type']\n",
    "\n",
    "signal_master=signal_raw[['id','user_id','campaign_id','campaign_rank1','campaign_rank2','is_click','campaign_type']]\n",
    "signal_master=pd.merge(signal_master,signals_1.reset_index(),on=['user_id','campaign_rank1'],how='left')\n",
    "signal_master=pd.merge(signal_master,signals_2.reset_index(),on=['user_id','campaign_type','campaign_rank2'],how='left')\n",
    "signal_master=signal_master.fillna(0).set_index(['user_id','campaign_id','id'])\n",
    "signal_master=pd.concat([signal_master,pd.get_dummies(signal_master['campaign_type'],prefix='sig_cmpgn_type')],axis=1)\n",
    "signal_train=signal_master.drop(labels=['campaign_rank1','campaign_rank2','campaign_type'],axis=1)"
   ]
  },
  {
   "cell_type": "code",
   "execution_count": 55,
   "metadata": {
    "collapsed": true
   },
   "outputs": [],
   "source": [
    "#Test Data Signals\n",
    "\n",
    "#User Signals\n",
    "signals_1=signal_raw.groupby(['user_id'])[['rcv','is_open','is_click']].sum()\n",
    "signals_1.columns=['sig_rcv','sig_open','sig_click']\n",
    "\n",
    "#User-Campaign Signals\n",
    "signals_2=signal_raw.groupby(['user_id','campaign_type'])[['rcv','is_open','is_click']].sum()\n",
    "signals_2.columns=['sig_rcv_type','sig_open_type','sig_click_type']\n",
    "\n",
    "signal_master=df_test[['id','user_id','campaign_id']]\n",
    "signal_master['campaign_type']=signal_master['campaign_id'].map(campaign_dates['campaign_type'])\n",
    "signal_master=pd.merge(signal_master,signals_1.reset_index(),on=['user_id'],how='left')\n",
    "signal_master=pd.merge(signal_master,signals_2.reset_index(),on=['user_id','campaign_type'],how='left')\n",
    "signal_master=signal_master.fillna(0).set_index(['user_id','campaign_id','id'])\n",
    "signal_master=pd.concat([signal_master,pd.get_dummies(signal_master['campaign_type'],prefix='sig_cmpgn_type')],axis=1)\n",
    "signal_test=signal_master.drop(labels=['campaign_type'],axis=1)\n"
   ]
  },
  {
   "cell_type": "code",
   "execution_count": 56,
   "metadata": {
    "collapsed": true
   },
   "outputs": [],
   "source": [
    "#Master Signal Set\n",
    "signal_master=pd.concat([signal_train,signal_test]).fillna(0)"
   ]
  },
  {
   "cell_type": "code",
   "execution_count": 57,
   "metadata": {},
   "outputs": [],
   "source": [
    "#Add Historic Open Rate, Click Rate and clicks per open\n",
    "for sigset in ['','_type']:\n",
    "    signal_master['sig_click_rate%s'%sigset]=1.0*signal_master['sig_click%s'%sigset]/(signal_master['sig_rcv%s'%sigset]+0.0001)\n",
    "    signal_master['sig_open_rate%s'%sigset]=1.0*signal_master['sig_open%s'%sigset]/(signal_master['sig_rcv%s'%sigset]+0.0001)\n",
    "    signal_master['sig_click_per_open%s'%sigset]=1.0*signal_master['sig_click%s'%sigset]/(signal_master['sig_open%s'%sigset]+0.0001)"
   ]
  },
  {
   "cell_type": "code",
   "execution_count": 88,
   "metadata": {},
   "outputs": [],
   "source": [
    "#Add campaign signals from campaign contents\n",
    "import re,string\n",
    "def get_free_text_vars(df,var,label):\n",
    "    df['sig_ft_0_%s'%label]=df[var].astype(np.str).str.len()                                                             # Num characters\n",
    "    df['sig_ft_2_%s'%label]=df[var].astype(np.str).map(lambda x: re.sub('[^#$%&*:;<=>?@\\^_`|~]','',x)).str.len()         # Num Special Characters\n",
    "    df['sig_ft_3_%s'%label]=df[var].astype(np.str).map(lambda x: re.sub('[^0-9]','',x)).str.len()                        # Num numerals\n",
    "    df['sig_ft_4_%s'%label]=df[var].astype(np.str).map(lambda x: re.sub('[^a-z]','',x)).str.len()                        # Num lower case\n",
    "    df['sig_ft_5_%s'%label]=df[var].astype(np.str).map(lambda x: re.sub('[^A-Z]','',x)).str.len()                        # Num upper case\n",
    "    df['sig_ft_6_%s'%label]=df[var].astype(np.str).map(lambda x: re.sub('[^ ]','',x)).str.len()                          # Num spaces\n",
    "    return df\n",
    "\n",
    "cmpgn_sigs=df_cmpgn.set_index(['campaign_id'])\n",
    "cmpgn_sigs=get_free_text_vars(cmpgn_sigs,'subject','sub')\n",
    "cmpgn_sigs=get_free_text_vars(cmpgn_sigs,'email_body','email')\n",
    "cmpgn_sigs.rename(columns={'total_links':'sig_links1','no_of_internal_links':'sig_links2',\n",
    "        'no_of_images':'sig_images','no_of_sections':'sig_sections'},inplace=True)\n",
    "cmpgn_sigs1=cmpgn_sigs[[x for x in cmpgn_sigs.columns if 'sig' in x]]\n",
    "\n",
    "#Add campaign level signals from campaign population\n",
    "cmpgn_sigs=signal_master[['sig_rcv','sig_open','sig_click']].reset_index()\n",
    "cmpgn_sigs['rcv']=1\n",
    "cmpgn_sigs['sig_cmpgn_rcv_0']=1\n",
    "cmpgn_sigs['sig_cmpgn_rcv_1']=(cmpgn_sigs['sig_rcv']>=1).astype(np.int64)\n",
    "cmpgn_sigs['sig_cmpgn_rcv_2']=(cmpgn_sigs['sig_rcv']>=2).astype(np.int64)\n",
    "cmpgn_sigs['sig_cmpgn_open_1']=(cmpgn_sigs['sig_open']>=1).astype(np.int64)\n",
    "cmpgn_sigs['sig_cmpgn_open_2']=(cmpgn_sigs['sig_open']>=2).astype(np.int64)\n",
    "cmpgn_sigs['sig_cmpgn_click_1']=(cmpgn_sigs['sig_click']>=1).astype(np.int64)\n",
    "cmpgn_sigs['sig_cmpgn_click_2']=(cmpgn_sigs['sig_click']>=2).astype(np.int64)\n",
    "\n",
    "vars1=['sig_cmpgn_%s_%d'%(x,y) for x in ['rcv','open','click'] for y in [1,2]]\n",
    "cmpgn_sigs=cmpgn_sigs.groupby('campaign_id')[['rcv','sig_cmpgn_rcv_0']+vars1].sum()\n",
    "for var in vars1:\n",
    "    cmpgn_sigs[var.replace('cmpgn_','cmpgn_rate_')]=1.0*cmpgn_sigs[var]/cmpgn_sigs['rcv']\n",
    "cmpgn_sigs2=cmpgn_sigs[[x for x in cmpgn_sigs.columns if 'sig' in x]]\n",
    "cmpgn_sigs=pd.concat([cmpgn_sigs1,cmpgn_sigs2],axis=1)\n"
   ]
  },
  {
   "cell_type": "code",
   "execution_count": 129,
   "metadata": {},
   "outputs": [],
   "source": [
    "#Add campaign signals to master\n",
    "# signal_master1=pd.merge(signal_master.reset_index(),cmpgn_sigs2,left_on=['campaign_id'],right_index=True)\n",
    "# signal_master1.set_index(['user_id','campaign_id','id'],inplace=True)\n",
    "signal_master1=signal_master"
   ]
  },
  {
   "cell_type": "code",
   "execution_count": 130,
   "metadata": {},
   "outputs": [
    {
     "name": "stdout",
     "output_type": "stream",
     "text": [
      "[(571021, 17), (571021L,), (452170, 17), (452170L,)]\n"
     ]
    }
   ],
   "source": [
    "#Get datasets for modelling. Turn the below parameter to False while subitting.\n",
    "validation=True\n",
    "\n",
    "train_campaigns=range(29,47) if validation==True else range(29,55)\n",
    "valid_campaigns=range(47,55) if validation==True else range(55,81)\n",
    "\n",
    "train=signal_master1[signal_master1.index.get_level_values(1).isin(train_campaigns)]\n",
    "valid=signal_master1[signal_master1.index.get_level_values(1).isin(valid_campaigns)]\n",
    "\n",
    "signals=[x for x in signal_master1.columns if 'sig' in x]\n",
    "train_X=train[signals]\n",
    "train_Y=train['is_click']\n",
    "valid_X=valid[signals]\n",
    "valid_Y=valid['is_click']\n",
    "print [x.shape for x in [train_X,train_Y,valid_X,valid_Y]]"
   ]
  },
  {
   "cell_type": "code",
   "execution_count": 131,
   "metadata": {},
   "outputs": [
    {
     "name": "stdout",
     "output_type": "stream",
     "text": [
      "[10]\ttraining's auc: 0.69308\tvalid_1's auc: 0.642189\n",
      "[20]\ttraining's auc: 0.691394\tvalid_1's auc: 0.641919\n",
      "[30]\ttraining's auc: 0.690767\tvalid_1's auc: 0.643682\n",
      "[40]\ttraining's auc: 0.694249\tvalid_1's auc: 0.645304\n",
      "[50]\ttraining's auc: 0.694325\tvalid_1's auc: 0.646931\n",
      "(1, 0.69432547260203192)\n",
      "(1, 0.64693105572388276)\n"
     ]
    }
   ],
   "source": [
    "from sklearn.metrics import roc_auc_score\n",
    "import lightgbm as lgb\n",
    "\n",
    "lgb_train = lgb.Dataset(train_X, train_Y)\n",
    "if validation==True:\n",
    "    lgb_test = lgb.Dataset(valid_X, valid_Y)\n",
    "    watchlist = [lgb_train,lgb_test]\n",
    "else:\n",
    "    watchlist = [lgb_train]\n",
    "    \n",
    "for param in [1]:\n",
    "    params = {\n",
    "        'learning_rate': 0.001,\n",
    "        'max_depth':5,\n",
    "        'boosting_type': 'gbdt',\n",
    "        'objective': 'binary',\n",
    "        'metric': 'auc',\n",
    "        'num_leaves': 2**4-1,\n",
    "        'verbose': -1,\n",
    "        'data_random_seed': 1,\n",
    "        'bagging_fraction': 0.85, \n",
    "        'bagging_freq': 2,\n",
    "        'feature_fraction': 0.6,\n",
    "        'min_data_in_leaf': 100,\n",
    "    }\n",
    "    \n",
    "    gbm = lgb.train(params,lgb_train,num_boost_round=50,valid_sets=watchlist,verbose_eval=10)\n",
    "    print (param,roc_auc_score(train_Y, gbm.predict(train_X)))\n",
    "    print (param,roc_auc_score(valid_Y, gbm.predict(valid_X)))\n",
    "    \n"
   ]
  },
  {
   "cell_type": "code",
   "execution_count": 121,
   "metadata": {},
   "outputs": [],
   "source": [
    "valid_X['is_click']=gbm.predict(valid_X)\n",
    "valid_X.reset_index()[['id','is_click']].to_csv('03.Submission/05.LGBMCampaign.csv',index=False)\n"
   ]
  },
  {
   "cell_type": "code",
   "execution_count": 127,
   "metadata": {
    "scrolled": true
   },
   "outputs": [
    {
     "name": "stderr",
     "output_type": "stream",
     "text": [
      "C:\\Users\\arpit.goel\\AppData\\Local\\Continuum2\\Anaconda2\\lib\\site-packages\\ipykernel_launcher.py:3: SettingWithCopyWarning: \n",
      "A value is trying to be set on a copy of a slice from a DataFrame.\n",
      "Try using .loc[row_indexer,col_indexer] = value instead\n",
      "\n",
      "See the caveats in the documentation: http://pandas.pydata.org/pandas-docs/stable/indexing.html#indexing-view-versus-copy\n",
      "  This is separate from the ipykernel package so we can avoid doing imports until\n",
      "C:\\Users\\arpit.goel\\AppData\\Local\\Continuum2\\Anaconda2\\lib\\site-packages\\ipykernel_launcher.py:4: SettingWithCopyWarning: \n",
      "A value is trying to be set on a copy of a slice from a DataFrame.\n",
      "Try using .loc[row_indexer,col_indexer] = value instead\n",
      "\n",
      "See the caveats in the documentation: http://pandas.pydata.org/pandas-docs/stable/indexing.html#indexing-view-versus-copy\n",
      "  after removing the cwd from sys.path.\n",
      "C:\\Users\\arpit.goel\\AppData\\Local\\Continuum2\\Anaconda2\\lib\\site-packages\\ipykernel_launcher.py:5: SettingWithCopyWarning: \n",
      "A value is trying to be set on a copy of a slice from a DataFrame.\n",
      "Try using .loc[row_indexer,col_indexer] = value instead\n",
      "\n",
      "See the caveats in the documentation: http://pandas.pydata.org/pandas-docs/stable/indexing.html#indexing-view-versus-copy\n",
      "  \"\"\"\n",
      "C:\\Users\\arpit.goel\\AppData\\Local\\Continuum2\\Anaconda2\\lib\\site-packages\\ipykernel_launcher.py:6: SettingWithCopyWarning: \n",
      "A value is trying to be set on a copy of a slice from a DataFrame.\n",
      "Try using .loc[row_indexer,col_indexer] = value instead\n",
      "\n",
      "See the caveats in the documentation: http://pandas.pydata.org/pandas-docs/stable/indexing.html#indexing-view-versus-copy\n",
      "  \n",
      "C:\\Users\\arpit.goel\\AppData\\Local\\Continuum2\\Anaconda2\\lib\\site-packages\\ipykernel_launcher.py:7: SettingWithCopyWarning: \n",
      "A value is trying to be set on a copy of a slice from a DataFrame.\n",
      "Try using .loc[row_indexer,col_indexer] = value instead\n",
      "\n",
      "See the caveats in the documentation: http://pandas.pydata.org/pandas-docs/stable/indexing.html#indexing-view-versus-copy\n",
      "  import sys\n",
      "C:\\Users\\arpit.goel\\AppData\\Local\\Continuum2\\Anaconda2\\lib\\site-packages\\ipykernel_launcher.py:8: SettingWithCopyWarning: \n",
      "A value is trying to be set on a copy of a slice from a DataFrame.\n",
      "Try using .loc[row_indexer,col_indexer] = value instead\n",
      "\n",
      "See the caveats in the documentation: http://pandas.pydata.org/pandas-docs/stable/indexing.html#indexing-view-versus-copy\n",
      "  \n",
      "C:\\Users\\arpit.goel\\AppData\\Local\\Continuum2\\Anaconda2\\lib\\site-packages\\ipykernel_launcher.py:9: SettingWithCopyWarning: \n",
      "A value is trying to be set on a copy of a slice from a DataFrame.\n",
      "Try using .loc[row_indexer,col_indexer] = value instead\n",
      "\n",
      "See the caveats in the documentation: http://pandas.pydata.org/pandas-docs/stable/indexing.html#indexing-view-versus-copy\n",
      "  if __name__ == '__main__':\n",
      "C:\\Users\\arpit.goel\\AppData\\Local\\Continuum2\\Anaconda2\\lib\\site-packages\\ipykernel_launcher.py:10: SettingWithCopyWarning: \n",
      "A value is trying to be set on a copy of a slice from a DataFrame.\n",
      "Try using .loc[row_indexer,col_indexer] = value instead\n",
      "\n",
      "See the caveats in the documentation: http://pandas.pydata.org/pandas-docs/stable/indexing.html#indexing-view-versus-copy\n",
      "  # Remove the CWD from sys.path while we load stuff.\n"
     ]
    },
    {
     "name": "stdout",
     "output_type": "stream",
     "text": [
      "[5]\ttraining's auc: 0.66944\n",
      "[10]\ttraining's auc: 0.670283\n",
      "[15]\ttraining's auc: 0.670115\n",
      "[20]\ttraining's auc: 0.674219\n",
      "[25]\ttraining's auc: 0.673931\n"
     ]
    }
   ],
   "source": [
    "#Add campaign level signals from campaign population\n",
    "cmpgn_sigs=master[['sum_rcv','sum_is_open','sum_is_click','campaign_id']]\n",
    "cmpgn_sigs['rcv']=1\n",
    "cmpgn_sigs['sig_cmpgn_rcv_0']=1\n",
    "cmpgn_sigs['sig_cmpgn_rcv_1']=(cmpgn_sigs['sum_rcv']>=1).astype(np.int64)\n",
    "cmpgn_sigs['sig_cmpgn_rcv_2']=(cmpgn_sigs['sum_rcv']>=2).astype(np.int64)\n",
    "cmpgn_sigs['sig_cmpgn_open_1']=(cmpgn_sigs['sum_is_open']>=1).astype(np.int64)\n",
    "cmpgn_sigs['sig_cmpgn_open_2']=(cmpgn_sigs['sum_is_open']>=2).astype(np.int64)\n",
    "cmpgn_sigs['sig_cmpgn_click_1']=(cmpgn_sigs['sum_is_click']>=1).astype(np.int64)\n",
    "cmpgn_sigs['sig_cmpgn_click_2']=(cmpgn_sigs['sum_is_click']>=2).astype(np.int64)\n",
    "\n",
    "vars1=['sig_cmpgn_%s_%d'%(x,y) for x in ['rcv','open','click'] for y in [1,2]]\n",
    "cmpgn_sigs=cmpgn_sigs.groupby('campaign_id')[['rcv','sig_cmpgn_rcv_0']+vars1].sum()\n",
    "for var in vars1:\n",
    "    cmpgn_sigs[var.replace('cmpgn_','cmpgn_rate_')]=1.0*cmpgn_sigs[var]/cmpgn_sigs['rcv']\n",
    "cmpgn_sigs2=cmpgn_sigs[[x for x in cmpgn_sigs.columns if 'sig' in x]]\n",
    "cmpgn_sigs=pd.concat([cmpgn_sigs1,cmpgn_sigs2],axis=1)\n",
    "\n",
    "#Add campaign signals to master\n",
    "master=pd.merge(master,cmpgn_sigs2,left_on=['campaign_id'],right_index=True)\n",
    "    \n",
    "def get_train_test_data(valid=True):\n",
    "    signals=[x for x in master.columns if x[:3] in ['sum','com','sig'] or x in ['campaign_rank']]\n",
    "    train_months=[8,9] if valid==True else [8,9,10,11,12]\n",
    "    valid_months=[10,11,12] if valid==True else [13]\n",
    "    train_X=master[master.month.isin(train_months)][signals]\n",
    "    valid_X=master[master.month.isin(valid_months)][signals]\n",
    "    train_Y=master[master.month.isin(train_months)][['is_click','is_open']]\n",
    "    valid_Y=master[master.month.isin(valid_months)][['is_click','is_open']]\n",
    "    return train_X,valid_X,train_Y,valid_Y\n",
    "        \n",
    "master.set_index(['id','user_id','campaign_id'],inplace=True)\n",
    "train_X,valid_X,train_Y,valid_Y=get_train_test_data(valid=False)\n",
    "\n",
    "from sklearn.metrics import roc_auc_score\n",
    "import lightgbm as lgb\n",
    "\n",
    "params = {\n",
    "        'learning_rate': 0.001,\n",
    "        'max_depth':4,\n",
    "        'boosting_type': 'gbdt',\n",
    "        'objective': 'binary',\n",
    "        'metric': 'auc',\n",
    "        'num_leaves': 2**3-1,\n",
    "        'verbose': -1,\n",
    "        'data_random_seed': 1,\n",
    "        'bagging_fraction': 0.7,\n",
    "        'bagging_freq': 5,\n",
    "        'feature_fraction': 0.6,\n",
    "        'min_data_in_leaf': 250,\n",
    "    }\n",
    "\n",
    "lgb_train = lgb.Dataset(train_X, train_Y['is_click'])\n",
    "watchlist = [lgb_train]\n",
    "gbm = lgb.train(params,lgb_train,num_boost_round=25,valid_sets=watchlist,verbose_eval=5)\n",
    "\n",
    "valid_X['is_click']=gbm.predict(valid_X)\n",
    "valid_X.reset_index()[['id','is_click']].to_csv('03.Submission/05.LGBMCampaign.csv',index=False)\n"
   ]
  },
  {
   "cell_type": "code",
   "execution_count": 128,
   "metadata": {
    "collapsed": true
   },
   "outputs": [],
   "source": [
    "valid_X['is_click']=gbm.predict(valid_X)\n",
    "valid_X.reset_index()[['id','is_click']].to_csv('03.Submission/05.LGBMCampaign.csv',index=False)\n"
   ]
  },
  {
   "cell_type": "code",
   "execution_count": 166,
   "metadata": {
    "scrolled": true
   },
   "outputs": [
    {
     "name": "stderr",
     "output_type": "stream",
     "text": [
      "00.Scripts/02.LGBMBase.py:77: SettingWithCopyWarning: \n",
      "A value is trying to be set on a copy of a slice from a DataFrame.\n",
      "Try using .loc[row_indexer,col_indexer] = value instead\n",
      "\n",
      "See the caveats in the documentation: http://pandas.pydata.org/pandas-docs/stable/indexing.html#indexing-view-versus-copy\n",
      "  cmpgn_sigs['rcv']=1\n",
      "00.Scripts/02.LGBMBase.py:78: SettingWithCopyWarning: \n",
      "A value is trying to be set on a copy of a slice from a DataFrame.\n",
      "Try using .loc[row_indexer,col_indexer] = value instead\n",
      "\n",
      "See the caveats in the documentation: http://pandas.pydata.org/pandas-docs/stable/indexing.html#indexing-view-versus-copy\n",
      "  cmpgn_sigs['sig_cmpgn_rcv_0']=1\n",
      "00.Scripts/02.LGBMBase.py:79: SettingWithCopyWarning: \n",
      "A value is trying to be set on a copy of a slice from a DataFrame.\n",
      "Try using .loc[row_indexer,col_indexer] = value instead\n",
      "\n",
      "See the caveats in the documentation: http://pandas.pydata.org/pandas-docs/stable/indexing.html#indexing-view-versus-copy\n",
      "  cmpgn_sigs['sig_cmpgn_rcv_1']=(cmpgn_sigs['sum_rcv']>=1).astype(np.int64)\n",
      "00.Scripts/02.LGBMBase.py:80: SettingWithCopyWarning: \n",
      "A value is trying to be set on a copy of a slice from a DataFrame.\n",
      "Try using .loc[row_indexer,col_indexer] = value instead\n",
      "\n",
      "See the caveats in the documentation: http://pandas.pydata.org/pandas-docs/stable/indexing.html#indexing-view-versus-copy\n",
      "  cmpgn_sigs['sig_cmpgn_rcv_2']=(cmpgn_sigs['sum_rcv']>=2).astype(np.int64)\n",
      "00.Scripts/02.LGBMBase.py:81: SettingWithCopyWarning: \n",
      "A value is trying to be set on a copy of a slice from a DataFrame.\n",
      "Try using .loc[row_indexer,col_indexer] = value instead\n",
      "\n",
      "See the caveats in the documentation: http://pandas.pydata.org/pandas-docs/stable/indexing.html#indexing-view-versus-copy\n",
      "  cmpgn_sigs['sig_cmpgn_open_1']=(cmpgn_sigs['sum_is_open']>=1).astype(np.int64)\n",
      "00.Scripts/02.LGBMBase.py:82: SettingWithCopyWarning: \n",
      "A value is trying to be set on a copy of a slice from a DataFrame.\n",
      "Try using .loc[row_indexer,col_indexer] = value instead\n",
      "\n",
      "See the caveats in the documentation: http://pandas.pydata.org/pandas-docs/stable/indexing.html#indexing-view-versus-copy\n",
      "  cmpgn_sigs['sig_cmpgn_open_2']=(cmpgn_sigs['sum_is_open']>=2).astype(np.int64)\n",
      "00.Scripts/02.LGBMBase.py:83: SettingWithCopyWarning: \n",
      "A value is trying to be set on a copy of a slice from a DataFrame.\n",
      "Try using .loc[row_indexer,col_indexer] = value instead\n",
      "\n",
      "See the caveats in the documentation: http://pandas.pydata.org/pandas-docs/stable/indexing.html#indexing-view-versus-copy\n",
      "  cmpgn_sigs['sig_cmpgn_click_1']=(cmpgn_sigs['sum_is_click']>=1).astype(np.int64)\n",
      "00.Scripts/02.LGBMBase.py:84: SettingWithCopyWarning: \n",
      "A value is trying to be set on a copy of a slice from a DataFrame.\n",
      "Try using .loc[row_indexer,col_indexer] = value instead\n",
      "\n",
      "See the caveats in the documentation: http://pandas.pydata.org/pandas-docs/stable/indexing.html#indexing-view-versus-copy\n",
      "  cmpgn_sigs['sig_cmpgn_click_2']=(cmpgn_sigs['sum_is_click']>=2).astype(np.int64)\n"
     ]
    },
    {
     "name": "stdout",
     "output_type": "stream",
     "text": [
      "[5]\ttraining's auc: 0.675448\n",
      "[10]\ttraining's auc: 0.675422\n",
      "[15]\ttraining's auc: 0.67572\n",
      "[20]\ttraining's auc: 0.676343\n",
      "[25]\ttraining's auc: 0.67631\n"
     ]
    },
    {
     "data": {
      "text/plain": [
       "<matplotlib.figure.Figure at 0x37f1ecf8>"
      ]
     },
     "metadata": {},
     "output_type": "display_data"
    }
   ],
   "source": [
    "%run 00.Scripts/02.LGBMBase.py"
   ]
  },
  {
   "cell_type": "code",
   "execution_count": 196,
   "metadata": {
    "collapsed": true
   },
   "outputs": [],
   "source": [
    "train_X,valid_X,train_Y,valid_Y=get_train_test_data(valid=True)\n"
   ]
  },
  {
   "cell_type": "code",
   "execution_count": 168,
   "metadata": {},
   "outputs": [
    {
     "data": {
      "text/plain": [
       "Index([u'communication_type', u'sum_rcv', u'sum_is_click', u'sum_is_open',\n",
       "       u'sum_rcv_0', u'sum_is_click_0', u'sum_is_open_0', u'sum_rcv_3',\n",
       "       u'sum_is_click_3', u'sum_is_open_3', u'sum_rcv_5', u'sum_is_click_5',\n",
       "       u'sum_is_open_5', u'sum_rcv_2', u'sum_is_click_2', u'sum_is_open_2',\n",
       "       u'sum_rcv_6', u'sum_is_click_6', u'sum_is_open_6', u'sum_rcv_4',\n",
       "       u'sum_is_click_4', u'sum_is_open_4', u'sum_rcv_1', u'sum_is_click_1',\n",
       "       u'sum_is_open_1', u'campaign_rank', u'sum_open_rate', u'sum_click_rate',\n",
       "       u'sum_click_per_open', u'sum_open_rate_0', u'sum_click_rate_0',\n",
       "       u'sum_click_per_open_0', u'sum_open_rate_3', u'sum_click_rate_3',\n",
       "       u'sum_click_per_open_3', u'sum_open_rate_5', u'sum_click_rate_5',\n",
       "       u'sum_click_per_open_5', u'sum_open_rate_2', u'sum_click_rate_2',\n",
       "       u'sum_click_per_open_2', u'sum_open_rate_6', u'sum_click_rate_6',\n",
       "       u'sum_click_per_open_6', u'sum_open_rate_4', u'sum_click_rate_4',\n",
       "       u'sum_click_per_open_4', u'sum_open_rate_1', u'sum_click_rate_1',\n",
       "       u'sum_click_per_open_1', u'sig_links1', u'sig_links2', u'sig_images',\n",
       "       u'sig_sections', u'sig_ft_0_sub', u'sig_ft_2_sub', u'sig_ft_3_sub',\n",
       "       u'sig_ft_4_sub', u'sig_ft_5_sub', u'sig_ft_6_sub', u'sig_ft_0_email',\n",
       "       u'sig_ft_2_email', u'sig_ft_3_email', u'sig_ft_4_email',\n",
       "       u'sig_ft_5_email', u'sig_ft_6_email', u'sig_cmpgn_rcv_0',\n",
       "       u'sig_cmpgn_rcv_1', u'sig_cmpgn_rcv_2', u'sig_cmpgn_open_1',\n",
       "       u'sig_cmpgn_open_2', u'sig_cmpgn_click_1', u'sig_cmpgn_click_2',\n",
       "       u'sig_cmpgn_rate_rcv_1', u'sig_cmpgn_rate_rcv_2',\n",
       "       u'sig_cmpgn_rate_open_1', u'sig_cmpgn_rate_open_2',\n",
       "       u'sig_cmpgn_rate_click_1', u'sig_cmpgn_rate_click_2'],\n",
       "      dtype='object')"
      ]
     },
     "execution_count": 168,
     "metadata": {},
     "output_type": "execute_result"
    }
   ],
   "source": [
    "train_X.columns"
   ]
  },
  {
   "cell_type": "code",
   "execution_count": 197,
   "metadata": {},
   "outputs": [
    {
     "name": "stdout",
     "output_type": "stream",
     "text": [
      "[10]\ttraining's auc: 0.673649\tvalid_1's auc: 0.65377\n",
      "[20]\ttraining's auc: 0.683417\tvalid_1's auc: 0.650811\n",
      "[30]\ttraining's auc: 0.684609\tvalid_1's auc: 0.651076\n",
      "[40]\ttraining's auc: 0.684584\tvalid_1's auc: 0.650841\n",
      "[50]\ttraining's auc: 0.684436\tvalid_1's auc: 0.650986\n",
      "(3, 0.68443648351094821)\n",
      "(3, 0.65098555213929621)\n"
     ]
    }
   ],
   "source": [
    "from sklearn.metrics import roc_auc_score\n",
    "import lightgbm as lgb\n",
    "\n",
    "idv=['communication_type', u'sum_rcv', u'sum_is_click', u'sum_is_open',u'sum_open_rate', u'sum_click_rate',\n",
    "     u'sum_click_per_open']\n",
    "lgb_train = lgb.Dataset(train_X[idv], train_Y['is_click'])\n",
    "lgb_test = lgb.Dataset(valid_X[idv], valid_Y['is_click'])\n",
    "watchlist = [lgb_train,lgb_test]\n",
    "\n",
    "for param in [3]:\n",
    "    params = {\n",
    "        'learning_rate': 0.04,\n",
    "        'max_depth':param,\n",
    "        'boosting_type': 'gbdt',\n",
    "        'objective': 'binary',\n",
    "        'metric': 'auc',\n",
    "        'num_leaves': 2**3-1,\n",
    "        'verbose': -1,\n",
    "        'data_random_seed': 1,\n",
    "        'bagging_fraction': 0.7,\n",
    "        'bagging_freq': 5,\n",
    "        'feature_fraction': 0.6,\n",
    "        'min_data_in_leaf': 250,\n",
    "    }\n",
    "    \n",
    "    gbm = lgb.train(params,lgb_train,num_boost_round=50,valid_sets=watchlist,verbose_eval=10)\n",
    "    print (param,roc_auc_score(train_Y['is_click'], gbm.predict(train_X[idv])))\n",
    "    print (param,roc_auc_score(valid_Y['is_click'], gbm.predict(valid_X[idv])))"
   ]
  },
  {
   "cell_type": "code",
   "execution_count": 199,
   "metadata": {},
   "outputs": [
    {
     "name": "stdout",
     "output_type": "stream",
     "text": [
      "48 0.659423945885\n",
      "50 0.659767440121\n",
      "51 0.68226895284\n",
      "52 0.664032161966\n",
      "53 0.583005505273\n",
      "54 0.661530371877\n"
     ]
    }
   ],
   "source": [
    "valid_Y['tgt']=gbm.predict(valid_X[idv])\n",
    "for name,group in valid_Y.reset_index().groupby('campaign_id'):\n",
    "    print name,roc_auc_score(group['is_click'], group['tgt'])"
   ]
  },
  {
   "cell_type": "code",
   "execution_count": 188,
   "metadata": {},
   "outputs": [
    {
     "name": "stdout",
     "output_type": "stream",
     "text": [
      "[1]\ttraining's auc: 0.631314\tvalid_1's auc: 0.624765\n",
      "[2]\ttraining's auc: 0.678066\tvalid_1's auc: 0.641265\n",
      "[3]\ttraining's auc: 0.711019\tvalid_1's auc: 0.643449\n",
      "[4]\ttraining's auc: 0.703466\tvalid_1's auc: 0.645585\n",
      "[5]\ttraining's auc: 0.708287\tvalid_1's auc: 0.652207\n",
      "(3, 0.7082872185982183)\n",
      "(3, 0.65220742862369541)\n"
     ]
    }
   ],
   "source": [
    "from sklearn.metrics import roc_auc_score\n",
    "import lightgbm as lgb\n",
    "\n",
    "idv=['sum_click_per_open', u'sum_rcv', u'sum_open_rate', u'sum_is_click',u'sig_cmpgn_rate_open_1',u'sig_cmpgn_rate_rcv_1'\n",
    "     ]\n",
    "#\n",
    "# idv=train_X.columns\n",
    "lgb_train = lgb.Dataset(train_X[idv], train_Y['is_click'])\n",
    "lgb_test = lgb.Dataset(valid_X[idv], valid_Y['is_click'])\n",
    "watchlist = [lgb_train,lgb_test]\n",
    "\n",
    "for param in [3]:\n",
    "    params = {\n",
    "        'learning_rate': 0.04,\n",
    "        'max_depth':param,\n",
    "        'boosting_type': 'gbdt',\n",
    "        'objective': 'binary',\n",
    "        'metric': 'auc',\n",
    "        'num_leaves': 2**3-1,\n",
    "        'verbose': -1,\n",
    "        'data_random_seed': 1,\n",
    "        'bagging_fraction': 0.7,\n",
    "        'bagging_freq': 5,\n",
    "        'feature_fraction': 0.6,\n",
    "        'min_data_in_leaf': 250,\n",
    "    }\n",
    "    \n",
    "    gbm = lgb.train(params,lgb_train,num_boost_round=5,valid_sets=watchlist,verbose_eval=1)\n",
    "    print (param,roc_auc_score(train_Y['is_click'], gbm.predict(train_X[idv])))\n",
    "    print (param,roc_auc_score(valid_Y['is_click'], gbm.predict(valid_X[idv])))"
   ]
  },
  {
   "cell_type": "code",
   "execution_count": 189,
   "metadata": {},
   "outputs": [
    {
     "data": {
      "text/plain": [
       "sum_open_rate            7\n",
       "sum_is_click             6\n",
       "sum_click_per_open       5\n",
       "sig_cmpgn_rate_rcv_1     4\n",
       "sig_cmpgn_rate_open_1    4\n",
       "sum_rcv                  4\n",
       "dtype: int32"
      ]
     },
     "execution_count": 189,
     "metadata": {},
     "output_type": "execute_result"
    }
   ],
   "source": [
    "pd.Series(gbm.feature_importance(),index=idv).sort_values(ascending=False)"
   ]
  },
  {
   "cell_type": "code",
   "execution_count": 190,
   "metadata": {},
   "outputs": [
    {
     "name": "stdout",
     "output_type": "stream",
     "text": [
      "0.500499652597\n",
      "0.505578653249\n"
     ]
    }
   ],
   "source": [
    "from sklearn.linear_model import LogisticRegression\n",
    "clf=LogisticRegression()\n",
    "clf.fit(train_X[idv], train_Y['is_click'])\n",
    "print (roc_auc_score(train_Y['is_click'], clf.predict(train_X[idv])))\n",
    "print (roc_auc_score(valid_Y['is_click'], clf.predict(valid_X[idv])))"
   ]
  },
  {
   "cell_type": "code",
   "execution_count": 195,
   "metadata": {},
   "outputs": [
    {
     "name": "stdout",
     "output_type": "stream",
     "text": [
      "[10]\ttraining's auc: 0.659333\n",
      "[20]\ttraining's auc: 0.66588\n",
      "[30]\ttraining's auc: 0.666205\n",
      "[40]\ttraining's auc: 0.666083\n",
      "[50]\ttraining's auc: 0.666263\n"
     ]
    }
   ],
   "source": [
    "from sklearn.metrics import roc_auc_score\n",
    "import lightgbm as lgb\n",
    "\n",
    "params = {\n",
    "        'learning_rate': 0.04,\n",
    "        'max_depth':3,\n",
    "        'boosting_type': 'gbdt',\n",
    "        'objective': 'binary',\n",
    "        'metric': 'auc',\n",
    "        'num_leaves': 2**3-1,\n",
    "        'verbose': -1,\n",
    "        'data_random_seed': 1,\n",
    "        'bagging_fraction': 0.7,\n",
    "        'bagging_freq': 5,\n",
    "        'feature_fraction': 0.6,\n",
    "        'min_data_in_leaf': 250,\n",
    "    }\n",
    "\n",
    "idv=['communication_type', u'sum_rcv', u'sum_is_click', u'sum_is_open',u'sum_open_rate', u'sum_click_rate',\n",
    "     u'sum_click_per_open']\n",
    "#\n",
    "# idv=train_X.columns\n",
    "lgb_train = lgb.Dataset(train_X[idv], train_Y['is_click'])\n",
    "watchlist = [lgb_train]\n",
    "gbm = lgb.train(params,lgb_train,num_boost_round=50,valid_sets=watchlist,verbose_eval=10)\n",
    "\n",
    "valid_X['is_click']=gbm.predict(valid_X[idv])\n",
    "valid_X.reset_index()[['id','is_click']].to_csv('03.Submission/07.LGBMTest1.csv',index=False)\n"
   ]
  },
  {
   "cell_type": "code",
   "execution_count": 214,
   "metadata": {},
   "outputs": [],
   "source": [
    "t1=df_train[df_train['campaign_id'].isin([49,41])]\n",
    "t1=t1.set_index(['user_id','campaign_id'])[['rcv','is_open','is_click']].unstack().fillna(0)\n",
    "t1.columns=t1.columns.get_level_values(0)+'_'+t1.columns.get_level_values(1).astype(str)\n",
    "t1.reset_index().groupby(t1.columns.tolist())['user_id'].count().to_frame('count').to_clipboard()\n"
   ]
  },
  {
   "cell_type": "code",
   "execution_count": 234,
   "metadata": {},
   "outputs": [],
   "source": [
    "t1=df_train.copy()\n",
    "t1['key']=t1.user_id.map(lambda x: '%07d'%(x))\n",
    "t1['key']=t1['key'].str[5]\n",
    "t1['key']=t1['send_date'].dt.minute\n",
    "# t1['key']=t1['key'].str[5]\n",
    "t1.groupby(['key','campaign_id']).apply(lambda x: pd.Series({'rcv':x['rcv'].sum(),'click_rate':x['is_click'].mean()})).to_clipboard()"
   ]
  },
  {
   "cell_type": "code",
   "execution_count": 235,
   "metadata": {},
   "outputs": [
    {
     "ename": "KeyError",
     "evalue": "'is_click'",
     "output_type": "error",
     "traceback": [
      "\u001b[1;31m---------------------------------------------------------------------------\u001b[0m",
      "\u001b[1;31mKeyError\u001b[0m                                  Traceback (most recent call last)",
      "\u001b[1;32mC:\\Users\\arpit.goel\\Documents\\Projects\\Kaggle\\25_KingsOfML\\00.Scripts\\05.LGBMSelectedVars.py\u001b[0m in \u001b[0;36m<module>\u001b[1;34m()\u001b[0m\n\u001b[0;32m     83\u001b[0m     }\n\u001b[0;32m     84\u001b[0m \u001b[1;33m\u001b[0m\u001b[0m\n\u001b[1;32m---> 85\u001b[1;33m \u001b[0mlgb_train\u001b[0m \u001b[1;33m=\u001b[0m \u001b[0mlgb\u001b[0m\u001b[1;33m.\u001b[0m\u001b[0mDataset\u001b[0m\u001b[1;33m(\u001b[0m\u001b[0mtrain_X\u001b[0m\u001b[1;33m,\u001b[0m \u001b[0mtrain_Y\u001b[0m\u001b[1;33m[\u001b[0m\u001b[1;34m'is_click'\u001b[0m\u001b[1;33m]\u001b[0m\u001b[1;33m)\u001b[0m\u001b[1;33m\u001b[0m\u001b[0m\n\u001b[0m\u001b[0;32m     86\u001b[0m \u001b[0mwatchlist\u001b[0m \u001b[1;33m=\u001b[0m \u001b[1;33m[\u001b[0m\u001b[0mlgb_train\u001b[0m\u001b[1;33m]\u001b[0m\u001b[1;33m\u001b[0m\u001b[0m\n\u001b[0;32m     87\u001b[0m \u001b[0mgbm\u001b[0m \u001b[1;33m=\u001b[0m \u001b[0mlgb\u001b[0m\u001b[1;33m.\u001b[0m\u001b[0mtrain\u001b[0m\u001b[1;33m(\u001b[0m\u001b[0mparams\u001b[0m\u001b[1;33m,\u001b[0m\u001b[0mlgb_train\u001b[0m\u001b[1;33m,\u001b[0m\u001b[0mnum_boost_round\u001b[0m\u001b[1;33m=\u001b[0m\u001b[1;36m25\u001b[0m\u001b[1;33m,\u001b[0m\u001b[0mvalid_sets\u001b[0m\u001b[1;33m=\u001b[0m\u001b[0mwatchlist\u001b[0m\u001b[1;33m,\u001b[0m\u001b[0mverbose_eval\u001b[0m\u001b[1;33m=\u001b[0m\u001b[1;36m5\u001b[0m\u001b[1;33m)\u001b[0m\u001b[1;33m\u001b[0m\u001b[0m\n",
      "\u001b[1;32mC:\\Users\\arpit.goel\\AppData\\Local\\Continuum2\\Anaconda2\\lib\\site-packages\\pandas\\core\\series.pyc\u001b[0m in \u001b[0;36m__getitem__\u001b[1;34m(self, key)\u001b[0m\n\u001b[0;32m    599\u001b[0m         \u001b[0mkey\u001b[0m \u001b[1;33m=\u001b[0m \u001b[0mcom\u001b[0m\u001b[1;33m.\u001b[0m\u001b[0m_apply_if_callable\u001b[0m\u001b[1;33m(\u001b[0m\u001b[0mkey\u001b[0m\u001b[1;33m,\u001b[0m \u001b[0mself\u001b[0m\u001b[1;33m)\u001b[0m\u001b[1;33m\u001b[0m\u001b[0m\n\u001b[0;32m    600\u001b[0m         \u001b[1;32mtry\u001b[0m\u001b[1;33m:\u001b[0m\u001b[1;33m\u001b[0m\u001b[0m\n\u001b[1;32m--> 601\u001b[1;33m             \u001b[0mresult\u001b[0m \u001b[1;33m=\u001b[0m \u001b[0mself\u001b[0m\u001b[1;33m.\u001b[0m\u001b[0mindex\u001b[0m\u001b[1;33m.\u001b[0m\u001b[0mget_value\u001b[0m\u001b[1;33m(\u001b[0m\u001b[0mself\u001b[0m\u001b[1;33m,\u001b[0m \u001b[0mkey\u001b[0m\u001b[1;33m)\u001b[0m\u001b[1;33m\u001b[0m\u001b[0m\n\u001b[0m\u001b[0;32m    602\u001b[0m \u001b[1;33m\u001b[0m\u001b[0m\n\u001b[0;32m    603\u001b[0m             \u001b[1;32mif\u001b[0m \u001b[1;32mnot\u001b[0m \u001b[0mis_scalar\u001b[0m\u001b[1;33m(\u001b[0m\u001b[0mresult\u001b[0m\u001b[1;33m)\u001b[0m\u001b[1;33m:\u001b[0m\u001b[1;33m\u001b[0m\u001b[0m\n",
      "\u001b[1;32mC:\\Users\\arpit.goel\\AppData\\Local\\Continuum2\\Anaconda2\\lib\\site-packages\\pandas\\core\\indexes\\multi.pyc\u001b[0m in \u001b[0;36mget_value\u001b[1;34m(self, series, key)\u001b[0m\n\u001b[0;32m    819\u001b[0m                     \u001b[1;32mraise\u001b[0m \u001b[0mInvalidIndexError\u001b[0m\u001b[1;33m(\u001b[0m\u001b[0mkey\u001b[0m\u001b[1;33m)\u001b[0m\u001b[1;33m\u001b[0m\u001b[0m\n\u001b[0;32m    820\u001b[0m                 \u001b[1;32melse\u001b[0m\u001b[1;33m:\u001b[0m\u001b[1;33m\u001b[0m\u001b[0m\n\u001b[1;32m--> 821\u001b[1;33m                     \u001b[1;32mraise\u001b[0m \u001b[0me1\u001b[0m\u001b[1;33m\u001b[0m\u001b[0m\n\u001b[0m\u001b[0;32m    822\u001b[0m             \u001b[1;32mexcept\u001b[0m \u001b[0mException\u001b[0m\u001b[1;33m:\u001b[0m  \u001b[1;31m# pragma: no cover\u001b[0m\u001b[1;33m\u001b[0m\u001b[0m\n\u001b[0;32m    823\u001b[0m                 \u001b[1;32mraise\u001b[0m \u001b[0me1\u001b[0m\u001b[1;33m\u001b[0m\u001b[0m\n",
      "\u001b[1;31mKeyError\u001b[0m: 'is_click'"
     ]
    },
    {
     "data": {
      "text/plain": [
       "<matplotlib.figure.Figure at 0x6a188978>"
      ]
     },
     "metadata": {},
     "output_type": "display_data"
    }
   ],
   "source": [
    "%run 00.Scripts/05.LGBMSelectedVars.py"
   ]
  },
  {
   "cell_type": "code",
   "execution_count": 237,
   "metadata": {
    "collapsed": true
   },
   "outputs": [],
   "source": [
    "train_X,valid_X,train_Y,valid_Y=get_train_test_data(valid=True)\n",
    "random=np.random.rand(len(train_X))\n",
    "train_X=train_X[()&()]"
   ]
  },
  {
   "cell_type": "code",
   "execution_count": 247,
   "metadata": {},
   "outputs": [
    {
     "name": "stdout",
     "output_type": "stream",
     "text": [
      "[1]\ttraining's auc: 0.655015\tvalid_1's auc: 0.640065\n",
      "[2]\ttraining's auc: 0.658845\tvalid_1's auc: 0.656193\n",
      "[3]\ttraining's auc: 0.658259\tvalid_1's auc: 0.653704\n",
      "[4]\ttraining's auc: 0.659941\tvalid_1's auc: 0.655541\n",
      "[5]\ttraining's auc: 0.659938\tvalid_1's auc: 0.655195\n",
      "[6]\ttraining's auc: 0.664826\tvalid_1's auc: 0.654539\n",
      "[7]\ttraining's auc: 0.665088\tvalid_1's auc: 0.654939\n",
      "[8]\ttraining's auc: 0.664697\tvalid_1's auc: 0.654787\n",
      "[9]\ttraining's auc: 0.666583\tvalid_1's auc: 0.656649\n",
      "[10]\ttraining's auc: 0.667564\tvalid_1's auc: 0.654782\n",
      "(1, 0.66756442094074331)\n",
      "(1, 0.65478172737956553)\n"
     ]
    }
   ],
   "source": [
    "from sklearn.metrics import roc_auc_score\n",
    "import lightgbm as lgb\n",
    "\n",
    "idv=['sum_click_per_open', u'sum_rcv', u'sum_open_rate', u'sum_is_click',u'sig_cmpgn_rate_open_1',u'sig_cmpgn_rate_rcv_1'\n",
    "     ]\n",
    "\n",
    "idv=train_X.columns\n",
    "lgb_train = lgb.Dataset(train_X[idv], train_Y)\n",
    "lgb_test = lgb.Dataset(valid_X[idv], valid_Y)\n",
    "watchlist = [lgb_train,lgb_test]\n",
    "\n",
    "for param in [1]:\n",
    "    params = {\n",
    "        'learning_rate': 0.01,\n",
    "        'max_depth':3,\n",
    "        'boosting_type': 'gbdt',\n",
    "        'objective': 'binary',\n",
    "        'metric': 'auc',\n",
    "        'num_leaves': 2**3-1,\n",
    "        'verbose': -1,\n",
    "        'data_random_seed': 1,\n",
    "        'bagging_fraction': 0.7,\n",
    "        'bagging_freq': 2,\n",
    "        'feature_fraction': 0.6,\n",
    "        'min_data_in_leaf': 250,\n",
    "    }\n",
    "    \n",
    "    gbm = lgb.train(params,lgb_train,num_boost_round=10,valid_sets=watchlist,verbose_eval=1)\n",
    "    print (param,roc_auc_score(train_Y, gbm.predict(train_X[idv])))\n",
    "    print (param,roc_auc_score(valid_Y, gbm.predict(valid_X[idv])))"
   ]
  },
  {
   "cell_type": "code",
   "execution_count": 248,
   "metadata": {},
   "outputs": [
    {
     "name": "stdout",
     "output_type": "stream",
     "text": [
      "communication_type     11\n",
      "ever_click_per_open    10\n",
      "ever_open               8\n",
      "ever_open_rate          7\n",
      "ever_rcv                6\n",
      "ever_click_rate         4\n",
      "last_open               4\n",
      "last_rcv                4\n",
      "last_open_rate          2\n",
      "ever_click              2\n",
      "last_click_rate         1\n",
      "last_click              1\n",
      "last_click_per_open     0\n",
      "dtype: int32\n"
     ]
    }
   ],
   "source": [
    "print pd.Series(gbm.feature_importance(),index=idv).sort_values(ascending=False)"
   ]
  }
 ],
 "metadata": {
  "kernelspec": {
   "display_name": "Python 2",
   "language": "python",
   "name": "python2"
  },
  "language_info": {
   "codemirror_mode": {
    "name": "ipython",
    "version": 2
   },
   "file_extension": ".py",
   "mimetype": "text/x-python",
   "name": "python",
   "nbconvert_exporter": "python",
   "pygments_lexer": "ipython2",
   "version": "2.7.13"
  }
 },
 "nbformat": 4,
 "nbformat_minor": 2
}
