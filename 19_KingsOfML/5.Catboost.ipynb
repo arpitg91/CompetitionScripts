{
 "cells": [
  {
   "cell_type": "code",
   "execution_count": 1,
   "metadata": {
    "collapsed": true
   },
   "outputs": [],
   "source": [
    "import pandas as pd\n",
    "import numpy as np\n",
    "import os,sys\n",
    "os.chdir('C:/Users/arpit.goel/Documents/Projects/Kaggle/25_KingsOfML')\n",
    "import matplotlib.pyplot as plt\n",
    "from catboost import CatBoostClassifier\n",
    "%matplotlib inline"
   ]
  },
  {
   "cell_type": "code",
   "execution_count": 2,
   "metadata": {
    "collapsed": true
   },
   "outputs": [],
   "source": [
    "# df_train=pd.read_csv('01.RawData/train.csv')\n",
    "# df_test=pd.read_csv('01.RawData/test_BDIfz5B.csv')\n",
    "# df_cmpgn=pd.read_csv('01.RawData/campaign_data.csv')\n",
    "# df_sample=pd.read_csv('01.RawData/sample_submission_4fcZwvQ.csv')\n",
    "# df_train['send_date']=pd.to_datetime(df_train['send_date'],format='%d-%m-%Y %H:%M')\n",
    "# df_test['send_date']=pd.to_datetime(df_test['send_date'],format='%d-%m-%Y %H:%M')\n",
    "# df_train.sort_values(by=['user_id','send_date'],inplace=True)\n",
    "# df_test.sort_values(by=['user_id','send_date'],inplace=True)\n",
    "# store=pd.HDFStore('01.RawData/DataStore.h5')\n",
    "# store['train']=df_train\n",
    "# store['test']=df_test\n",
    "# store['cmpgn']=df_cmpgn\n",
    "# store['sample']=df_sample\n",
    "# store.close()\n",
    "\n",
    "df_train=pd.read_hdf('01.RawData/DataStore.h5', 'train')\n",
    "df_test=pd.read_hdf('01.RawData/DataStore.h5', 'test')\n",
    "df_cmpgn=pd.read_hdf('01.RawData/DataStore.h5', 'cmpgn')\n",
    "df_sample=pd.read_hdf('01.RawData/DataStore.h5', 'sample')"
   ]
  },
  {
   "cell_type": "code",
   "execution_count": 8,
   "metadata": {},
   "outputs": [],
   "source": [
    "comm_type=df_cmpgn.set_index('campaign_id')\n",
    "comm_type=comm_type['communication_type'].astype('category').cat.codes\n",
    "df_train['communication_type']=df_train['campaign_id'].map(comm_type)\n",
    "df_test['communication_type']=df_test['campaign_id'].map(comm_type)\n",
    "df_train['weekday']=df_train['send_date'].dt.weekday"
   ]
  },
  {
   "cell_type": "code",
   "execution_count": 13,
   "metadata": {},
   "outputs": [],
   "source": [
    "df_train['weekday']=df_train['send_date'].dt.weekday\n",
    "df_test['weekday']=df_test['send_date'].dt.weekday\n",
    "df_train['hour']=df_train['send_date'].dt.hour\n",
    "df_test['hour']=df_test['send_date'].dt.hour\n",
    "df_train['month']=df_train['send_date'].dt.month\n",
    "df_test['month']=df_test['send_date'].dt.month\n"
   ]
  },
  {
   "cell_type": "code",
   "execution_count": 16,
   "metadata": {
    "collapsed": true
   },
   "outputs": [],
   "source": [
    "master=df_train.reset_index()[['user_id','communication_type','weekday','hour','is_click','month']]\n",
    "train=df_train[df_train['month']<=10]\n",
    "test=df_train[df_train['month']>10]\n"
   ]
  },
  {
   "cell_type": "code",
   "execution_count": null,
   "metadata": {
    "collapsed": true
   },
   "outputs": [],
   "source": [
    "def auc(m, train, test): \n",
    "    return (metrics.roc_auc_score(y_train,m.predict_proba(train)[:,1]),\n",
    "metrics.roc_auc_score(y_test,m.predict_proba(test)[:,1]))\n",
    "\n",
    "params = {'depth': [4, 7, 10],\n",
    "          'learning_rate' : [0.03, 0.1, 0.15],\n",
    "         'l2_leaf_reg': [1,4,9],\n",
    "         'iterations': [300]}\n",
    "cb = cb.CatBoostClassifier()\n",
    "\n",
    "cb_model = GridSearchCV(cb, params, scoring=\"roc_auc\", cv = 3)\n",
    "cb_model.fit(train, y_train)\n",
    "\n",
    "With Categorical features\n",
    "clf = cb.CatBoostClassifier(eval_metric=\"AUC\",one_hot_max_size=31, \\\n",
    "                            depth=10, iterations= 500, l2_leaf_reg= 9, learning_rate= 0.15)\n",
    "clf.fit(train,y_train, cat_features= cat_features_index)\n",
    "auc(clf, train, test)"
   ]
  }
 ],
 "metadata": {
  "kernelspec": {
   "display_name": "Python 2",
   "language": "python",
   "name": "python2"
  },
  "language_info": {
   "codemirror_mode": {
    "name": "ipython",
    "version": 2
   },
   "file_extension": ".py",
   "mimetype": "text/x-python",
   "name": "python",
   "nbconvert_exporter": "python",
   "pygments_lexer": "ipython2",
   "version": "2.7.13"
  }
 },
 "nbformat": 4,
 "nbformat_minor": 2
}
