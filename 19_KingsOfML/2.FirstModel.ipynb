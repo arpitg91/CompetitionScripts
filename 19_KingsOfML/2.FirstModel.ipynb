{
 "cells": [
  {
   "cell_type": "code",
   "execution_count": 1,
   "metadata": {
    "collapsed": true
   },
   "outputs": [],
   "source": [
    "import pandas as pd\n",
    "import numpy as np\n",
    "import os,sys\n",
    "os.chdir('C:/Users/arpit.goel/Documents/Projects/Kaggle/25_KingsOfML')\n",
    "import matplotlib.pyplot as plt\n",
    "%matplotlib inline"
   ]
  },
  {
   "cell_type": "code",
   "execution_count": 2,
   "metadata": {
    "collapsed": true
   },
   "outputs": [],
   "source": [
    "# df_train=pd.read_csv('01.RawData/train.csv')\n",
    "# df_test=pd.read_csv('01.RawData/test_BDIfz5B.csv')\n",
    "# df_cmpgn=pd.read_csv('01.RawData/campaign_data.csv')\n",
    "# df_sample=pd.read_csv('01.RawData/sample_submission_4fcZwvQ.csv')\n",
    "# df_train['send_date']=pd.to_datetime(df_train['send_date'],format='%d-%m-%Y %H:%M')\n",
    "# df_test['send_date']=pd.to_datetime(df_test['send_date'],format='%d-%m-%Y %H:%M')\n",
    "# df_train.sort_values(by=['user_id','send_date'],inplace=True)\n",
    "# df_test.sort_values(by=['user_id','send_date'],inplace=True)\n",
    "# store=pd.HDFStore('01.RawData/DataStore.h5')\n",
    "# store['train']=df_train\n",
    "# store['test']=df_test\n",
    "# store['cmpgn']=df_cmpgn\n",
    "# store['sample']=df_sample\n",
    "# store.close()\n",
    "\n",
    "df_train=pd.read_hdf('01.RawData/DataStore.h5', 'train')\n",
    "df_test=pd.read_hdf('01.RawData/DataStore.h5', 'test')\n",
    "df_cmpgn=pd.read_hdf('01.RawData/DataStore.h5', 'cmpgn')\n",
    "df_sample=pd.read_hdf('01.RawData/DataStore.h5', 'sample')"
   ]
  },
  {
   "cell_type": "code",
   "execution_count": 15,
   "metadata": {},
   "outputs": [],
   "source": [
    "comm_type=df_cmpgn.set_index('campaign_id')\n",
    "comm_type['communication_type']=['communication_type'].astype('category').cat.codes\n",
    "\n",
    "df_train['month']=df_train.send_date.dt.month\n",
    "df_train['rcv']=1\n",
    "df_train['communication_type']=df_train['campaign_id'].map(comm_type)\n",
    "signals_1=df_train.groupby(['user_id','month'])[['rcv','is_click','is_open']].sum().add_prefix('sum_')\n",
    "signals_1=signals_1.stack().unstack(1).fillna(0).cumsum(axis=1).stack().unstack(1).reset_index()\n",
    "signals_1['month']=signals_1['month']+1\n",
    "signals_2=df_train.groupby(['user_id','communication_type','month'])[['rcv','is_click','is_open']].sum().add_prefix('sum_')\n",
    "signals_2=signals_2.stack().unstack(2).fillna(0).cumsum(axis=1).stack().unstack([2,1]).fillna(0)\n",
    "signals_2.columns=signals_2.columns.get_level_values(0)+'_'+signals_2.columns.get_level_values(1).astype(np.str)\n",
    "signals_2=signals_2.reset_index()\n",
    "signals_2['month']=signals_2['month']+1\n",
    "signals_1=pd.merge(signals_1,signals_2,on=['user_id','month'])\n",
    "signals_2=df_train.groupby(['user_id','communication_type','month'])[['rcv','is_click','is_open']].sum().add_prefix('sum_ct_')\n",
    "signals_2=signals_2.stack().unstack(2).fillna(0).cumsum(axis=1).stack().unstack(2).reset_index()\n",
    "signals_2['month']=signals_2['month']+1"
   ]
  },
  {
   "cell_type": "code",
   "execution_count": 90,
   "metadata": {},
   "outputs": [],
   "source": [
    "df_train['source']='train'\n",
    "df_train['month']=df_train['send_date'].dt.month\n",
    "df_test['source']='test'\n",
    "df_test['month']=13\n",
    "master=pd.concat([df_train,df_test])\n",
    "master=pd.merge(master,signals_1,on=['user_id','month'],how='left').fillna(0)\n",
    "master=pd.merge(master,signals_2,on=['user_id','communication_type','month'],how='left').fillna(0)\n",
    "master['campaign_rank']=master.groupby('user_id')['campaign_id'].rank()\n",
    "master=pd.concat([master,pd.get_dummies(master['communication_type'].astype(np.int64),prefix='com')],axis=1)\n",
    "master.set_index(['user_id','campaign_id','id'],inplace=True)\n",
    "\n",
    "sig_sets=[x for x in master.columns if 'sum_rcv' in x]\n",
    "for sig in sig_sets:\n",
    "    master[sig.replace('rcv','open_rate')]=1.0*master[sig.replace('rcv','is_open')]/(master[sig.replace('rcv','rcv')]+0.0001)\n",
    "    master[sig.replace('rcv','click_rate')]=1.0*master[sig.replace('rcv','is_click')]/(master[sig.replace('rcv','rcv')]+0.0001)\n",
    "    master[sig.replace('rcv','click_per_open')]=1.0*master[sig.replace('rcv','is_click')]/(master[sig.replace('rcv','is_open')]+0.0001)"
   ]
  },
  {
   "cell_type": "code",
   "execution_count": 97,
   "metadata": {},
   "outputs": [],
   "source": [
    "def get_train_test_campaigns(valid=True):\n",
    "    train_months=[8,9] if valid==True else [8,9,10,11,12]\n",
    "    valid_months=[10,11,12] if valid==True else [13]\n",
    "    train_campaigns=master[master.month.isin(train_months)].index.get_level_values(1).drop_duplicates()\n",
    "    valid_campaigns=master[master.month.isin(valid_months)].index.get_level_values(1).drop_duplicates()\n",
    "    return train_campaigns.tolist(),valid_campaigns.tolist()\n",
    "  \n",
    "train_campaigns,valid_campaigns=get_train_test_campaigns(valid=True)\n",
    "master=master[master.index.get_level_values(1).isin(train_campaigns+valid_campaigns)]\n",
    "master['ds']=np.where(master.index.get_level_values(1).isin(train_campaigns),'1.Train','2.Valid')\n",
    "master.sort_values(by='ds',inplace=True)"
   ]
  },
  {
   "cell_type": "code",
   "execution_count": 62,
   "metadata": {},
   "outputs": [],
   "source": [
    "#Get campaign level signals\n",
    "from sklearn.feature_extraction.text import CountVectorizer\n",
    "cv=CountVectorizer(binary=True)\n",
    "train_campaigns=train_X.reset_index()['campaign_id'].drop_duplicates()\n",
    "valid_campaigns=valid_X.reset_index()['campaign_id'].drop_duplicates()\n",
    "vocab_train=cv.fit(df_cmpgn[df_cmpgn['campaign_id'].isin(train_campaigns)]['subject']).vocabulary_.keys()\n",
    "vocab_valid=cv.fit(df_cmpgn[df_cmpgn['campaign_id'].isin(valid_campaigns)]['subject']).vocabulary_.keys()\n",
    "vocab_subject=list(set(vocab_train).intersection(set(vocab_valid)))\n",
    "vocab_train=cv.fit(df_cmpgn[df_cmpgn['campaign_id'].isin(train_campaigns)]['email_body']).vocabulary_.keys()\n",
    "vocab_valid=cv.fit(df_cmpgn[df_cmpgn['campaign_id'].isin(valid_campaigns)]['email_body']).vocabulary_.keys()\n",
    "vocab_email=list(set(vocab_train).intersection(set(vocab_valid)))\n",
    "\n"
   ]
  },
  {
   "cell_type": "code",
   "execution_count": 111,
   "metadata": {},
   "outputs": [],
   "source": [
    "import re,string\n",
    "\n",
    "def get_free_text_vars(df,var,label):\n",
    "    df['sig_ft_0_%s'%label]=df[var].astype(np.str).str.len()                                                             # Num characters\n",
    "    df['sig_ft_1_%s'%label]=df[var].astype(np.str).map(lambda x: re.sub('[%s]'%string.printable,'',x)).str.len()         # Num non printable chars\n",
    "    df['sig_ft_2_%s'%label]=df[var].astype(np.str).map(lambda x: re.sub('[^#$%&*:;<=>?@\\^_`|~]','',x)).str.len()         # Num Special Characters\n",
    "    df['sig_ft_3_%s'%label]=df[var].astype(np.str).map(lambda x: re.sub('[^0-9]','',x)).str.len()                        # Num numerals\n",
    "    df['sig_ft_4_%s'%label]=df[var].astype(np.str).map(lambda x: re.sub('[^a-z]','',x)).str.len()                        # Num lower case\n",
    "    df['sig_ft_5_%s'%label]=df[var].astype(np.str).map(lambda x: re.sub('[^A-Z]','',x)).str.len()                        # Num upper case\n",
    "    df['sig_ft_6_%s'%label]=df[var].astype(np.str).map(lambda x: re.sub('[^ ]','',x)).str.len()                          # Num spaces\n",
    "    return df\n",
    "\n",
    "cmpgn_sigs=df_cmpgn.set_index(['campaign_id'])\n",
    "cmpgn_sigs=get_free_text_vars(cmpgn_sigs,'subject','sub')\n",
    "cmpgn_sigs=get_free_text_vars(cmpgn_sigs,'email_body','email')\n",
    "cv=CountVectorizer(binary=True,vocabulary=vocab_subject)\n",
    "bow_1=cv.fit_transform(cmpgn_sigs['subject']).todense()\n",
    "bow_1=pd.DataFrame(bow_1,columns=['sig_sub_%s'%x for x in vocab_subject],index=cmpgn_sigs.index.tolist())\n",
    "cv=CountVectorizer(binary=True,vocabulary=vocab_email)\n",
    "bow_2=cv.fit_transform(cmpgn_sigs['email_body']).todense()\n",
    "bow_2=pd.DataFrame(bow_2,columns=['sig_email_%s'%x for x in vocab_email],index=cmpgn_sigs.index.tolist())\n",
    "cmpgn_sigs=pd.concat([cmpgn_sigs,pd.get_dummies(cmpgn_sigs['communication_type'],prefix='sig_com'),bow_1,bow_2],axis=1)\n",
    "cmpgn_sigs.rename(columns={'total_links':'sig_links1','no_of_internal_links':'sig_links2',\n",
    "        'no_of_images':'sig_images','no_of_sections':'sig_sections'},inplace=True)\n",
    "cmpgn_sigs=cmpgn_sigs[[x for x in cmpgn_sigs.columns if x[:3]=='sig']].to_sparse()\n",
    "cmpgn_sigs=pd.merge(master.index.get_level_values(1).to_series().to_frame(),cmpgn_sigs,left_index=True,right_index=True)\n",
    "cmpgn_sigs=cmpgn_sigs[[x for x in cmpgn_sigs.columns if x[:3]=='sig']].to_sparse()"
   ]
  },
  {
   "cell_type": "code",
   "execution_count": 127,
   "metadata": {
    "scrolled": true
   },
   "outputs": [],
   "source": [
    "from scipy.sparse import coo_matrix,csr_matrix,hstack\n",
    "signals=[x for x in master.columns if x[:3] in ['sum','com'] or x in ['campaign_rank']]\n",
    "X_user_sigs=csr_matrix(master[signals].values)\n",
    "X_cmpgn_sigs=csr_matrix(cmpgn_sigs.values)\n",
    "X_user_dummies=master.index.get_level_values(0).to_series().astype('category').cat.codes\n",
    "X_user_dummies=coo_matrix((np.ones((X_user_dummies.shape)),(np.arange(len(X_user_dummies)),X_user_dummies)))\n",
    "X=csr_matrix(hstack((X_user_sigs,X_cmpgn_sigs,X_user_dummies)))\n",
    "Y=master['is_click']\n",
    "\n",
    "train_X=X[:counts]\n",
    "valid_X=X[counts:]\n",
    "train_Y=Y[:counts]\n",
    "valid_Y=Y[counts:]"
   ]
  },
  {
   "cell_type": "code",
   "execution_count": 145,
   "metadata": {},
   "outputs": [
    {
     "name": "stdout",
     "output_type": "stream",
     "text": [
      "[(407164, 167572), (356582, 167572), (407164L,), (356582L,)]\n"
     ]
    }
   ],
   "source": [
    "print [x.shape for x in [train_X,valid_X,train_Y,valid_Y]]"
   ]
  },
  {
   "cell_type": "code",
   "execution_count": 147,
   "metadata": {},
   "outputs": [
    {
     "name": "stdout",
     "output_type": "stream",
     "text": [
      "[10]\ttraining's auc: 0.695945\tvalid_1's auc: 0.655417\n",
      "[20]\ttraining's auc: 0.697329\tvalid_1's auc: 0.660727\n",
      "[30]\ttraining's auc: 0.698973\tvalid_1's auc: 0.657074\n",
      "[40]\ttraining's auc: 0.699579\tvalid_1's auc: 0.656064\n",
      "[50]\ttraining's auc: 0.699691\tvalid_1's auc: 0.656473\n",
      "(3, 0.69969063178406554)\n",
      "(3, 0.65647291715009859)\n",
      "[10]\ttraining's auc: 0.714288\tvalid_1's auc: 0.6565\n",
      "[20]\ttraining's auc: 0.717214\tvalid_1's auc: 0.655714\n",
      "[30]\ttraining's auc: 0.71471\tvalid_1's auc: 0.654337\n",
      "[40]\ttraining's auc: 0.715157\tvalid_1's auc: 0.654623\n",
      "[50]\ttraining's auc: 0.715641\tvalid_1's auc: 0.656455\n",
      "(5, 0.71564061999816031)\n",
      "(5, 0.65645492896236124)\n",
      "[10]\ttraining's auc: 0.719763\tvalid_1's auc: 0.654531\n",
      "[20]\ttraining's auc: 0.720542\tvalid_1's auc: 0.646745\n",
      "[30]\ttraining's auc: 0.720658\tvalid_1's auc: 0.646161\n",
      "[40]\ttraining's auc: 0.720949\tvalid_1's auc: 0.647588\n",
      "[50]\ttraining's auc: 0.722045\tvalid_1's auc: 0.64803\n",
      "(10, 0.72204541419118551)\n",
      "(10, 0.64802959300334162)\n"
     ]
    }
   ],
   "source": [
    "from sklearn.metrics import roc_auc_score\n",
    "import lightgbm as lgb\n",
    "\n",
    "lgb_train = lgb.Dataset(train_X, train_Y)\n",
    "lgb_test = lgb.Dataset(valid_X, valid_Y)\n",
    "watchlist = [lgb_train,lgb_test]\n",
    "\n",
    "for param in [3,5,10]:\n",
    "    params = {\n",
    "        'learning_rate': 0.04,\n",
    "        'max_depth':param,\n",
    "        'boosting_type': 'gbdt',\n",
    "        'objective': 'binary',\n",
    "        'metric': 'auc',\n",
    "        'num_leaves': 2**5-1,\n",
    "        'verbose': -1,\n",
    "        'data_random_seed': 1,\n",
    "        'bagging_fraction': 0.7,\n",
    "        'bagging_freq': 5,\n",
    "        'feature_fraction': 0.6,\n",
    "        'min_data_in_leaf': 250,\n",
    "    }\n",
    "    \n",
    "    gbm = lgb.train(params,lgb_train,num_boost_round=50,valid_sets=watchlist,verbose_eval=10)\n",
    "    print (param,roc_auc_score(train_Y, gbm.predict(train_X)))\n",
    "    print (param,roc_auc_score(valid_Y, gbm.predict(valid_X)))"
   ]
  },
  {
   "cell_type": "code",
   "execution_count": 44,
   "metadata": {
    "collapsed": true
   },
   "outputs": [],
   "source": [
    "valid_Y['pred']=gbm.predict(valid_X)\n"
   ]
  },
  {
   "cell_type": "code",
   "execution_count": 45,
   "metadata": {},
   "outputs": [
    {
     "data": {
      "text/html": [
       "<div>\n",
       "<style>\n",
       "    .dataframe thead tr:only-child th {\n",
       "        text-align: right;\n",
       "    }\n",
       "\n",
       "    .dataframe thead th {\n",
       "        text-align: left;\n",
       "    }\n",
       "\n",
       "    .dataframe tbody tr th {\n",
       "        vertical-align: top;\n",
       "    }\n",
       "</style>\n",
       "<table border=\"1\" class=\"dataframe\">\n",
       "  <thead>\n",
       "    <tr style=\"text-align: right;\">\n",
       "      <th></th>\n",
       "      <th>is_click</th>\n",
       "      <th>is_open</th>\n",
       "      <th>pred</th>\n",
       "    </tr>\n",
       "    <tr>\n",
       "      <th>campaign_id</th>\n",
       "      <th></th>\n",
       "      <th></th>\n",
       "      <th></th>\n",
       "    </tr>\n",
       "  </thead>\n",
       "  <tbody>\n",
       "    <tr>\n",
       "      <th>48</th>\n",
       "      <td>0.012166</td>\n",
       "      <td>0.051306</td>\n",
       "      <td>0.487938</td>\n",
       "    </tr>\n",
       "    <tr>\n",
       "      <th>50</th>\n",
       "      <td>0.014455</td>\n",
       "      <td>0.049232</td>\n",
       "      <td>0.487959</td>\n",
       "    </tr>\n",
       "    <tr>\n",
       "      <th>51</th>\n",
       "      <td>0.043792</td>\n",
       "      <td>0.314529</td>\n",
       "      <td>0.488435</td>\n",
       "    </tr>\n",
       "    <tr>\n",
       "      <th>52</th>\n",
       "      <td>0.014192</td>\n",
       "      <td>0.048588</td>\n",
       "      <td>0.487940</td>\n",
       "    </tr>\n",
       "    <tr>\n",
       "      <th>53</th>\n",
       "      <td>0.010090</td>\n",
       "      <td>0.036544</td>\n",
       "      <td>0.487961</td>\n",
       "    </tr>\n",
       "    <tr>\n",
       "      <th>54</th>\n",
       "      <td>0.010251</td>\n",
       "      <td>0.201196</td>\n",
       "      <td>0.487946</td>\n",
       "    </tr>\n",
       "  </tbody>\n",
       "</table>\n",
       "</div>"
      ],
      "text/plain": [
       "             is_click   is_open      pred\n",
       "campaign_id                              \n",
       "48           0.012166  0.051306  0.487938\n",
       "50           0.014455  0.049232  0.487959\n",
       "51           0.043792  0.314529  0.488435\n",
       "52           0.014192  0.048588  0.487940\n",
       "53           0.010090  0.036544  0.487961\n",
       "54           0.010251  0.201196  0.487946"
      ]
     },
     "execution_count": 45,
     "metadata": {},
     "output_type": "execute_result"
    }
   ],
   "source": [
    "valid_Y.groupby(valid_X.index.get_level_values(1)).mean()"
   ]
  },
  {
   "cell_type": "code",
   "execution_count": 151,
   "metadata": {},
   "outputs": [
    {
     "name": "stdout",
     "output_type": "stream",
     "text": [
      "[5]\ttraining's auc: 0.670657\n",
      "[10]\ttraining's auc: 0.673225\n",
      "[15]\ttraining's auc: 0.673811\n",
      "[20]\ttraining's auc: 0.674385\n",
      "[25]\ttraining's auc: 0.67453\n",
      "[5]\ttraining's auc: 0.740107\n",
      "[10]\ttraining's auc: 0.744053\n",
      "[15]\ttraining's auc: 0.745894\n",
      "[20]\ttraining's auc: 0.745019\n",
      "[25]\ttraining's auc: 0.750529\n"
     ]
    }
   ],
   "source": [
    "# %run 00.Scripts/02.LGBMBase.py"
   ]
  },
  {
   "cell_type": "code",
   "execution_count": 47,
   "metadata": {
    "scrolled": true
   },
   "outputs": [
    {
     "data": {
      "text/plain": [
       "sum_click_per_open      22\n",
       "sum_rcv                 20\n",
       "sum_is_click            19\n",
       "sum_open_rate           19\n",
       "sum_is_open             16\n",
       "communication_type      14\n",
       "com_2                   14\n",
       "campaign_rank            6\n",
       "sum_click_rate           4\n",
       "com_0                    4\n",
       "sum_rcv_0                3\n",
       "sum_is_open_0            2\n",
       "sum_open_rate_6          2\n",
       "sum_ct_rcv               1\n",
       "sum_click_rate_0         1\n",
       "sum_is_click_3           1\n",
       "sum_rcv_6                1\n",
       "com_6                    1\n",
       "sum_click_rate_2         0\n",
       "sum_rcv_2                0\n",
       "sum_is_click_4           0\n",
       "sum_rcv_4                0\n",
       "sum_is_open_6            0\n",
       "sum_is_click_6           0\n",
       "sum_is_open_2            0\n",
       "sum_is_click_2           0\n",
       "sum_rcv_5                0\n",
       "sum_is_open_5            0\n",
       "sum_is_click_5           0\n",
       "sum_rcv_1                0\n",
       "sum_is_open_3            0\n",
       "sum_rcv_3                0\n",
       "sum_is_click_0           0\n",
       "sum_click_rate_4         0\n",
       "sum_click_per_open_4     0\n",
       "sum_open_rate_1          0\n",
       "sum_is_open_4            0\n",
       "sum_is_open_1            0\n",
       "sum_is_click_1           0\n",
       "sum_open_rate_2          0\n",
       "sum_click_per_open_5     0\n",
       "sum_click_rate_5         0\n",
       "sum_open_rate_5          0\n",
       "sum_click_per_open_3     0\n",
       "sum_click_rate_3         0\n",
       "sum_open_rate_3          0\n",
       "sum_click_per_open_0     0\n",
       "sum_open_rate_0          0\n",
       "sum_click_per_open_2     0\n",
       "sum_click_rate_6         0\n",
       "com_5                    0\n",
       "com_4                    0\n",
       "com_3                    0\n",
       "sum_click_per_open_6     0\n",
       "com_1                    0\n",
       "sum_click_rate_1         0\n",
       "sum_open_rate_4          0\n",
       "sum_ct_is_open           0\n",
       "sum_ct_is_click          0\n",
       "sum_click_per_open_1     0\n",
       "dtype: int32"
      ]
     },
     "execution_count": 47,
     "metadata": {},
     "output_type": "execute_result"
    }
   ],
   "source": [
    "pd.Series(gbm.feature_importance(),index=train_X.columns).sort_values(ascending=False)"
   ]
  },
  {
   "cell_type": "code",
   "execution_count": 146,
   "metadata": {
    "collapsed": true
   },
   "outputs": [],
   "source": [
    "?pd.get_dummies"
   ]
  },
  {
   "cell_type": "code",
   "execution_count": 137,
   "metadata": {},
   "outputs": [
    {
     "name": "stdout",
     "output_type": "stream",
     "text": [
      "(773858L,)\n",
      "count    773858.000000\n",
      "mean          0.207952\n",
      "std           0.058373\n",
      "min           0.175426\n",
      "25%           0.175426\n",
      "50%           0.196661\n",
      "75%           0.218063\n",
      "max           0.604946\n",
      "Name: is_click, dtype: float64\n"
     ]
    }
   ],
   "source": [
    "print valid_X['is_click'].shape\n",
    "print valid_X['is_click'].describe()"
   ]
  }
 ],
 "metadata": {
  "kernelspec": {
   "display_name": "Python 2",
   "language": "python",
   "name": "python2"
  },
  "language_info": {
   "codemirror_mode": {
    "name": "ipython",
    "version": 2
   },
   "file_extension": ".py",
   "mimetype": "text/x-python",
   "name": "python",
   "nbconvert_exporter": "python",
   "pygments_lexer": "ipython2",
   "version": "2.7.13"
  }
 },
 "nbformat": 4,
 "nbformat_minor": 2
}
