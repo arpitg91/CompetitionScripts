{
 "cells": [
  {
   "cell_type": "code",
   "execution_count": 2,
   "metadata": {
    "collapsed": true
   },
   "outputs": [],
   "source": [
    "import pandas as pd\n",
    "import numpy as np\n",
    "import os,sys\n",
    "os.chdir('C:/Users/arpit.goel/Documents/Projects/Kaggle/25_KingsOfML')\n",
    "import matplotlib.pyplot as plt\n",
    "%matplotlib inline"
   ]
  },
  {
   "cell_type": "code",
   "execution_count": 30,
   "metadata": {
    "collapsed": true
   },
   "outputs": [],
   "source": [
    "# df_train=pd.read_csv('01.RawData/train.csv')\n",
    "# df_test=pd.read_csv('01.RawData/test_BDIfz5B.csv')\n",
    "# df_cmpgn=pd.read_csv('01.RawData/campaign_data.csv')\n",
    "# df_sample=pd.read_csv('01.RawData/sample_submission_4fcZwvQ.csv')\n",
    "# df_train['send_date']=pd.to_datetime(df_train['send_date'],format='%d-%m-%Y %H:%M')\n",
    "# df_test['send_date']=pd.to_datetime(df_test['send_date'],format='%d-%m-%Y %H:%M')\n",
    "# df_train.sort_values(by=['user_id','send_date'],inplace=True)\n",
    "# df_test.sort_values(by=['user_id','send_date'],inplace=True)\n",
    "# store=pd.HDFStore('01.RawData/DataStore.h5')\n",
    "# store['train']=df_train\n",
    "# store['test']=df_test\n",
    "# store['cmpgn']=df_cmpgn\n",
    "# store['sample']=df_sample\n",
    "# store.close()"
   ]
  },
  {
   "cell_type": "code",
   "execution_count": 31,
   "metadata": {
    "collapsed": true
   },
   "outputs": [],
   "source": [
    "df_train=pd.read_hdf('01.RawData/DataStore.h5', 'train')\n",
    "df_test=pd.read_hdf('01.RawData/DataStore.h5', 'test')\n",
    "df_cmpgn=pd.read_hdf('01.RawData/DataStore.h5', 'cmpgn')\n",
    "df_sample=pd.read_hdf('01.RawData/DataStore.h5', 'sample')"
   ]
  },
  {
   "cell_type": "code",
   "execution_count": 27,
   "metadata": {},
   "outputs": [
    {
     "name": "stdout",
     "output_type": "stream",
     "text": [
      "(1023191, 6) (773858, 4)\n"
     ]
    }
   ],
   "source": [
    "print df_train.shape,df_test.shape"
   ]
  },
  {
   "cell_type": "code",
   "execution_count": 33,
   "metadata": {},
   "outputs": [
    {
     "name": "stdout",
     "output_type": "stream",
     "text": [
      "168236 198219 145737\n",
      "26 26 0\n"
     ]
    }
   ],
   "source": [
    "#Get unique number of user ID's and campaign ID's in train and test\n",
    "a1=df_train['user_id'].drop_duplicates().shape[0]\n",
    "a2=df_test['user_id'].drop_duplicates().shape[0]\n",
    "a3=df_train['campaign_id'].drop_duplicates().shape[0]\n",
    "a4=df_test['campaign_id'].drop_duplicates().shape[0]\n",
    "a5=a1+a2-pd.concat([df_train['user_id'],df_test['user_id']]).drop_duplicates().shape[0]\n",
    "a6=a3+a4-pd.concat([df_train['campaign_id'],df_test['campaign_id']]).drop_duplicates().shape[0]\n",
    "print a1,a2,a5\n",
    "print a3,a4,a6"
   ]
  },
  {
   "cell_type": "code",
   "execution_count": 7,
   "metadata": {
    "collapsed": true
   },
   "outputs": [],
   "source": [
    "df_train['source']='train'\n",
    "df_test['source']='test'\n",
    "master=pd.concat([df_train,df_test])\n",
    "master['date']=master['send_date'].dt.date\n",
    "master['count']=1"
   ]
  },
  {
   "cell_type": "code",
   "execution_count": 58,
   "metadata": {
    "collapsed": true
   },
   "outputs": [],
   "source": [
    "master.groupby(['date','campaign_id','source'])[['count','is_open','is_click']].sum().to_clipboard()\n"
   ]
  },
  {
   "cell_type": "code",
   "execution_count": 62,
   "metadata": {
    "collapsed": true
   },
   "outputs": [],
   "source": [
    "# df_train.groupby(['user_id'])['is_click'].mean()\n",
    "%run 00.Scripts/01.DefaultOpenClickRate.py"
   ]
  },
  {
   "cell_type": "code",
   "execution_count": 35,
   "metadata": {
    "collapsed": true
   },
   "outputs": [],
   "source": [
    "df_train['campaign_rank']=df_train.groupby('user_id')['send_date'].rank()\n"
   ]
  },
  {
   "cell_type": "code",
   "execution_count": 68,
   "metadata": {
    "collapsed": true
   },
   "outputs": [],
   "source": [
    "df_train['count']=1\n",
    "df_train.groupby(['campaign_rank'])[['count','is_open','is_click']].sum().to_clipboard()\n"
   ]
  },
  {
   "cell_type": "code",
   "execution_count": 73,
   "metadata": {
    "collapsed": true
   },
   "outputs": [],
   "source": [
    "user_details=df_train.groupby(['user_id'])[['is_open','is_click']].sum().add_prefix('user_')\n",
    "user_details=np.clip(user_details,0,1)\n",
    "train1=pd.merge(df_train,user_details,left_on='user_id',right_index=True)"
   ]
  },
  {
   "cell_type": "code",
   "execution_count": 85,
   "metadata": {
    "collapsed": true
   },
   "outputs": [],
   "source": [
    "get_oc_rates=lambda x: pd.Series({'open_rate':1.0*x['is_open'].sum()/x['count'].sum(),'click_rate':1.0*x['is_click'].sum()/x['count'].sum(),'click_per_open':1.0*x['is_click'].sum()/x['is_open'].sum()})\n",
    "cmpgn_sigs0=train1.groupby('campaign_id').apply(get_oc_rates)\n",
    "cmpgn_sigs1=train1[train1['user_is_open']==1].groupby('campaign_id').apply(get_oc_rates).add_prefix('open_user_')\n",
    "cmpgn_sigs2=train1[train1['user_is_click']==1].groupby('campaign_id').apply(get_oc_rates).add_prefix('click_user_')\n",
    "cmpgn_sigs=pd.concat([cmpgn_sigs0,cmpgn_sigs1,cmpgn_sigs2],axis=1)\n"
   ]
  },
  {
   "cell_type": "code",
   "execution_count": 109,
   "metadata": {
    "collapsed": true
   },
   "outputs": [],
   "source": [
    "cmpgn_summary=pd.merge(df_cmpgn,cmpgn_sigs,left_on='campaign_id',right_index=True)\n",
    "cmpgn_summary=pd.concat([cmpgn_summary,pd.get_dummies(cmpgn_summary['communication_type'])],axis=1)\n",
    "cmpgn_summary.corr().to_clipboard()\n"
   ]
  },
  {
   "cell_type": "code",
   "execution_count": 106,
   "metadata": {},
   "outputs": [
    {
     "name": "stdout",
     "output_type": "stream",
     "text": [
      "140 135 37\n",
      "[u'and', u'win', u'is', u'in', u'learning', u'av', u'go', u'newsletter', u'your', u'now', u'hackathons', u'for', u'data', u'opportunities', u'machine', u'to', u'much', u'2018', u'new', u'you', u'worth', u'more', u'datahack', u'business', u'000', u'prizes', u'hackathon', u'coming', u'exciting', u'with', u'on', u'ahead', u'science', u'register', u'us', u'chief', u'the']\n"
     ]
    }
   ],
   "source": [
    "from sklearn.feature_extraction.text import CountVectorizer\n",
    "cv=CountVectorizer(binary=True)\n",
    "vocab_train=cv.fit(df_cmpgn[df_cmpgn['campaign_id']<=54]['subject']).vocabulary_.keys()\n",
    "vocab_test=cv.fit(df_cmpgn[df_cmpgn['campaign_id']>54]['subject']).vocabulary_.keys()\n",
    "vocab=list(set(vocab_train).intersection(set(vocab_test)))\n",
    "print len(vocab_train),len(vocab_test),len(vocab)\n",
    "print vocab\n",
    "\n",
    "# word_freq=pd.DataFrame(cv.transform(cmpgn_summary['subject']).todense(),columns=sorted(cv.vocabulary_.keys())).sum()\n",
    "# cv.transform(cmpgn_summary['subject']).todense()\n",
    "# word_freq.sort_values(ascending=False)"
   ]
  },
  {
   "cell_type": "code",
   "execution_count": 5,
   "metadata": {},
   "outputs": [
    {
     "data": {
      "text/plain": [
       "2    339237\n",
       "3    230228\n",
       "1    204393\n",
       "Name: send_date, dtype: int64"
      ]
     },
     "execution_count": 5,
     "metadata": {},
     "output_type": "execute_result"
    }
   ],
   "source": [
    "df_test['send_date'].dt.month.value_counts()"
   ]
  },
  {
   "cell_type": "code",
   "execution_count": 80,
   "metadata": {},
   "outputs": [
    {
     "data": {
      "text/html": [
       "<div>\n",
       "<style>\n",
       "    .dataframe thead tr:only-child th {\n",
       "        text-align: right;\n",
       "    }\n",
       "\n",
       "    .dataframe thead th {\n",
       "        text-align: left;\n",
       "    }\n",
       "\n",
       "    .dataframe tbody tr th {\n",
       "        vertical-align: top;\n",
       "    }\n",
       "</style>\n",
       "<table border=\"1\" class=\"dataframe\">\n",
       "  <thead>\n",
       "    <tr style=\"text-align: right;\">\n",
       "      <th></th>\n",
       "      <th>click_rate</th>\n",
       "      <th>open_rate</th>\n",
       "    </tr>\n",
       "    <tr>\n",
       "      <th>campaign_id</th>\n",
       "      <th></th>\n",
       "      <th></th>\n",
       "    </tr>\n",
       "  </thead>\n",
       "  <tbody>\n",
       "    <tr>\n",
       "      <th>29</th>\n",
       "      <td>0.016549</td>\n",
       "      <td>0.065009</td>\n",
       "    </tr>\n",
       "    <tr>\n",
       "      <th>30</th>\n",
       "      <td>0.012615</td>\n",
       "      <td>0.141909</td>\n",
       "    </tr>\n",
       "    <tr>\n",
       "      <th>31</th>\n",
       "      <td>0.024436</td>\n",
       "      <td>0.171992</td>\n",
       "    </tr>\n",
       "    <tr>\n",
       "      <th>32</th>\n",
       "      <td>0.010600</td>\n",
       "      <td>0.148440</td>\n",
       "    </tr>\n",
       "    <tr>\n",
       "      <th>33</th>\n",
       "      <td>0.011449</td>\n",
       "      <td>0.203888</td>\n",
       "    </tr>\n",
       "    <tr>\n",
       "      <th>34</th>\n",
       "      <td>0.009807</td>\n",
       "      <td>0.047420</td>\n",
       "    </tr>\n",
       "    <tr>\n",
       "      <th>35</th>\n",
       "      <td>0.043921</td>\n",
       "      <td>0.170590</td>\n",
       "    </tr>\n",
       "    <tr>\n",
       "      <th>36</th>\n",
       "      <td>0.004767</td>\n",
       "      <td>0.131513</td>\n",
       "    </tr>\n",
       "    <tr>\n",
       "      <th>37</th>\n",
       "      <td>0.006482</td>\n",
       "      <td>0.122238</td>\n",
       "    </tr>\n",
       "    <tr>\n",
       "      <th>38</th>\n",
       "      <td>0.007605</td>\n",
       "      <td>0.035398</td>\n",
       "    </tr>\n",
       "    <tr>\n",
       "      <th>39</th>\n",
       "      <td>0.046171</td>\n",
       "      <td>0.352452</td>\n",
       "    </tr>\n",
       "    <tr>\n",
       "      <th>40</th>\n",
       "      <td>0.012028</td>\n",
       "      <td>0.154293</td>\n",
       "    </tr>\n",
       "    <tr>\n",
       "      <th>41</th>\n",
       "      <td>0.014716</td>\n",
       "      <td>0.127423</td>\n",
       "    </tr>\n",
       "    <tr>\n",
       "      <th>42</th>\n",
       "      <td>0.012824</td>\n",
       "      <td>0.053069</td>\n",
       "    </tr>\n",
       "    <tr>\n",
       "      <th>43</th>\n",
       "      <td>0.029851</td>\n",
       "      <td>0.313433</td>\n",
       "    </tr>\n",
       "    <tr>\n",
       "      <th>44</th>\n",
       "      <td>0.011697</td>\n",
       "      <td>0.046990</td>\n",
       "    </tr>\n",
       "    <tr>\n",
       "      <th>45</th>\n",
       "      <td>0.071402</td>\n",
       "      <td>0.373168</td>\n",
       "    </tr>\n",
       "    <tr>\n",
       "      <th>46</th>\n",
       "      <td>0.027566</td>\n",
       "      <td>0.269454</td>\n",
       "    </tr>\n",
       "    <tr>\n",
       "      <th>47</th>\n",
       "      <td>0.016725</td>\n",
       "      <td>0.265425</td>\n",
       "    </tr>\n",
       "    <tr>\n",
       "      <th>48</th>\n",
       "      <td>0.012166</td>\n",
       "      <td>0.051306</td>\n",
       "    </tr>\n",
       "    <tr>\n",
       "      <th>49</th>\n",
       "      <td>0.012758</td>\n",
       "      <td>0.051661</td>\n",
       "    </tr>\n",
       "    <tr>\n",
       "      <th>50</th>\n",
       "      <td>0.014455</td>\n",
       "      <td>0.049232</td>\n",
       "    </tr>\n",
       "    <tr>\n",
       "      <th>51</th>\n",
       "      <td>0.043792</td>\n",
       "      <td>0.314529</td>\n",
       "    </tr>\n",
       "    <tr>\n",
       "      <th>52</th>\n",
       "      <td>0.014192</td>\n",
       "      <td>0.048588</td>\n",
       "    </tr>\n",
       "    <tr>\n",
       "      <th>53</th>\n",
       "      <td>0.010090</td>\n",
       "      <td>0.036544</td>\n",
       "    </tr>\n",
       "    <tr>\n",
       "      <th>54</th>\n",
       "      <td>0.010251</td>\n",
       "      <td>0.201196</td>\n",
       "    </tr>\n",
       "  </tbody>\n",
       "</table>\n",
       "</div>"
      ],
      "text/plain": [
       "             click_rate  open_rate\n",
       "campaign_id                       \n",
       "29             0.016549   0.065009\n",
       "30             0.012615   0.141909\n",
       "31             0.024436   0.171992\n",
       "32             0.010600   0.148440\n",
       "33             0.011449   0.203888\n",
       "34             0.009807   0.047420\n",
       "35             0.043921   0.170590\n",
       "36             0.004767   0.131513\n",
       "37             0.006482   0.122238\n",
       "38             0.007605   0.035398\n",
       "39             0.046171   0.352452\n",
       "40             0.012028   0.154293\n",
       "41             0.014716   0.127423\n",
       "42             0.012824   0.053069\n",
       "43             0.029851   0.313433\n",
       "44             0.011697   0.046990\n",
       "45             0.071402   0.373168\n",
       "46             0.027566   0.269454\n",
       "47             0.016725   0.265425\n",
       "48             0.012166   0.051306\n",
       "49             0.012758   0.051661\n",
       "50             0.014455   0.049232\n",
       "51             0.043792   0.314529\n",
       "52             0.014192   0.048588\n",
       "53             0.010090   0.036544\n",
       "54             0.010251   0.201196"
      ]
     },
     "execution_count": 80,
     "metadata": {},
     "output_type": "execute_result"
    }
   ],
   "source": [
    "get_oc_rates=lambda x: pd.Series({'open_rate':1.0*x['is_open'].sum()/x['count'].sum(),'click_rate':1.0*x['is_click'].sum()/x['count'].sum()})\n",
    "train1.groupby('campaign_id').apply(get_oc_rates)"
   ]
  },
  {
   "cell_type": "code",
   "execution_count": 15,
   "metadata": {},
   "outputs": [],
   "source": [
    "# master_1=pd.merge(master,df_cmpgn[['campaign_id','communication_type']],on='campaign_id')\n",
    "t1=master_1.groupby(['user_id','communication_type'])['count'].sum().unstack()\n",
    "np.clip(t1.reset_index().fillna(0),0,1).groupby(t1.columns.tolist())['user_id'].count().to_clipboard()"
   ]
  },
  {
   "cell_type": "code",
   "execution_count": 36,
   "metadata": {},
   "outputs": [],
   "source": [
    "# master['campaign_rank']=master[['user_id','send_date']].groupby('user_id')['send_date'].rank()\n",
    "# pd.crosstab(df_train['campaign_id'],df_train['campaign_rank']).to_clipboard()\\\n",
    "df_train['count']=1\n",
    "df_train.groupby(['campaign_id','campaign_rank'])[['count','is_open','is_click']].sum().to_clipboard()"
   ]
  },
  {
   "cell_type": "code",
   "execution_count": 47,
   "metadata": {},
   "outputs": [
    {
     "name": "stderr",
     "output_type": "stream",
     "text": [
      "C:\\Users\\arpit.goel\\AppData\\Local\\Continuum2\\Anaconda2\\lib\\site-packages\\ipykernel_launcher.py:4: SettingWithCopyWarning: \n",
      "A value is trying to be set on a copy of a slice from a DataFrame.\n",
      "Try using .loc[row_indexer,col_indexer] = value instead\n",
      "\n",
      "See the caveats in the documentation: http://pandas.pydata.org/pandas-docs/stable/indexing.html#indexing-view-versus-copy\n",
      "  after removing the cwd from sys.path.\n"
     ]
    },
    {
     "name": "stdout",
     "output_type": "stream",
     "text": [
      "Wall time: 905 ms\n"
     ]
    }
   ],
   "source": [
    "%%time\n",
    "# group=df_train[df_train['user_id']==42199].sort_values(by='send_date')\n",
    "open_rate_data=[]\n",
    "for name,group in df_train.head(100).groupby('user_id'):\n",
    "    group['cnt_rcv']=np.arange(len(group))\n",
    "    #group['cnt_open']=group['is_open'].cumsum()-group['is_open']\n",
    "    #group['cnt_click']=group['is_click'].cumsum()-group['is_click']\n",
    "    open_rate_data.append(group)\n",
    "open_rate_data=pd.concat(open_rate_data)"
   ]
  },
  {
   "cell_type": "code",
   "execution_count": null,
   "metadata": {
    "collapsed": true
   },
   "outputs": [],
   "source": [
    "valid_X['is_click'].shape"
   ]
  },
  {
   "cell_type": "code",
   "execution_count": null,
   "metadata": {
    "collapsed": true
   },
   "outputs": [],
   "source": [
    "valid_X['is_click'].describe()"
   ]
  },
  {
   "cell_type": "code",
   "execution_count": null,
   "metadata": {
    "collapsed": true
   },
   "outputs": [],
   "source": [
    "df_train.head()"
   ]
  }
 ],
 "metadata": {
  "kernelspec": {
   "display_name": "Python 2",
   "language": "python",
   "name": "python2"
  },
  "language_info": {
   "codemirror_mode": {
    "name": "ipython",
    "version": 2
   },
   "file_extension": ".py",
   "mimetype": "text/x-python",
   "name": "python",
   "nbconvert_exporter": "python",
   "pygments_lexer": "ipython2",
   "version": "2.7.13"
  }
 },
 "nbformat": 4,
 "nbformat_minor": 2
}
