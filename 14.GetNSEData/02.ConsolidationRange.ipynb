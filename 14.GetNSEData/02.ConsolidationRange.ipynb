{
 "cells": [
  {
   "cell_type": "code",
   "execution_count": 21,
   "metadata": {
    "collapsed": true
   },
   "outputs": [],
   "source": [
    "import sys, os\n",
    "import pandas as pd\n",
    "import numpy as np\n",
    "import matplotlib.pyplot as plt\n",
    "%matplotlib inline\n",
    "os.chdir('C:/Users/arpit.goel/Documents/Projects/Kaggle/16.NiftyOptions/')\n",
    "\n",
    "df_nifty=pd.read_csv('01.RawData/NiftyHistorical.csv',parse_dates=['Date'],index_col=['Date'])\n"
   ]
  },
  {
   "cell_type": "code",
   "execution_count": 64,
   "metadata": {
    "collapsed": true
   },
   "outputs": [],
   "source": [
    "df_nifty.loc[:,'Prev_Close']=df_nifty['Close'].shift(1)\n",
    "df_nifty['Pct_Change']=100*(df_nifty['Close']/df_nifty['Prev_Close']-1)\n",
    "bins=[-10,-1,-0.5,-0.25,0,0.25,0.5,1,10]\n",
    "labels=['%d.(%0.2f,%0.2f)'%(i,x,y) for i,(x,y) in enumerate(zip(bins[:-1],bins[1:]))]\n",
    "df_nifty['Pct_Change_Bin']=pd.cut(df_nifty['Pct_Change'],bins=bins,labels=labels)"
   ]
  },
  {
   "cell_type": "code",
   "execution_count": 65,
   "metadata": {},
   "outputs": [
    {
     "data": {
      "text/plain": [
       "<matplotlib.axes._subplots.AxesSubplot at 0x10130320>"
      ]
     },
     "execution_count": 65,
     "metadata": {},
     "output_type": "execute_result"
    },
    {
     "data": {
      "image/png": "[encoded data removed]",
      "text/plain": [
       "<matplotlib.figure.Figure at 0xe497780>"
      ]
     },
     "metadata": {},
     "output_type": "display_data"
    }
   ],
   "source": [
    "pd.crosstab(df_nifty.index.year,df_nifty['Pct_Change_Bin']).plot(kind='bar',figsize=(20,5))"
   ]
  },
  {
   "cell_type": "code",
   "execution_count": 50,
   "metadata": {
    "scrolled": true
   },
   "outputs": [
    {
     "data": {
      "text/plain": [
       "Date\n",
       "2013-12-02                 NaN\n",
       "2013-12-03     2.(-0.50,-0.25)\n",
       "2013-12-04     1.(-1.00,-0.50)\n",
       "2013-12-05      6.(1.00,10.00)\n",
       "2013-12-06       4.(0.25,0.50)\n",
       "2013-12-09      6.(1.00,10.00)\n",
       "2013-12-10     2.(-0.50,-0.25)\n",
       "2013-12-11     2.(-0.50,-0.25)\n",
       "2013-12-12    0.(-10.00,-1.00)\n",
       "2013-12-13    0.(-10.00,-1.00)\n",
       "2013-12-16      3.(-0.25,0.25)\n",
       "2013-12-17     2.(-0.50,-0.25)\n",
       "2013-12-18      6.(1.00,10.00)\n",
       "2013-12-19     1.(-1.00,-0.50)\n",
       "2013-12-20      6.(1.00,10.00)\n",
       "2013-12-23      3.(-0.25,0.25)\n",
       "2013-12-24     2.(-0.50,-0.25)\n",
       "2013-12-26      3.(-0.25,0.25)\n",
       "2013-12-27       5.(0.50,1.00)\n",
       "2013-12-30     2.(-0.50,-0.25)\n",
       "2013-12-31      3.(-0.25,0.25)\n",
       "2014-01-01      3.(-0.25,0.25)\n",
       "2014-01-02    0.(-10.00,-1.00)\n",
       "2014-01-03      3.(-0.25,0.25)\n",
       "2014-01-06     2.(-0.50,-0.25)\n",
       "2014-01-07     2.(-0.50,-0.25)\n",
       "2014-01-08      3.(-0.25,0.25)\n",
       "2014-01-09      3.(-0.25,0.25)\n",
       "2014-01-10      3.(-0.25,0.25)\n",
       "2014-01-13      6.(1.00,10.00)\n",
       "                    ...       \n",
       "2017-10-18      3.(-0.25,0.25)\n",
       "2017-10-19     1.(-1.00,-0.50)\n",
       "2017-10-23       4.(0.25,0.50)\n",
       "2017-10-24      3.(-0.25,0.25)\n",
       "2017-10-25       5.(0.50,1.00)\n",
       "2017-10-26       4.(0.25,0.50)\n",
       "2017-10-27      3.(-0.25,0.25)\n",
       "2017-10-30       4.(0.25,0.50)\n",
       "2017-10-31     2.(-0.50,-0.25)\n",
       "2017-11-01      6.(1.00,10.00)\n",
       "2017-11-02      3.(-0.25,0.25)\n",
       "2017-11-03       4.(0.25,0.50)\n",
       "2017-11-06      3.(-0.25,0.25)\n",
       "2017-11-07     1.(-1.00,-0.50)\n",
       "2017-11-08     2.(-0.50,-0.25)\n",
       "2017-11-09      3.(-0.25,0.25)\n",
       "2017-11-10      3.(-0.25,0.25)\n",
       "2017-11-13     1.(-1.00,-0.50)\n",
       "2017-11-14     2.(-0.50,-0.25)\n",
       "2017-11-15     1.(-1.00,-0.50)\n",
       "2017-11-16       5.(0.50,1.00)\n",
       "2017-11-17       5.(0.50,1.00)\n",
       "2017-11-20      3.(-0.25,0.25)\n",
       "2017-11-21       4.(0.25,0.50)\n",
       "2017-11-22      3.(-0.25,0.25)\n",
       "2017-11-23      3.(-0.25,0.25)\n",
       "2017-11-24       4.(0.25,0.50)\n",
       "2017-11-27      3.(-0.25,0.25)\n",
       "2017-11-28     2.(-0.50,-0.25)\n",
       "2017-11-29      3.(-0.25,0.25)\n",
       "Name: Pct_Change_Bin, Length: 987, dtype: category\n",
       "Categories (7, object): [0.(-10.00,-1.00) < 1.(-1.00,-0.50) < 2.(-0.50,-0.25) < 3.(-0.25,0.25) < 4.(0.25,0.50) < 5.(0.50,1.00) < 6.(1.00,10.00)]"
      ]
     },
     "execution_count": 50,
     "metadata": {},
     "output_type": "execute_result"
    }
   ],
   "source": [
    "df_nifty['Pct_Change_Bin']"
   ]
  },
  {
   "cell_type": "code",
   "execution_count": 66,
   "metadata": {},
   "outputs": [
    {
     "data": {
      "text/plain": [
       "(4.(0.00,0.25), 4.(0.00,0.25))       27\n",
       "(6.(0.50,1.00), 4.(0.00,0.25))       26\n",
       "(7.(1.00,10.00), 4.(0.00,0.25))      24\n",
       "(5.(0.25,0.50), 3.(-0.25,0.00))      24\n",
       "(3.(-0.25,0.00), 6.(0.50,1.00))      23\n",
       "(3.(-0.25,0.00), 1.(-1.00,-0.50))    22\n",
       "(6.(0.50,1.00), 7.(1.00,10.00))      22\n",
       "(3.(-0.25,0.00), 4.(0.00,0.25))      22\n",
       "(3.(-0.25,0.00), 5.(0.25,0.50))      21\n",
       "(4.(0.00,0.25), 7.(1.00,10.00))      20\n",
       "dtype: int64"
      ]
     },
     "execution_count": 66,
     "metadata": {},
     "output_type": "execute_result"
    }
   ],
   "source": [
    "pd.Series(zip(df_nifty['Pct_Change_Bin'],df_nifty['Pct_Change_Bin'].shift(-1))).value_counts()[:10]"
   ]
  },
  {
   "cell_type": "code",
   "execution_count": 67,
   "metadata": {},
   "outputs": [
    {
     "data": {
      "text/plain": [
       "(6.(0.50,1.00), 7.(1.00,10.00), 4.(0.00,0.25))           8\n",
       "(4.(0.00,0.25), 6.(0.50,1.00), 6.(0.50,1.00))            7\n",
       "(6.(0.50,1.00), 6.(0.50,1.00), 4.(0.00,0.25))            7\n",
       "(7.(1.00,10.00), 3.(-0.25,0.00), 0.(-10.00,-1.00))       6\n",
       "(7.(1.00,10.00), 4.(0.00,0.25), 4.(0.00,0.25))           6\n",
       "(6.(0.50,1.00), 4.(0.00,0.25), 2.(-0.50,-0.25))          6\n",
       "(2.(-0.50,-0.25), 4.(0.00,0.25), 4.(0.00,0.25))          6\n",
       "(6.(0.50,1.00), 4.(0.00,0.25), 5.(0.25,0.50))            6\n",
       "(0.(-10.00,-1.00), 6.(0.50,1.00), 7.(1.00,10.00))        6\n",
       "(5.(0.25,0.50), 3.(-0.25,0.00), 4.(0.00,0.25))           6\n",
       "(0.(-10.00,-1.00), 3.(-0.25,0.00), 7.(1.00,10.00))       6\n",
       "(5.(0.25,0.50), 3.(-0.25,0.00), 1.(-1.00,-0.50))         6\n",
       "(1.(-1.00,-0.50), 7.(1.00,10.00), 4.(0.00,0.25))         6\n",
       "(7.(1.00,10.00), 4.(0.00,0.25), 2.(-0.50,-0.25))         5\n",
       "(3.(-0.25,0.00), 4.(0.00,0.25), 3.(-0.25,0.00))          5\n",
       "(3.(-0.25,0.00), 3.(-0.25,0.00), 1.(-1.00,-0.50))        5\n",
       "(4.(0.00,0.25), 7.(1.00,10.00), 2.(-0.50,-0.25))         5\n",
       "(2.(-0.50,-0.25), 0.(-10.00,-1.00), 0.(-10.00,-1.00))    5\n",
       "(4.(0.00,0.25), 2.(-0.50,-0.25), 5.(0.25,0.50))          5\n",
       "(6.(0.50,1.00), 5.(0.25,0.50), 3.(-0.25,0.00))           5\n",
       "dtype: int64"
      ]
     },
     "execution_count": 67,
     "metadata": {},
     "output_type": "execute_result"
    }
   ],
   "source": [
    "pd.Series(zip(df_nifty['Pct_Change_Bin'],df_nifty['Pct_Change_Bin'].shift(-1),df_nifty['Pct_Change_Bin'].shift(-2))).value_counts()[:20]"
   ]
  },
  {
   "cell_type": "code",
   "execution_count": 68,
   "metadata": {},
   "outputs": [
    {
     "data": {
      "text/plain": [
       "(6.(0.50,1.00), 4.(0.00,0.25), 2.(-0.50,-0.25), 5.(0.25,0.50))         3\n",
       "(0.(-10.00,-1.00), 6.(0.50,1.00), 7.(1.00,10.00), 4.(0.00,0.25))       3\n",
       "(3.(-0.25,0.00), 7.(1.00,10.00), 3.(-0.25,0.00), 0.(-10.00,-1.00))     3\n",
       "(5.(0.25,0.50), 4.(0.00,0.25), 6.(0.50,1.00), 6.(0.50,1.00))           3\n",
       "(6.(0.50,1.00), 6.(0.50,1.00), 4.(0.00,0.25), 5.(0.25,0.50))           3\n",
       "(6.(0.50,1.00), 4.(0.00,0.25), 5.(0.25,0.50), 4.(0.00,0.25))           3\n",
       "(3.(-0.25,0.00), 0.(-10.00,-1.00), 2.(-0.50,-0.25), 7.(1.00,10.00))    3\n",
       "(6.(0.50,1.00), 7.(1.00,10.00), 5.(0.25,0.50), 3.(-0.25,0.00))         2\n",
       "(7.(1.00,10.00), 4.(0.00,0.25), 6.(0.50,1.00), 7.(1.00,10.00))         2\n",
       "(4.(0.00,0.25), 3.(-0.25,0.00), 4.(0.00,0.25), 4.(0.00,0.25))          2\n",
       "dtype: int64"
      ]
     },
     "execution_count": 68,
     "metadata": {},
     "output_type": "execute_result"
    }
   ],
   "source": [
    "pd.Series(zip(df_nifty['Pct_Change_Bin'],df_nifty['Pct_Change_Bin'].shift(-1),df_nifty['Pct_Change_Bin'].shift(-2),df_nifty['Pct_Change_Bin'].shift(-3))).value_counts()[:10]"
   ]
  },
  {
   "cell_type": "code",
   "execution_count": 1,
   "metadata": {
    "collapsed": true
   },
   "outputs": [],
   "source": [
    "import sys, os\n",
    "import pandas as pd\n",
    "import numpy as np\n",
    "import matplotlib.pyplot as plt\n",
    "%matplotlib inline\n",
    "os.chdir('C:/Users/arpit.goel/Documents/Projects/Kaggle/16.NiftyOptions/')\n",
    "\n",
    "df_nifty=pd.read_csv('01.RawData/NiftyHistorical.csv',parse_dates=['Date'],index_col=['Date'])\n"
   ]
  },
  {
   "cell_type": "code",
   "execution_count": 9,
   "metadata": {},
   "outputs": [],
   "source": [
    "from datetime import timedelta\n",
    "high_low=[]\n",
    "for date in df_nifty.index.tolist():\n",
    "    close=df_nifty.loc[date,'Close']\n",
    "    df=df_nifty[(df_nifty.index>date)&(df_nifty.index<=date+timedelta(days=60))]\n",
    "    diff_upper=df['Close'].max()-close\n",
    "    diff_lower=df['Close'].min()-close\n",
    "    high_low.append([date,close,diff_upper,diff_lower])\n"
   ]
  },
  {
   "cell_type": "code",
   "execution_count": 14,
   "metadata": {},
   "outputs": [
    {
     "data": {
      "text/html": [
       "<div>\n",
       "<style>\n",
       "    .dataframe thead tr:only-child th {\n",
       "        text-align: right;\n",
       "    }\n",
       "\n",
       "    .dataframe thead th {\n",
       "        text-align: left;\n",
       "    }\n",
       "\n",
       "    .dataframe tbody tr th {\n",
       "        vertical-align: top;\n",
       "    }\n",
       "</style>\n",
       "<table border=\"1\" class=\"dataframe\">\n",
       "  <thead>\n",
       "    <tr style=\"text-align: right;\">\n",
       "      <th></th>\n",
       "      <th>count</th>\n",
       "      <th>mean</th>\n",
       "      <th>std</th>\n",
       "      <th>min</th>\n",
       "      <th>1%</th>\n",
       "      <th>5%</th>\n",
       "      <th>10%</th>\n",
       "      <th>25%</th>\n",
       "      <th>50%</th>\n",
       "      <th>75%</th>\n",
       "      <th>90%</th>\n",
       "      <th>95%</th>\n",
       "      <th>99%</th>\n",
       "      <th>max</th>\n",
       "    </tr>\n",
       "  </thead>\n",
       "  <tbody>\n",
       "    <tr>\n",
       "      <th>close</th>\n",
       "      <td>1027.0</td>\n",
       "      <td>8337.909640</td>\n",
       "      <td>1068.545966</td>\n",
       "      <td>6000.90</td>\n",
       "      <td>6076.378</td>\n",
       "      <td>6293.1550</td>\n",
       "      <td>6796.320</td>\n",
       "      <td>7763.8250</td>\n",
       "      <td>8284.50</td>\n",
       "      <td>8808.6500</td>\n",
       "      <td>9931.860</td>\n",
       "      <td>10278.2150</td>\n",
       "      <td>10647.508</td>\n",
       "      <td>11086.00</td>\n",
       "    </tr>\n",
       "    <tr>\n",
       "      <th>diff_upper</th>\n",
       "      <td>1026.0</td>\n",
       "      <td>391.892446</td>\n",
       "      <td>244.150103</td>\n",
       "      <td>-229.45</td>\n",
       "      <td>-75.950</td>\n",
       "      <td>9.0500</td>\n",
       "      <td>56.750</td>\n",
       "      <td>205.2000</td>\n",
       "      <td>392.50</td>\n",
       "      <td>555.1000</td>\n",
       "      <td>720.625</td>\n",
       "      <td>794.7375</td>\n",
       "      <td>961.200</td>\n",
       "      <td>1127.30</td>\n",
       "    </tr>\n",
       "    <tr>\n",
       "      <th>diff_lower</th>\n",
       "      <td>1026.0</td>\n",
       "      <td>-238.030604</td>\n",
       "      <td>263.311543</td>\n",
       "      <td>-1074.70</td>\n",
       "      <td>-975.325</td>\n",
       "      <td>-789.3875</td>\n",
       "      <td>-654.425</td>\n",
       "      <td>-369.1375</td>\n",
       "      <td>-162.25</td>\n",
       "      <td>-45.6125</td>\n",
       "      <td>24.400</td>\n",
       "      <td>60.3875</td>\n",
       "      <td>132.050</td>\n",
       "      <td>235.25</td>\n",
       "    </tr>\n",
       "  </tbody>\n",
       "</table>\n",
       "</div>"
      ],
      "text/plain": [
       "             count         mean          std      min        1%         5%  \\\n",
       "close       1027.0  8337.909640  1068.545966  6000.90  6076.378  6293.1550   \n",
       "diff_upper  1026.0   391.892446   244.150103  -229.45   -75.950     9.0500   \n",
       "diff_lower  1026.0  -238.030604   263.311543 -1074.70  -975.325  -789.3875   \n",
       "\n",
       "                 10%        25%      50%        75%       90%         95%  \\\n",
       "close       6796.320  7763.8250  8284.50  8808.6500  9931.860  10278.2150   \n",
       "diff_upper    56.750   205.2000   392.50   555.1000   720.625    794.7375   \n",
       "diff_lower  -654.425  -369.1375  -162.25   -45.6125    24.400     60.3875   \n",
       "\n",
       "                  99%       max  \n",
       "close       10647.508  11086.00  \n",
       "diff_upper    961.200   1127.30  \n",
       "diff_lower    132.050    235.25  "
      ]
     },
     "execution_count": 14,
     "metadata": {},
     "output_type": "execute_result"
    }
   ],
   "source": [
    "df_diff=pd.DataFrame(high_low,columns=['date','close','diff_upper','diff_lower'])\n",
    "df_diff.describe(percentiles=[0.01,0.05,0.1,0.25,0.5,0.75,0.9,0.95,0.99]).T"
   ]
  },
  {
   "cell_type": "code",
   "execution_count": 19,
   "metadata": {},
   "outputs": [],
   "source": [
    "df_diff['year']=df_diff['date'].dt.year\n",
    "df_diff['month']=df_diff['date'].dt.month\n",
    "df_diff.groupby(['year','month'])['diff_lower'].mean().unstack().to_clipboard()"
   ]
  },
  {
   "cell_type": "code",
   "execution_count": 8,
   "metadata": {},
   "outputs": [
    {
     "data": {
      "text/plain": [
       "Timestamp('2014-01-31 00:00:00')"
      ]
     },
     "execution_count": 8,
     "metadata": {},
     "output_type": "execute_result"
    }
   ],
   "source": [
    "date+timedelta(days=60)"
   ]
  }
 ],
 "metadata": {
  "kernelspec": {
   "display_name": "Python 2",
   "language": "python",
   "name": "python2"
  },
  "language_info": {
   "codemirror_mode": {
    "name": "ipython",
    "version": 2
   },
   "file_extension": ".py",
   "mimetype": "text/x-python",
   "name": "python",
   "nbconvert_exporter": "python",
   "pygments_lexer": "ipython2",
   "version": "2.7.13"
  }
 },
 "nbformat": 4,
 "nbformat_minor": 2
}
