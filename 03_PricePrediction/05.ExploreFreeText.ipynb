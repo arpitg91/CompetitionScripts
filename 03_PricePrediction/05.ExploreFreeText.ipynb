{
 "cells": [
  {
   "cell_type": "code",
   "execution_count": 43,
   "metadata": {
    "collapsed": false
   },
   "outputs": [],
   "source": [
    "import os,sys,string,re\n",
    "import pandas as pd\n",
    "import numpy as np\n",
    "from nltk.stem import PorterStemmer\n",
    "from nltk.tokenize import sent_tokenize, word_tokenize\n",
    "import matplotlib.pyplot as plt\n",
    "\n",
    "to_space= '''&,()+'\"/'''\n",
    "trans=string.maketrans(to_space, ' '*len(to_space))\n",
    "ps = PorterStemmer()\n",
    "\n",
    "os.chdir('/data/arpit.goel/31_PricePrediction/03.Submissions')\n",
    "pd.set_option('display.float_format', lambda x: '%.1f' % x)\n",
    "\n",
    "df_raw_train=pd.read_csv('../input/train.tsv',delimiter='\\t')\n",
    "df_raw_test=pd.read_csv('../input/test.tsv',delimiter='\\t')\n",
    "df_raw_train['log_price']=np.clip(np.log(1+df_raw_train['price']),1,5)\n",
    "\n",
    "ins=df_raw_train.sample(frac=0.8,random_state=200)\n",
    "oos=df_raw_train.drop(ins.index)\n",
    "oot=df_raw_test"
   ]
  },
  {
   "cell_type": "code",
   "execution_count": 46,
   "metadata": {
    "collapsed": false
   },
   "outputs": [],
   "source": [
    "def get_free_text_vars(df,var,label):\n",
    "    df['ft_0_%s'%label]=df[var].astype(np.str).str.len()                                                             # Num characters\n",
    "    df['ft_1_%s'%label]=df[var].astype(np.str).map(lambda x: re.sub('[%s]'%string.printable,'',x)).str.len()         # Num non printable chars\n",
    "    df['ft_2_%s'%label]=df[var].astype(np.str).map(lambda x: re.sub('[^#$%&*:;<=>?@\\^_`|~]','',x)).str.len()         # Num Special Characters\n",
    "    df['ft_3_%s'%label]=df[var].astype(np.str).map(lambda x: re.sub('[^0-9]','',x)).str.len()                        # Num numerals\n",
    "    df['ft_4_%s'%label]=df[var].astype(np.str).map(lambda x: re.sub('[^a-z]','',x)).str.len()                        # Num lower case\n",
    "    df['ft_5_%s'%label]=df[var].astype(np.str).map(lambda x: re.sub('[^A-Z]','',x)).str.len()                        # Num upper case\n",
    "    df['ft_6_%s'%label]=df[var].astype(np.str).map(lambda x: re.sub('[^ ]','',x)).str.len()                          # Num spaces\n",
    "    df['%s_clean'%label]=df[var].astype(np.str).str.lower().map(lambda x: re.sub('[^ 0-9a-z]',' ',x))                 # Clean Text\n",
    "    \n",
    "for data in [ins,oos,oot]:\n",
    "    for var,label in [('name','name'),('item_description','desc')]:\n",
    "        get_free_text_vars(data,var,label)\n"
   ]
  },
  {
   "cell_type": "code",
   "execution_count": 83,
   "metadata": {
    "collapsed": false,
    "scrolled": true
   },
   "outputs": [],
   "source": [
    "all_words=pd.concat([ins['name_clean'],ins['desc_clean']]).values\n",
    "all_words=ins['desc_clean'].values\n",
    "all_words=[y for x in all_words for y in x.split()]\n",
    "all_words=pd.Series(Counter(all_words))"
   ]
  },
  {
   "cell_type": "code",
   "execution_count": 58,
   "metadata": {
    "collapsed": false
   },
   "outputs": [],
   "source": [
    "all_words.sort_values(ascending=False).to_csv('../02.Profile/6.AllWords.csv')"
   ]
  },
  {
   "cell_type": "code",
   "execution_count": 84,
   "metadata": {
    "collapsed": false
   },
   "outputs": [
    {
     "name": "stdout",
     "output_type": "stream",
     "text": [
      "(142966,)\n",
      "(10084,)\n"
     ]
    }
   ],
   "source": [
    "print all_words.shape\n",
    "print all_words[all_words>100].shape\n"
   ]
  },
  {
   "cell_type": "code",
   "execution_count": 86,
   "metadata": {
    "collapsed": false
   },
   "outputs": [],
   "source": [
    "def stem_word(x):\n",
    "    try:\n",
    "        return ps.stem(x)\n",
    "    except:\n",
    "        return x\n",
    "\n",
    "stemmed_words=all_words.reset_index()\n",
    "stemmed_words.columns=['word','count']\n",
    "stemmed_words['stem']=stemmed_words['word'].map(stem_word)\n",
    "stemmed_words=stemmed_words.groupby('stem')['count'].sum()"
   ]
  },
  {
   "cell_type": "code",
   "execution_count": 87,
   "metadata": {
    "collapsed": false
   },
   "outputs": [
    {
     "name": "stdout",
     "output_type": "stream",
     "text": [
      "(117178,)\n",
      "(7764,)\n"
     ]
    }
   ],
   "source": [
    "print stemmed_words.shape\n",
    "print stemmed_words[stemmed_words>100].shape\n"
   ]
  },
  {
   "cell_type": "code",
   "execution_count": 77,
   "metadata": {
    "collapsed": false
   },
   "outputs": [
    {
     "data": {
      "text/plain": [
       "<SentiWordNetCorpusReader in u'.../corpora/sentiwordnet' (not loaded yet)>"
      ]
     },
     "execution_count": 77,
     "metadata": {},
     "output_type": "execute_result"
    }
   ],
   "source": [
    "import nltk.corpus\n",
    "\n",
    "nltk.corpus.sentiwordnet\n"
   ]
  }
 ],
 "metadata": {
  "kernelspec": {
   "display_name": "Python 2",
   "language": "python",
   "name": "python2"
  },
  "language_info": {
   "codemirror_mode": {
    "name": "ipython",
    "version": 2
   },
   "file_extension": ".py",
   "mimetype": "text/x-python",
   "name": "python",
   "nbconvert_exporter": "python",
   "pygments_lexer": "ipython2",
   "version": "2.7.13"
  }
 },
 "nbformat": 4,
 "nbformat_minor": 2
}
