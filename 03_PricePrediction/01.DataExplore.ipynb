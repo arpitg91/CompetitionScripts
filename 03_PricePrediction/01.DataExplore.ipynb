{
 "cells": [
  {
   "cell_type": "code",
   "execution_count": 2,
   "metadata": {
    "collapsed": false
   },
   "outputs": [
    {
     "ename": "IOError",
     "evalue": "File 01.RawData/train.tsv does not exist",
     "output_type": "error",
     "traceback": [
      "\u001b[0;31m\u001b[0m",
      "\u001b[0;31mIOError\u001b[0mTraceback (most recent call last)",
      "\u001b[0;32m<ipython-input-2-905bd0696e0f>\u001b[0m in \u001b[0;36m<module>\u001b[0;34m()\u001b[0m\n\u001b[1;32m      5\u001b[0m \u001b[0mpd\u001b[0m\u001b[0;34m.\u001b[0m\u001b[0mset_option\u001b[0m\u001b[0;34m(\u001b[0m\u001b[0;34m'display.float_format'\u001b[0m\u001b[0;34m,\u001b[0m \u001b[0;32mlambda\u001b[0m \u001b[0mx\u001b[0m\u001b[0;34m:\u001b[0m \u001b[0;34m'%.1f'\u001b[0m \u001b[0;34m%\u001b[0m \u001b[0mx\u001b[0m\u001b[0;34m)\u001b[0m\u001b[0;34m\u001b[0m\u001b[0m\n\u001b[1;32m      6\u001b[0m \u001b[0;34m\u001b[0m\u001b[0m\n\u001b[0;32m----> 7\u001b[0;31m \u001b[0mdf_raw_train\u001b[0m\u001b[0;34m=\u001b[0m\u001b[0mpd\u001b[0m\u001b[0;34m.\u001b[0m\u001b[0mread_csv\u001b[0m\u001b[0;34m(\u001b[0m\u001b[0;34m'01.RawData/train.tsv'\u001b[0m\u001b[0;34m,\u001b[0m\u001b[0mdelimiter\u001b[0m\u001b[0;34m=\u001b[0m\u001b[0;34m'\\t'\u001b[0m\u001b[0;34m)\u001b[0m\u001b[0;34m\u001b[0m\u001b[0m\n\u001b[0m\u001b[1;32m      8\u001b[0m \u001b[0mdf_raw_test\u001b[0m\u001b[0;34m=\u001b[0m\u001b[0mpd\u001b[0m\u001b[0;34m.\u001b[0m\u001b[0mread_csv\u001b[0m\u001b[0;34m(\u001b[0m\u001b[0;34m'01.RawData/test.tsv'\u001b[0m\u001b[0;34m,\u001b[0m\u001b[0mdelimiter\u001b[0m\u001b[0;34m=\u001b[0m\u001b[0;34m'\\t'\u001b[0m\u001b[0;34m)\u001b[0m\u001b[0;34m\u001b[0m\u001b[0m\n",
      "\u001b[0;32m/data/arpit.goel/anaconda/anaconda2/lib/python2.7/site-packages/pandas/io/parsers.pyc\u001b[0m in \u001b[0;36mparser_f\u001b[0;34m(filepath_or_buffer, sep, delimiter, header, names, index_col, usecols, squeeze, prefix, mangle_dupe_cols, dtype, engine, converters, true_values, false_values, skipinitialspace, skiprows, nrows, na_values, keep_default_na, na_filter, verbose, skip_blank_lines, parse_dates, infer_datetime_format, keep_date_col, date_parser, dayfirst, iterator, chunksize, compression, thousands, decimal, lineterminator, quotechar, quoting, escapechar, comment, encoding, dialect, tupleize_cols, error_bad_lines, warn_bad_lines, skipfooter, skip_footer, doublequote, delim_whitespace, as_recarray, compact_ints, use_unsigned, low_memory, buffer_lines, memory_map, float_precision)\u001b[0m\n\u001b[1;32m    644\u001b[0m                     skip_blank_lines=skip_blank_lines)\n\u001b[1;32m    645\u001b[0m \u001b[0;34m\u001b[0m\u001b[0m\n\u001b[0;32m--> 646\u001b[0;31m         \u001b[0;32mreturn\u001b[0m \u001b[0m_read\u001b[0m\u001b[0;34m(\u001b[0m\u001b[0mfilepath_or_buffer\u001b[0m\u001b[0;34m,\u001b[0m \u001b[0mkwds\u001b[0m\u001b[0;34m)\u001b[0m\u001b[0;34m\u001b[0m\u001b[0m\n\u001b[0m\u001b[1;32m    647\u001b[0m \u001b[0;34m\u001b[0m\u001b[0m\n\u001b[1;32m    648\u001b[0m     \u001b[0mparser_f\u001b[0m\u001b[0;34m.\u001b[0m\u001b[0m__name__\u001b[0m \u001b[0;34m=\u001b[0m \u001b[0mname\u001b[0m\u001b[0;34m\u001b[0m\u001b[0m\n",
      "\u001b[0;32m/data/arpit.goel/anaconda/anaconda2/lib/python2.7/site-packages/pandas/io/parsers.pyc\u001b[0m in \u001b[0;36m_read\u001b[0;34m(filepath_or_buffer, kwds)\u001b[0m\n\u001b[1;32m    387\u001b[0m \u001b[0;34m\u001b[0m\u001b[0m\n\u001b[1;32m    388\u001b[0m     \u001b[0;31m# Create the parser.\u001b[0m\u001b[0;34m\u001b[0m\u001b[0;34m\u001b[0m\u001b[0m\n\u001b[0;32m--> 389\u001b[0;31m     \u001b[0mparser\u001b[0m \u001b[0;34m=\u001b[0m \u001b[0mTextFileReader\u001b[0m\u001b[0;34m(\u001b[0m\u001b[0mfilepath_or_buffer\u001b[0m\u001b[0;34m,\u001b[0m \u001b[0;34m**\u001b[0m\u001b[0mkwds\u001b[0m\u001b[0;34m)\u001b[0m\u001b[0;34m\u001b[0m\u001b[0m\n\u001b[0m\u001b[1;32m    390\u001b[0m \u001b[0;34m\u001b[0m\u001b[0m\n\u001b[1;32m    391\u001b[0m     \u001b[0;32mif\u001b[0m \u001b[0;34m(\u001b[0m\u001b[0mnrows\u001b[0m \u001b[0;32mis\u001b[0m \u001b[0;32mnot\u001b[0m \u001b[0mNone\u001b[0m\u001b[0;34m)\u001b[0m \u001b[0;32mand\u001b[0m \u001b[0;34m(\u001b[0m\u001b[0mchunksize\u001b[0m \u001b[0;32mis\u001b[0m \u001b[0;32mnot\u001b[0m \u001b[0mNone\u001b[0m\u001b[0;34m)\u001b[0m\u001b[0;34m:\u001b[0m\u001b[0;34m\u001b[0m\u001b[0m\n",
      "\u001b[0;32m/data/arpit.goel/anaconda/anaconda2/lib/python2.7/site-packages/pandas/io/parsers.pyc\u001b[0m in \u001b[0;36m__init__\u001b[0;34m(self, f, engine, **kwds)\u001b[0m\n\u001b[1;32m    728\u001b[0m             \u001b[0mself\u001b[0m\u001b[0;34m.\u001b[0m\u001b[0moptions\u001b[0m\u001b[0;34m[\u001b[0m\u001b[0;34m'has_index_names'\u001b[0m\u001b[0;34m]\u001b[0m \u001b[0;34m=\u001b[0m \u001b[0mkwds\u001b[0m\u001b[0;34m[\u001b[0m\u001b[0;34m'has_index_names'\u001b[0m\u001b[0;34m]\u001b[0m\u001b[0;34m\u001b[0m\u001b[0m\n\u001b[1;32m    729\u001b[0m \u001b[0;34m\u001b[0m\u001b[0m\n\u001b[0;32m--> 730\u001b[0;31m         \u001b[0mself\u001b[0m\u001b[0;34m.\u001b[0m\u001b[0m_make_engine\u001b[0m\u001b[0;34m(\u001b[0m\u001b[0mself\u001b[0m\u001b[0;34m.\u001b[0m\u001b[0mengine\u001b[0m\u001b[0;34m)\u001b[0m\u001b[0;34m\u001b[0m\u001b[0m\n\u001b[0m\u001b[1;32m    731\u001b[0m \u001b[0;34m\u001b[0m\u001b[0m\n\u001b[1;32m    732\u001b[0m     \u001b[0;32mdef\u001b[0m \u001b[0mclose\u001b[0m\u001b[0;34m(\u001b[0m\u001b[0mself\u001b[0m\u001b[0;34m)\u001b[0m\u001b[0;34m:\u001b[0m\u001b[0;34m\u001b[0m\u001b[0m\n",
      "\u001b[0;32m/data/arpit.goel/anaconda/anaconda2/lib/python2.7/site-packages/pandas/io/parsers.pyc\u001b[0m in \u001b[0;36m_make_engine\u001b[0;34m(self, engine)\u001b[0m\n\u001b[1;32m    921\u001b[0m     \u001b[0;32mdef\u001b[0m \u001b[0m_make_engine\u001b[0m\u001b[0;34m(\u001b[0m\u001b[0mself\u001b[0m\u001b[0;34m,\u001b[0m \u001b[0mengine\u001b[0m\u001b[0;34m=\u001b[0m\u001b[0;34m'c'\u001b[0m\u001b[0;34m)\u001b[0m\u001b[0;34m:\u001b[0m\u001b[0;34m\u001b[0m\u001b[0m\n\u001b[1;32m    922\u001b[0m         \u001b[0;32mif\u001b[0m \u001b[0mengine\u001b[0m \u001b[0;34m==\u001b[0m \u001b[0;34m'c'\u001b[0m\u001b[0;34m:\u001b[0m\u001b[0;34m\u001b[0m\u001b[0m\n\u001b[0;32m--> 923\u001b[0;31m             \u001b[0mself\u001b[0m\u001b[0;34m.\u001b[0m\u001b[0m_engine\u001b[0m \u001b[0;34m=\u001b[0m \u001b[0mCParserWrapper\u001b[0m\u001b[0;34m(\u001b[0m\u001b[0mself\u001b[0m\u001b[0;34m.\u001b[0m\u001b[0mf\u001b[0m\u001b[0;34m,\u001b[0m \u001b[0;34m**\u001b[0m\u001b[0mself\u001b[0m\u001b[0;34m.\u001b[0m\u001b[0moptions\u001b[0m\u001b[0;34m)\u001b[0m\u001b[0;34m\u001b[0m\u001b[0m\n\u001b[0m\u001b[1;32m    924\u001b[0m         \u001b[0;32melse\u001b[0m\u001b[0;34m:\u001b[0m\u001b[0;34m\u001b[0m\u001b[0m\n\u001b[1;32m    925\u001b[0m             \u001b[0;32mif\u001b[0m \u001b[0mengine\u001b[0m \u001b[0;34m==\u001b[0m \u001b[0;34m'python'\u001b[0m\u001b[0;34m:\u001b[0m\u001b[0;34m\u001b[0m\u001b[0m\n",
      "\u001b[0;32m/data/arpit.goel/anaconda/anaconda2/lib/python2.7/site-packages/pandas/io/parsers.pyc\u001b[0m in \u001b[0;36m__init__\u001b[0;34m(self, src, **kwds)\u001b[0m\n\u001b[1;32m   1388\u001b[0m         \u001b[0mkwds\u001b[0m\u001b[0;34m[\u001b[0m\u001b[0;34m'allow_leading_cols'\u001b[0m\u001b[0;34m]\u001b[0m \u001b[0;34m=\u001b[0m \u001b[0mself\u001b[0m\u001b[0;34m.\u001b[0m\u001b[0mindex_col\u001b[0m \u001b[0;32mis\u001b[0m \u001b[0;32mnot\u001b[0m \u001b[0mFalse\u001b[0m\u001b[0;34m\u001b[0m\u001b[0m\n\u001b[1;32m   1389\u001b[0m \u001b[0;34m\u001b[0m\u001b[0m\n\u001b[0;32m-> 1390\u001b[0;31m         \u001b[0mself\u001b[0m\u001b[0;34m.\u001b[0m\u001b[0m_reader\u001b[0m \u001b[0;34m=\u001b[0m \u001b[0m_parser\u001b[0m\u001b[0;34m.\u001b[0m\u001b[0mTextReader\u001b[0m\u001b[0;34m(\u001b[0m\u001b[0msrc\u001b[0m\u001b[0;34m,\u001b[0m \u001b[0;34m**\u001b[0m\u001b[0mkwds\u001b[0m\u001b[0;34m)\u001b[0m\u001b[0;34m\u001b[0m\u001b[0m\n\u001b[0m\u001b[1;32m   1391\u001b[0m \u001b[0;34m\u001b[0m\u001b[0m\n\u001b[1;32m   1392\u001b[0m         \u001b[0;31m# XXX\u001b[0m\u001b[0;34m\u001b[0m\u001b[0;34m\u001b[0m\u001b[0m\n",
      "\u001b[0;32mpandas/parser.pyx\u001b[0m in \u001b[0;36mpandas.parser.TextReader.__cinit__ (pandas/parser.c:4184)\u001b[0;34m()\u001b[0m\n",
      "\u001b[0;32mpandas/parser.pyx\u001b[0m in \u001b[0;36mpandas.parser.TextReader._setup_parser_source (pandas/parser.c:8449)\u001b[0;34m()\u001b[0m\n",
      "\u001b[0;31mIOError\u001b[0m: File 01.RawData/train.tsv does not exist"
     ]
    }
   ],
   "source": [
    "import os,sys\n",
    "import pandas as pd\n",
    "import numpy as np\n",
    "os.chdir('/data/arpit.goel/31_PricePrediction')\n",
    "pd.set_option('display.float_format', lambda x: '%.1f' % x)\n",
    "\n",
    "df_raw_train=pd.read_csv('01.RawData/train.tsv',delimiter='\\t')\n",
    "df_raw_test=pd.read_csv('01.RawData/test.tsv',delimiter='\\t')"
   ]
  },
  {
   "cell_type": "code",
   "execution_count": 139,
   "metadata": {
    "collapsed": false
   },
   "outputs": [],
   "source": [
    "cat_price=df_raw_train.groupby(['category_name'])['price']\n",
    "cat_price=cat_condition_price.apply(lambda x: x.describe(percentiles=[0.01,0.05,0.1,0.25,0.5,0.75,0.9,0.95,0.99])).unstack()\n",
    "cat_price.to_csv('02.Profile/1.CatConditionPriceDistribution.csv')\n",
    "df_raw_train['price_lower_bound']=df_raw_train.category_name.map(cat_price['5%']).fillna(5)\n",
    "df_raw_train['price_upper_bound']=df_raw_train.category_name.map(cat_price['95%']).fillna(75)\n",
    "df_raw_train['price_clean']=np.clip(df_raw_train['price'],df_raw_train['price_lower_bound'],df_raw_train['price_upper_bound'])\n",
    "cat_price_clean=df_raw_train.groupby(['category_name'])['price_clean']\n",
    "cat_price_clean=cat_price_clean.apply(lambda x: x.describe(percentiles=[0.01,0.05,0.1,0.25,0.5,0.75,0.9,0.95,0.99])).unstack()\n"
   ]
  },
  {
   "cell_type": "code",
   "execution_count": 155,
   "metadata": {
    "collapsed": false
   },
   "outputs": [],
   "source": [
    "cat_condition_price=df_raw_train.groupby(['category_name','item_condition_id'])['price_clean'].mean().unstack()\n",
    "cat_condition_price=cat_condition_price.apply(lambda x: x.describe(percentiles=[0.01,0.05,0.1,0.25,0.5,0.75,0.9,0.95,0.99])).unstack()\n",
    "cat_condition_price.to_csv('02.Profile/2.CatConditionPriceDistribution.csv')"
   ]
  },
  {
   "cell_type": "code",
   "execution_count": 144,
   "metadata": {
    "collapsed": false
   },
   "outputs": [],
   "source": [
    "df_raw_test['price']=df_raw_test.category_name.map(cat_price_clean['mean']).fillna(25)\n",
    "df_raw_test[['test_id','price']].to_csv('03.Submissions/01.CategoryMean.csv',index=False)"
   ]
  },
  {
   "cell_type": "code",
   "execution_count": 242,
   "metadata": {
    "collapsed": false
   },
   "outputs": [],
   "source": [
    "cat_price=df_raw_train.groupby('category_name')['price'].apply(lambda x: {'sum':x.sum(),'count':x.size}).unstack().reset_index()\n",
    "cat_price['category0']=cat_price['category_name'].map(lambda x: str(x).split('/')[0]).map(clean_category)\n",
    "cat_price['category1']=cat_price['category_name'].map(lambda x: str(x).split('/')[1] if str(x).count('/')>=1 else '').map(clean_category)\n",
    "cat_price['category2']=cat_price['category_name'].map(lambda x: str(x).split('/')[2] if str(x).count('/')>=2 else '').map(clean_category)"
   ]
  },
  {
   "cell_type": "code",
   "execution_count": 258,
   "metadata": {
    "collapsed": false,
    "scrolled": true
   },
   "outputs": [],
   "source": [
    "cat_price.to_csv('02.Profile/3.CatTypes.csv')"
   ]
  },
  {
   "cell_type": "code",
   "execution_count": 257,
   "metadata": {
    "collapsed": false
   },
   "outputs": [
    {
     "data": {
      "text/plain": [
       "False    4667\n",
       "True      142\n",
       "Name: brand_name, dtype: int64"
      ]
     },
     "execution_count": 257,
     "metadata": {},
     "output_type": "execute_result"
    }
   ],
   "source": [
    "(df_raw_train['brand_name'].value_counts()>1000).value_counts()"
   ]
  },
  {
   "cell_type": "code",
   "execution_count": 252,
   "metadata": {
    "collapsed": false
   },
   "outputs": [
    {
     "data": {
      "text/html": [
       "<div>\n",
       "<table border=\"1\" class=\"dataframe\">\n",
       "  <thead>\n",
       "    <tr style=\"text-align: right;\">\n",
       "      <th></th>\n",
       "      <th>train_id</th>\n",
       "      <th>name</th>\n",
       "      <th>item_condition_id</th>\n",
       "      <th>category_name</th>\n",
       "      <th>brand_name</th>\n",
       "      <th>price</th>\n",
       "      <th>shipping</th>\n",
       "      <th>item_description</th>\n",
       "      <th>price_lower_bound</th>\n",
       "      <th>price_upper_bound</th>\n",
       "      <th>price_clean</th>\n",
       "      <th>clean_cat</th>\n",
       "      <th>category0</th>\n",
       "      <th>category1</th>\n",
       "      <th>category2</th>\n",
       "    </tr>\n",
       "  </thead>\n",
       "  <tbody>\n",
       "    <tr>\n",
       "      <th>0</th>\n",
       "      <td>0</td>\n",
       "      <td>MLB Cincinnati Reds T Shirt Size XL</td>\n",
       "      <td>3</td>\n",
       "      <td>Men/Tops/T-shirts</td>\n",
       "      <td>NaN</td>\n",
       "      <td>10.00000</td>\n",
       "      <td>1</td>\n",
       "      <td>No description yet</td>\n",
       "      <td>7.00000</td>\n",
       "      <td>46.00000</td>\n",
       "      <td>10.00000</td>\n",
       "      <td>t-shirt top men</td>\n",
       "      <td>Men</td>\n",
       "      <td>Tops</td>\n",
       "      <td>T-shirts</td>\n",
       "    </tr>\n",
       "    <tr>\n",
       "      <th>1</th>\n",
       "      <td>1</td>\n",
       "      <td>Razer BlackWidow Chroma Keyboard</td>\n",
       "      <td>3</td>\n",
       "      <td>Electronics/Computers &amp; Tablets/Components &amp; P...</td>\n",
       "      <td>Razer</td>\n",
       "      <td>52.00000</td>\n",
       "      <td>0</td>\n",
       "      <td>This keyboard is in great condition and works ...</td>\n",
       "      <td>7.00000</td>\n",
       "      <td>133.70000</td>\n",
       "      <td>52.00000</td>\n",
       "      <td>compon electron part comput tablet</td>\n",
       "      <td>Electronics</td>\n",
       "      <td>Computers &amp; Tablets</td>\n",
       "      <td>Components &amp; Parts</td>\n",
       "    </tr>\n",
       "    <tr>\n",
       "      <th>2</th>\n",
       "      <td>2</td>\n",
       "      <td>AVA-VIV Blouse</td>\n",
       "      <td>1</td>\n",
       "      <td>Women/Tops &amp; Blouses/Blouse</td>\n",
       "      <td>Target</td>\n",
       "      <td>10.00000</td>\n",
       "      <td>1</td>\n",
       "      <td>Adorable top with a hint of lace and a key hol...</td>\n",
       "      <td>6.00000</td>\n",
       "      <td>35.00000</td>\n",
       "      <td>10.00000</td>\n",
       "      <td>top blous women</td>\n",
       "      <td>Women</td>\n",
       "      <td>Tops &amp; Blouses</td>\n",
       "      <td>Blouse</td>\n",
       "    </tr>\n",
       "    <tr>\n",
       "      <th>3</th>\n",
       "      <td>3</td>\n",
       "      <td>Leather Horse Statues</td>\n",
       "      <td>1</td>\n",
       "      <td>Home/Home Décor/Home Décor Accents</td>\n",
       "      <td>NaN</td>\n",
       "      <td>35.00000</td>\n",
       "      <td>1</td>\n",
       "      <td>New with tags. Leather horses. Retail for [rm]...</td>\n",
       "      <td>6.00000</td>\n",
       "      <td>55.85000</td>\n",
       "      <td>35.00000</td>\n",
       "      <td>home decor accent</td>\n",
       "      <td>Home</td>\n",
       "      <td>Home Décor</td>\n",
       "      <td>Home Décor Accents</td>\n",
       "    </tr>\n",
       "    <tr>\n",
       "      <th>4</th>\n",
       "      <td>4</td>\n",
       "      <td>24K GOLD plated rose</td>\n",
       "      <td>1</td>\n",
       "      <td>Women/Jewelry/Necklaces</td>\n",
       "      <td>NaN</td>\n",
       "      <td>44.00000</td>\n",
       "      <td>0</td>\n",
       "      <td>Complete with certificate of authenticity</td>\n",
       "      <td>3.00000</td>\n",
       "      <td>94.00000</td>\n",
       "      <td>44.00000</td>\n",
       "      <td>necklac jewelri women</td>\n",
       "      <td>Women</td>\n",
       "      <td>Jewelry</td>\n",
       "      <td>Necklaces</td>\n",
       "    </tr>\n",
       "  </tbody>\n",
       "</table>\n",
       "</div>"
      ],
      "text/plain": [
       "   train_id                                 name  item_condition_id  \\\n",
       "0         0  MLB Cincinnati Reds T Shirt Size XL                  3   \n",
       "1         1     Razer BlackWidow Chroma Keyboard                  3   \n",
       "2         2                       AVA-VIV Blouse                  1   \n",
       "3         3                Leather Horse Statues                  1   \n",
       "4         4                 24K GOLD plated rose                  1   \n",
       "\n",
       "                                       category_name brand_name    price  \\\n",
       "0                                  Men/Tops/T-shirts        NaN 10.00000   \n",
       "1  Electronics/Computers & Tablets/Components & P...      Razer 52.00000   \n",
       "2                        Women/Tops & Blouses/Blouse     Target 10.00000   \n",
       "3                 Home/Home Décor/Home Décor Accents        NaN 35.00000   \n",
       "4                            Women/Jewelry/Necklaces        NaN 44.00000   \n",
       "\n",
       "   shipping                                   item_description  \\\n",
       "0         1                                 No description yet   \n",
       "1         0  This keyboard is in great condition and works ...   \n",
       "2         1  Adorable top with a hint of lace and a key hol...   \n",
       "3         1  New with tags. Leather horses. Retail for [rm]...   \n",
       "4         0          Complete with certificate of authenticity   \n",
       "\n",
       "   price_lower_bound  price_upper_bound  price_clean  \\\n",
       "0            7.00000           46.00000     10.00000   \n",
       "1            7.00000          133.70000     52.00000   \n",
       "2            6.00000           35.00000     10.00000   \n",
       "3            6.00000           55.85000     35.00000   \n",
       "4            3.00000           94.00000     44.00000   \n",
       "\n",
       "                            clean_cat    category0            category1  \\\n",
       "0                     t-shirt top men          Men                 Tops   \n",
       "1  compon electron part comput tablet  Electronics  Computers & Tablets   \n",
       "2                     top blous women        Women       Tops & Blouses   \n",
       "3                   home decor accent         Home           Home Décor   \n",
       "4               necklac jewelri women        Women              Jewelry   \n",
       "\n",
       "            category2  \n",
       "0            T-shirts  \n",
       "1  Components & Parts  \n",
       "2              Blouse  \n",
       "3  Home Décor Accents  \n",
       "4           Necklaces  "
      ]
     },
     "execution_count": 252,
     "metadata": {},
     "output_type": "execute_result"
    }
   ],
   "source": [
    "df_raw_train.head()"
   ]
  },
  {
   "cell_type": "markdown",
   "metadata": {},
   "source": [
    "Freq, Average\n",
    "Categories: Taken 1,2,3 at a time. 3+3+1\n",
    "Brand: Taken single\n",
    "Length of description\n",
    "Length of name\n",
    "condition Type\n",
    "shipping\n",
    "Cost present in description\n",
    "Text mine presence of color\n",
    "Text mine ML/L/Oz/KG"
   ]
  },
  {
   "cell_type": "code",
   "execution_count": 241,
   "metadata": {
    "collapsed": false
   },
   "outputs": [],
   "source": [
    "import string\n",
    "to_space= '''&,()+'\"/'''\n",
    "trans=string.maketrans(to_space, ' '*len(to_space))\n",
    "\n",
    "from nltk.stem import PorterStemmer\n",
    "from nltk.tokenize import sent_tokenize, word_tokenize\n",
    "\n",
    "ps = PorterStemmer()\n",
    "\n",
    "def clean_category(x):\n",
    "    if len(x)==0:\n",
    "        return ''\n",
    "    x=re.sub(chr(195),'e',x)\n",
    "    x=re.sub(chr(169),'',x)\n",
    "    x=x.translate(trans)\n",
    "    x=re.sub(' +',' ',x)\n",
    "    x=x.lower()\n",
    "    x=' '.join(list(set(map(ps.stem,x.split(' ')))))\n",
    "    x=re.sub('(\\\\b[A-Za-z] \\\\b|\\\\b [A-Za-z]\\\\b)', '',x)\n",
    "    return x\n",
    "\n",
    "all_cat_counts=df_raw_train.groupby('category_name')['price_clean']\n",
    "all_cat_counts=all_cat_counts.apply(lambda x: {'mean_price':x.mean(),'count':x.size}).unstack().reset_index()\n",
    "all_cat_counts['clean_category_name']=all_cat_counts['category_name'].map(clean_category)\n",
    "cat_mapping=pd.Series(all_cat_counts['clean_category_name'].tolist(),index=all_cat_counts['category_name'].tolist())\n",
    "df_raw_train['clean_cat']=df_raw_train['category_name'].map(cat_mapping).fillna('other')\n"
   ]
  },
  {
   "cell_type": "code",
   "execution_count": 113,
   "metadata": {
    "collapsed": false
   },
   "outputs": [
    {
     "data": {
      "text/plain": [
       "30.0"
      ]
     },
     "execution_count": 113,
     "metadata": {},
     "output_type": "execute_result"
    }
   ],
   "source": [
    "train_cat_counts=df_raw_train.category_name.value_counts().reset_index()\n",
    "train_cat_counts.columns=['category_name','count_train']\n",
    "test_cat_counts=df_raw_test.category_name.value_counts().reset_index()\n",
    "test_cat_counts.columns=['category_name','count_test']\n",
    "cat_counts=pd.merge(train_cat_counts,test_cat_counts,on='category_name',how='outer')\n",
    "cat_counts[cat_counts['count_train'].isnull()]['count_test'].sum()"
   ]
  },
  {
   "cell_type": "code",
   "execution_count": 156,
   "metadata": {
    "collapsed": false,
    "scrolled": true
   },
   "outputs": [],
   "source": [
    "unigram_count={}\n",
    "bigram_count={}\n",
    "for row in all_cat_counts.iterrows():\n",
    "    clean_name=row[1]['clean_category_name'].split(' ')\n",
    "    for word in set(clean_name):\n",
    "        unigram_count[word]=unigram_count.get(word,0)+row[1]['count']\n",
    "    for word1,word2 in zip(clean_name[:-1],clean_name[1:]):\n",
    "        key=word1+' '+word2\n",
    "        bigram_count[key]=bigram_count.get(key,0)+row[1]['count']\n",
    "    \n",
    "vocabulary=[key for key,value in unigram_count.items() if value>1000 and value<20000]\n",
    "vocabulary+=[key for key,value in bigram_count.items() if value>1000 and value<20000]\n",
    "\n"
   ]
  },
  {
   "cell_type": "code",
   "execution_count": 228,
   "metadata": {
    "collapsed": false,
    "scrolled": true
   },
   "outputs": [
    {
     "data": {
      "text/plain": [
       "book                  -4.29755\n",
       "bath                  -1.68164\n",
       "paper                 -0.90000\n",
       "nurseri                0.00000\n",
       "digit photographi      0.00000\n",
       "coat vest              0.00000\n",
       "tool makeup            0.00000\n",
       "g-string thong         0.00000\n",
       "comput laptop          0.00000\n",
       "hat accessori          0.00000\n",
       "mo t-shirt             0.00000\n",
       "0-24 one-piec          0.00000\n",
       "sunglass women         0.00000\n",
       "beverag cooler         0.00000\n",
       "beauti women           0.00000\n",
       "protector accessori    0.00000\n",
       "boy shoe               0.00000\n",
       "storag jewelri         0.00000\n",
       "skirt apparel          0.00000\n",
       "photo electron         0.00000\n",
       "mlb sport              0.00000\n",
       "shirt athlet           0.00000\n",
       "coat jean              0.00000\n",
       "anim toy               0.00000\n",
       "comput tablet          0.00000\n",
       "other daili            0.00000\n",
       "blous halter           0.00000\n",
       "shoulder s             0.00000\n",
       "motorcycl women        0.00000\n",
       "men athlet             0.00000\n",
       "                        ...   \n",
       "men jersey             0.00000\n",
       "action collect         0.00000\n",
       "ship suppli            0.00000\n",
       "jean men               0.00000\n",
       "educ toy               0.00000\n",
       "straight women         0.00000\n",
       "trade card             0.00000\n",
       "stuf plush             0.00000\n",
       "blanket throw          0.00000\n",
       "decor candl            0.00000\n",
       "tool beauti            0.00000\n",
       "messeng crossbodi      0.00000\n",
       "maxi skirt             0.00000\n",
       "fleec women            0.00000\n",
       "two-piec women         0.00000\n",
       "pencil straight        0.00000\n",
       "men fashion            0.00000\n",
       "toy learn              0.00000\n",
       "coat motorcycl         0.00000\n",
       "tablet                 0.56484\n",
       "photographi            1.01838\n",
       "music                  1.15092\n",
       "bed                    3.05845\n",
       "antiqu                 6.77575\n",
       "applianc               6.98915\n",
       "purs                  10.91279\n",
       "audio                 11.00898\n",
       "instrument            16.46856\n",
       "camera                17.89984\n",
       "comput                28.84870\n",
       "dtype: float64"
      ]
     },
     "execution_count": 228,
     "metadata": {},
     "output_type": "execute_result"
    }
   ],
   "source": [
    "from sklearn.feature_extraction.text import CountVectorizer\n",
    "from sklearn.linear_model import Lasso\n",
    "vectorizer = CountVectorizer(vocabulary=vocabulary)\n",
    "X=vectorizer.fit_transform(all_cat_counts['clean_category_name'])\n",
    "reg=Lasso(alpha=0.1)\n",
    "reg.fit(X.todense(),all_cat_counts['mean_price'])\n",
    "coef=pd.Series(reg.coef_,index=vocabulary)\n",
    "pd.set_option('display.float_format', lambda x: '%.5f' % x)\n",
    "coef.sort_values()\n",
    "#print reg.intercept_"
   ]
  },
  {
   "cell_type": "code",
   "execution_count": null,
   "metadata": {
    "collapsed": true
   },
   "outputs": [],
   "source": []
  },
  {
   "cell_type": "code",
   "execution_count": 220,
   "metadata": {
    "collapsed": false
   },
   "outputs": [
    {
     "data": {
      "text/plain": [
       "count                                 1476208\n",
       "unique                                   1278\n",
       "top       pant leg tight apparel athlet women\n",
       "freq                                    60177\n",
       "Name: clean_cat, dtype: object"
      ]
     },
     "execution_count": 220,
     "metadata": {},
     "output_type": "execute_result"
    }
   ],
   "source": [
    "df_raw_train['clean_cat'].describe()\n",
    "#cat_mapping"
   ]
  },
  {
   "cell_type": "code",
   "execution_count": 221,
   "metadata": {
    "collapsed": false
   },
   "outputs": [
    {
     "data": {
      "text/html": [
       "<div>\n",
       "<table border=\"1\" class=\"dataframe\">\n",
       "  <thead>\n",
       "    <tr style=\"text-align: right;\">\n",
       "      <th></th>\n",
       "      <th>train_id</th>\n",
       "      <th>item_condition_id</th>\n",
       "      <th>price</th>\n",
       "      <th>shipping</th>\n",
       "      <th>price_lower_bound</th>\n",
       "      <th>price_upper_bound</th>\n",
       "      <th>price_clean</th>\n",
       "    </tr>\n",
       "  </thead>\n",
       "  <tbody>\n",
       "    <tr>\n",
       "      <th>count</th>\n",
       "      <td>1482535.00000</td>\n",
       "      <td>1482535.00000</td>\n",
       "      <td>1482535.00000</td>\n",
       "      <td>1482535.00000</td>\n",
       "      <td>1482535.00000</td>\n",
       "      <td>1482535.00000</td>\n",
       "      <td>1482535.00000</td>\n",
       "    </tr>\n",
       "    <tr>\n",
       "      <th>mean</th>\n",
       "      <td>741267.00000</td>\n",
       "      <td>1.90738</td>\n",
       "      <td>26.73752</td>\n",
       "      <td>0.44727</td>\n",
       "      <td>7.12295</td>\n",
       "      <td>68.75210</td>\n",
       "      <td>24.71331</td>\n",
       "    </tr>\n",
       "    <tr>\n",
       "      <th>std</th>\n",
       "      <td>427971.13500</td>\n",
       "      <td>0.90316</td>\n",
       "      <td>38.58607</td>\n",
       "      <td>0.49721</td>\n",
       "      <td>2.58184</td>\n",
       "      <td>51.85957</td>\n",
       "      <td>26.47087</td>\n",
       "    </tr>\n",
       "    <tr>\n",
       "      <th>min</th>\n",
       "      <td>0.00000</td>\n",
       "      <td>1.00000</td>\n",
       "      <td>0.00000</td>\n",
       "      <td>0.00000</td>\n",
       "      <td>3.00000</td>\n",
       "      <td>4.00000</td>\n",
       "      <td>3.00000</td>\n",
       "    </tr>\n",
       "    <tr>\n",
       "      <th>25%</th>\n",
       "      <td>370633.50000</td>\n",
       "      <td>1.00000</td>\n",
       "      <td>10.00000</td>\n",
       "      <td>0.00000</td>\n",
       "      <td>5.00000</td>\n",
       "      <td>40.00000</td>\n",
       "      <td>10.00000</td>\n",
       "    </tr>\n",
       "    <tr>\n",
       "      <th>50%</th>\n",
       "      <td>741267.00000</td>\n",
       "      <td>2.00000</td>\n",
       "      <td>17.00000</td>\n",
       "      <td>0.00000</td>\n",
       "      <td>7.00000</td>\n",
       "      <td>55.85000</td>\n",
       "      <td>17.00000</td>\n",
       "    </tr>\n",
       "    <tr>\n",
       "      <th>75%</th>\n",
       "      <td>1111900.50000</td>\n",
       "      <td>3.00000</td>\n",
       "      <td>29.00000</td>\n",
       "      <td>1.00000</td>\n",
       "      <td>9.00000</td>\n",
       "      <td>78.00000</td>\n",
       "      <td>29.00000</td>\n",
       "    </tr>\n",
       "    <tr>\n",
       "      <th>max</th>\n",
       "      <td>1482534.00000</td>\n",
       "      <td>5.00000</td>\n",
       "      <td>2009.00000</td>\n",
       "      <td>1.00000</td>\n",
       "      <td>195.00000</td>\n",
       "      <td>693.60000</td>\n",
       "      <td>693.60000</td>\n",
       "    </tr>\n",
       "  </tbody>\n",
       "</table>\n",
       "</div>"
      ],
      "text/plain": [
       "           train_id  item_condition_id         price      shipping  \\\n",
       "count 1482535.00000      1482535.00000 1482535.00000 1482535.00000   \n",
       "mean   741267.00000            1.90738      26.73752       0.44727   \n",
       "std    427971.13500            0.90316      38.58607       0.49721   \n",
       "min         0.00000            1.00000       0.00000       0.00000   \n",
       "25%    370633.50000            1.00000      10.00000       0.00000   \n",
       "50%    741267.00000            2.00000      17.00000       0.00000   \n",
       "75%   1111900.50000            3.00000      29.00000       1.00000   \n",
       "max   1482534.00000            5.00000    2009.00000       1.00000   \n",
       "\n",
       "       price_lower_bound  price_upper_bound   price_clean  \n",
       "count      1482535.00000      1482535.00000 1482535.00000  \n",
       "mean             7.12295           68.75210      24.71331  \n",
       "std              2.58184           51.85957      26.47087  \n",
       "min              3.00000            4.00000       3.00000  \n",
       "25%              5.00000           40.00000      10.00000  \n",
       "50%              7.00000           55.85000      17.00000  \n",
       "75%              9.00000           78.00000      29.00000  \n",
       "max            195.00000          693.60000     693.60000  "
      ]
     },
     "execution_count": 221,
     "metadata": {},
     "output_type": "execute_result"
    }
   ],
   "source": [
    "df_raw_train.describe()"
   ]
  }
 ],
 "metadata": {
  "kernelspec": {
   "display_name": "Python 2",
   "language": "python",
   "name": "python2"
  },
  "language_info": {
   "codemirror_mode": {
    "name": "ipython",
    "version": 2
   },
   "file_extension": ".py",
   "mimetype": "text/x-python",
   "name": "python",
   "nbconvert_exporter": "python",
   "pygments_lexer": "ipython2",
   "version": "2.7.13"
  }
 },
 "nbformat": 4,
 "nbformat_minor": 2
}
