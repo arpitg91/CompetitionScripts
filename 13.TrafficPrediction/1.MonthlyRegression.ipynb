{
 "cells": [
  {
   "cell_type": "code",
   "execution_count": 118,
   "metadata": {
    "collapsed": true
   },
   "outputs": [],
   "source": [
    "import os,sys\n",
    "os.chdir('C:/Users/arpit.goel/Documents/Projects/Kaggle/13.TrafficPrediction')\n",
    "from datetime import datetime\n",
    "from datetime import date\n",
    "import pandas as pd\n",
    "import numpy as np\n",
    "from scipy import stats"
   ]
  },
  {
   "cell_type": "code",
   "execution_count": 37,
   "metadata": {
    "collapsed": true
   },
   "outputs": [],
   "source": [
    "df_train=pd.read_csv('train_aWnotuB.csv',parse_dates=['DateTime'])\n",
    "df_test=pd.read_csv('test_BdBKkAj.csv',parse_dates=['DateTime'])\n"
   ]
  },
  {
   "cell_type": "code",
   "execution_count": 14,
   "metadata": {},
   "outputs": [
    {
     "data": {
      "text/html": [
       "<div>\n",
       "<style>\n",
       "    .dataframe thead tr:only-child th {\n",
       "        text-align: right;\n",
       "    }\n",
       "\n",
       "    .dataframe thead th {\n",
       "        text-align: left;\n",
       "    }\n",
       "\n",
       "    .dataframe tbody tr th {\n",
       "        vertical-align: top;\n",
       "    }\n",
       "</style>\n",
       "<table border=\"1\" class=\"dataframe\">\n",
       "  <thead>\n",
       "    <tr style=\"text-align: right;\">\n",
       "      <th></th>\n",
       "      <th>DateTime</th>\n",
       "      <th>Junction</th>\n",
       "      <th>Vehicles</th>\n",
       "      <th>ID</th>\n",
       "    </tr>\n",
       "  </thead>\n",
       "  <tbody>\n",
       "    <tr>\n",
       "      <th>0</th>\n",
       "      <td>2015-11-01 00:00:00</td>\n",
       "      <td>1</td>\n",
       "      <td>15</td>\n",
       "      <td>20151101001</td>\n",
       "    </tr>\n",
       "    <tr>\n",
       "      <th>1</th>\n",
       "      <td>2015-11-01 01:00:00</td>\n",
       "      <td>1</td>\n",
       "      <td>13</td>\n",
       "      <td>20151101011</td>\n",
       "    </tr>\n",
       "    <tr>\n",
       "      <th>2</th>\n",
       "      <td>2015-11-01 02:00:00</td>\n",
       "      <td>1</td>\n",
       "      <td>10</td>\n",
       "      <td>20151101021</td>\n",
       "    </tr>\n",
       "    <tr>\n",
       "      <th>3</th>\n",
       "      <td>2015-11-01 03:00:00</td>\n",
       "      <td>1</td>\n",
       "      <td>7</td>\n",
       "      <td>20151101031</td>\n",
       "    </tr>\n",
       "    <tr>\n",
       "      <th>4</th>\n",
       "      <td>2015-11-01 04:00:00</td>\n",
       "      <td>1</td>\n",
       "      <td>9</td>\n",
       "      <td>20151101041</td>\n",
       "    </tr>\n",
       "  </tbody>\n",
       "</table>\n",
       "</div>"
      ],
      "text/plain": [
       "             DateTime  Junction  Vehicles           ID\n",
       "0 2015-11-01 00:00:00         1        15  20151101001\n",
       "1 2015-11-01 01:00:00         1        13  20151101011\n",
       "2 2015-11-01 02:00:00         1        10  20151101021\n",
       "3 2015-11-01 03:00:00         1         7  20151101031\n",
       "4 2015-11-01 04:00:00         1         9  20151101041"
      ]
     },
     "execution_count": 14,
     "metadata": {},
     "output_type": "execute_result"
    }
   ],
   "source": [
    "df_train.head()"
   ]
  },
  {
   "cell_type": "code",
   "execution_count": 136,
   "metadata": {
    "collapsed": true
   },
   "outputs": [],
   "source": [
    "def get_vars(df):\n",
    "    df['year']=df['DateTime'].dt.year\n",
    "    df['month']=df['DateTime'].dt.month\n",
    "    df['day']=df['DateTime'].dt.day\n",
    "    df['hour']=df['DateTime'].dt.hour\n",
    "    df['day_of_week']=df['DateTime'].dt.dayofweek\n",
    "    df['sunday_flag']=(df['day_of_week']==6).astype(np.int64)\n",
    "    df['saturday_flag']=(df['day_of_week']==5).astype(np.int64)\n",
    "    df['weekday_flag']=(df['day_of_week']<=4).astype(np.int64)\n",
    "    df['encoded_month']=12*df['year']+df['month']-24191\n",
    "    df['encoded_day']=(df['DateTime']-date(2015,11,1)).dt.days\n",
    "    return df\n",
    "\n",
    "train=get_vars(df_train)\n",
    "test=get_vars(df_test)"
   ]
  },
  {
   "cell_type": "code",
   "execution_count": 137,
   "metadata": {
    "collapsed": true,
    "scrolled": true
   },
   "outputs": [],
   "source": [
    "#Clean the day level traffic\n",
    "day_junction_avg=train.groupby(['Junction','encoded_day','encoded_month'])['Vehicles'].mean().reset_index()\n",
    "day_junction_avg_prev=day_junction_avg.drop('encoded_month',axis=1)\n",
    "day_junction_avg_prev['encoded_day']=day_junction_avg_prev['encoded_day']+1\n",
    "day_junction_avg_next=day_junction_avg.drop('encoded_month',axis=1)\n",
    "day_junction_avg_next['encoded_day']=day_junction_avg_next['encoded_day']-1\n",
    "day_junction_avg_1=pd.merge(day_junction_avg_next,day_junction_avg_prev,on=['encoded_day','Junction'],how='outer')\n",
    "day_junction_avg_1=pd.merge(day_junction_avg,day_junction_avg_1,on=['encoded_day','Junction'],how='outer')\n",
    "day_junction_avg_1['%Change1']=100.0*(day_junction_avg_1['Vehicles_y']/day_junction_avg_1['Vehicles']-1)\n",
    "day_junction_avg_1['%Change2']=100.0*(day_junction_avg_1['Vehicles']/day_junction_avg_1['Vehicles_x']-1)\n",
    "day_junction_avg_1['%Change']=(day_junction_avg_1['%Change1']*day_junction_avg_1['%Change2']).fillna(0)\n",
    "day_junction_avg_1['%Change'].describe(percentiles=[0.01,0.05,0.1,0.25,0.5,0.75,0.9,0.95,0.99])\n",
    "day_junction_avg_1=day_junction_avg_1[np.logical_and(day_junction_avg_1['%Change']<300,day_junction_avg_1['%Change']>-300)]"
   ]
  },
  {
   "cell_type": "code",
   "execution_count": 165,
   "metadata": {},
   "outputs": [
    {
     "name": "stdout",
     "output_type": "stream",
     "text": [
      "{1: [2.93, 18.59], 2: [0.9, 6.18], 3: [0.5, 8.65], 4: [0.17, 5.19]}\n"
     ]
    }
   ],
   "source": [
    "#Get Monthly averages and coefficients for regression\n",
    "#slope, intercept, r_value, p_value, std_err = stats.linregress(x,y)\n",
    "regression_params={}\n",
    "monthly_avgs=day_junction_avg_1.groupby(['encoded_month','Junction'])['Vehicles'].mean().reset_index()\n",
    "for name, group in monthly_avgs.groupby(['Junction']):\n",
    "    group=group[group['Vehicles']>7]\n",
    "    slope, intercept, r_value, p_value, std_err = stats.linregress(group['encoded_month'],group['Vehicles'])\n",
    "    regression_params[name]=[round(slope,2), round(intercept,2)]\n",
    "\n",
    "print regression_params"
   ]
  },
  {
   "cell_type": "code",
   "execution_count": 153,
   "metadata": {
    "collapsed": true
   },
   "outputs": [],
   "source": [
    "#Score using monthly averages\n",
    "def score_monthly_regression(df):\n",
    "    slope=df['Junction'].map(lambda x: regression_params[x][0])\n",
    "    intercept=df['Junction'].map(lambda x: regression_params[x][1])\n",
    "    return intercept+slope*df['encoded_month']\n",
    "\n",
    "test['Vehicles']=score_monthly_regression(test)\n",
    "test[['ID','Vehicles']].to_csv('Submission_Monthly_Regression.csv',index=False)"
   ]
  },
  {
   "cell_type": "code",
   "execution_count": 163,
   "metadata": {
    "collapsed": true
   },
   "outputs": [],
   "source": [
    "train['Vehicles_monthly_regression']=score_monthly_regression(train)\n",
    "test['Vehicles_monthly_regression']=score_monthly_regression(test)\n",
    "\n",
    "train['Delta']=train['Vehicles']-train['Vehicles_monthly_regression']\n",
    "weekday_delta=train.groupby(['day_of_week','Junction'])['Delta'].mean().to_dict()\n",
    "train['Vehicles_monthly_regression']=train['Vehicles_monthly_regression']+\\\n",
    "                        train.apply(lambda x: weekday_delta[(x['day_of_week'],x['Junction'])],axis=1)\n",
    "    \n",
    "test['Vehicles']=test['Vehicles_monthly_regression']+\\\n",
    "                        test.apply(lambda x: weekday_delta[(x['day_of_week'],x['Junction'])],axis=1) \n",
    "\n",
    "test[['ID','Vehicles']].to_csv('Submission_Monthly_Regression_with_weekday.csv',index=False)"
   ]
  },
  {
   "cell_type": "code",
   "execution_count": 161,
   "metadata": {},
   "outputs": [
    {
     "data": {
      "text/html": [
       "<div>\n",
       "<style>\n",
       "    .dataframe thead tr:only-child th {\n",
       "        text-align: right;\n",
       "    }\n",
       "\n",
       "    .dataframe thead th {\n",
       "        text-align: left;\n",
       "    }\n",
       "\n",
       "    .dataframe tbody tr th {\n",
       "        vertical-align: top;\n",
       "    }\n",
       "</style>\n",
       "<table border=\"1\" class=\"dataframe\">\n",
       "  <thead>\n",
       "    <tr style=\"text-align: right;\">\n",
       "      <th>Junction</th>\n",
       "      <th>1</th>\n",
       "      <th>2</th>\n",
       "      <th>3</th>\n",
       "      <th>4</th>\n",
       "    </tr>\n",
       "    <tr>\n",
       "      <th>day_of_week</th>\n",
       "      <th></th>\n",
       "      <th></th>\n",
       "      <th></th>\n",
       "      <th></th>\n",
       "    </tr>\n",
       "  </thead>\n",
       "  <tbody>\n",
       "    <tr>\n",
       "      <th>0</th>\n",
       "      <td>1.082148e-15</td>\n",
       "      <td>-9.130202e-15</td>\n",
       "      <td>5.226981e-15</td>\n",
       "      <td>-2.728587e-15</td>\n",
       "    </tr>\n",
       "    <tr>\n",
       "      <th>1</th>\n",
       "      <td>7.384472e-15</td>\n",
       "      <td>-2.075819e-15</td>\n",
       "      <td>7.728173e-15</td>\n",
       "      <td>1.730809e-15</td>\n",
       "    </tr>\n",
       "    <tr>\n",
       "      <th>2</th>\n",
       "      <td>-2.058124e-14</td>\n",
       "      <td>6.615398e-15</td>\n",
       "      <td>-5.274623e-16</td>\n",
       "      <td>9.735802e-16</td>\n",
       "    </tr>\n",
       "    <tr>\n",
       "      <th>3</th>\n",
       "      <td>3.811340e-15</td>\n",
       "      <td>-3.396176e-15</td>\n",
       "      <td>-5.529846e-15</td>\n",
       "      <td>2.180592e-15</td>\n",
       "    </tr>\n",
       "    <tr>\n",
       "      <th>4</th>\n",
       "      <td>-5.934801e-15</td>\n",
       "      <td>1.330566e-15</td>\n",
       "      <td>3.661609e-15</td>\n",
       "      <td>-1.113070e-14</td>\n",
       "    </tr>\n",
       "    <tr>\n",
       "      <th>5</th>\n",
       "      <td>-1.427695e-13</td>\n",
       "      <td>-1.012110e-14</td>\n",
       "      <td>1.182172e-14</td>\n",
       "      <td>-1.115552e-14</td>\n",
       "    </tr>\n",
       "    <tr>\n",
       "      <th>6</th>\n",
       "      <td>-3.044308e-14</td>\n",
       "      <td>4.396653e-15</td>\n",
       "      <td>-5.842921e-15</td>\n",
       "      <td>6.023672e-15</td>\n",
       "    </tr>\n",
       "  </tbody>\n",
       "</table>\n",
       "</div>"
      ],
      "text/plain": [
       "Junction                1             2             3             4\n",
       "day_of_week                                                        \n",
       "0            1.082148e-15 -9.130202e-15  5.226981e-15 -2.728587e-15\n",
       "1            7.384472e-15 -2.075819e-15  7.728173e-15  1.730809e-15\n",
       "2           -2.058124e-14  6.615398e-15 -5.274623e-16  9.735802e-16\n",
       "3            3.811340e-15 -3.396176e-15 -5.529846e-15  2.180592e-15\n",
       "4           -5.934801e-15  1.330566e-15  3.661609e-15 -1.113070e-14\n",
       "5           -1.427695e-13 -1.012110e-14  1.182172e-14 -1.115552e-14\n",
       "6           -3.044308e-14  4.396653e-15 -5.842921e-15  6.023672e-15"
      ]
     },
     "execution_count": 161,
     "metadata": {},
     "output_type": "execute_result"
    }
   ],
   "source": [
    "train['Delta']=train['Vehicles']-train['Vehicles_monthly_regression']\n",
    "train.groupby(['day_of_week','Junction'])['Delta'].mean().unstack()"
   ]
  }
 ],
 "metadata": {
  "kernelspec": {
   "display_name": "Python 2",
   "language": "python",
   "name": "python2"
  },
  "language_info": {
   "codemirror_mode": {
    "name": "ipython",
    "version": 2
   },
   "file_extension": ".py",
   "mimetype": "text/x-python",
   "name": "python",
   "nbconvert_exporter": "python",
   "pygments_lexer": "ipython2",
   "version": "2.7.13"
  }
 },
 "nbformat": 4,
 "nbformat_minor": 2
}
