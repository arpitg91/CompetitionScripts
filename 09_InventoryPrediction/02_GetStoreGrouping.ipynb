{
 "cells": [
  {
   "cell_type": "markdown",
   "metadata": {
    "_cell_guid": "3b594320-8094-c257-7d7e-ed603b9bf591"
   },
   "source": [
    "The methods used to generate the filter terms involved looking at the most frequent words/client names for clues about what types of establishments were mentioned in this data set. \n",
    "\n",
    "Developing the filters took a fair amount of \"human\" sleuthing while looking at TF-IDF scores, frequency counts of Client names, as well as just general knowledge of common Spanish words used to refer to certain establishment types. Especially with all the noise provided by the Clients referred to only by a proper name, the filtered data is a proportionally small figure- but, significant."
   ]
  },
  {
   "cell_type": "code",
   "execution_count": 8,
   "metadata": {
    "_cell_guid": "ea1ed3af-7c78-af45-48eb-63318a2b7442",
    "collapsed": true
   },
   "outputs": [],
   "source": [
    "# This Python 3 environment comes with many helpful analytics libraries installed\n",
    "# It is defined by the kaggle/python docker image: https://github.com/kaggle/docker-python\n",
    "# For example, here's several helpful packages to load in \n",
    "\n",
    "import numpy as np # linear algebra\n",
    "import pandas as pd # data processing, CSV file I/O (e.g. pd.read_csv)\n",
    "\n",
    "# Input data files are available in the \"../input/\" directory.\n",
    "# For example, running this (by clicking run or pressing Shift+Enter) will list the files in the input directory\n",
    "\n",
    "from subprocess import check_output\n",
    "#print(check_output([\"ls\", \"../input\"]).decode(\"utf8\"))\n",
    "\n",
    "# Any results you write to the current directory are saved as output.\n",
    "\n",
    "# Load in the Client Name data\n",
    "# Make sure all names uppercase (there are some mixed instances)\n",
    "pd.set_option('display.max_rows', 50)\n",
    "vf = pd.read_csv('/data/arpit.goel/18_InventoryPrediction/02.ExtractedData/cliente_tabla.csv',header=0)\n",
    "vf['NombreCliente'] = vf['NombreCliente'].str.upper()"
   ]
  },
  {
   "cell_type": "code",
   "execution_count": 9,
   "metadata": {
    "_cell_guid": "bd0d3505-f09a-a87a-cd21-2eed0ab908a9",
    "collapsed": false,
    "scrolled": true
   },
   "outputs": [
    {
     "data": {
      "text/plain": [
       "NO IDENTIFICADO    281670\n",
       "LUPITA               4863\n",
       "MARY                 3016\n",
       "LA PASADITA          2426\n",
       "LA VENTANITA         2267\n",
       "LA GUADALUPANA       1299\n",
       "ROSY                 1246\n",
       "ALEX                 1242\n",
       "GABY                 1238\n",
       "LA ESCONDIDA         1216\n",
       "PATY                 1145\n",
       "LA ESPERANZA         1139\n",
       "HERNANDEZ            1129\n",
       "LA CHIQUITA          1118\n",
       "DANY                 1082\n",
       "GARCIA               1062\n",
       "JUQUILITA            1022\n",
       "MARTINEZ              987\n",
       "LA TIENDITA           914\n",
       "3 HERMANOS            913\n",
       "DIANA                 894\n",
       "MI TIENDITA           881\n",
       "SAN JOSE              851\n",
       "LA PROVIDENCIA        842\n",
       "GONZALEZ              826\n",
       "                    ...  \n",
       "VERONICA              256\n",
       "CECY                  253\n",
       "LAS GEMELAS           252\n",
       "LA BODEGUITA          250\n",
       "MARIBEL               249\n",
       "RUIZ                  249\n",
       "EL CRUCERO            249\n",
       "LUZ                   248\n",
       "EL SOL                248\n",
       "LA POBLANITA          248\n",
       "CHAYITO               247\n",
       "MONICA                244\n",
       "ALMA                  244\n",
       "EL PARAISO            242\n",
       "JOSEFINA              242\n",
       "VENTANITA             242\n",
       "4 HERMANOS            242\n",
       "FLOR                  241\n",
       "FANY                  240\n",
       "ROSSY                 240\n",
       "ORTIZ                 239\n",
       "LA CURVA              238\n",
       "RIVERA                238\n",
       "TANIA                 238\n",
       "JUAREZ                236\n",
       "Name: NombreCliente, dtype: int64"
      ]
     },
     "execution_count": 9,
     "metadata": {},
     "output_type": "execute_result"
    }
   ],
   "source": [
    "# Begin with a scan of the Client Name Data based on Top Frequency Client Names\n",
    "# Notice there are a lot of Proper Names\n",
    "vf['NombreCliente'].value_counts()[0:200]"
   ]
  },
  {
   "cell_type": "code",
   "execution_count": 10,
   "metadata": {
    "_cell_guid": "90d7e98e-d2d2-bdb1-2ea9-cfeb284fff69",
    "collapsed": true
   },
   "outputs": [],
   "source": [
    "# Let's also generate a list of individual word frequency across all names\n",
    "def tfidf_score_list(vf2, list_len):\n",
    "    from sklearn.feature_extraction.text import TfidfVectorizer\n",
    "    v = TfidfVectorizer()\n",
    "\n",
    "    vf2['New'] = 'na'\n",
    "    a = \" \".join(vf2['NombreCliente'])\n",
    "    vf2['New'][0] = a\n",
    "\n",
    "    tfidf = v.fit_transform(vf2['New'])\n",
    "\n",
    "    feature_names = v.get_feature_names()\n",
    "\n",
    "    freq = []\n",
    "    doc = 0\n",
    "    feature_index = tfidf[doc,:].nonzero()[1]\n",
    "    tfidf_scores = zip(feature_index, [tfidf[doc, x] for x in feature_index])\n",
    "    for w, s in [(feature_names[i], s) for (i, s) in tfidf_scores]:\n",
    "            freq.append((w.encode('utf-8'),s))\n",
    "    \n",
    "    del vf2['New']\n",
    "    \n",
    "    import numpy as np\n",
    "    names = ['word','score']\n",
    "    formats = ['S50','f8']\n",
    "    dtype = dict(names = names, formats=formats)\n",
    "    array = np.array(freq, dtype=dtype)\n",
    "\n",
    "    b = np.sort(array, order='score')\n",
    "    \n",
    "    if list_len > len(b)+1:\n",
    "        list_len = len(b)+1\n",
    "    for i in range(1,list_len):\n",
    "        print(b[-i])"
   ]
  },
  {
   "cell_type": "code",
   "execution_count": 11,
   "metadata": {
    "_cell_guid": "df442457-7ff7-9fe3-c98f-cb3364c8abbd",
    "collapsed": false,
    "scrolled": true
   },
   "outputs": [
    {
     "name": "stderr",
     "output_type": "stream",
     "text": [
      "/data/arpit.goel/anacondainstall/lib/python2.7/site-packages/ipykernel/__main__.py:8: SettingWithCopyWarning: \n",
      "A value is trying to be set on a copy of a slice from a DataFrame\n",
      "\n",
      "See the caveats in the documentation: http://pandas.pydata.org/pandas-docs/stable/indexing.html#indexing-view-versus-copy\n"
     ]
    },
    {
     "name": "stdout",
     "output_type": "stream",
     "text": [
      "('no', 0.6888126004393861)\n",
      "('identificado', 0.6849292193081505)\n",
      "('la', 0.14990532034895288)\n",
      "('el', 0.08328478631485127)\n",
      "('abarrotes', 0.0800093233318993)\n",
      "('de', 0.060769929775020375)\n",
      "('maria', 0.046819424108208656)\n",
      "('miscelanea', 0.038050812737366206)\n",
      "('super', 0.03520332413080589)\n",
      "('los', 0.02841652592336794)\n",
      "('san', 0.025741686070920162)\n",
      "('oxxo', 0.02257321668206611)\n",
      "('del', 0.021668634477420134)\n",
      "('garcia', 0.021376833766244014)\n",
      "('hernandez', 0.02099506116912192)\n",
      "('jose', 0.019835153342196838)\n",
      "('lupita', 0.019261278610217134)\n",
      "('gonzalez', 0.01775850494766011)\n",
      "('martinez', 0.01764664800837593)\n",
      "('lopez', 0.017150586799376526)\n",
      "('mini', 0.015331695699712036)\n",
      "('rodriguez', 0.014891562960354718)\n",
      "('las', 0.01388971385198337)\n",
      "('don', 0.012542567235386944)\n",
      "('comodin', 0.01238450851683321)\n",
      "('guadalupe', 0.012357760118308733)\n",
      "('mary', 0.012270219904955897)\n",
      "('jesus', 0.012024620973049328)\n",
      "('ramirez', 0.011995440901931718)\n",
      "('juan', 0.011966260830814104)\n",
      "('casa', 0.011929785741917089)\n",
      "('ag', 0.011820360475226043)\n",
      "('sanchez', 0.011567466525540072)\n",
      "('perez', 0.011192988946197384)\n",
      "('farmacia', 0.011115175423217084)\n",
      "('hermanos', 0.010881734854276187)\n",
      "('cruz', 0.01042458040676693)\n",
      "('flores', 0.009619696778439463)\n",
      "('mi', 0.008992325249410802)\n",
      "('rosa', 0.008676207812303337)\n",
      "('carmen', 0.008549760837460353)\n",
      "('diconsa', 0.008435472225583038)\n",
      "('papeleria', 0.008204463329235275)\n",
      "('luis', 0.008189873293676469)\n",
      "('torres', 0.007915094290652288)\n",
      "('tienda', 0.007907799272872884)\n",
      "('ventanita', 0.007778920625436765)\n",
      "('ii', 0.007338787886079448)\n",
      "('gomez', 0.007270701053471686)\n",
      "('pasadita', 0.007265837708285418)\n",
      "('cremeria', 0.007226930946795268)\n",
      "('reyes', 0.007141822406035567)\n",
      "('francisco', 0.006660351232594967)\n",
      "('antonio', 0.0066554878874086985)\n",
      "('esperanza', 0.006653056214815564)\n",
      "('ana', 0.00665062454222243)\n",
      "('puesto', 0.00655578931109019)\n",
      "('martha', 0.006529040912565712)\n",
      "('luz', 0.006475544115516757)\n",
      "('santa', 0.0064536590621785475)\n",
      "('angel', 0.006293168671031681)\n",
      "('vazquez', 0.006271283617693472)\n",
      "('gutierrez', 0.006174016713968098)\n",
      "('hamburguesas', 0.006154563333223023)\n",
      "('tiendita', 0.006059728102090784)\n",
      "('diaz', 0.005938144472434066)\n",
      "('miguel', 0.005792244116846006)\n",
      "('jimenez', 0.00564877543385108)\n",
      "('escuela', 0.0056025736545815275)\n",
      "('gloria', 0.0055588035479051095)\n",
      "('centro', 0.005527191804194363)\n",
      "('misc', 0.005403176501944511)\n",
      "('manuel', 0.0054007448293513765)\n",
      "('elena', 0.005303477925626003)\n",
      "('angeles', 0.005293751235253466)\n",
      "('ma', 0.005174599278189883)\n",
      "('morales', 0.005145419207072271)\n",
      "('abts', 0.005121102481140927)\n",
      "('teresa', 0.004958180417400927)\n",
      "('ruiz', 0.0049095469655382395)\n",
      "('margarita', 0.004839028460337343)\n",
      "('juana', 0.004804985044033463)\n",
      "('guadalupana', 0.004768509955136448)\n",
      "('chavez', 0.00475878326476391)\n",
      "('alex', 0.004683401414376746)\n",
      "('do\\xc3\\xb1a', 0.004671243051411074)\n",
      "('carniceria', 0.004639631307700328)\n",
      "('martin', 0.004622609599548387)\n",
      "('isabel', 0.004610451236582715)\n",
      "('mendoza', 0.0045131843328573415)\n",
      "('alicia', 0.004413485756538833)\n",
      "('aguilar', 0.0043964640483868936)\n",
      "('carlos', 0.004330808888372266)\n",
      "('fruteria', 0.0043040604898477875)\n",
      "('gaby', 0.004270017073543907)\n",
      "('rosy', 0.004265153728357638)\n",
      "('nueva', 0.004235973657240027)\n",
      "('estrella', 0.004165455152039131)\n",
      "('deposito', 0.004141138426107787)\n",
      "('juarez', 0.004128980063142115)\n",
      "('alvarez', 0.004082778283872563)\n",
      "('moreno', 0.004056029885348085)\n",
      "('cafeteria', 0.00405359821275495)\n",
      "('ortiz', 0.004031713159416741)\n",
      "('rivera', 0.004000101415705995)\n",
      "('castillo', 0.003978216362367786)\n",
      "('dany', 0.003953899636436442)\n",
      "('pedro', 0.0038882444764218155)\n",
      "('luna', 0.0038882444764218155)\n",
      "('paty', 0.003871222768269875)\n",
      "('secundaria', 0.0037228907400886795)\n",
      "('guzman', 0.003681552306005396)\n",
      "('dulces', 0.0036402138719221124)\n",
      "('providencia', 0.003618328818583903)\n",
      "('escondida', 0.0036037387830250974)\n",
      "('rosario', 0.0035696953667212167)\n",
      "('diana', 0.0035186302422653953)\n",
      "('ramos', 0.0035064718792997235)\n",
      "('chiquita', 0.0034845868259615145)\n",
      "('express', 0.003477291808182111)\n",
      "('medina', 0.003474860135588977)\n",
      "('reyna', 0.0034456800644713645)\n",
      "('esc', 0.0034456800644713645)\n",
      "('juquilita', 0.0033994782852018123)\n",
      "('laura', 0.0033775932318636033)\n",
      "('sol', 0.0033630031963047973)\n",
      "('romero', 0.0033459814881528567)\n",
      "('flor', 0.0033411181429665883)\n",
      "('silvia', 0.003299779708883304)\n",
      "('rosita', 0.003290053018510767)\n",
      "('minisuper', 0.0032851896733244977)\n",
      "('blanca', 0.0032657362925794233)\n",
      "('jorge', 0.0032584412748000204)\n",
      "('javier', 0.003253577929613752)\n",
      "('modelorama', 0.0032389878940549456)\n",
      "('leon', 0.0031976494599716613)\n",
      "('guerrero', 0.0031976494599716613)\n",
      "('fe', 0.003190354442192259)\n",
      "('vargas', 0.003122267609584497)\n",
      "('eleven', 0.003012842342893452)\n",
      "('victoria', 0.002990957289555243)\n",
      "('castro', 0.002930165474726884)\n",
      "('loncheria', 0.0029058487487955407)\n",
      "('tres', 0.0028985537310161373)\n",
      "('esquina', 0.0028888270406436)\n",
      "('angelica', 0.0028888270406436)\n",
      "('leticia', 0.0028450569339671817)\n",
      "('josefina', 0.0028304668984083757)\n",
      "('mercado', 0.002803718499883898)\n",
      "('lucy', 0.002789128464325092)\n",
      "('irma', 0.0027769701013594206)\n",
      "('mendez', 0.002769675083580017)\n",
      "('lety', 0.002769675083580017)\n",
      "('vinos', 0.002767243410986883)\n",
      "('comercial', 0.0027648117383937483)\n",
      "('claudia', 0.0027575167206143458)\n",
      "('espinoza', 0.0027356316672761363)\n",
      "('tere', 0.0027210416317173304)\n",
      "('yolanda', 0.0027137466139379274)\n",
      "('villa', 0.0027015882509722556)\n",
      "('esmeralda', 0.002689429888006584)\n",
      "('herrera', 0.0026748398524477778)\n",
      "('luisa', 0.0026675448346683748)\n",
      "('restaurant', 0.0026651131620752406)\n",
      "('licores', 0.0026602498168889718)\n",
      "('doa', 0.0026578181442958376)\n",
      "('expendio', 0.00263106974577136)\n",
      "('hotel', 0.002599458002060613)\n",
      "('dios', 0.00259216298428121)\n",
      "('juanita', 0.0025872996390949414)\n",
      "('colegio', 0.0025872996390949414)\n",
      "('valle', 0.00257514127612927)\n",
      "('dulceria', 0.0025654145857567324)\n",
      "('primaria', 0.002555687895384195)\n",
      "('caseta', 0.0025532562227910606)\n",
      "('local', 0.0025508245501979264)\n",
      "('hot', 0.0025459612050116576)\n",
      "('contreras', 0.00253623451463912)\n",
      "('estrada', 0.002528939496859717)\n",
      "('anita', 0.00251921280648718)\n",
      "('velazquez', 0.0025143494613009115)\n",
      "('karen', 0.002497327753148971)\n",
      "('salvador', 0.002477874372403896)\n",
      "('rocio', 0.0024535576464725524)\n",
      "('cv', 0.0024438309561000153)\n",
      "('alejandra', 0.0024316725931343435)\n",
      "('consumo', 0.0024195142301686717)\n",
      "('socorro', 0.0024122192123892687)\n",
      "('rafael', 0.002387902486457925)\n",
      "('comedor', 0.002385470813864791)\n",
      "('patricia', 0.0023757441234922537)\n",
      "('ab', 0.002370880778305985)\n",
      "('sa', 0.002363585760526582)\n",
      "('jugos', 0.002356290742747179)\n",
      "('rio', 0.0023538590701540443)\n",
      "('lourdes', 0.002341700707188373)\n",
      "('ortega', 0.0023392690345952383)\n",
      "('salazar', 0.002329542344222701)\n",
      "('plaza', 0.0023271106716295665)\n"
     ]
    }
   ],
   "source": [
    "tfidf_score_list(vf, 200)"
   ]
  },
  {
   "cell_type": "markdown",
   "metadata": {
    "_cell_guid": "b0b380ad-daeb-d162-3afa-cda2beb1f238"
   },
   "source": [
    "Again, notice the prevalence of personal names. By looking at a long enough list, however, we can start to see some other useful terms appear such as particles of speech (i.e. 'ag', 'los', 'san') or more useful words like \"super\", \"oxxo\", \"mini\", \"comodin\". If I found a word that I thought represent a type of establishment, I'd double check it by doing a single search. If that search was fruitful and had a good amount of relevant results, I'd add it to my filter. An example of a single term search is below:"
   ]
  },
  {
   "cell_type": "code",
   "execution_count": 12,
   "metadata": {
    "_cell_guid": "f99fdec9-2183-336b-4823-a12415cf0faa",
    "collapsed": false,
    "scrolled": true
   },
   "outputs": [
    {
     "name": "stdout",
     "output_type": "stream",
     "text": [
      "        Cliente_ID                         NombreCliente\n",
      "78            1438                 CAFETRIA PREPARATORIA\n",
      "1095          5045         CAFETERIA DE LA SECUNDARIA 13\n",
      "1098          5048                     CAFETERIA PREPA 2\n",
      "1233          5416                             CAFETERIA\n",
      "1318          5612        CAFETERIA NORMAL DE PROFESORES\n",
      "1446          5908      CAFETERIA FACULTAD DE PSICOLOGIA\n",
      "2005          7463                  CAFETERIA DE LA UAEM\n",
      "2150          7922                       ICATI CAFETERIA\n",
      "2306          8317         CAFETERIA FACULTAD DE DERECHO\n",
      "2308          8319  CAFETERIA FACULTAD DE ADMINISTRACION\n",
      "2573          8979                             CAFETERIA\n",
      "2864          9956                               LA CAFE\n",
      "3147         10753                  CAFETERIA LA CARRETA\n",
      "3207         10844                  CAFETERIA EL JUBILEO\n",
      "3209         10846                  CAFETERIA LA CENTRAL\n",
      "3240         10913                  CAFETERIA DON ARTURO\n",
      "3243         10918                     CAFETERIA COLISEO\n",
      "3701         12031                            CAFE PARIS\n",
      "4346         13751                    CAFETERIA FACULTAD\n",
      "4766         15397                          RUSTICO CAFE\n",
      "4827         15629                         CAFE LA TORRE\n",
      "5491         17024          CAFETERIA PREPA 7 VESPERTINO\n",
      "5597         17252           CAFETERIA HOSPITAL TRINIDAD\n",
      "5910         17912                CAFE EL NUEVO HUATUSCO\n",
      "5926         17965                              CAFE P Z\n",
      "...            ...                                   ...\n",
      "928449     8210873                              AEROCAFE\n",
      "929049     8234198                CAFE INTERNET PACIFICO\n",
      "929110     8236711                      CAFETERIA FRAGOS\n",
      "929372     8250865                       CIBER CAFE NINO\n",
      "929511     8266059                       CAFETERIA LORAY\n",
      "929792     8276937                        CAFETERIA ADYS\n",
      "929895     8280710            RESTAURANTE CAFE LA FIESTA\n",
      "930155     8293191                  EL NUEVO WILLIS CAFE\n",
      "930235     8295611              CIBER CAFE MUNDO VIRTUAL\n",
      "931042     8390606          CAFETERIA ESTHER INT CONALEP\n",
      "931043     8390606         CAFETERIA ESTHER INT  CONALEP\n",
      "931148     8397676                           CAFE RUBENS\n",
      "931826     8565291                       CAFE SAN RAFAEL\n",
      "932328     9484515       SDN CAFETERIA2 2DA ZONA MILITAR\n",
      "932581     9506908                             CAFE TINA\n",
      "932801     9521368                         CAFETERIA MIX\n",
      "932977     9537141                           CAFE LUNNAH\n",
      "933415     9574912                 CAFETERIA CLUB CHIVAS\n",
      "933907     9622671                        CAFE LA GLORIA\n",
      "934245     9655254              CAFETERIA EXTENCION RIOS\n",
      "934488     9678492               CAFETERIA LA CASA VIEJA\n",
      "934720     9693686              SECUNDARIA 7 CAFETERIA 2\n",
      "934786     9702948                     NUEVO CAFE AZTECA\n",
      "934942     9711388                       CAFETERIA SALOM\n",
      "935214     9746888                     CAFETERIA LA VACA\n",
      "\n",
      "[2508 rows x 2 columns]\n"
     ]
    }
   ],
   "source": [
    "print(vf[vf['NombreCliente'].str.contains('.*CAFE.*')])"
   ]
  },
  {
   "cell_type": "markdown",
   "metadata": {
    "_cell_guid": "de47e9ea-9257-3cd1-8fea-ae1e558571d8"
   },
   "source": [
    "The result is a filter derived from hand-picking the best, most common, most interesting terms I could determine."
   ]
  },
  {
   "cell_type": "code",
   "execution_count": 13,
   "metadata": {
    "_cell_guid": "15b70b9a-5eee-60fe-30c6-734f2427e354",
    "collapsed": true
   },
   "outputs": [],
   "source": [
    "# --- Begin Filtering for specific terms\n",
    "\n",
    "# Note that the order of filtering is significant.\n",
    "# For example: \n",
    "# The regex of .*ERIA.* will assign \"FRUITERIA\" to 'Eatery' rather than 'Fresh Market'.\n",
    "# In other words, the first filters to occur have a bigger priority.\n",
    "\n",
    "def filter_specific(vf2):\n",
    "    \n",
    "    # Known Large Company / Special Group Types\n",
    "    vf2['NombreCliente'] = vf2['NombreCliente'].str.replace('.*REMISION.*','Consignment')\n",
    "    vf2['NombreCliente'] = vf2['NombreCliente'].replace(['.*WAL MART.*','.*SAMS CLUB.*'],'Walmart', regex=True)\n",
    "    vf2['NombreCliente'] = vf2['NombreCliente'].str.replace('.*OXXO.*','Oxxo Store')\n",
    "    vf2['NombreCliente'] = vf2['NombreCliente'].str.replace('.*CONASUPO.*','Govt Store')\n",
    "    vf2['NombreCliente'] = vf2['NombreCliente'].str.replace('.*BIMBO.*','Bimbo Store')\n",
    "\n",
    "    \n",
    "\n",
    "    # General term search for a random assortment of words I picked from looking at\n",
    "    # their frequency of appearance in the data and common spanish words for these categories\n",
    "    vf2['NombreCliente'] = vf2['NombreCliente'].replace(['.*COLEG.*','.*UNIV.*','.*ESCU.*','.*INSTI.*',\\\n",
    "                                                        '.*PREPAR.*'],'School', regex=True)\n",
    "    vf2['NombreCliente'] = vf2['NombreCliente'].str.replace('.*PUESTO.*','Post')\n",
    "    vf2['NombreCliente'] = vf2['NombreCliente'].replace(['.*FARMA.*','.*HOSPITAL.*','.*CLINI.*'],'Hospital/Pharmacy', regex=True)\n",
    "    vf2['NombreCliente'] = vf2['NombreCliente'].replace(['.*CAFE.*','.*CREMERIA.*','.*DULCERIA.*',\\\n",
    "                                                        '.*REST.*','.*BURGER.*','.*TACO.*', '.*TORTA.*',\\\n",
    "                                                        '.*TAQUER.*','.*HOT DOG.*',\\\n",
    "                                                        '.*COMEDOR.*', '.*ERIA.*','.*BURGU.*'],'Eatery', regex=True)\n",
    "    vf2['NombreCliente'] = vf2['NombreCliente'].str.replace('.*SUPER.*','Supermarket')\n",
    "    vf2['NombreCliente'] = vf2['NombreCliente'].replace(['.*COMERCIAL.*','.*BODEGA.*','.*DEPOSITO.*',\\\n",
    "                                                            '.*ABARROTES.*','.*MERCADO.*','.*CAMBIO.*',\\\n",
    "                                                        '.*MARKET.*','.*MART .*','.*MINI .*',\\\n",
    "                                                        '.*PLAZA.*','.*MISC.*','.*ELEVEN.*','.*EXP.*',\\\n",
    "                                                         '.*SNACK.*', '.*PAPELERIA.*', '.*CARNICERIA.*',\\\n",
    "                                                         '.*LOCAL.*','.*COMODIN.*','.*PROVIDENCIA.*'\n",
    "                                                        ],'General Market/Mart'\\\n",
    "                                                       , regex=True)\n",
    "\n",
    "    vf2['NombreCliente'] = vf2['NombreCliente'].replace(['.*VERDU.*','.*FRUT.*'],'Fresh Market', regex=True)\n",
    "    vf2['NombreCliente'] = vf2['NombreCliente'].replace(['.*HOTEL.*','.*MOTEL.*'],'Hotel', regex=True)"
   ]
  },
  {
   "cell_type": "code",
   "execution_count": 14,
   "metadata": {
    "_cell_guid": "75fe8a16-850a-58f2-05fc-aa1d57230a18",
    "collapsed": true
   },
   "outputs": [],
   "source": [
    "filter_specific(vf)"
   ]
  },
  {
   "cell_type": "code",
   "execution_count": 15,
   "metadata": {
    "_cell_guid": "11333ead-d5e9-d2dd-42c0-c76a37557c3f",
    "collapsed": true
   },
   "outputs": [],
   "source": [
    "# --- Begin filtering for more general terms\n",
    "# The idea here is to look for names with particles of speech that would\n",
    "# not appear in a person's name.\n",
    "# i.e. \"Individuals\" should not contain any participles or numbers in their names.\n",
    "def filter_participle(vf2):\n",
    "    vf2['NombreCliente'] = vf2['NombreCliente'].replace([\n",
    "            '.*LA .*','.*EL .*','.*DE .*','.*LOS .*','.*DEL .*','.*Y .*', '.*SAN .*', '.*SANTA .*',\\\n",
    "            '.*AG .*','.*LAS .*','.*MI .*','.*MA .*', '.*II.*', '.*[0-9]+.*'\\\n",
    "    ],'Small Franchise', regex=True)"
   ]
  },
  {
   "cell_type": "code",
   "execution_count": 16,
   "metadata": {
    "_cell_guid": "d8d886b1-f9f3-aa3b-969b-fc87af86a3b7",
    "collapsed": true
   },
   "outputs": [],
   "source": [
    "filter_participle(vf)"
   ]
  },
  {
   "cell_type": "code",
   "execution_count": 17,
   "metadata": {
    "_cell_guid": "cbb3224c-176d-44f7-a836-7d679d125670",
    "collapsed": true
   },
   "outputs": [],
   "source": [
    "# Any remaining entries should be \"Individual\" Named Clients, there are some outliers.\n",
    "# More specific filters could be used in order to reduce the percentage of outliers in this final set.\n",
    "def filter_remaining(vf2):\n",
    "    def function_word(data):\n",
    "        # Avoid the single-words created so far by checking for upper-case\n",
    "        if (data.isupper()) and (data != \"NO IDENTIFICADO\"): \n",
    "            return 'Individual'\n",
    "        else:\n",
    "            return data\n",
    "    vf2['NombreCliente'] = vf2['NombreCliente'].map(function_word)"
   ]
  },
  {
   "cell_type": "code",
   "execution_count": 18,
   "metadata": {
    "_cell_guid": "2183458d-79c4-f1ab-c95c-8b0c2d6b1245",
    "collapsed": true
   },
   "outputs": [],
   "source": [
    "filter_remaining(vf)"
   ]
  },
  {
   "cell_type": "markdown",
   "metadata": {
    "_cell_guid": "246e11a0-1f67-a9f1-ddba-8952ca5e1ae6"
   },
   "source": [
    "With the filtering complete, let's look at the breakdown of how the data is classified now:"
   ]
  },
  {
   "cell_type": "code",
   "execution_count": 19,
   "metadata": {
    "_cell_guid": "95fff309-9d78-da69-a9a1-fe0a804910f0",
    "collapsed": false
   },
   "outputs": [
    {
     "data": {
      "text/plain": [
       "Individual             353145\n",
       "NO IDENTIFICADO        281670\n",
       "Small Franchise        160501\n",
       "General Market/Mart     66416\n",
       "Eatery                  30419\n",
       "Supermarket             16019\n",
       "Oxxo Store               9313\n",
       "Hospital/Pharmacy        5798\n",
       "School                   5705\n",
       "Post                     2667\n",
       "Hotel                    1127\n",
       "Fresh Market             1069\n",
       "Govt Store                959\n",
       "Bimbo Store               320\n",
       "Walmart                   220\n",
       "Consignment                14\n",
       "Name: NombreCliente, dtype: int64"
      ]
     },
     "execution_count": 19,
     "metadata": {},
     "output_type": "execute_result"
    }
   ],
   "source": [
    "vf['NombreCliente'].value_counts()"
   ]
  },
  {
   "cell_type": "markdown",
   "metadata": {
    "_cell_guid": "42eab5d7-6f9d-330c-d3a2-0889a48b56a6"
   },
   "source": [
    "Finally, we can apply these new tags on the actual Training and Test data sets that have been provided!"
   ]
  },
  {
   "cell_type": "code",
   "execution_count": 24,
   "metadata": {
    "_cell_guid": "a9a0c462-aa96-19dd-da6b-24b62210bd2a",
    "collapsed": true
   },
   "outputs": [],
   "source": [
    "trdf = pd.read_csv('/data/arpit.goel/18_InventoryPrediction/02.ExtractedData/train.csv',header=0)\n",
    "trdf_stores = trdf.merge(vf.drop_duplicates(subset=['Cliente_ID']), how=\"left\")"
   ]
  },
  {
   "cell_type": "code",
   "execution_count": 25,
   "metadata": {
    "_cell_guid": "1fdc94cd-eca3-4f3b-ad3b-467ea796b08e",
    "collapsed": true
   },
   "outputs": [],
   "source": [
    "tsdf = pd.read_csv('/data/arpit.goel/18_InventoryPrediction/02.ExtractedData/test.csv',header=0)\n",
    "tsdf_stores = tsdf.merge(vf.drop_duplicates(subset=['Cliente_ID']), how=\"left\")"
   ]
  },
  {
   "cell_type": "markdown",
   "metadata": {
    "_cell_guid": "a81b2b30-2d17-2e23-d2c2-da5e31569a5b"
   },
   "source": [
    "Write the data to file to save it for a new session...."
   ]
  },
  {
   "cell_type": "code",
   "execution_count": 26,
   "metadata": {
    "_cell_guid": "6c2b467e-a4e4-8baa-ca6c-624ab7bcd097",
    "collapsed": true
   },
   "outputs": [],
   "source": [
    "trdf.to_csv('/data/arpit.goel/18_InventoryPrediction/04.FeatureEngineering/train_with_cnames.csv')\n",
    "tsdf.to_csv('/data/arpit.goel/18_InventoryPrediction/04.FeatureEngineering/test_with_cnames.csv')"
   ]
  }
 ],
 "metadata": {
  "_change_revision": 73,
  "_is_fork": false,
  "kernelspec": {
   "display_name": "Python 2",
   "language": "python",
   "name": "python2"
  },
  "language_info": {
   "codemirror_mode": {
    "name": "ipython",
    "version": 2
   },
   "file_extension": ".py",
   "mimetype": "text/x-python",
   "name": "python",
   "nbconvert_exporter": "python",
   "pygments_lexer": "ipython2",
   "version": "2.7.11"
  }
 },
 "nbformat": 4,
 "nbformat_minor": 0
}
