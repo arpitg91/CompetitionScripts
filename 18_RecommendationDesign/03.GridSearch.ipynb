{
 "cells": [
  {
   "cell_type": "code",
   "execution_count": 1,
   "metadata": {
    "collapsed": true
   },
   "outputs": [],
   "source": [
    "def apk(actual, predicted, k=3):\n",
    "    \"\"\"\n",
    "    Computes the average precision at k.\n",
    "    This function computes the average prescision at k between two lists of\n",
    "    items.\n",
    "    Parameters\n",
    "    ----------\n",
    "    actual : list\n",
    "             A list of elements that are to be predicted (order doesn't matter)\n",
    "    predicted : list\n",
    "                A list of predicted elements (order does matter)\n",
    "    k : int, optional\n",
    "        The maximum number of predicted elements\n",
    "    Returns\n",
    "    -------\n",
    "    score : double\n",
    "            The average precision at k over the input lists\n",
    "    \"\"\"\n",
    "    \n",
    "    actual = list(actual)\n",
    "    predicted = list(predicted)\n",
    "    \n",
    "    if len(predicted)>k:\n",
    "        predicted = predicted[:k]\n",
    "\n",
    "    score = 0.0\n",
    "    num_hits = 0.0\n",
    "\n",
    "    for i,p in enumerate(predicted):\n",
    "        if p in actual and p not in predicted[:i]:\n",
    "            num_hits += 1.0\n",
    "            score += num_hits / (i+1.0)\n",
    "            \n",
    "    if not actual:\n",
    "        return 0.0\n",
    "\n",
    "    return score / min(len(actual), k)\n",
    "\n",
    "def mapk(actual, predicted, k=3):\n",
    "    \"\"\"\n",
    "    Computes the mean average precision at k.\n",
    "    This function computes the mean average prescision at k between two lists\n",
    "    of lists of items.\n",
    "    Parameters\n",
    "    ----------\n",
    "    actual : list\n",
    "             A list of lists of elements that are to be predicted \n",
    "             (order doesn't matter in the lists)\n",
    "    predicted : list\n",
    "                A list of lists of predicted elements\n",
    "                (order matters in the lists)\n",
    "    k : int, optional\n",
    "        The maximum number of predicted elements\n",
    "    Returns\n",
    "    -------\n",
    "    score : double\n",
    "            The mean average precision at k over the input lists\n",
    "    \"\"\"\n",
    "    return np.mean([apk(a,p,k) for a,p in zip(actual, predicted)])"
   ]
  },
  {
   "cell_type": "code",
   "execution_count": 2,
   "metadata": {
    "collapsed": true
   },
   "outputs": [],
   "source": [
    "import pandas as pd\n",
    "import sys,os\n",
    "import numpy as np\n",
    "import matplotlib.pyplot as plt\n",
    "%matplotlib inline\n",
    "\n",
    "os.chdir('C:/Users/arpit.goel/Documents/Projects/Kaggle/24_RecommendationDesign')\n",
    "df_train=pd.read_csv('01.RawData/train.csv')\n",
    "df_test=pd.read_csv('01.RawData/test.csv')\n",
    "df_chal=pd.read_csv('01.RawData/challenge_data.csv')\n",
    "df_sample=pd.read_csv('01.RawData/sample_submission_J0OjXLi_DDt3uQN.csv')\n",
    "df_chal['publish_date']=pd.to_datetime(df_chal['publish_date'],format='%d-%m-%Y')\n",
    "df_chal.sort_values(by='publish_date',inplace=True)\n",
    "df_chal['challenge_id']=np.arange(len(df_chal))\n",
    "\n",
    "users=df_train[['user_id']].drop_duplicates()\n",
    "np.random.seed(1234)\n",
    "users['dtype']=np.where(np.random.rand(len(users))>0.9,'valid','train')\n",
    "users=users.set_index('user_id')['dtype']\n",
    "df_train['ds']=df_train['user_id'].map(users)\n",
    "df_test['ds']='test'\n",
    "master=pd.merge(pd.concat([df_train,df_test]),df_chal,left_on=['challenge'],right_on=['challenge_ID'])\n",
    "master.sort_values(by=['user_id','challenge_sequence'],inplace=True)\n"
   ]
  },
  {
   "cell_type": "code",
   "execution_count": 3,
   "metadata": {
    "collapsed": true
   },
   "outputs": [],
   "source": [
    "def get_datasegment(master,valid=True):\n",
    "    if valid==True:\n",
    "        a1=master[master['ds'].isin(['train'])]\n",
    "        a2=master[master['ds'].isin(['valid'])]\n",
    "        a3=a2[a2['challenge_sequence']<=10]\n",
    "        a4=a2[a2['challenge_sequence']>10]\n",
    "        return a1,a3,a4\n",
    "    else:\n",
    "        return master[master['ds'].isin(['train','valid'])],master[master['ds'].isin(['test'])],[]\n",
    "\n",
    "train,test,target=get_datasegment(master,valid=True)"
   ]
  },
  {
   "cell_type": "code",
   "execution_count": 70,
   "metadata": {},
   "outputs": [],
   "source": [
    "train,test,target=get_datasegment(master,valid=True)\n",
    "train_master=pd.concat([train,test])\n",
    "challenge_seq=train_master['challenge'].value_counts()\n"
   ]
  },
  {
   "cell_type": "code",
   "execution_count": 71,
   "metadata": {},
   "outputs": [
    {
     "data": {
      "text/plain": [
       "count    5320.000000\n",
       "mean      165.948684\n",
       "std       560.523101\n",
       "min         1.000000\n",
       "0%          1.000000\n",
       "10%         1.000000\n",
       "20%         2.000000\n",
       "30%         4.000000\n",
       "40%         7.000000\n",
       "50%        13.000000\n",
       "60%        23.000000\n",
       "70%        47.000000\n",
       "80%       123.000000\n",
       "90%       369.000000\n",
       "max      9900.000000\n",
       "Name: challenge, dtype: float64"
      ]
     },
     "execution_count": 71,
     "metadata": {},
     "output_type": "execute_result"
    }
   ],
   "source": [
    "challenge_seq.describe(percentiles=np.arange(0,100,10)/100.0)"
   ]
  },
  {
   "cell_type": "code",
   "execution_count": 15,
   "metadata": {},
   "outputs": [],
   "source": [
    "a1=pd.concat([train,test])\n",
    "a1['sample']=a1['user_id']%10\n",
    "\n",
    "freq_items_lookup={}\n",
    "for decay_factor in [0.75]:\n",
    "    freq_items=[]\n",
    "    group=a1[a1['sample']==1][['user_id','challenge_id','challenge_sequence']]\n",
    "    \n",
    "    for name,group in a1.groupby('sample'):\n",
    "        a2=pd.merge(group,group,on=['user_id'])\n",
    "        a2['wgt']=a2['challenge_sequence_x']-a2['challenge_sequence_y']\n",
    "        a2['wgt']=np.where(a2['wgt']>0,decay_factor,0.75)**np.abs(a2['wgt'])\n",
    "        summ=a2.groupby(['challenge_id_x','challenge_id_y'])['wgt'].sum().reset_index()\n",
    "        freq_items.append(summ)\n",
    "\n",
    "    freq_items=pd.concat(freq_items).groupby(['challenge_id_x','challenge_id_y'])['wgt'].sum()\n",
    "    freq_items=freq_items.sort_values(ascending=False).to_frame('count_comb').reset_index()\n",
    "    freq_items=freq_items[freq_items['count_comb']>20]\n",
    "    freq_items_lookup[decay_factor]=freq_items"
   ]
  },
  {
   "cell_type": "code",
   "execution_count": 56,
   "metadata": {
    "scrolled": true
   },
   "outputs": [],
   "source": [
    "a1=pd.concat([train,test])\n",
    "a1['sample']=a1['user_id']%10\n",
    "\n",
    "freq_items=[]\n",
    "group=a1[a1['sample']==1][['user_id','challenge_id','challenge_sequence']]\n",
    "   \n",
    "for name,group in a1.groupby('sample'):\n",
    "    a2=pd.merge(group,group,on=['user_id'])\n",
    "    a2=a2[a2['challenge_sequence_x']!=a2['challenge_sequence_y']]\n",
    "    a2['wgt']=a2['challenge_sequence_x']-a2['challenge_sequence_y']\n",
    "    a2['wgt']=np.where(a2['wgt']>0,0.7,0.8)**np.abs(a2['wgt'])\n",
    "    summ=a2.groupby(['challenge_id_x','challenge_id_y'])['wgt'].sum().reset_index()\n",
    "    freq_items.append(summ)\n",
    "    \n",
    "freq_items=pd.concat(freq_items).groupby(['challenge_id_x','challenge_id_y'])['wgt'].sum()\n",
    "freq_items=freq_items.sort_values(ascending=False).to_frame('count_comb').reset_index()\n",
    "freq_items=freq_items[freq_items['count_comb']>10]\n",
    "\n"
   ]
  },
  {
   "cell_type": "code",
   "execution_count": 62,
   "metadata": {},
   "outputs": [],
   "source": [
    "freq_items.shape\n",
    "t1=freq_items[freq_items['count_comb']>20]"
   ]
  },
  {
   "cell_type": "code",
   "execution_count": 69,
   "metadata": {},
   "outputs": [
    {
     "ename": "ImportError",
     "evalue": "cannot import name np_utils",
     "output_type": "error",
     "traceback": [
      "\u001b[1;31m---------------------------------------------------------------------------\u001b[0m",
      "\u001b[1;31mImportError\u001b[0m                               Traceback (most recent call last)",
      "\u001b[1;32m<ipython-input-69-f77ad3e455a1>\u001b[0m in \u001b[0;36m<module>\u001b[1;34m()\u001b[0m\n\u001b[1;32m----> 1\u001b[1;33m \u001b[1;32mfrom\u001b[0m \u001b[0mkeras\u001b[0m \u001b[1;32mimport\u001b[0m \u001b[0mbackend\u001b[0m \u001b[1;32mas\u001b[0m \u001b[0mK\u001b[0m\u001b[1;33m\u001b[0m\u001b[0m\n\u001b[0m\u001b[0;32m      2\u001b[0m \u001b[1;32mimport\u001b[0m \u001b[0mos\u001b[0m\u001b[1;33m\u001b[0m\u001b[0m\n\u001b[0;32m      3\u001b[0m \u001b[1;33m\u001b[0m\u001b[0m\n\u001b[0;32m      4\u001b[0m \u001b[1;32mdef\u001b[0m \u001b[0mset_keras_backend\u001b[0m\u001b[1;33m(\u001b[0m\u001b[0mbackend\u001b[0m\u001b[1;33m)\u001b[0m\u001b[1;33m:\u001b[0m\u001b[1;33m\u001b[0m\u001b[0m\n\u001b[0;32m      5\u001b[0m \u001b[1;33m\u001b[0m\u001b[0m\n",
      "\u001b[1;32mC:\\Users\\arpit.goel\\AppData\\Local\\Continuum2\\Anaconda2\\lib\\site-packages\\keras\\__init__.py\u001b[0m in \u001b[0;36m<module>\u001b[1;34m()\u001b[0m\n\u001b[0;32m      1\u001b[0m \u001b[1;32mfrom\u001b[0m \u001b[0m__future__\u001b[0m \u001b[1;32mimport\u001b[0m \u001b[0mabsolute_import\u001b[0m\u001b[1;33m\u001b[0m\u001b[0m\n\u001b[0;32m      2\u001b[0m \u001b[1;33m\u001b[0m\u001b[0m\n\u001b[1;32m----> 3\u001b[1;33m \u001b[1;32mfrom\u001b[0m \u001b[1;33m.\u001b[0m \u001b[1;32mimport\u001b[0m \u001b[0mutils\u001b[0m\u001b[1;33m\u001b[0m\u001b[0m\n\u001b[0m\u001b[0;32m      4\u001b[0m \u001b[1;32mfrom\u001b[0m \u001b[1;33m.\u001b[0m \u001b[1;32mimport\u001b[0m \u001b[0mactivations\u001b[0m\u001b[1;33m\u001b[0m\u001b[0m\n\u001b[0;32m      5\u001b[0m \u001b[1;32mfrom\u001b[0m \u001b[1;33m.\u001b[0m \u001b[1;32mimport\u001b[0m \u001b[0mapplications\u001b[0m\u001b[1;33m\u001b[0m\u001b[0m\n",
      "\u001b[1;32mC:\\Users\\arpit.goel\\AppData\\Local\\Continuum2\\Anaconda2\\lib\\site-packages\\keras\\utils\\__init__.py\u001b[0m in \u001b[0;36m<module>\u001b[1;34m()\u001b[0m\n\u001b[0;32m      1\u001b[0m \u001b[1;32mfrom\u001b[0m \u001b[0m__future__\u001b[0m \u001b[1;32mimport\u001b[0m \u001b[0mabsolute_import\u001b[0m\u001b[1;33m\u001b[0m\u001b[0m\n\u001b[1;32m----> 2\u001b[1;33m \u001b[1;32mfrom\u001b[0m \u001b[1;33m.\u001b[0m \u001b[1;32mimport\u001b[0m \u001b[0mnp_utils\u001b[0m\u001b[1;33m\u001b[0m\u001b[0m\n\u001b[0m\u001b[0;32m      3\u001b[0m \u001b[1;32mfrom\u001b[0m \u001b[1;33m.\u001b[0m \u001b[1;32mimport\u001b[0m \u001b[0mgeneric_utils\u001b[0m\u001b[1;33m\u001b[0m\u001b[0m\n\u001b[0;32m      4\u001b[0m \u001b[1;32mfrom\u001b[0m \u001b[1;33m.\u001b[0m \u001b[1;32mimport\u001b[0m \u001b[0mdata_utils\u001b[0m\u001b[1;33m\u001b[0m\u001b[0m\n\u001b[0;32m      5\u001b[0m \u001b[1;32mfrom\u001b[0m \u001b[1;33m.\u001b[0m \u001b[1;32mimport\u001b[0m \u001b[0mio_utils\u001b[0m\u001b[1;33m\u001b[0m\u001b[0m\n",
      "\u001b[1;31mImportError\u001b[0m: cannot import name np_utils"
     ]
    }
   ],
   "source": [
    "from keras import backend as K\n",
    "import os\n",
    "\n",
    "def set_keras_backend(backend):\n",
    "\n",
    "    if K.backend() != backend:\n",
    "        os.environ['KERAS_BACKEND'] = backend\n",
    "        reload(K)\n",
    "        assert K.backend() == backend\n",
    "\n",
    "set_keras_backend(\"theano\")\n",
    "\n",
    "from numpy import array\n",
    "from keras.preprocessing.text import Tokenizer\n",
    "from keras.utils import to_categorical\n",
    "from keras.preprocessing.sequence import pad_sequences\n",
    "from keras.models import Sequential\n",
    "from keras.layers import Dense\n",
    "from keras.layers import LSTM\n",
    "from keras.layers import Embedding"
   ]
  },
  {
   "cell_type": "code",
   "execution_count": 63,
   "metadata": {},
   "outputs": [
    {
     "ename": "MemoryError",
     "evalue": "",
     "output_type": "error",
     "traceback": [
      "\u001b[1;31m---------------------------------------------------------------------------\u001b[0m",
      "\u001b[1;31mMemoryError\u001b[0m                               Traceback (most recent call last)",
      "\u001b[1;32m<ipython-input-63-9e1ef8455f19>\u001b[0m in \u001b[0;36m<module>\u001b[1;34m()\u001b[0m\n\u001b[0;32m     10\u001b[0m     \u001b[0ma2\u001b[0m\u001b[1;33m[\u001b[0m\u001b[1;34m'wgt'\u001b[0m\u001b[1;33m]\u001b[0m\u001b[1;33m=\u001b[0m\u001b[0ma2\u001b[0m\u001b[1;33m[\u001b[0m\u001b[1;34m'challenge_sequence_x'\u001b[0m\u001b[1;33m]\u001b[0m\u001b[1;33m-\u001b[0m\u001b[0ma2\u001b[0m\u001b[1;33m[\u001b[0m\u001b[1;34m'challenge_sequence_y'\u001b[0m\u001b[1;33m]\u001b[0m\u001b[1;33m\u001b[0m\u001b[0m\n\u001b[0;32m     11\u001b[0m     \u001b[0ma2\u001b[0m\u001b[1;33m[\u001b[0m\u001b[1;34m'wgt'\u001b[0m\u001b[1;33m]\u001b[0m\u001b[1;33m=\u001b[0m\u001b[0mnp\u001b[0m\u001b[1;33m.\u001b[0m\u001b[0mwhere\u001b[0m\u001b[1;33m(\u001b[0m\u001b[0ma2\u001b[0m\u001b[1;33m[\u001b[0m\u001b[1;34m'wgt'\u001b[0m\u001b[1;33m]\u001b[0m\u001b[1;33m>\u001b[0m\u001b[1;36m0\u001b[0m\u001b[1;33m,\u001b[0m\u001b[1;36m0.7\u001b[0m\u001b[1;33m,\u001b[0m\u001b[1;36m0.8\u001b[0m\u001b[1;33m)\u001b[0m\u001b[1;33m**\u001b[0m\u001b[0mnp\u001b[0m\u001b[1;33m.\u001b[0m\u001b[0mabs\u001b[0m\u001b[1;33m(\u001b[0m\u001b[0ma2\u001b[0m\u001b[1;33m[\u001b[0m\u001b[1;34m'wgt'\u001b[0m\u001b[1;33m]\u001b[0m\u001b[1;33m)\u001b[0m\u001b[1;33m\u001b[0m\u001b[0m\n\u001b[1;32m---> 12\u001b[1;33m     \u001b[0ma3\u001b[0m\u001b[1;33m=\u001b[0m\u001b[0mpd\u001b[0m\u001b[1;33m.\u001b[0m\u001b[0mmerge\u001b[0m\u001b[1;33m(\u001b[0m\u001b[0ma3\u001b[0m\u001b[1;33m,\u001b[0m\u001b[0ma3\u001b[0m\u001b[1;33m,\u001b[0m\u001b[0mon\u001b[0m\u001b[1;33m=\u001b[0m\u001b[1;33m[\u001b[0m\u001b[1;34m'user_id'\u001b[0m\u001b[1;33m,\u001b[0m\u001b[1;34m'challenge_id_x'\u001b[0m\u001b[1;33m]\u001b[0m\u001b[1;33m)\u001b[0m\u001b[1;33m\u001b[0m\u001b[0m\n\u001b[0m\u001b[0;32m     13\u001b[0m     \u001b[0ma3\u001b[0m\u001b[1;33m=\u001b[0m\u001b[0ma3\u001b[0m\u001b[1;33m[\u001b[0m\u001b[0ma3\u001b[0m\u001b[1;33m[\u001b[0m\u001b[1;34m'challenge_id_y_x'\u001b[0m\u001b[1;33m]\u001b[0m\u001b[1;33m!=\u001b[0m\u001b[0ma3\u001b[0m\u001b[1;33m[\u001b[0m\u001b[1;34m'challenge_id_y_y'\u001b[0m\u001b[1;33m]\u001b[0m\u001b[1;33m]\u001b[0m\u001b[1;33m\u001b[0m\u001b[0m\n\u001b[0;32m     14\u001b[0m     \u001b[0ma3\u001b[0m\u001b[1;33m[\u001b[0m\u001b[1;34m'wgt'\u001b[0m\u001b[1;33m]\u001b[0m\u001b[1;33m=\u001b[0m\u001b[0ma3\u001b[0m\u001b[1;33m[\u001b[0m\u001b[1;34m'wgt_x'\u001b[0m\u001b[1;33m]\u001b[0m\u001b[1;33m*\u001b[0m\u001b[0ma3\u001b[0m\u001b[1;33m[\u001b[0m\u001b[1;34m'wgt_y'\u001b[0m\u001b[1;33m]\u001b[0m\u001b[1;33m\u001b[0m\u001b[0m\n",
      "\u001b[1;32mC:\\Users\\arpit.goel\\AppData\\Local\\Continuum2\\Anaconda2\\lib\\site-packages\\pandas\\core\\reshape\\merge.pyc\u001b[0m in \u001b[0;36mmerge\u001b[1;34m(left, right, how, on, left_on, right_on, left_index, right_index, sort, suffixes, copy, indicator)\u001b[0m\n\u001b[0;32m     52\u001b[0m                          \u001b[0mright_index\u001b[0m\u001b[1;33m=\u001b[0m\u001b[0mright_index\u001b[0m\u001b[1;33m,\u001b[0m \u001b[0msort\u001b[0m\u001b[1;33m=\u001b[0m\u001b[0msort\u001b[0m\u001b[1;33m,\u001b[0m \u001b[0msuffixes\u001b[0m\u001b[1;33m=\u001b[0m\u001b[0msuffixes\u001b[0m\u001b[1;33m,\u001b[0m\u001b[1;33m\u001b[0m\u001b[0m\n\u001b[0;32m     53\u001b[0m                          copy=copy, indicator=indicator)\n\u001b[1;32m---> 54\u001b[1;33m     \u001b[1;32mreturn\u001b[0m \u001b[0mop\u001b[0m\u001b[1;33m.\u001b[0m\u001b[0mget_result\u001b[0m\u001b[1;33m(\u001b[0m\u001b[1;33m)\u001b[0m\u001b[1;33m\u001b[0m\u001b[0m\n\u001b[0m\u001b[0;32m     55\u001b[0m \u001b[1;33m\u001b[0m\u001b[0m\n\u001b[0;32m     56\u001b[0m \u001b[1;33m\u001b[0m\u001b[0m\n",
      "\u001b[1;32mC:\\Users\\arpit.goel\\AppData\\Local\\Continuum2\\Anaconda2\\lib\\site-packages\\pandas\\core\\reshape\\merge.pyc\u001b[0m in \u001b[0;36mget_result\u001b[1;34m(self)\u001b[0m\n\u001b[0;32m    567\u001b[0m                 self.left, self.right)\n\u001b[0;32m    568\u001b[0m \u001b[1;33m\u001b[0m\u001b[0m\n\u001b[1;32m--> 569\u001b[1;33m         \u001b[0mjoin_index\u001b[0m\u001b[1;33m,\u001b[0m \u001b[0mleft_indexer\u001b[0m\u001b[1;33m,\u001b[0m \u001b[0mright_indexer\u001b[0m \u001b[1;33m=\u001b[0m \u001b[0mself\u001b[0m\u001b[1;33m.\u001b[0m\u001b[0m_get_join_info\u001b[0m\u001b[1;33m(\u001b[0m\u001b[1;33m)\u001b[0m\u001b[1;33m\u001b[0m\u001b[0m\n\u001b[0m\u001b[0;32m    570\u001b[0m \u001b[1;33m\u001b[0m\u001b[0m\n\u001b[0;32m    571\u001b[0m         \u001b[0mldata\u001b[0m\u001b[1;33m,\u001b[0m \u001b[0mrdata\u001b[0m \u001b[1;33m=\u001b[0m \u001b[0mself\u001b[0m\u001b[1;33m.\u001b[0m\u001b[0mleft\u001b[0m\u001b[1;33m.\u001b[0m\u001b[0m_data\u001b[0m\u001b[1;33m,\u001b[0m \u001b[0mself\u001b[0m\u001b[1;33m.\u001b[0m\u001b[0mright\u001b[0m\u001b[1;33m.\u001b[0m\u001b[0m_data\u001b[0m\u001b[1;33m\u001b[0m\u001b[0m\n",
      "\u001b[1;32mC:\\Users\\arpit.goel\\AppData\\Local\\Continuum2\\Anaconda2\\lib\\site-packages\\pandas\\core\\reshape\\merge.pyc\u001b[0m in \u001b[0;36m_get_join_info\u001b[1;34m(self)\u001b[0m\n\u001b[0;32m    732\u001b[0m         \u001b[1;32melse\u001b[0m\u001b[1;33m:\u001b[0m\u001b[1;33m\u001b[0m\u001b[0m\n\u001b[0;32m    733\u001b[0m             (left_indexer,\n\u001b[1;32m--> 734\u001b[1;33m              right_indexer) = self._get_join_indexers()\n\u001b[0m\u001b[0;32m    735\u001b[0m \u001b[1;33m\u001b[0m\u001b[0m\n\u001b[0;32m    736\u001b[0m             \u001b[1;32mif\u001b[0m \u001b[0mself\u001b[0m\u001b[1;33m.\u001b[0m\u001b[0mright_index\u001b[0m\u001b[1;33m:\u001b[0m\u001b[1;33m\u001b[0m\u001b[0m\n",
      "\u001b[1;32mC:\\Users\\arpit.goel\\AppData\\Local\\Continuum2\\Anaconda2\\lib\\site-packages\\pandas\\core\\reshape\\merge.pyc\u001b[0m in \u001b[0;36m_get_join_indexers\u001b[1;34m(self)\u001b[0m\n\u001b[0;32m    711\u001b[0m                                   \u001b[0mself\u001b[0m\u001b[1;33m.\u001b[0m\u001b[0mright_join_keys\u001b[0m\u001b[1;33m,\u001b[0m\u001b[1;33m\u001b[0m\u001b[0m\n\u001b[0;32m    712\u001b[0m                                   \u001b[0msort\u001b[0m\u001b[1;33m=\u001b[0m\u001b[0mself\u001b[0m\u001b[1;33m.\u001b[0m\u001b[0msort\u001b[0m\u001b[1;33m,\u001b[0m\u001b[1;33m\u001b[0m\u001b[0m\n\u001b[1;32m--> 713\u001b[1;33m                                   how=self.how)\n\u001b[0m\u001b[0;32m    714\u001b[0m \u001b[1;33m\u001b[0m\u001b[0m\n\u001b[0;32m    715\u001b[0m     \u001b[1;32mdef\u001b[0m \u001b[0m_get_join_info\u001b[0m\u001b[1;33m(\u001b[0m\u001b[0mself\u001b[0m\u001b[1;33m)\u001b[0m\u001b[1;33m:\u001b[0m\u001b[1;33m\u001b[0m\u001b[0m\n",
      "\u001b[1;32mC:\\Users\\arpit.goel\\AppData\\Local\\Continuum2\\Anaconda2\\lib\\site-packages\\pandas\\core\\reshape\\merge.pyc\u001b[0m in \u001b[0;36m_get_join_indexers\u001b[1;34m(left_keys, right_keys, sort, how, **kwargs)\u001b[0m\n\u001b[0;32m    996\u001b[0m     \u001b[0mjoin_func\u001b[0m \u001b[1;33m=\u001b[0m \u001b[0m_join_functions\u001b[0m\u001b[1;33m[\u001b[0m\u001b[0mhow\u001b[0m\u001b[1;33m]\u001b[0m\u001b[1;33m\u001b[0m\u001b[0m\n\u001b[0;32m    997\u001b[0m \u001b[1;33m\u001b[0m\u001b[0m\n\u001b[1;32m--> 998\u001b[1;33m     \u001b[1;32mreturn\u001b[0m \u001b[0mjoin_func\u001b[0m\u001b[1;33m(\u001b[0m\u001b[0mlkey\u001b[0m\u001b[1;33m,\u001b[0m \u001b[0mrkey\u001b[0m\u001b[1;33m,\u001b[0m \u001b[0mcount\u001b[0m\u001b[1;33m,\u001b[0m \u001b[1;33m**\u001b[0m\u001b[0mkwargs\u001b[0m\u001b[1;33m)\u001b[0m\u001b[1;33m\u001b[0m\u001b[0m\n\u001b[0m\u001b[0;32m    999\u001b[0m \u001b[1;33m\u001b[0m\u001b[0m\n\u001b[0;32m   1000\u001b[0m \u001b[1;33m\u001b[0m\u001b[0m\n",
      "\u001b[1;32mpandas\\_libs\\join.pyx\u001b[0m in \u001b[0;36mpandas._libs.join.inner_join (pandas\\_libs\\join.c:120354)\u001b[1;34m()\u001b[0m\n",
      "\u001b[1;31mMemoryError\u001b[0m: "
     ]
    }
   ],
   "source": [
    "a1=pd.concat([train,test])\n",
    "a1['sample']=a1['user_id']%100\n",
    "freq_items_3=[]\n",
    "group=a1[a1['sample']==1][['user_id','challenge_id','challenge_sequence']]\n",
    "if 1==1:\n",
    "# for name,group in a1.groupby('sample'):\n",
    "    a2=pd.merge(group,group,on=['user_id'])\n",
    "    a2=a2[a2['challenge_id_x']!=a2['challenge_id_y']]\n",
    "    a2=pd.merge(a2,t1[['challenge_id_x','challenge_id_y']],on=['challenge_id_x','challenge_id_y'])\n",
    "    a2['wgt']=a2['challenge_sequence_x']-a2['challenge_sequence_y']\n",
    "    a2['wgt']=np.where(a2['wgt']>0,0.7,0.8)**np.abs(a2['wgt'])\n",
    "    a3=pd.merge(a3,a3,on=['user_id','challenge_id_x'])\n",
    "    a3=a3[a3['challenge_id_y_x']!=a3['challenge_id_y_y']]\n",
    "    a3['wgt']=a3['wgt_x']*a3['wgt_y']\n",
    "    summ=a3.groupby(['challenge_id_x','challenge_id_y_x','challenge_id_y_y'])['wgt'].sum().reset_index()\n",
    "    freq_items_3.append(summ)\n",
    "    \n",
    "freq_items_3=pd.concat(freq_items_3).groupby(['challenge_id_x','challenge_id_y_x','challenge_id_y_y'])['wgt'].sum()\n",
    "freq_items_3=freq_items_3.sort_values(ascending=False).to_frame('count_comb').reset_index()\n",
    "# freq_items_3=freq_items_3[freq_items_3['count_comb']>10]\n"
   ]
  },
  {
   "cell_type": "code",
   "execution_count": null,
   "metadata": {
    "collapsed": true
   },
   "outputs": [],
   "source": [
    "\n",
    "\n",
    "    \n",
    "if 1==1:\n",
    "# for name,group in a1.groupby('sample'):\n",
    "    a2=pd.merge(group,group,on=['user_id'])\n",
    "    a2=a2[a2['challenge_sequence_x']!=a2['challenge_sequence_y']]\n",
    "    a2['wgt']=a2['challenge_sequence_x']-a2['challenge_sequence_y']\n",
    "    a2['wgt']=np.where(a2['wgt']>0,0.7,0.8)**np.abs(a2['wgt'])\n",
    "    summ=a2.groupby(['challenge_id_x','challenge_id_y'])['wgt'].sum().reset_index()\n",
    "    a3=pd.merge(a2[['user_id','wgt','challenge_id_x','challenge_id_y']],summ[['challenge_id_x','challenge_id_y']],on=['challenge_id_x','challenge_id_y'])\n",
    "    a3=pd.merge(a3,a3,on=['user_id','challenge_id_x'])\n",
    "    a3=a3[a3['challenge_id_y_x']!=a3['challenge_id_y_y']]\n",
    "    a3['wgt']=a3['wgt_x']*a3['wgt_y']\n",
    "    summ2=a3.groupby(['challenge_id_x','challenge_id_y_x','challenge_id_y_y'])['wgt'].sum().reset_index()\n",
    "#     freq_items.append(summ)\n",
    "summ2.head()"
   ]
  },
  {
   "cell_type": "code",
   "execution_count": 52,
   "metadata": {},
   "outputs": [
    {
     "data": {
      "text/plain": [
       "count    5.752578e+06\n",
       "mean     2.552593e-01\n",
       "std      7.392829e-01\n",
       "min      2.736875e-04\n",
       "0%       2.736875e-04\n",
       "10%      1.384129e-02\n",
       "20%      2.880607e-02\n",
       "30%      5.497558e-02\n",
       "40%      8.235430e-02\n",
       "50%      1.123942e-01\n",
       "60%      1.616295e-01\n",
       "70%      2.195200e-01\n",
       "80%      3.276800e-01\n",
       "90%      5.120000e-01\n",
       "max      6.316373e+01\n",
       "Name: wgt, dtype: float64"
      ]
     },
     "execution_count": 52,
     "metadata": {},
     "output_type": "execute_result"
    }
   ],
   "source": [
    "summ2['wgt'].describe(percentiles=np.arange(0,100,10)/100.0)"
   ]
  },
  {
   "cell_type": "code",
   "execution_count": 55,
   "metadata": {},
   "outputs": [
    {
     "data": {
      "text/plain": [
       "count    828520.000000\n",
       "mean          4.526124\n",
       "std          24.475960\n",
       "min           0.013841\n",
       "0%            0.013841\n",
       "10%           0.117649\n",
       "20%           0.240100\n",
       "30%           0.343000\n",
       "40%           0.490000\n",
       "50%           0.640000\n",
       "60%           0.800000\n",
       "70%           1.233685\n",
       "80%           2.215685\n",
       "90%           5.932357\n",
       "max        1615.844018\n",
       "Name: count_comb, dtype: float64"
      ]
     },
     "execution_count": 55,
     "metadata": {},
     "output_type": "execute_result"
    }
   ],
   "source": [
    "freq_items['count_comb'].describe(percentiles=np.arange(0,100,10)/100.0)"
   ]
  },
  {
   "cell_type": "code",
   "execution_count": 16,
   "metadata": {},
   "outputs": [
    {
     "name": "stdout",
     "output_type": "stream",
     "text": [
      "0.75 0.160274969545\n"
     ]
    }
   ],
   "source": [
    "predicted_challenges={}\n",
    "\n",
    "for decay_factor in [0.75]:\n",
    "    freq_items=freq_items_lookup[decay_factor]\n",
    "    test['wgt']=test['challenge_sequence'].map(lambda x: 0.075**(10-x))\n",
    "    for name,group in test[['user_id','challenge_id','challenge_sequence','wgt']].groupby(['user_id']):\n",
    "        t1=pd.merge(group,freq_items,left_on=['challenge_id'],right_on=['challenge_id_x'])\n",
    "        t1=t1[~t1['challenge_id_y'].isin(group['challenge_id'])]\n",
    "        t1['count_comb']=t1['count_comb']*t1['wgt']\n",
    "        predicted_challenges[name]=t1.groupby('challenge_id_y')['count_comb'].sum().sort_values(ascending=False).head(3).index.tolist()\n",
    "        #predicted_challenges[name]=t1.groupby('challenge_id_y')['count_comb'].sum().sort_values(ascending=False).head(20).index.tolist()\n",
    "\n",
    "    prediction=pd.Series(predicted_challenges)\n",
    "    print decay_factor,mapk(actual[prediction.index],prediction)"
   ]
  },
  {
   "cell_type": "code",
   "execution_count": 6,
   "metadata": {},
   "outputs": [
    {
     "name": "stdout",
     "output_type": "stream",
     "text": [
      "\n"
     ]
    }
   ],
   "source": [
    "actual=target.groupby(['user_id'])['challenge_id'].apply(lambda x: list(x))\n"
   ]
  }
 ],
 "metadata": {
  "kernelspec": {
   "display_name": "Python 2",
   "language": "python",
   "name": "python2"
  },
  "language_info": {
   "codemirror_mode": {
    "name": "ipython",
    "version": 2
   },
   "file_extension": ".py",
   "mimetype": "text/x-python",
   "name": "python",
   "nbconvert_exporter": "python",
   "pygments_lexer": "ipython2",
   "version": "2.7.13"
  }
 },
 "nbformat": 4,
 "nbformat_minor": 2
}
