{
 "cells": [
  {
   "cell_type": "code",
   "execution_count": null,
   "metadata": {
    "collapsed": true
   },
   "outputs": [],
   "source": [
    "import pandas as pd\n",
    "import sys,os\n",
    "import numpy as np\n",
    "import matplotlib.pyplot as plt\n",
    "%matplotlib inline\n",
    "\n",
    "os.chdir('C:/Users/arpit.goel/Documents/Projects/Kaggle/24_RecommendationDesign')\n",
    "df_train=pd.read_csv('01.RawData/train.csv')\n",
    "df_test=pd.read_csv('01.RawData/test.csv')\n",
    "df_chal=pd.read_csv('01.RawData/challenge_data.csv')\n",
    "df_sample=pd.read_csv('01.RawData/sample_submission_J0OjXLi_DDt3uQN.csv')\n",
    "df_chal['publish_date']=pd.to_datetime(df_chal['publish_date'],format='%d-%m-%Y')\n",
    "df_chal.sort_values(by='publish_date',inplace=True)\n",
    "df_chal['challenge_id']=np.arange(len(df_chal))\n",
    "\n",
    "users=df_train[['user_id']].drop_duplicates()\n",
    "np.random.seed(1234)\n",
    "users['dtype']=np.where(np.random.rand(len(users))>0.75,'valid','train')\n",
    "users=users.set_index('user_id')['dtype']\n",
    "df_train['ds']=df_train['user_id'].map(users)\n",
    "df_test['ds']='test'\n",
    "master=pd.merge(pd.concat([df_train,df_test]),df_chal,left_on=['challenge'],right_on=['challenge_ID'])\n",
    "master.sort_values(by=['user_id','challenge_sequence'],inplace=True)\n"
   ]
  },
  {
   "cell_type": "code",
   "execution_count": 3,
   "metadata": {},
   "outputs": [
    {
     "name": "stdout",
     "output_type": "stream",
     "text": [
      "(117928, 3)\n"
     ]
    },
    {
     "name": "stderr",
     "output_type": "stream",
     "text": [
      "00.Scripts/02.FreqItemSets.py:55: SettingWithCopyWarning: \n",
      "A value is trying to be set on a copy of a slice from a DataFrame.\n",
      "Try using .loc[row_indexer,col_indexer] = value instead\n",
      "\n",
      "See the caveats in the documentation: http://pandas.pydata.org/pandas-docs/stable/indexing.html#indexing-view-versus-copy\n",
      "  t1=pd.merge(group,freq_items,left_on=['challenge_id'],right_on=['challenge_id_x'])\n"
     ]
    },
    {
     "name": "stdout",
     "output_type": "stream",
     "text": [
      "1000\n",
      "2000\n",
      "3000\n",
      "4000\n",
      "5000\n",
      "6000\n",
      "7000\n",
      "8000\n",
      "9000\n",
      "10000\n",
      "11000\n",
      "12000\n",
      "13000\n",
      "14000\n",
      "15000\n",
      "16000\n",
      "17000\n",
      "18000\n",
      "19000\n",
      "20000\n",
      "21000\n",
      "22000\n",
      "23000\n",
      "24000\n",
      "25000\n",
      "26000\n",
      "27000\n",
      "28000\n",
      "29000\n",
      "30000\n",
      "31000\n",
      "32000\n",
      "33000\n",
      "34000\n",
      "35000\n",
      "36000\n",
      "37000\n",
      "38000\n",
      "39000\n"
     ]
    }
   ],
   "source": [
    "import pandas as pd\n",
    "import sys,os\n",
    "import numpy as np\n",
    "import matplotlib.pyplot as plt\n",
    "%matplotlib inline\n",
    "\n",
    "os.chdir('C:/Users/arpit.goel/Documents/Projects/Kaggle/24_RecommendationDesign')\n",
    "%run 00.Scripts/02.FreqItemSets.py"
   ]
  },
  {
   "cell_type": "code",
   "execution_count": null,
   "metadata": {
    "collapsed": true
   },
   "outputs": [],
   "source": [
    "def get_datasegment(master,valid=True):\n",
    "    if valid==True:\n",
    "        a1=master[master['ds'].isin(['train'])]\n",
    "        a2=master[master['ds'].isin(['valid'])]\n",
    "        a3=a2[a2['challenge_sequence']<=10]\n",
    "        a4=a2[a2['challenge_sequence']>10]\n",
    "        return a1,a3,a4\n",
    "    else:\n",
    "        return master[master['ds'].isin(['train','valid'])],master[master['ds'].isin(['test'])],[]\n",
    "\n",
    "train,test,target=get_datasegment(master,valid=True)\n"
   ]
  },
  {
   "cell_type": "code",
   "execution_count": null,
   "metadata": {
    "collapsed": true
   },
   "outputs": [],
   "source": [
    "target.head()"
   ]
  },
  {
   "cell_type": "code",
   "execution_count": null,
   "metadata": {
    "collapsed": true
   },
   "outputs": [],
   "source": [
    "def nmf(mat, latent_features,target=[],max_iter=100, error_limit=1e-6, fit_error_limit=1e-6):\n",
    "    X=mat.fillna(0).values\n",
    "    \n",
    "    pred_index=mat.fillna(0).stack().to_frame('kda_ratio').reset_index()\n",
    "    pred_index=pred_index['user_id'].astype(str)+'_'+pred_index['challenge_id'].astype(str)\n",
    "    test=target.copy()\n",
    "    test['íd']=test['user_id'].astype(str)+'_'+test['challenge_id'].astype(str)\n",
    "    \n",
    "    \n",
    "    eps = 1e-5\n",
    "    print 'Starting NMF decomposition with {} latent features and {} iterations.'.format(latent_features, max_iter)\n",
    "    # mask\n",
    "    mask = np.sign(X)\n",
    "\n",
    "    # initial matrices. A is random [0,1] and Y is A\\X.\n",
    "    rows, columns = X.shape\n",
    "    np.random.seed(1234)\n",
    "    A = np.random.rand(rows, latent_features)\n",
    "    A = np.maximum(A, eps)\n",
    "\n",
    "    Y = linalg.lstsq(A, X)[0]\n",
    "    Y = np.maximum(Y, eps)\n",
    "\n",
    "    masked_X = mask * X\n",
    "    X_est_prev = dot(A, Y)\n",
    "    for i in range(1, max_iter + 1):\n",
    "        # ===== updates =====\n",
    "        # Matlab: A=A.*(((W.*X)*Y')./((W.*(A*Y))*Y'));\n",
    "        top = dot(masked_X, Y.T)\n",
    "        bottom = (dot((mask * dot(A, Y)), Y.T)) + eps\n",
    "        A *= top / bottom\n",
    "\n",
    "        A = np.maximum(A, eps)\n",
    "        # print 'A',  np.round(A, 2)\n",
    "\n",
    "        # Matlab: Y=Y.*((A'*(W.*X))./(A'*(W.*(A*Y))));\n",
    "        top = dot(A.T, masked_X)\n",
    "        bottom = dot(A.T, mask * dot(A, Y)) + eps\n",
    "        Y *= top / bottom\n",
    "        Y = np.maximum(Y, eps)\n",
    "        # print 'Y', np.round(Y, 2)\n",
    "\n",
    "\n",
    "        # ==== evaluation ====\n",
    "        if i % 1 == 0 or i == 1 or i == max_iter:\n",
    "            print 'Iteration {}:'.format(i),\n",
    "            X_est = dot(A, Y)\n",
    "            err = mask * (X_est_prev - X_est)\n",
    "            fit_residual = np.sqrt(np.sum(err ** 2))\n",
    "            X_est_prev = X_est\n",
    "\n",
    "#             curRes = linalg.norm(mask * (X - X_est), ord='fro')\n",
    "#             print 'fit residual', np.round(fit_residual, 4),\n",
    "#             print 'total residual', np.round(curRes, 4),\n",
    "#             if curRes < error_limit or fit_residual < fit_error_limit:\n",
    "#                 break\n",
    "#             # Validation error to find optimal number of iterations.\n",
    "#             pred=pd.DataFrame(A.dot(Y)).stack().to_frame('kda_ratio')\n",
    "#             pred.index=pred_index\n",
    "#             test['prediction']=test['id'].map(pred['kda_ratio'])\n",
    "#             test['error']=np.square(test['prediction']-test['kda_ratio'])\n",
    "#             print 'test error', np.sqrt(test['error'].mean())\n",
    "    return A,Y\n",
    "\n",
    "# mat=pd.concat([train,test]).set_index(['user_id','challenge_id'])\n",
    "# mat['dummy']=1\n",
    "# mat=mat['dummy'].unstack()\n",
    "nmf(mat,10,target)"
   ]
  },
  {
   "cell_type": "code",
   "execution_count": null,
   "metadata": {
    "collapsed": true
   },
   "outputs": [],
   "source": [
    "mat.shape"
   ]
  },
  {
   "cell_type": "code",
   "execution_count": null,
   "metadata": {
    "collapsed": true
   },
   "outputs": [],
   "source": [
    "pd.concat([train,test])['challenge_id'].value_counts().describe(percentiles=np.arange(0,100,10)/100.0)"
   ]
  },
  {
   "cell_type": "code",
   "execution_count": null,
   "metadata": {
    "collapsed": true
   },
   "outputs": [],
   "source": [
    "df_chal['total_submissions'].describe(percentiles=np.arange(0,100,10)/100.0)"
   ]
  }
 ],
 "metadata": {
  "kernelspec": {
   "display_name": "Python 2",
   "language": "python",
   "name": "python2"
  },
  "language_info": {
   "codemirror_mode": {
    "name": "ipython",
    "version": 2
   },
   "file_extension": ".py",
   "mimetype": "text/x-python",
   "name": "python",
   "nbconvert_exporter": "python",
   "pygments_lexer": "ipython2",
   "version": "2.7.13"
  }
 },
 "nbformat": 4,
 "nbformat_minor": 2
}
