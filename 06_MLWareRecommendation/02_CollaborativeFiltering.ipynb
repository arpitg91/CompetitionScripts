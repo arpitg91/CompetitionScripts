{
 "cells": [
  {
   "cell_type": "code",
   "execution_count": 1,
   "metadata": {
    "collapsed": false
   },
   "outputs": [
    {
     "name": "stderr",
     "output_type": "stream",
     "text": [
      "2017-02-25 04:53:15,261 : INFO : Starting Script /data/arpit.goel/anaconda/anaconda2/lib/python2.7/site-packages/ipykernel/__main__.py -f /home/arpit.goel/.local/share/jupyter/runtime/kernel-c8ea1643-2a85-4e5d-b55a-06499474b033.json\n",
      "2017-02-25 04:53:15,263 : INFO : Reading Files\n"
     ]
    }
   ],
   "source": [
    "import pandas as pd\n",
    "import numpy as np\n",
    "from scipy.sparse import csr_matrix\n",
    "from sklearn.metrics.pairwise import cosine_similarity\n",
    "import datetime, logging, sys\n",
    "\n",
    "logging.basicConfig(format='%(asctime)s : %(levelname)s : %(message)s', level=logging.INFO)\n",
    "\n",
    "correlation_cutoff=0.0\n",
    "correlation_min_max=0\n",
    "correction_factor=1\n",
    "input_folder='/data/arpit.goel/23_MLWareRecommendation'\n",
    "\n",
    "logging.info(\"Starting Script %s\"%(' '.join(sys.argv)))\n",
    "logging.info(\"Reading Files\")\n",
    "train_file=pd.read_csv(input_folder+'/train_MLWARE2.csv')\n",
    "test_file=pd.read_csv(input_folder+'/test_MLWARE2.csv')\n",
    "\n",
    "# train_file=train_file[train_file['userId']<100]\n",
    "# test_file=test_file[test_file['userId']<100]\n",
    "\n",
    "user_rating_mean=train_file.groupby('userId')['rating'].mean()\n",
    "item_rating_mean=train_file.groupby('itemId')['rating'].mean()\n",
    "avg_rating_mean=train_file['rating'].mean()\n",
    "\n",
    "u_i_matrix=train_file.groupby(['userId','itemId'])['rating'].max().unstack()\n",
    "i_u_matrix=u_i_matrix.T\n",
    "u_i_matrix_norm=csr_matrix((u_i_matrix.T-user_rating_mean).T.fillna(0))\n",
    "i_u_matrix_norm=csr_matrix((i_u_matrix.T-item_rating_mean).T.fillna(0))\n",
    "\n",
    "\n"
   ]
  },
  {
   "cell_type": "code",
   "execution_count": 2,
   "metadata": {
    "collapsed": false
   },
   "outputs": [
    {
     "name": "stderr",
     "output_type": "stream",
     "text": [
      "2017-02-25 04:54:20,892 : INFO : Making Similarity Matrices\n"
     ]
    }
   ],
   "source": [
    "logging.info(\"Making Similarity Matrices\")\n",
    "user_correlation=cosine_similarity(u_i_matrix_norm)\n",
    "item_correlation=cosine_similarity(i_u_matrix_norm)\n",
    "\n",
    "user_correlation=user_correlation*(np.abs(user_correlation)>correlation_cutoff).astype(float)\n",
    "item_correlation=item_correlation*(np.abs(item_correlation)>correlation_cutoff).astype(float)\n",
    "\n",
    "if correlation_min_max==1:\n",
    "    user_correlation=0.5+user_correlation/2.0\n",
    "    item_correlation=0.5+item_correlation/2.0\n",
    "\n",
    "user_index=dict(zip(u_i_matrix.index,range(u_i_matrix.index.shape[0])))\n",
    "item_index=dict(zip(i_u_matrix.index,range(i_u_matrix.index.shape[0])))\n"
   ]
  },
  {
   "cell_type": "code",
   "execution_count": null,
   "metadata": {
    "collapsed": false
   },
   "outputs": [],
   "source": [
    "u_u_count=np.dot(u_i_matrix.notnull(),u_i_matrix.notnull().T)\n",
    "u_u_count>"
   ]
  },
  {
   "cell_type": "code",
   "execution_count": null,
   "metadata": {
    "collapsed": true
   },
   "outputs": [],
   "source": [
    "logging.info(\"Making Similarity Matrices\")\n",
    "user_correlation=cosine_similarity(u_i_matrix_norm)\n",
    "item_correlation=cosine_similarity(i_u_matrix_norm)\n",
    "\n",
    "user_correlation=user_correlation*(np.abs(user_correlation)>correlation_cutoff).astype(float)\n",
    "item_correlation=item_correlation*(np.abs(item_correlation)>correlation_cutoff).astype(float)\n",
    "\n",
    "if correlation_min_max==1:\n",
    "    user_correlation=0.5+user_correlation/2.0\n",
    "    item_correlation=0.5+item_correlation/2.0\n",
    "\n",
    "user_index=dict(zip(u_i_matrix.index,range(u_i_matrix.index.shape[0])))\n",
    "item_index=dict(zip(i_u_matrix.index,range(i_u_matrix.index.shape[0])))\n",
    "\n",
    "u_rating=[]\n",
    "i_rating=[]\n",
    "\n",
    "logging.info(\"Scoring User Collaborative Filtering\")\n",
    "i=0\n",
    "for name,group in test_file.groupby('userId'):\n",
    "    i+=1\n",
    "    if i%1000==0:\n",
    "        logging.info(\"Users Scored:%d\"%i)\n",
    "    a=i_u_matrix.ix[group['itemId']]\n",
    "    a-= 0 if correction_factor==0 else user_rating_mean\n",
    "    b=user_correlation[user_index[name]]\n",
    "    user_interaction_rating=(a*b).sum(axis=1)/(a.notnull()*b).sum(axis=1)\n",
    "    user_interaction_rating+=0 if correction_factor==0 else user_rating_mean[name]\n",
    "    user_interaction_rating.index=group['ID']\n",
    "    u_rating.append(user_interaction_rating)\n",
    " \n",
    "i=0 \n",
    "for name,group in test_file.groupby('itemId'):\n",
    "    i+=1\n",
    "    if i%10==0:\n",
    "        logging.info(\"Items Scored:%d\"%i)\n",
    "    a=u_i_matrix.ix[group['userId']]\n",
    "    a-= 0 if correction_factor==0 else item_rating_mean\n",
    "    b=item_correlation[item_index[name]]\n",
    "    item_interaction_rating=(a*b).sum(axis=1)/(a.notnull()*b).sum(axis=1)\n",
    "    item_interaction_rating+=0 if correction_factor==0 else item_rating_mean[name]\n",
    "    item_interaction_rating.index=group['ID']\n",
    "    i_rating.append(item_interaction_rating)\n",
    "    \n",
    "recommendations=test_file.copy()\n",
    "recommendations['u_rating']=np.clip(recommendations['ID'].map(pd.concat(u_rating)),0,10)\n",
    "recommendations['i_rating']=np.clip(recommendations['ID'].map(pd.concat(i_rating)),0,10)\n",
    "\n",
    "recommendations['user_min']=recommendations['userId'].map(train_file.groupby('userId')['rating'].min())\n",
    "recommendations['user_max']=recommendations['userId'].map(train_file.groupby('userId')['rating'].max())\n",
    "recommendations['item_min']=recommendations['itemId'].map(train_file.groupby('itemId')['rating'].min())\n",
    "recommendations['item_max']=recommendations['itemId'].map(train_file.groupby('itemId')['rating'].max())\n",
    "\n",
    "recommendations['u_rating']=recommendations[['u_rating','user_min','item_min']].max(axis=1)\n",
    "recommendations['u_rating']=recommendations[['u_rating','user_max','item_max']].min(axis=1)\n",
    "recommendations['i_rating']=recommendations[['i_rating','user_min','item_min']].max(axis=1)\n",
    "recommendations['i_rating']=recommendations[['i_rating','user_max','item_max']].min(axis=1)\n",
    "\n",
    "user_interaction=recommendations[['ID','userId','itemId','u_rating']]\n",
    "user_interaction.loc[:,'rating']=user_interaction['u_rating']\n",
    "user_interaction[['ID','userId','itemId','rating']].to_csv(input_folder+'/test_scores/collaborative_filtering_user_%s_%s_%s.csv'%(sys.argv[1],sys.argv[2],sys.argv[3]),index=False)\n",
    "\n",
    "item_interaction=recommendations[['ID','userId','itemId','i_rating']]\n",
    "item_interaction.loc[:,'rating']=item_interaction['i_rating']\n",
    "item_interaction[['ID','userId','itemId','rating']].to_csv(input_folder+'/test_scores/collaborative_filtering_item_%s_%s_%s.csv'%(sys.argv[1],sys.argv[2],sys.argv[3]),index=False)\n"
   ]
  }
 ],
 "metadata": {
  "kernelspec": {
   "display_name": "Python 2",
   "language": "python",
   "name": "python2"
  },
  "language_info": {
   "codemirror_mode": {
    "name": "ipython",
    "version": 2
   },
   "file_extension": ".py",
   "mimetype": "text/x-python",
   "name": "python",
   "nbconvert_exporter": "python",
   "pygments_lexer": "ipython2",
   "version": "2.7.13"
  }
 },
 "nbformat": 4,
 "nbformat_minor": 2
}
