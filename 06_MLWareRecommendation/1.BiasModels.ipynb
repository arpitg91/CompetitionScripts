{
 "cells": [
  {
   "cell_type": "code",
   "execution_count": 9,
   "metadata": {
    "collapsed": false
   },
   "outputs": [],
   "source": [
    "import pandas as pd\n",
    "import numpy as np\n",
    "\n",
    "input_folder='/data/arpit.goel/23_MLWareRecommendation'\n",
    "\n",
    "train_file=pd.read_csv(input_folder+'/train_MLWARE2.csv')\n",
    "test_file=pd.read_csv(input_folder+'/test_MLWARE2.csv')\n"
   ]
  },
  {
   "cell_type": "code",
   "execution_count": 10,
   "metadata": {
    "collapsed": false
   },
   "outputs": [],
   "source": [
    "user_rating_mean=train_file.groupby('userId')['rating'].mean()\n",
    "item_rating_mean=train_file.groupby('itemId')['rating'].mean()\n",
    "avg_rating_mean=train_file['rating'].mean()\n"
   ]
  },
  {
   "cell_type": "code",
   "execution_count": 11,
   "metadata": {
    "collapsed": false
   },
   "outputs": [],
   "source": [
    "rating_user=test_file['userId'].map(user_rating_mean)\n",
    "rating_item=test_file['itemId'].map(item_rating_mean)\n",
    "rating_avg =avg_rating_mean\n",
    "\n"
   ]
  },
  {
   "cell_type": "code",
   "execution_count": 33,
   "metadata": {
    "collapsed": false
   },
   "outputs": [
    {
     "name": "stdout",
     "output_type": "stream",
     "text": [
      "3898.9906393\n"
     ]
    }
   ],
   "source": [
    "ratings=train_file.groupby(['userId','itemId'])['rating'].max().unstack().fillna(0)\n",
    "from sklearn.decomposition import NMF\n",
    "model = NMF(n_components=25, init='random', random_state=0)\n",
    "model.fit_transform(ratings)\n",
    "print model.reconstruction_err_"
   ]
  },
  {
   "cell_type": "code",
   "execution_count": 58,
   "metadata": {
    "collapsed": false
   },
   "outputs": [],
   "source": [
    "ratings=train_file.groupby(['userId','itemId'])['rating'].max().unstack().fillna(0)\n",
    "\n",
    "import scipy.sparse as sp\n",
    "from scipy.sparse.linalg import svds\n",
    "\n",
    "#get SVD components from train matrix. Choose k.\n",
    "u, s, vt = svds(ratings, k = 20)\n",
    "X_pred = np.dot(np.dot(u, np.diag(s)), vt)\n",
    "X_pred = pd.DataFrame(X_pred,columns=item_rating_mean.index,index=user_rating_mean.index).stack().reset_index()"
   ]
  },
  {
   "cell_type": "code",
   "execution_count": 63,
   "metadata": {
    "collapsed": false
   },
   "outputs": [
    {
     "name": "stdout",
     "output_type": "stream",
     "text": [
      "(641015, 3)\n",
      "2.68249705393 5.92869594973\n"
     ]
    }
   ],
   "source": [
    "print test_file.shape\n",
    "#X_pred = pd.DataFrame(X_pred,columns=item_rating_mean.index,index=user_rating_mean.index).stack()\n",
    "recommendations=pd.merge(test_file,X_pred,on=['userId','itemId'])\n",
    "recommendations.columns=['ID','userId','itemId','rating']\n",
    "\n",
    "recommendations['user_min']=recommendations['userId'].map(train_file.groupby('userId')['rating'].min())\n",
    "recommendations['user_max']=recommendations['userId'].map(train_file.groupby('userId')['rating'].max())\n",
    "recommendations['item_min']=recommendations['itemId'].map(train_file.groupby('itemId')['rating'].min())\n",
    "recommendations['item_max']=recommendations['itemId'].map(train_file.groupby('itemId')['rating'].max())\n",
    "\n",
    "recommendations['rating']=recommendations[['rating','user_min','item_min']].max(axis=1)\n",
    "recommendations['rating']=recommendations[['rating','user_max','item_max']].min(axis=1)\n",
    "\n",
    "print recommendations['rating'].mean(), train_file['rating'].mean()"
   ]
  },
  {
   "cell_type": "code",
   "execution_count": 36,
   "metadata": {
    "collapsed": true
   },
   "outputs": [],
   "source": [
    "from sklearn.metrics import mean_squared_error\n",
    "from math import sqrt\n",
    "def rmse(prediction, ground_truth):\n",
    "    prediction = prediction[ground_truth.nonzero()].flatten() \n",
    "    ground_truth = ground_truth[ground_truth.nonzero()].flatten()\n",
    "    return sqrt(mean_squared_error(prediction, ground_truth))"
   ]
  }
 ],
 "metadata": {
  "kernelspec": {
   "display_name": "Python 2",
   "language": "python",
   "name": "python2"
  },
  "language_info": {
   "codemirror_mode": {
    "name": "ipython",
    "version": 2
   },
   "file_extension": ".py",
   "mimetype": "text/x-python",
   "name": "python",
   "nbconvert_exporter": "python",
   "pygments_lexer": "ipython2",
   "version": "2.7.13"
  }
 },
 "nbformat": 4,
 "nbformat_minor": 2
}
