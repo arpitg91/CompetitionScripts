{
 "cells": [
  {
   "cell_type": "code",
   "execution_count": 2,
   "metadata": {},
   "outputs": [
    {
     "name": "stdout",
     "output_type": "stream",
     "text": [
      "article_title 0 3389\n",
      "article_title 1 5915\n",
      "abstract 0 10153\n",
      "abstract_article_title 0 10256\n"
     ]
    },
    {
     "name": "stderr",
     "output_type": "stream",
     "text": [
      "C:\\Users\\arpit.goel\\AppData\\Local\\Continuum2\\Anaconda2\\lib\\site-packages\\sklearn\\utils\\deprecation.py:70: DeprecationWarning: Function transform is deprecated; Support to use estimators as feature selectors will be removed in version 0.19. Use SelectFromModel instead.\n",
      "  warnings.warn(msg, category=DeprecationWarning)\n",
      "C:\\Users\\arpit.goel\\AppData\\Local\\Continuum2\\Anaconda2\\lib\\site-packages\\sklearn\\utils\\deprecation.py:70: DeprecationWarning: Function transform is deprecated; Support to use estimators as feature selectors will be removed in version 0.19. Use SelectFromModel instead.\n",
      "  warnings.warn(msg, category=DeprecationWarning)\n"
     ]
    },
    {
     "name": "stdout",
     "output_type": "stream",
     "text": [
      "0.900926443153\n",
      "0.909948660643\n",
      "f_sum_abstract_article_title_1    0.833752\n",
      "f_sum_article_title_1             0.166248\n",
      "f_cnt_abstract_article_title_1    0.000000\n",
      "f_max_abstract_article_title_1    0.000000\n",
      "f_cnt_abstract_1                  0.000000\n",
      "f_sum_abstract_1                  0.000000\n",
      "f_max_abstract_1                  0.000000\n",
      "f_cnt_article_title_2             0.000000\n",
      "f_sum_article_title_2             0.000000\n",
      "f_max_article_title_2             0.000000\n",
      "f_cnt_article_title_1             0.000000\n",
      "f_max_article_title_1             0.000000\n",
      "f_date_diff                       0.000000\n",
      "f_num_common_authors              0.000000\n",
      "dtype: float64\n"
     ]
    },
    {
     "name": "stderr",
     "output_type": "stream",
     "text": [
      "C:\\Users\\arpit.goel\\AppData\\Local\\Continuum2\\Anaconda2\\lib\\site-packages\\sklearn\\utils\\deprecation.py:70: DeprecationWarning: Function transform is deprecated; Support to use estimators as feature selectors will be removed in version 0.19. Use SelectFromModel instead.\n",
      "  warnings.warn(msg, category=DeprecationWarning)\n",
      "C:\\Users\\arpit.goel\\AppData\\Local\\Continuum2\\Anaconda2\\lib\\site-packages\\pandas\\core\\indexing.py:337: SettingWithCopyWarning: \n",
      "A value is trying to be set on a copy of a slice from a DataFrame.\n",
      "Try using .loc[row_indexer,col_indexer] = value instead\n",
      "\n",
      "See the caveats in the documentation: http://pandas.pydata.org/pandas-docs/stable/indexing.html#indexing-view-versus-copy\n",
      "  self.obj[key] = _infer_fill_value(value)\n",
      "C:\\Users\\arpit.goel\\AppData\\Local\\Continuum2\\Anaconda2\\lib\\site-packages\\pandas\\core\\indexing.py:517: SettingWithCopyWarning: \n",
      "A value is trying to be set on a copy of a slice from a DataFrame.\n",
      "Try using .loc[row_indexer,col_indexer] = value instead\n",
      "\n",
      "See the caveats in the documentation: http://pandas.pydata.org/pandas-docs/stable/indexing.html#indexing-view-versus-copy\n",
      "  self.obj[item] = s\n"
     ]
    },
    {
     "name": "stdout",
     "output_type": "stream",
     "text": [
      "0.1 42729 2033\n"
     ]
    },
    {
     "name": "stderr",
     "output_type": "stream",
     "text": [
      "00.Scripts/01.CitationMaster.py:132: SettingWithCopyWarning: \n",
      "A value is trying to be set on a copy of a slice from a DataFrame.\n",
      "Try using .loc[row_indexer,col_indexer] = value instead\n",
      "\n",
      "See the caveats in the documentation: http://pandas.pydata.org/pandas-docs/stable/indexing.html#indexing-view-versus-copy\n",
      "  output['pmid_citation']=\"'\"+output['pmid_citation'].astype(str)+\"'\"\n",
      "C:\\Users\\arpit.goel\\AppData\\Local\\Continuum2\\Anaconda2\\lib\\site-packages\\sklearn\\utils\\deprecation.py:70: DeprecationWarning: Function transform is deprecated; Support to use estimators as feature selectors will be removed in version 0.19. Use SelectFromModel instead.\n",
      "  warnings.warn(msg, category=DeprecationWarning)\n"
     ]
    },
    {
     "name": "stdout",
     "output_type": "stream",
     "text": [
      "0.2 15859 2033\n"
     ]
    },
    {
     "name": "stderr",
     "output_type": "stream",
     "text": [
      "C:\\Users\\arpit.goel\\AppData\\Local\\Continuum2\\Anaconda2\\lib\\site-packages\\sklearn\\utils\\deprecation.py:70: DeprecationWarning: Function transform is deprecated; Support to use estimators as feature selectors will be removed in version 0.19. Use SelectFromModel instead.\n",
      "  warnings.warn(msg, category=DeprecationWarning)\n"
     ]
    },
    {
     "name": "stdout",
     "output_type": "stream",
     "text": [
      "0.225 12891 2033\n"
     ]
    },
    {
     "name": "stderr",
     "output_type": "stream",
     "text": [
      "C:\\Users\\arpit.goel\\AppData\\Local\\Continuum2\\Anaconda2\\lib\\site-packages\\sklearn\\utils\\deprecation.py:70: DeprecationWarning: Function transform is deprecated; Support to use estimators as feature selectors will be removed in version 0.19. Use SelectFromModel instead.\n",
      "  warnings.warn(msg, category=DeprecationWarning)\n"
     ]
    },
    {
     "name": "stdout",
     "output_type": "stream",
     "text": [
      "0.275 8788 2033\n"
     ]
    },
    {
     "name": "stderr",
     "output_type": "stream",
     "text": [
      "C:\\Users\\arpit.goel\\AppData\\Local\\Continuum2\\Anaconda2\\lib\\site-packages\\sklearn\\utils\\deprecation.py:70: DeprecationWarning: Function transform is deprecated; Support to use estimators as feature selectors will be removed in version 0.19. Use SelectFromModel instead.\n",
      "  warnings.warn(msg, category=DeprecationWarning)\n"
     ]
    },
    {
     "name": "stdout",
     "output_type": "stream",
     "text": [
      "0.3 7324 2033\n"
     ]
    },
    {
     "name": "stderr",
     "output_type": "stream",
     "text": [
      "C:\\Users\\arpit.goel\\AppData\\Local\\Continuum2\\Anaconda2\\lib\\site-packages\\sklearn\\utils\\deprecation.py:70: DeprecationWarning: Function transform is deprecated; Support to use estimators as feature selectors will be removed in version 0.19. Use SelectFromModel instead.\n",
      "  warnings.warn(msg, category=DeprecationWarning)\n"
     ]
    },
    {
     "name": "stdout",
     "output_type": "stream",
     "text": [
      "0.35 5243 2033\n"
     ]
    },
    {
     "name": "stderr",
     "output_type": "stream",
     "text": [
      "C:\\Users\\arpit.goel\\AppData\\Local\\Continuum2\\Anaconda2\\lib\\site-packages\\sklearn\\utils\\deprecation.py:70: DeprecationWarning: Function transform is deprecated; Support to use estimators as feature selectors will be removed in version 0.19. Use SelectFromModel instead.\n",
      "  warnings.warn(msg, category=DeprecationWarning)\n"
     ]
    },
    {
     "name": "stdout",
     "output_type": "stream",
     "text": [
      "0.4 3866 2033\n"
     ]
    },
    {
     "name": "stderr",
     "output_type": "stream",
     "text": [
      "C:\\Users\\arpit.goel\\AppData\\Local\\Continuum2\\Anaconda2\\lib\\site-packages\\sklearn\\utils\\deprecation.py:70: DeprecationWarning: Function transform is deprecated; Support to use estimators as feature selectors will be removed in version 0.19. Use SelectFromModel instead.\n",
      "  warnings.warn(msg, category=DeprecationWarning)\n"
     ]
    },
    {
     "name": "stdout",
     "output_type": "stream",
     "text": [
      "0.5 2591 2033\n"
     ]
    },
    {
     "name": "stderr",
     "output_type": "stream",
     "text": [
      "C:\\Users\\arpit.goel\\AppData\\Local\\Continuum2\\Anaconda2\\lib\\site-packages\\sklearn\\utils\\deprecation.py:70: DeprecationWarning: Function transform is deprecated; Support to use estimators as feature selectors will be removed in version 0.19. Use SelectFromModel instead.\n",
      "  warnings.warn(msg, category=DeprecationWarning)\n"
     ]
    },
    {
     "name": "stdout",
     "output_type": "stream",
     "text": [
      "0.6 2186 2033\n"
     ]
    },
    {
     "name": "stderr",
     "output_type": "stream",
     "text": [
      "C:\\Users\\arpit.goel\\AppData\\Local\\Continuum2\\Anaconda2\\lib\\site-packages\\sklearn\\utils\\deprecation.py:70: DeprecationWarning: Function transform is deprecated; Support to use estimators as feature selectors will be removed in version 0.19. Use SelectFromModel instead.\n",
      "  warnings.warn(msg, category=DeprecationWarning)\n"
     ]
    },
    {
     "name": "stdout",
     "output_type": "stream",
     "text": [
      "0.7 2080 2033\n"
     ]
    },
    {
     "name": "stderr",
     "output_type": "stream",
     "text": [
      "C:\\Users\\arpit.goel\\AppData\\Local\\Continuum2\\Anaconda2\\lib\\site-packages\\sklearn\\utils\\deprecation.py:70: DeprecationWarning: Function transform is deprecated; Support to use estimators as feature selectors will be removed in version 0.19. Use SelectFromModel instead.\n",
      "  warnings.warn(msg, category=DeprecationWarning)\n"
     ]
    },
    {
     "name": "stdout",
     "output_type": "stream",
     "text": [
      "0.8 2052 2033\n"
     ]
    },
    {
     "name": "stderr",
     "output_type": "stream",
     "text": [
      "C:\\Users\\arpit.goel\\AppData\\Local\\Continuum2\\Anaconda2\\lib\\site-packages\\sklearn\\utils\\deprecation.py:70: DeprecationWarning: Function transform is deprecated; Support to use estimators as feature selectors will be removed in version 0.19. Use SelectFromModel instead.\n",
      "  warnings.warn(msg, category=DeprecationWarning)\n"
     ]
    },
    {
     "name": "stdout",
     "output_type": "stream",
     "text": [
      "0.9 2039 2033\n"
     ]
    }
   ],
   "source": [
    "# Import required libraries and set folder path\n",
    "import pandas as pd\n",
    "import numpy as np\n",
    "import os,sys,re\n",
    "os.chdir('C:/Users/arpit.goel/Documents/Projects/Kaggle/28_ResearchMatch/')\n",
    "\n",
    "%run 00.Scripts/01.CitationMaster.py"
   ]
  },
  {
   "cell_type": "code",
   "execution_count": 36,
   "metadata": {
    "collapsed": true
   },
   "outputs": [],
   "source": [
    "pos_class=master[master['flag_citation']==1]\n",
    "citations=[pd.Series(x[1]['ref_list_parse'],index=[x[1]['pmid']]*x[1]['num_citations']) for x in df_train.iterrows()]\n",
    "citations=pd.concat(citations).to_frame('pmid_citation')\n",
    "citations.index.name='pmid'\n",
    "citations2=pd.merge(citations.reset_index(),pos_class[['pmid','pmid_citation','flag_citation']],on=['pmid','pmid_citation'],how='left')"
   ]
  },
  {
   "cell_type": "code",
   "execution_count": 49,
   "metadata": {},
   "outputs": [
    {
     "name": "stderr",
     "output_type": "stream",
     "text": [
      "C:\\Users\\arpit.goel\\AppData\\Local\\Continuum2\\Anaconda2\\lib\\site-packages\\ipykernel_launcher.py:2: SettingWithCopyWarning: \n",
      "A value is trying to be set on a copy of a slice from a DataFrame.\n",
      "Try using .loc[row_indexer,col_indexer] = value instead\n",
      "\n",
      "See the caveats in the documentation: http://pandas.pydata.org/pandas-docs/stable/indexing.html#indexing-view-versus-copy\n",
      "  \n",
      "C:\\Users\\arpit.goel\\AppData\\Local\\Continuum2\\Anaconda2\\lib\\site-packages\\ipykernel_launcher.py:3: SettingWithCopyWarning: \n",
      "A value is trying to be set on a copy of a slice from a DataFrame.\n",
      "Try using .loc[row_indexer,col_indexer] = value instead\n",
      "\n",
      "See the caveats in the documentation: http://pandas.pydata.org/pandas-docs/stable/indexing.html#indexing-view-versus-copy\n",
      "  This is separate from the ipykernel package so we can avoid doing imports until\n",
      "C:\\Users\\arpit.goel\\AppData\\Local\\Continuum2\\Anaconda2\\lib\\site-packages\\ipykernel_launcher.py:4: SettingWithCopyWarning: \n",
      "A value is trying to be set on a copy of a slice from a DataFrame.\n",
      "Try using .loc[row_indexer,col_indexer] = value instead\n",
      "\n",
      "See the caveats in the documentation: http://pandas.pydata.org/pandas-docs/stable/indexing.html#indexing-view-versus-copy\n",
      "  after removing the cwd from sys.path.\n"
     ]
    },
    {
     "data": {
      "text/plain": [
       "0    135\n",
       "1     21\n",
       "2     18\n",
       "3      7\n",
       "4      4\n",
       "6      3\n",
       "9      2\n",
       "7      2\n",
       "8      1\n",
       "Name: f_num_common_authors, dtype: int64"
      ]
     },
     "execution_count": 49,
     "metadata": {},
     "output_type": "execute_result"
    }
   ],
   "source": [
    "a=citations2[citations2['flag_citation'].isnull()]\n",
    "a['auth1']=a['pmid'].map(authors)\n",
    "a['auth2']=a['pmid_citation'].map(authors)\n",
    "a['f_num_common_authors']=a[['auth1','auth2']].apply(lambda x:len(x[0].intersection(x[1])),axis=1)\n",
    "a['f_num_common_authors'].value_counts()"
   ]
  },
  {
   "cell_type": "code",
   "execution_count": 16,
   "metadata": {},
   "outputs": [
    {
     "name": "stderr",
     "output_type": "stream",
     "text": [
      "C:\\Users\\arpit.goel\\AppData\\Local\\Continuum2\\Anaconda2\\lib\\site-packages\\sklearn\\utils\\deprecation.py:70: DeprecationWarning: Function transform is deprecated; Support to use estimators as feature selectors will be removed in version 0.19. Use SelectFromModel instead.\n",
      "  warnings.warn(msg, category=DeprecationWarning)\n",
      "C:\\Users\\arpit.goel\\AppData\\Local\\Continuum2\\Anaconda2\\lib\\site-packages\\ipykernel_launcher.py:1: SettingWithCopyWarning: \n",
      "A value is trying to be set on a copy of a slice from a DataFrame.\n",
      "Try using .loc[row_indexer,col_indexer] = value instead\n",
      "\n",
      "See the caveats in the documentation: http://pandas.pydata.org/pandas-docs/stable/indexing.html#indexing-view-versus-copy\n",
      "  \"\"\"Entry point for launching an IPython kernel.\n"
     ]
    }
   ],
   "source": [
    "train['score']=clf.transform(train[idv])[:,1]\n",
    "\n",
    "train.loc[:,'score_rank']=train.groupby(['pmid'])['score'].rank(ascending=False)\n",
    "train.loc[:,'predict1']=train.loc[:,'score']>th\n",
    "train.loc[:,'predict2']=train.loc[:,'score_rank']==1\n",
    "train.loc[:,'predict']=train.loc[:,['predict1','predict2']].max(axis=1)\n"
   ]
  },
  {
   "cell_type": "code",
   "execution_count": 22,
   "metadata": {},
   "outputs": [
    {
     "data": {
      "text/html": [
       "<div>\n",
       "<style>\n",
       "    .dataframe thead tr:only-child th {\n",
       "        text-align: right;\n",
       "    }\n",
       "\n",
       "    .dataframe thead th {\n",
       "        text-align: left;\n",
       "    }\n",
       "\n",
       "    .dataframe tbody tr th {\n",
       "        vertical-align: top;\n",
       "    }\n",
       "</style>\n",
       "<table border=\"1\" class=\"dataframe\">\n",
       "  <thead>\n",
       "    <tr style=\"text-align: right;\">\n",
       "      <th></th>\n",
       "      <th>score</th>\n",
       "      <th>flag_citation</th>\n",
       "      <th>predict</th>\n",
       "      <th>score</th>\n",
       "    </tr>\n",
       "    <tr>\n",
       "      <th>set</th>\n",
       "      <th></th>\n",
       "      <th></th>\n",
       "      <th></th>\n",
       "      <th></th>\n",
       "    </tr>\n",
       "  </thead>\n",
       "  <tbody>\n",
       "    <tr>\n",
       "      <th>18</th>\n",
       "      <td>0.050175</td>\n",
       "      <td>0.082107</td>\n",
       "      <td>0.074680</td>\n",
       "      <td>7271</td>\n",
       "    </tr>\n",
       "    <tr>\n",
       "      <th>14</th>\n",
       "      <td>0.080542</td>\n",
       "      <td>0.094858</td>\n",
       "      <td>0.116467</td>\n",
       "      <td>9024</td>\n",
       "    </tr>\n",
       "    <tr>\n",
       "      <th>16</th>\n",
       "      <td>0.064704</td>\n",
       "      <td>0.096997</td>\n",
       "      <td>0.067987</td>\n",
       "      <td>31403</td>\n",
       "    </tr>\n",
       "    <tr>\n",
       "      <th>3</th>\n",
       "      <td>0.068646</td>\n",
       "      <td>0.115167</td>\n",
       "      <td>0.098029</td>\n",
       "      <td>20188</td>\n",
       "    </tr>\n",
       "    <tr>\n",
       "      <th>13</th>\n",
       "      <td>0.107363</td>\n",
       "      <td>0.226339</td>\n",
       "      <td>0.176827</td>\n",
       "      <td>2969</td>\n",
       "    </tr>\n",
       "    <tr>\n",
       "      <th>2</th>\n",
       "      <td>0.125329</td>\n",
       "      <td>0.237581</td>\n",
       "      <td>0.246760</td>\n",
       "      <td>1852</td>\n",
       "    </tr>\n",
       "    <tr>\n",
       "      <th>6</th>\n",
       "      <td>0.153808</td>\n",
       "      <td>0.261394</td>\n",
       "      <td>0.296247</td>\n",
       "      <td>746</td>\n",
       "    </tr>\n",
       "  </tbody>\n",
       "</table>\n",
       "</div>"
      ],
      "text/plain": [
       "        score  flag_citation   predict  score\n",
       "set                                          \n",
       "18   0.050175       0.082107  0.074680   7271\n",
       "14   0.080542       0.094858  0.116467   9024\n",
       "16   0.064704       0.096997  0.067987  31403\n",
       "3    0.068646       0.115167  0.098029  20188\n",
       "13   0.107363       0.226339  0.176827   2969\n",
       "2    0.125329       0.237581  0.246760   1852\n",
       "6    0.153808       0.261394  0.296247    746"
      ]
     },
     "execution_count": 22,
     "metadata": {},
     "output_type": "execute_result"
    }
   ],
   "source": [
    "%matplotlib inline \n",
    "a=pd.concat([train.groupby('set')[['score','flag_citation','predict']].mean(),train.groupby('set')[['score']].count()],axis=1)\n",
    "a.sort_values(by='flag_citation')"
   ]
  },
  {
   "cell_type": "code",
   "execution_count": 33,
   "metadata": {},
   "outputs": [
    {
     "data": {
      "text/html": [
       "<div>\n",
       "<style>\n",
       "    .dataframe thead tr:only-child th {\n",
       "        text-align: right;\n",
       "    }\n",
       "\n",
       "    .dataframe thead th {\n",
       "        text-align: left;\n",
       "    }\n",
       "\n",
       "    .dataframe tbody tr th {\n",
       "        vertical-align: top;\n",
       "    }\n",
       "</style>\n",
       "<table border=\"1\" class=\"dataframe\">\n",
       "  <thead>\n",
       "    <tr style=\"text-align: right;\">\n",
       "      <th></th>\n",
       "      <th>size</th>\n",
       "      <th>sum</th>\n",
       "      <th>mean</th>\n",
       "    </tr>\n",
       "    <tr>\n",
       "      <th>set</th>\n",
       "      <th></th>\n",
       "      <th></th>\n",
       "      <th></th>\n",
       "    </tr>\n",
       "  </thead>\n",
       "  <tbody>\n",
       "    <tr>\n",
       "      <th>2</th>\n",
       "      <td>173</td>\n",
       "      <td>449</td>\n",
       "      <td>2.595376</td>\n",
       "    </tr>\n",
       "    <tr>\n",
       "      <th>3</th>\n",
       "      <td>603</td>\n",
       "      <td>2325</td>\n",
       "      <td>3.855721</td>\n",
       "    </tr>\n",
       "    <tr>\n",
       "      <th>5</th>\n",
       "      <td>502</td>\n",
       "      <td>1912</td>\n",
       "      <td>3.808765</td>\n",
       "    </tr>\n",
       "    <tr>\n",
       "      <th>6</th>\n",
       "      <td>107</td>\n",
       "      <td>229</td>\n",
       "      <td>2.140187</td>\n",
       "    </tr>\n",
       "    <tr>\n",
       "      <th>8</th>\n",
       "      <td>388</td>\n",
       "      <td>1284</td>\n",
       "      <td>3.309278</td>\n",
       "    </tr>\n",
       "    <tr>\n",
       "      <th>13</th>\n",
       "      <td>218</td>\n",
       "      <td>675</td>\n",
       "      <td>3.096330</td>\n",
       "    </tr>\n",
       "    <tr>\n",
       "      <th>14</th>\n",
       "      <td>410</td>\n",
       "      <td>978</td>\n",
       "      <td>2.385366</td>\n",
       "    </tr>\n",
       "    <tr>\n",
       "      <th>16</th>\n",
       "      <td>753</td>\n",
       "      <td>3047</td>\n",
       "      <td>4.046481</td>\n",
       "    </tr>\n",
       "    <tr>\n",
       "      <th>18</th>\n",
       "      <td>368</td>\n",
       "      <td>621</td>\n",
       "      <td>1.687500</td>\n",
       "    </tr>\n",
       "  </tbody>\n",
       "</table>\n",
       "</div>"
      ],
      "text/plain": [
       "     size   sum      mean\n",
       "set                      \n",
       "2     173   449  2.595376\n",
       "3     603  2325  3.855721\n",
       "5     502  1912  3.808765\n",
       "6     107   229  2.140187\n",
       "8     388  1284  3.309278\n",
       "13    218   675  3.096330\n",
       "14    410   978  2.385366\n",
       "16    753  3047  4.046481\n",
       "18    368   621  1.687500"
      ]
     },
     "execution_count": 33,
     "metadata": {},
     "output_type": "execute_result"
    }
   ],
   "source": [
    "a=master_info['set'].value_counts().sort_index()\n",
    "# citations=[pd.Series(x[1]['ref_list_parse'],index=[x[1]['pmid']]*x[1]['num_citations']) for x in df_train.iterrows()]\n",
    "# citations=pd.concat(citations).to_frame('pmid_citation')\n",
    "# citations.index.name='pmid'\n",
    "cnt_citations=citations.groupby(citations.index)['pmid_citation'].count().reset_index()\n",
    "cnt_citations['set']=cnt_citations['pmid'].map(master_info['set'])\n",
    "cnt_citations.groupby(['set'])['pmid_citation'].agg([np.size,np.sum,np.mean])"
   ]
  },
  {
   "cell_type": "code",
   "execution_count": 34,
   "metadata": {},
   "outputs": [
    {
     "data": {
      "text/plain": [
       "16    753\n",
       "3     603\n",
       "5     502\n",
       "14    410\n",
       "8     388\n",
       "18    368\n",
       "9     358\n",
       "4     336\n",
       "10    324\n",
       "17    266\n",
       "15    239\n",
       "13    218\n",
       "19    209\n",
       "2     173\n",
       "1     168\n",
       "6     107\n",
       "11     71\n",
       "7      63\n",
       "Name: set, dtype: int64"
      ]
     },
     "execution_count": 34,
     "metadata": {},
     "output_type": "execute_result"
    }
   ],
   "source": [
    "master_info['set'].value_counts()"
   ]
  },
  {
   "cell_type": "code",
   "execution_count": null,
   "metadata": {
    "collapsed": true
   },
   "outputs": [],
   "source": [
    "train.groupby('set')[['score','flag_citation']].mean()"
   ]
  },
  {
   "cell_type": "code",
   "execution_count": 5,
   "metadata": {},
   "outputs": [
    {
     "data": {
      "text/plain": [
       "array([[ 0.94622988,  0.05377012],\n",
       "       [ 0.99597296,  0.00402704],\n",
       "       [ 0.99597296,  0.00402704],\n",
       "       [ 0.99597296,  0.00402704],\n",
       "       [ 0.99597296,  0.00402704]])"
      ]
     },
     "execution_count": 5,
     "metadata": {},
     "output_type": "execute_result"
    }
   ],
   "source": [
    "clf.predict_proba(train[idv].head())"
   ]
  },
  {
   "cell_type": "code",
   "execution_count": 8,
   "metadata": {},
   "outputs": [
    {
     "name": "stdout",
     "output_type": "stream",
     "text": [
      "0.805238024086\n",
      "0.814415510648\n"
     ]
    },
    {
     "name": "stderr",
     "output_type": "stream",
     "text": [
      "C:\\Users\\arpit.goel\\AppData\\Local\\Continuum2\\Anaconda2\\lib\\site-packages\\sklearn\\utils\\deprecation.py:70: DeprecationWarning: Function transform is deprecated; Support to use estimators as feature selectors will be removed in version 0.19. Use SelectFromModel instead.\n",
      "  warnings.warn(msg, category=DeprecationWarning)\n",
      "C:\\Users\\arpit.goel\\AppData\\Local\\Continuum2\\Anaconda2\\lib\\site-packages\\sklearn\\utils\\deprecation.py:70: DeprecationWarning: Function transform is deprecated; Support to use estimators as feature selectors will be removed in version 0.19. Use SelectFromModel instead.\n",
      "  warnings.warn(msg, category=DeprecationWarning)\n"
     ]
    }
   ],
   "source": [
    "print roc_auc_score(train['flag_citation'],clf.transform(train[idv])[:,0])\n",
    "print roc_auc_score(valid['flag_citation'],clf.transform(valid[idv])[:,0])\n"
   ]
  },
  {
   "cell_type": "code",
   "execution_count": 10,
   "metadata": {},
   "outputs": [
    {
     "name": "stderr",
     "output_type": "stream",
     "text": [
      "C:\\Users\\arpit.goel\\AppData\\Local\\Continuum2\\Anaconda2\\lib\\site-packages\\ipykernel_launcher.py:1: SettingWithCopyWarning: \n",
      "A value is trying to be set on a copy of a slice from a DataFrame.\n",
      "Try using .loc[row_indexer,col_indexer] = value instead\n",
      "\n",
      "See the caveats in the documentation: http://pandas.pydata.org/pandas-docs/stable/indexing.html#indexing-view-versus-copy\n",
      "  \"\"\"Entry point for launching an IPython kernel.\n"
     ]
    },
    {
     "data": {
      "text/plain": [
       "[(0.050000000000000003, 0.17294742204949703),\n",
       " (0.059999999999999998, 0.2333380197981054),\n",
       " (0.070000000000000007, 0.2333380197981054),\n",
       " (0.080000000000000002, 0.2333380197981054),\n",
       " (0.089999999999999997, 0.2333380197981054),\n",
       " (0.10000000000000001, 0.2333380197981054),\n",
       " (0.11, 0.2333380197981054),\n",
       " (0.12, 0.2333380197981054),\n",
       " (0.13, 0.2333380197981054),\n",
       " (0.14000000000000001, 0.2333380197981054),\n",
       " (0.14999999999999999, 0.2333380197981054),\n",
       " (0.16, 0.2333380197981054),\n",
       " (0.17000000000000001, 0.2333380197981054),\n",
       " (0.17999999999999999, 0.2333380197981054),\n",
       " (0.19, 0.16584730286642663)]"
      ]
     },
     "execution_count": 10,
     "metadata": {},
     "output_type": "execute_result"
    }
   ],
   "source": [
    "valid['score']=clf.predict_proba(valid[idv].fillna(0))[:,1]\n",
    "\n",
    "def simulation(th):\n",
    "    valid.loc[:,'score_rank']=valid.groupby(['pmid'])['score'].rank(ascending=False)\n",
    "    valid.loc[:,'predict1']=valid['score']>th\n",
    "    valid.loc[:,'predict2']=valid['score_rank']==1\n",
    "    valid.loc[:,'predict']=valid[['predict1','predict2']].max(axis=1)\n",
    "    valid.loc[:,'NUM']=valid.loc[:,'predict']*valid.loc[:,'flag_citation']\n",
    "    valid.loc[:,'DEN']=valid[['predict','flag_citation']].max(axis=1)\n",
    "    scores=valid.groupby(['pmid'])[['NUM','DEN']].sum()\n",
    "    return (scores['NUM']/scores['DEN']).mean()\n",
    "\n",
    "[(x,simulation(x)) for x in np.arange(5,20,1)/100.0]"
   ]
  },
  {
   "cell_type": "code",
   "execution_count": 12,
   "metadata": {},
   "outputs": [
    {
     "name": "stdout",
     "output_type": "stream",
     "text": [
      "0.2 2413 1294\n"
     ]
    },
    {
     "name": "stderr",
     "output_type": "stream",
     "text": [
      "C:\\Users\\arpit.goel\\AppData\\Local\\Continuum2\\Anaconda2\\lib\\site-packages\\ipykernel_launcher.py:13: SettingWithCopyWarning: \n",
      "A value is trying to be set on a copy of a slice from a DataFrame.\n",
      "Try using .loc[row_indexer,col_indexer] = value instead\n",
      "\n",
      "See the caveats in the documentation: http://pandas.pydata.org/pandas-docs/stable/indexing.html#indexing-view-versus-copy\n",
      "  del sys.path[0]\n"
     ]
    }
   ],
   "source": [
    "for th in [0.2]:\n",
    "    # Make selection of recommendation\n",
    "    test.loc[:,'score']=clf.predict_proba(test.loc[:,idv].fillna(0))[:,1]\n",
    "    test.loc[:,'score_rank']=test.groupby(['pmid'])['score'].rank(ascending=False)\n",
    "    test.loc[:,'predict1']=test.loc[:,'score']>th\n",
    "    test.loc[:,'predict2']=test.loc[:,'score_rank']==1\n",
    "    test.loc[:,'predict']=test.loc[:,['predict1','predict2']].max(axis=1)\n",
    "    test=test.sort_values(by=['score'],ascending=False)\n",
    "\n",
    "    # Make final submission\n",
    "    output=test[test.loc[:,'predict']]\n",
    "    print th, len(output), len(output['pmid'].drop_duplicates())\n",
    "    output['pmid_citation']=\"'\"+output['pmid_citation'].astype(str)+\"'\"\n",
    "    output=output.groupby(['pmid'])['pmid_citation'].apply(lambda x: '['+','.join(x)+']')\n",
    "    df_subm['ref_list']=df_subm['pmid'].map(output).fillna('['+df_subm['pmid'].astype(str)+']')\n",
    "    df_subm[['pmid','ref_list']].to_csv('02.Submission/09.Cutoff_%.03f.csv'%th,index=False)\n"
   ]
  }
 ],
 "metadata": {
  "kernelspec": {
   "display_name": "Python 2",
   "language": "python",
   "name": "python2"
  },
  "language_info": {
   "codemirror_mode": {
    "name": "ipython",
    "version": 2
   },
   "file_extension": ".py",
   "mimetype": "text/x-python",
   "name": "python",
   "nbconvert_exporter": "python",
   "pygments_lexer": "ipython2",
   "version": "2.7.13"
  }
 },
 "nbformat": 4,
 "nbformat_minor": 2
}
